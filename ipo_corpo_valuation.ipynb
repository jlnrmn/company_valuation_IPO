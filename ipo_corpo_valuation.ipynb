{
 "cells": [
  {
   "cell_type": "markdown",
   "metadata": {
    "toc": true
   },
   "source": [
    "<h1>Table of Contents<span class=\"tocSkip\"></span></h1>\n",
    "<div class=\"toc\"><ul class=\"toc-item\"><li><ul class=\"toc-item\"><li><ul class=\"toc-item\"><li><span><a href=\"#Notes-:\" data-toc-modified-id=\"Notes-:-0.0.1\"><span class=\"toc-item-num\">0.0.1&nbsp;&nbsp;</span>Notes :</a></span></li></ul></li></ul></li><li><span><a href=\"#Calculer-le-cost-of-capital\" data-toc-modified-id=\"Calculer-le-cost-of-capital-1\"><span class=\"toc-item-num\">1&nbsp;&nbsp;</span>Calculer le cost of capital</a></span><ul class=\"toc-item\"><li><span><a href=\"#Get-beta\" data-toc-modified-id=\"Get-beta-1.1\"><span class=\"toc-item-num\">1.1&nbsp;&nbsp;</span>Get beta</a></span></li><li><span><a href=\"#Prepare-the-simfin-free-api\" data-toc-modified-id=\"Prepare-the-simfin-free-api-1.2\"><span class=\"toc-item-num\">1.2&nbsp;&nbsp;</span>Prepare the simfin free api</a></span></li><li><span><a href=\"#Download-the-Balance-data-of-US-companies\" data-toc-modified-id=\"Download-the-Balance-data-of-US-companies-1.3\"><span class=\"toc-item-num\">1.3&nbsp;&nbsp;</span>Download the Balance data of US companies</a></span></li><li><span><a href=\"#Keep-data-that-we-will-need-for-computing-the-coe\" data-toc-modified-id=\"Keep-data-that-we-will-need-for-computing-the-coe-1.4\"><span class=\"toc-item-num\">1.4&nbsp;&nbsp;</span>Keep data that we will need for computing the coe</a></span></li><li><span><a href=\"#merge-beta-and-balance-data\" data-toc-modified-id=\"merge-beta-and-balance-data-1.5\"><span class=\"toc-item-num\">1.5&nbsp;&nbsp;</span>merge beta and balance data</a></span></li><li><span><a href=\"#Compute-the-cost-of-equity-(capital)\" data-toc-modified-id=\"Compute-the-cost-of-equity-(capital)-1.6\"><span class=\"toc-item-num\">1.6&nbsp;&nbsp;</span>Compute the cost of equity (capital)</a></span></li></ul></li><li><span><a href=\"#Compute-the-cost-of-Debt\" data-toc-modified-id=\"Compute-the-cost-of-Debt-2\"><span class=\"toc-item-num\">2&nbsp;&nbsp;</span>Compute the cost of Debt</a></span></li><li><span><a href=\"#Compute-the-Wacc\" data-toc-modified-id=\"Compute-the-Wacc-3\"><span class=\"toc-item-num\">3&nbsp;&nbsp;</span>Compute the Wacc</a></span><ul class=\"toc-item\"><li><span><a href=\"#Get-the-E-:-Market-value-of-the-firm's-equity\" data-toc-modified-id=\"Get-the-E-:-Market-value-of-the-firm's-equity-3.1\"><span class=\"toc-item-num\">3.1&nbsp;&nbsp;</span>Get the E : Market value of the firm's equity</a></span></li><li><span><a href=\"#Compute-the-Wacc\" data-toc-modified-id=\"Compute-the-Wacc-3.2\"><span class=\"toc-item-num\">3.2&nbsp;&nbsp;</span>Compute the Wacc</a></span></li></ul></li><li><span><a href=\"#Train-some-models\" data-toc-modified-id=\"Train-some-models-4\"><span class=\"toc-item-num\">4&nbsp;&nbsp;</span>Train some models</a></span><ul class=\"toc-item\"><li><span><a href=\"#get-sectors-info\" data-toc-modified-id=\"get-sectors-info-4.1\"><span class=\"toc-item-num\">4.1&nbsp;&nbsp;</span>get sectors info</a></span></li><li><span><a href=\"#Clustering\" data-toc-modified-id=\"Clustering-4.2\"><span class=\"toc-item-num\">4.2&nbsp;&nbsp;</span>Clustering</a></span></li><li><span><a href=\"#Regression\" data-toc-modified-id=\"Regression-4.3\"><span class=\"toc-item-num\">4.3&nbsp;&nbsp;</span>Regression</a></span><ul class=\"toc-item\"><li><span><a href=\"#Prepare-data\" data-toc-modified-id=\"Prepare-data-4.3.1\"><span class=\"toc-item-num\">4.3.1&nbsp;&nbsp;</span>Prepare data</a></span></li><li><span><a href=\"#Use-sector-as-an-information\" data-toc-modified-id=\"Use-sector-as-an-information-4.3.2\"><span class=\"toc-item-num\">4.3.2&nbsp;&nbsp;</span>Use sector as an information</a></span><ul class=\"toc-item\"><li><span><a href=\"#Interpret\" data-toc-modified-id=\"Interpret-4.3.2.1\"><span class=\"toc-item-num\">4.3.2.1&nbsp;&nbsp;</span>Interpret</a></span></li></ul></li><li><span><a href=\"#Test-regression-without-sectors\" data-toc-modified-id=\"Test-regression-without-sectors-4.3.3\"><span class=\"toc-item-num\">4.3.3&nbsp;&nbsp;</span>Test regression without sectors</a></span></li></ul></li><li><span><a href=\"#Find-the-optimal-number-of-clusters\" data-toc-modified-id=\"Find-the-optimal-number-of-clusters-4.4\"><span class=\"toc-item-num\">4.4&nbsp;&nbsp;</span>Find the optimal number of clusters</a></span><ul class=\"toc-item\"><li><span><a href=\"#Dendograms\" data-toc-modified-id=\"Dendograms-4.4.1\"><span class=\"toc-item-num\">4.4.1&nbsp;&nbsp;</span>Dendograms</a></span></li><li><span><a href=\"#Elbow-method\" data-toc-modified-id=\"Elbow-method-4.4.2\"><span class=\"toc-item-num\">4.4.2&nbsp;&nbsp;</span>Elbow method</a></span></li><li><span><a href=\"#PCA\" data-toc-modified-id=\"PCA-4.4.3\"><span class=\"toc-item-num\">4.4.3&nbsp;&nbsp;</span>PCA</a></span></li></ul></li><li><span><a href=\"#Random-forest\" data-toc-modified-id=\"Random-forest-4.5\"><span class=\"toc-item-num\">4.5&nbsp;&nbsp;</span>Random forest</a></span></li></ul></li><li><span><a href=\"#Estimate-the-future-cash-flows\" data-toc-modified-id=\"Estimate-the-future-cash-flows-5\"><span class=\"toc-item-num\">5&nbsp;&nbsp;</span>Estimate the future cash flows</a></span><ul class=\"toc-item\"><li><ul class=\"toc-item\"><li><span><a href=\"#interpolate-Growth-rates\" data-toc-modified-id=\"interpolate-Growth-rates-5.0.1\"><span class=\"toc-item-num\">5.0.1&nbsp;&nbsp;</span>interpolate Growth rates</a></span></li></ul></li></ul></li></ul></div>"
   ]
  },
  {
   "cell_type": "markdown",
   "metadata": {},
   "source": [
    "#### Notes : "
   ]
  },
  {
   "cell_type": "markdown",
   "metadata": {},
   "source": [
    "Idée :\n",
    "\n",
    "1 - On calcul le __cost of capital__ de l’entreprise :\n",
    "\tUtilisation du modèle CAPM qui utilise le return du marché ainsi que le risk free rate et le beta de l'enteprise.  \n",
    "\t_Note :Nous pouvons utiliser le ß «déléveragé» d'entreprise qui se base sur le ß comparable des entreprise du secteur. cf https://www.vernimmen.net/Lire/Lettre_Vernimmen/Lettre_23.html. si besoin, cependant cela ne devrait pas être nécéssaire_\n",
    "\n",
    "\n",
    "\n",
    "2 - Calculer __le cost of debt__ (méthode classique)\n",
    "\n",
    "3 - Calculer le Wacc via méthodes classique\n",
    "\n",
    "    - calculer le wacc sur les entreprises que l'on peut.\n",
    "    \n",
    "4 - Créer des modèles d'estimation du Wacc en fonction de données accessibles pour des IPOs\n",
    "    \n",
    "\t- Utiliser des méthodes comparative sur des entreprises existentes (earnings, turnover, staff, ...)\n",
    "\t- clusteriser des entreprises similaires (en terme de croissance, ou secteur, ou ...)\n",
    "\t\t- justement, est-ce que le secteur compte \"tant que ça\" ?\n",
    "    Utiliser les données de sim fin\n",
    "    Attention a la standardisation des données etc.\n",
    "    \n",
    "    Faire tres attention au mesures de performances, types de métriques, etc.\n",
    "    \n",
    "    entrainement :\n",
    "    X : data relatives a l'entreprise\n",
    "    y : les Wacc calculés sur les méthodes classiques\n",
    "\n",
    "5 - Estimer les future cash flow  \n",
    "\t- soit méthodes classiques :  \n",
    "\t\t- pratt model \n",
    "\t\t- single stage"
   ]
  },
  {
   "cell_type": "code",
   "execution_count": 1,
   "metadata": {},
   "outputs": [],
   "source": [
    "import simfin as sf\n",
    "import pandas as pd\n",
    "import numpy as np\n",
    "import requests\n",
    "#import bs4 as bs\n",
    "pd.options.display.max_columns = 100"
   ]
  },
  {
   "cell_type": "markdown",
   "metadata": {},
   "source": [
    "## Calculer le cost of capital"
   ]
  },
  {
   "cell_type": "markdown",
   "metadata": {},
   "source": [
    "CAPM (Cost of equity) = Rf+β*(Rm−Rf)  \n",
    "where:  \n",
    "Rf = risk-free rate of return  \n",
    "Rm = market rate of return  "
   ]
  },
  {
   "cell_type": "markdown",
   "metadata": {},
   "source": [
    "_Note : It is common and sometimes recommended to fix the risk premium and the risk free rate_\n",
    "https://assets.kpmg/content/dam/kpmg/nl/pdf/2019/advisory/equity-market-research-summary.pdf"
   ]
  },
  {
   "cell_type": "code",
   "execution_count": 2,
   "metadata": {},
   "outputs": [],
   "source": [
    "risk_premium = 0.055\n",
    "Rf = 0.025"
   ]
  },
  {
   "cell_type": "code",
   "execution_count": 3,
   "metadata": {},
   "outputs": [],
   "source": [
    "Rf_2017 = 0.023\n",
    "Rf_2018 = 0.029\n",
    "Rf_2019 = 0.0255"
   ]
  },
  {
   "cell_type": "code",
   "execution_count": 4,
   "metadata": {},
   "outputs": [],
   "source": [
    "Rm = risk_premium + Rf\n",
    "Rm_2017 = risk_premium + Rf_2017\n",
    "Rm_2018 = risk_premium + Rf_2018\n",
    "Rm_2019 = risk_premium + Rf_2019"
   ]
  },
  {
   "cell_type": "markdown",
   "metadata": {},
   "source": [
    "### Get beta"
   ]
  },
  {
   "cell_type": "code",
   "execution_count": 5,
   "metadata": {},
   "outputs": [],
   "source": [
    "# tickers_list = list(us_balance.index.get_level_values(level=0).unique())\n",
    "# dict_beta = {}\n",
    "# \n",
    "# for ticker in tickers_list:\n",
    "#     try:\n",
    "#         url = r\"https://finance.yahoo.com/quote/\" + ticker\n",
    "#         resp = requests.get(url)\n",
    "#         soup = bs.BeautifulSoup(resp.text, 'lxml')\n",
    "#         table = soup.find('table',{'class': 'W(100%) M(0) Bdcl(c)'}) # find table in this page\n",
    "#         table = table.findAll('span',{'class': 'Trsdu(0.3s)'})\n",
    "#         beta = float(table[1].text)\n",
    "# \n",
    "#         dict_beta.update({ticker : beta})\n",
    "#       \n",
    "#     except:\n",
    "#         pass\n",
    "#    \n",
    "# df = pd.DataFrame.from_dict(dict_beta.items())\n",
    "# df.columns = ['Ticker','beta']\n",
    "# df.to_csv('beta_companies.csv')"
   ]
  },
  {
   "cell_type": "code",
   "execution_count": 6,
   "metadata": {},
   "outputs": [
    {
     "data": {
      "text/html": [
       "<div>\n",
       "<style scoped>\n",
       "    .dataframe tbody tr th:only-of-type {\n",
       "        vertical-align: middle;\n",
       "    }\n",
       "\n",
       "    .dataframe tbody tr th {\n",
       "        vertical-align: top;\n",
       "    }\n",
       "\n",
       "    .dataframe thead th {\n",
       "        text-align: right;\n",
       "    }\n",
       "</style>\n",
       "<table border=\"1\" class=\"dataframe\">\n",
       "  <thead>\n",
       "    <tr style=\"text-align: right;\">\n",
       "      <th></th>\n",
       "      <th>Ticker</th>\n",
       "      <th>beta</th>\n",
       "    </tr>\n",
       "  </thead>\n",
       "  <tbody>\n",
       "    <tr>\n",
       "      <th>0</th>\n",
       "      <td>A</td>\n",
       "      <td>1.12</td>\n",
       "    </tr>\n",
       "    <tr>\n",
       "      <th>1</th>\n",
       "      <td>AA</td>\n",
       "      <td>2.28</td>\n",
       "    </tr>\n",
       "    <tr>\n",
       "      <th>2</th>\n",
       "      <td>AAL</td>\n",
       "      <td>1.73</td>\n",
       "    </tr>\n",
       "    <tr>\n",
       "      <th>3</th>\n",
       "      <td>AAMC</td>\n",
       "      <td>1.05</td>\n",
       "    </tr>\n",
       "    <tr>\n",
       "      <th>4</th>\n",
       "      <td>AAN</td>\n",
       "      <td>1.62</td>\n",
       "    </tr>\n",
       "    <tr>\n",
       "      <th>...</th>\n",
       "      <td>...</td>\n",
       "      <td>...</td>\n",
       "    </tr>\n",
       "    <tr>\n",
       "      <th>1361</th>\n",
       "      <td>ZUMZ</td>\n",
       "      <td>1.82</td>\n",
       "    </tr>\n",
       "    <tr>\n",
       "      <th>1362</th>\n",
       "      <td>ZVO</td>\n",
       "      <td>1.66</td>\n",
       "    </tr>\n",
       "    <tr>\n",
       "      <th>1363</th>\n",
       "      <td>ZYNE</td>\n",
       "      <td>3.09</td>\n",
       "    </tr>\n",
       "    <tr>\n",
       "      <th>1364</th>\n",
       "      <td>ZYXI</td>\n",
       "      <td>1.08</td>\n",
       "    </tr>\n",
       "    <tr>\n",
       "      <th>1365</th>\n",
       "      <td>low</td>\n",
       "      <td>1.42</td>\n",
       "    </tr>\n",
       "  </tbody>\n",
       "</table>\n",
       "<p>1366 rows × 2 columns</p>\n",
       "</div>"
      ],
      "text/plain": [
       "     Ticker  beta\n",
       "0         A  1.12\n",
       "1        AA  2.28\n",
       "2       AAL  1.73\n",
       "3      AAMC  1.05\n",
       "4       AAN  1.62\n",
       "...     ...   ...\n",
       "1361   ZUMZ  1.82\n",
       "1362    ZVO  1.66\n",
       "1363   ZYNE  3.09\n",
       "1364   ZYXI  1.08\n",
       "1365    low  1.42\n",
       "\n",
       "[1366 rows x 2 columns]"
      ]
     },
     "execution_count": 6,
     "metadata": {},
     "output_type": "execute_result"
    }
   ],
   "source": [
    "df = pd.read_csv('beta_companies.csv', index_col='Unnamed: 0')#, index_col='Unnamed: 0'\n",
    "df"
   ]
  },
  {
   "cell_type": "markdown",
   "metadata": {},
   "source": [
    "### Prepare the simfin free api"
   ]
  },
  {
   "cell_type": "code",
   "execution_count": 7,
   "metadata": {},
   "outputs": [],
   "source": [
    "# Set your API-key for downloading data. This key gets the free data.\n",
    "sf.set_api_key('free')\n",
    "\n",
    "# Set the local directory where data-files are stored.\n",
    "# The directory will be created if it does not already exist.\n",
    "sf.set_data_dir('~/simfin_data/')"
   ]
  },
  {
   "cell_type": "markdown",
   "metadata": {},
   "source": [
    " ### Download the Balance data of US companies"
   ]
  },
  {
   "cell_type": "code",
   "execution_count": 8,
   "metadata": {},
   "outputs": [
    {
     "name": "stdout",
     "output_type": "stream",
     "text": [
      "Dataset \"us-balance-annual\" on disk (0 days old).\n",
      "- Loading from disk ... Done!\n"
     ]
    },
    {
     "data": {
      "text/html": [
       "<div>\n",
       "<style scoped>\n",
       "    .dataframe tbody tr th:only-of-type {\n",
       "        vertical-align: middle;\n",
       "    }\n",
       "\n",
       "    .dataframe tbody tr th {\n",
       "        vertical-align: top;\n",
       "    }\n",
       "\n",
       "    .dataframe thead th {\n",
       "        text-align: right;\n",
       "    }\n",
       "</style>\n",
       "<table border=\"1\" class=\"dataframe\">\n",
       "  <thead>\n",
       "    <tr style=\"text-align: right;\">\n",
       "      <th></th>\n",
       "      <th></th>\n",
       "      <th>SimFinId</th>\n",
       "      <th>Currency</th>\n",
       "      <th>Fiscal Year</th>\n",
       "      <th>Fiscal Period</th>\n",
       "      <th>Publish Date</th>\n",
       "      <th>Restated Date</th>\n",
       "      <th>Shares (Basic)</th>\n",
       "      <th>Shares (Diluted)</th>\n",
       "      <th>Cash, Cash Equivalents &amp; Short Term Investments</th>\n",
       "      <th>Accounts &amp; Notes Receivable</th>\n",
       "      <th>Inventories</th>\n",
       "      <th>Total Current Assets</th>\n",
       "      <th>Property, Plant &amp; Equipment, Net</th>\n",
       "      <th>Long Term Investments &amp; Receivables</th>\n",
       "      <th>Other Long Term Assets</th>\n",
       "      <th>Total Noncurrent Assets</th>\n",
       "      <th>Total Assets</th>\n",
       "      <th>Payables &amp; Accruals</th>\n",
       "      <th>Short Term Debt</th>\n",
       "      <th>Total Current Liabilities</th>\n",
       "      <th>Long Term Debt</th>\n",
       "      <th>Total Noncurrent Liabilities</th>\n",
       "      <th>Total Liabilities</th>\n",
       "      <th>Share Capital &amp; Additional Paid-In Capital</th>\n",
       "      <th>Treasury Stock</th>\n",
       "      <th>Retained Earnings</th>\n",
       "      <th>Total Equity</th>\n",
       "      <th>Total Liabilities &amp; Equity</th>\n",
       "    </tr>\n",
       "    <tr>\n",
       "      <th>Ticker</th>\n",
       "      <th>Report Date</th>\n",
       "      <th></th>\n",
       "      <th></th>\n",
       "      <th></th>\n",
       "      <th></th>\n",
       "      <th></th>\n",
       "      <th></th>\n",
       "      <th></th>\n",
       "      <th></th>\n",
       "      <th></th>\n",
       "      <th></th>\n",
       "      <th></th>\n",
       "      <th></th>\n",
       "      <th></th>\n",
       "      <th></th>\n",
       "      <th></th>\n",
       "      <th></th>\n",
       "      <th></th>\n",
       "      <th></th>\n",
       "      <th></th>\n",
       "      <th></th>\n",
       "      <th></th>\n",
       "      <th></th>\n",
       "      <th></th>\n",
       "      <th></th>\n",
       "      <th></th>\n",
       "      <th></th>\n",
       "      <th></th>\n",
       "      <th></th>\n",
       "    </tr>\n",
       "  </thead>\n",
       "  <tbody>\n",
       "    <tr>\n",
       "      <th rowspan=\"5\" valign=\"top\">A</th>\n",
       "      <th>2008-10-31</th>\n",
       "      <td>45846</td>\n",
       "      <td>USD</td>\n",
       "      <td>2008</td>\n",
       "      <td>Q4</td>\n",
       "      <td>2009-01-05</td>\n",
       "      <td>2009-12-21</td>\n",
       "      <td>357000000.0</td>\n",
       "      <td>359000000.0</td>\n",
       "      <td>1.429000e+09</td>\n",
       "      <td>770000000.0</td>\n",
       "      <td>6.460000e+08</td>\n",
       "      <td>3.182000e+09</td>\n",
       "      <td>8.240000e+08</td>\n",
       "      <td>206000000.0</td>\n",
       "      <td>2.795000e+09</td>\n",
       "      <td>3.825000e+09</td>\n",
       "      <td>7007000000</td>\n",
       "      <td>436000000.0</td>\n",
       "      <td>NaN</td>\n",
       "      <td>1330000000</td>\n",
       "      <td>2.125000e+09</td>\n",
       "      <td>3.118000e+09</td>\n",
       "      <td>4448000000</td>\n",
       "      <td>7.416000e+09</td>\n",
       "      <td>-7.470000e+09</td>\n",
       "      <td>2.791000e+09</td>\n",
       "      <td>2.559000e+09</td>\n",
       "      <td>7007000000</td>\n",
       "    </tr>\n",
       "    <tr>\n",
       "      <th>2009-10-31</th>\n",
       "      <td>45846</td>\n",
       "      <td>USD</td>\n",
       "      <td>2009</td>\n",
       "      <td>Q4</td>\n",
       "      <td>2009-12-21</td>\n",
       "      <td>2010-12-20</td>\n",
       "      <td>343000000.0</td>\n",
       "      <td>343000000.0</td>\n",
       "      <td>2.493000e+09</td>\n",
       "      <td>595000000.0</td>\n",
       "      <td>5.520000e+08</td>\n",
       "      <td>3.961000e+09</td>\n",
       "      <td>8.450000e+08</td>\n",
       "      <td>163000000.0</td>\n",
       "      <td>2.643000e+09</td>\n",
       "      <td>3.651000e+09</td>\n",
       "      <td>7612000000</td>\n",
       "      <td>307000000.0</td>\n",
       "      <td>1.000000e+06</td>\n",
       "      <td>1123000000</td>\n",
       "      <td>2.904000e+09</td>\n",
       "      <td>3.975000e+09</td>\n",
       "      <td>5098000000</td>\n",
       "      <td>7.558000e+09</td>\n",
       "      <td>-7.627000e+09</td>\n",
       "      <td>2.760000e+09</td>\n",
       "      <td>2.514000e+09</td>\n",
       "      <td>7612000000</td>\n",
       "    </tr>\n",
       "    <tr>\n",
       "      <th>2010-10-31</th>\n",
       "      <td>45846</td>\n",
       "      <td>USD</td>\n",
       "      <td>2010</td>\n",
       "      <td>Q4</td>\n",
       "      <td>2010-12-08</td>\n",
       "      <td>2011-12-16</td>\n",
       "      <td>344000000.0</td>\n",
       "      <td>356000000.0</td>\n",
       "      <td>2.649000e+09</td>\n",
       "      <td>869000000.0</td>\n",
       "      <td>7.160000e+08</td>\n",
       "      <td>6.169000e+09</td>\n",
       "      <td>9.800000e+08</td>\n",
       "      <td>142000000.0</td>\n",
       "      <td>2.405000e+09</td>\n",
       "      <td>3.527000e+09</td>\n",
       "      <td>9696000000</td>\n",
       "      <td>499000000.0</td>\n",
       "      <td>1.501000e+09</td>\n",
       "      <td>3083000000</td>\n",
       "      <td>2.190000e+09</td>\n",
       "      <td>3.377000e+09</td>\n",
       "      <td>6460000000</td>\n",
       "      <td>7.910000e+09</td>\n",
       "      <td>-8.038000e+09</td>\n",
       "      <td>3.444000e+09</td>\n",
       "      <td>3.236000e+09</td>\n",
       "      <td>9696000000</td>\n",
       "    </tr>\n",
       "    <tr>\n",
       "      <th>2011-10-31</th>\n",
       "      <td>45846</td>\n",
       "      <td>USD</td>\n",
       "      <td>2011</td>\n",
       "      <td>Q4</td>\n",
       "      <td>2011-12-16</td>\n",
       "      <td>2012-12-20</td>\n",
       "      <td>346000000.0</td>\n",
       "      <td>353000000.0</td>\n",
       "      <td>3.527000e+09</td>\n",
       "      <td>860000000.0</td>\n",
       "      <td>8.980000e+08</td>\n",
       "      <td>5.569000e+09</td>\n",
       "      <td>1.006000e+09</td>\n",
       "      <td>117000000.0</td>\n",
       "      <td>2.365000e+09</td>\n",
       "      <td>3.488000e+09</td>\n",
       "      <td>9057000000</td>\n",
       "      <td>472000000.0</td>\n",
       "      <td>2.530000e+08</td>\n",
       "      <td>1837000000</td>\n",
       "      <td>1.932000e+09</td>\n",
       "      <td>2.904000e+09</td>\n",
       "      <td>4741000000</td>\n",
       "      <td>8.271000e+09</td>\n",
       "      <td>-8.535000e+09</td>\n",
       "      <td>4.456000e+09</td>\n",
       "      <td>4.316000e+09</td>\n",
       "      <td>9057000000</td>\n",
       "    </tr>\n",
       "    <tr>\n",
       "      <th>2012-10-31</th>\n",
       "      <td>45846</td>\n",
       "      <td>USD</td>\n",
       "      <td>2012</td>\n",
       "      <td>Q4</td>\n",
       "      <td>2012-12-20</td>\n",
       "      <td>2013-12-19</td>\n",
       "      <td>348000000.0</td>\n",
       "      <td>353000000.0</td>\n",
       "      <td>2.351000e+09</td>\n",
       "      <td>923000000.0</td>\n",
       "      <td>1.014000e+09</td>\n",
       "      <td>4.629000e+09</td>\n",
       "      <td>1.164000e+09</td>\n",
       "      <td>109000000.0</td>\n",
       "      <td>4.634000e+09</td>\n",
       "      <td>5.907000e+09</td>\n",
       "      <td>10536000000</td>\n",
       "      <td>461000000.0</td>\n",
       "      <td>2.500000e+08</td>\n",
       "      <td>1893000000</td>\n",
       "      <td>2.112000e+09</td>\n",
       "      <td>3.458000e+09</td>\n",
       "      <td>5351000000</td>\n",
       "      <td>8.495000e+09</td>\n",
       "      <td>-8.707000e+09</td>\n",
       "      <td>5.505000e+09</td>\n",
       "      <td>5.185000e+09</td>\n",
       "      <td>10536000000</td>\n",
       "    </tr>\n",
       "  </tbody>\n",
       "</table>\n",
       "</div>"
      ],
      "text/plain": [
       "                    SimFinId Currency  Fiscal Year Fiscal Period Publish Date  \\\n",
       "Ticker Report Date                                                              \n",
       "A      2008-10-31      45846      USD         2008            Q4   2009-01-05   \n",
       "       2009-10-31      45846      USD         2009            Q4   2009-12-21   \n",
       "       2010-10-31      45846      USD         2010            Q4   2010-12-08   \n",
       "       2011-10-31      45846      USD         2011            Q4   2011-12-16   \n",
       "       2012-10-31      45846      USD         2012            Q4   2012-12-20   \n",
       "\n",
       "                   Restated Date  Shares (Basic)  Shares (Diluted)  \\\n",
       "Ticker Report Date                                                   \n",
       "A      2008-10-31     2009-12-21     357000000.0       359000000.0   \n",
       "       2009-10-31     2010-12-20     343000000.0       343000000.0   \n",
       "       2010-10-31     2011-12-16     344000000.0       356000000.0   \n",
       "       2011-10-31     2012-12-20     346000000.0       353000000.0   \n",
       "       2012-10-31     2013-12-19     348000000.0       353000000.0   \n",
       "\n",
       "                    Cash, Cash Equivalents & Short Term Investments  \\\n",
       "Ticker Report Date                                                    \n",
       "A      2008-10-31                                      1.429000e+09   \n",
       "       2009-10-31                                      2.493000e+09   \n",
       "       2010-10-31                                      2.649000e+09   \n",
       "       2011-10-31                                      3.527000e+09   \n",
       "       2012-10-31                                      2.351000e+09   \n",
       "\n",
       "                    Accounts & Notes Receivable   Inventories  \\\n",
       "Ticker Report Date                                              \n",
       "A      2008-10-31                   770000000.0  6.460000e+08   \n",
       "       2009-10-31                   595000000.0  5.520000e+08   \n",
       "       2010-10-31                   869000000.0  7.160000e+08   \n",
       "       2011-10-31                   860000000.0  8.980000e+08   \n",
       "       2012-10-31                   923000000.0  1.014000e+09   \n",
       "\n",
       "                    Total Current Assets  Property, Plant & Equipment, Net  \\\n",
       "Ticker Report Date                                                           \n",
       "A      2008-10-31           3.182000e+09                      8.240000e+08   \n",
       "       2009-10-31           3.961000e+09                      8.450000e+08   \n",
       "       2010-10-31           6.169000e+09                      9.800000e+08   \n",
       "       2011-10-31           5.569000e+09                      1.006000e+09   \n",
       "       2012-10-31           4.629000e+09                      1.164000e+09   \n",
       "\n",
       "                    Long Term Investments & Receivables  \\\n",
       "Ticker Report Date                                        \n",
       "A      2008-10-31                           206000000.0   \n",
       "       2009-10-31                           163000000.0   \n",
       "       2010-10-31                           142000000.0   \n",
       "       2011-10-31                           117000000.0   \n",
       "       2012-10-31                           109000000.0   \n",
       "\n",
       "                    Other Long Term Assets  Total Noncurrent Assets  \\\n",
       "Ticker Report Date                                                    \n",
       "A      2008-10-31             2.795000e+09             3.825000e+09   \n",
       "       2009-10-31             2.643000e+09             3.651000e+09   \n",
       "       2010-10-31             2.405000e+09             3.527000e+09   \n",
       "       2011-10-31             2.365000e+09             3.488000e+09   \n",
       "       2012-10-31             4.634000e+09             5.907000e+09   \n",
       "\n",
       "                    Total Assets  Payables & Accruals  Short Term Debt  \\\n",
       "Ticker Report Date                                                       \n",
       "A      2008-10-31     7007000000          436000000.0              NaN   \n",
       "       2009-10-31     7612000000          307000000.0     1.000000e+06   \n",
       "       2010-10-31     9696000000          499000000.0     1.501000e+09   \n",
       "       2011-10-31     9057000000          472000000.0     2.530000e+08   \n",
       "       2012-10-31    10536000000          461000000.0     2.500000e+08   \n",
       "\n",
       "                    Total Current Liabilities  Long Term Debt  \\\n",
       "Ticker Report Date                                              \n",
       "A      2008-10-31                  1330000000    2.125000e+09   \n",
       "       2009-10-31                  1123000000    2.904000e+09   \n",
       "       2010-10-31                  3083000000    2.190000e+09   \n",
       "       2011-10-31                  1837000000    1.932000e+09   \n",
       "       2012-10-31                  1893000000    2.112000e+09   \n",
       "\n",
       "                    Total Noncurrent Liabilities  Total Liabilities  \\\n",
       "Ticker Report Date                                                    \n",
       "A      2008-10-31                   3.118000e+09         4448000000   \n",
       "       2009-10-31                   3.975000e+09         5098000000   \n",
       "       2010-10-31                   3.377000e+09         6460000000   \n",
       "       2011-10-31                   2.904000e+09         4741000000   \n",
       "       2012-10-31                   3.458000e+09         5351000000   \n",
       "\n",
       "                    Share Capital & Additional Paid-In Capital  \\\n",
       "Ticker Report Date                                               \n",
       "A      2008-10-31                                 7.416000e+09   \n",
       "       2009-10-31                                 7.558000e+09   \n",
       "       2010-10-31                                 7.910000e+09   \n",
       "       2011-10-31                                 8.271000e+09   \n",
       "       2012-10-31                                 8.495000e+09   \n",
       "\n",
       "                    Treasury Stock  Retained Earnings  Total Equity  \\\n",
       "Ticker Report Date                                                    \n",
       "A      2008-10-31    -7.470000e+09       2.791000e+09  2.559000e+09   \n",
       "       2009-10-31    -7.627000e+09       2.760000e+09  2.514000e+09   \n",
       "       2010-10-31    -8.038000e+09       3.444000e+09  3.236000e+09   \n",
       "       2011-10-31    -8.535000e+09       4.456000e+09  4.316000e+09   \n",
       "       2012-10-31    -8.707000e+09       5.505000e+09  5.185000e+09   \n",
       "\n",
       "                    Total Liabilities & Equity  \n",
       "Ticker Report Date                              \n",
       "A      2008-10-31                   7007000000  \n",
       "       2009-10-31                   7612000000  \n",
       "       2010-10-31                   9696000000  \n",
       "       2011-10-31                   9057000000  \n",
       "       2012-10-31                  10536000000  "
      ]
     },
     "execution_count": 8,
     "metadata": {},
     "output_type": "execute_result"
    }
   ],
   "source": [
    "# Download the data from the SimFin server and load into a Pandas DataFrame.\n",
    "us_balance = sf.load_balance(variant='annual', market='us')\n",
    "\n",
    "# Print the first rows of the data.\n",
    "us_balance.head()"
   ]
  },
  {
   "cell_type": "markdown",
   "metadata": {},
   "source": [
    "All the columns present in DataFrame :"
   ]
  },
  {
   "cell_type": "code",
   "execution_count": 9,
   "metadata": {},
   "outputs": [
    {
     "data": {
      "text/plain": [
       "['SimFinId',\n",
       " 'Currency',\n",
       " 'Fiscal Year',\n",
       " 'Fiscal Period',\n",
       " 'Publish Date',\n",
       " 'Restated Date',\n",
       " 'Shares (Basic)',\n",
       " 'Shares (Diluted)',\n",
       " 'Cash, Cash Equivalents & Short Term Investments',\n",
       " 'Accounts & Notes Receivable',\n",
       " 'Inventories',\n",
       " 'Total Current Assets',\n",
       " 'Property, Plant & Equipment, Net',\n",
       " 'Long Term Investments & Receivables',\n",
       " 'Other Long Term Assets',\n",
       " 'Total Noncurrent Assets',\n",
       " 'Total Assets',\n",
       " 'Payables & Accruals',\n",
       " 'Short Term Debt',\n",
       " 'Total Current Liabilities',\n",
       " 'Long Term Debt',\n",
       " 'Total Noncurrent Liabilities',\n",
       " 'Total Liabilities',\n",
       " 'Share Capital & Additional Paid-In Capital',\n",
       " 'Treasury Stock',\n",
       " 'Retained Earnings',\n",
       " 'Total Equity',\n",
       " 'Total Liabilities & Equity']"
      ]
     },
     "execution_count": 9,
     "metadata": {},
     "output_type": "execute_result"
    }
   ],
   "source": [
    "us_balance.columns.to_list()"
   ]
  },
  {
   "cell_type": "markdown",
   "metadata": {},
   "source": [
    "### Keep data that we will need for computing the coe"
   ]
  },
  {
   "cell_type": "code",
   "execution_count": 10,
   "metadata": {},
   "outputs": [],
   "source": [
    "columns_needed = {\"Fiscal Year\",\"Short Term Debt\", 'Long Term Debt'}"
   ]
  },
  {
   "cell_type": "code",
   "execution_count": 11,
   "metadata": {},
   "outputs": [
    {
     "data": {
      "text/html": [
       "<div>\n",
       "<style scoped>\n",
       "    .dataframe tbody tr th:only-of-type {\n",
       "        vertical-align: middle;\n",
       "    }\n",
       "\n",
       "    .dataframe tbody tr th {\n",
       "        vertical-align: top;\n",
       "    }\n",
       "\n",
       "    .dataframe thead th {\n",
       "        text-align: right;\n",
       "    }\n",
       "</style>\n",
       "<table border=\"1\" class=\"dataframe\">\n",
       "  <thead>\n",
       "    <tr style=\"text-align: right;\">\n",
       "      <th></th>\n",
       "      <th></th>\n",
       "      <th>long term debt</th>\n",
       "      <th>fiscal year</th>\n",
       "      <th>short term debt</th>\n",
       "    </tr>\n",
       "    <tr>\n",
       "      <th>Ticker</th>\n",
       "      <th>Report Date</th>\n",
       "      <th></th>\n",
       "      <th></th>\n",
       "      <th></th>\n",
       "    </tr>\n",
       "  </thead>\n",
       "  <tbody>\n",
       "    <tr>\n",
       "      <th rowspan=\"5\" valign=\"top\">A</th>\n",
       "      <th>2008-10-31</th>\n",
       "      <td>2.125000e+09</td>\n",
       "      <td>2008</td>\n",
       "      <td>NaN</td>\n",
       "    </tr>\n",
       "    <tr>\n",
       "      <th>2009-10-31</th>\n",
       "      <td>2.904000e+09</td>\n",
       "      <td>2009</td>\n",
       "      <td>1.000000e+06</td>\n",
       "    </tr>\n",
       "    <tr>\n",
       "      <th>2010-10-31</th>\n",
       "      <td>2.190000e+09</td>\n",
       "      <td>2010</td>\n",
       "      <td>1.501000e+09</td>\n",
       "    </tr>\n",
       "    <tr>\n",
       "      <th>2011-10-31</th>\n",
       "      <td>1.932000e+09</td>\n",
       "      <td>2011</td>\n",
       "      <td>2.530000e+08</td>\n",
       "    </tr>\n",
       "    <tr>\n",
       "      <th>2012-10-31</th>\n",
       "      <td>2.112000e+09</td>\n",
       "      <td>2012</td>\n",
       "      <td>2.500000e+08</td>\n",
       "    </tr>\n",
       "    <tr>\n",
       "      <th>...</th>\n",
       "      <th>...</th>\n",
       "      <td>...</td>\n",
       "      <td>...</td>\n",
       "      <td>...</td>\n",
       "    </tr>\n",
       "    <tr>\n",
       "      <th rowspan=\"5\" valign=\"top\">low</th>\n",
       "      <th>2015-02-28</th>\n",
       "      <td>1.080600e+10</td>\n",
       "      <td>2014</td>\n",
       "      <td>5.520000e+08</td>\n",
       "    </tr>\n",
       "    <tr>\n",
       "      <th>2016-02-29</th>\n",
       "      <td>1.154500e+10</td>\n",
       "      <td>2015</td>\n",
       "      <td>1.104000e+09</td>\n",
       "    </tr>\n",
       "    <tr>\n",
       "      <th>2017-02-28</th>\n",
       "      <td>1.439400e+10</td>\n",
       "      <td>2016</td>\n",
       "      <td>1.305000e+09</td>\n",
       "    </tr>\n",
       "    <tr>\n",
       "      <th>2018-02-28</th>\n",
       "      <td>1.556400e+10</td>\n",
       "      <td>2017</td>\n",
       "      <td>1.431000e+09</td>\n",
       "    </tr>\n",
       "    <tr>\n",
       "      <th>2019-02-28</th>\n",
       "      <td>1.439100e+10</td>\n",
       "      <td>2018</td>\n",
       "      <td>1.832000e+09</td>\n",
       "    </tr>\n",
       "  </tbody>\n",
       "</table>\n",
       "<p>15560 rows × 3 columns</p>\n",
       "</div>"
      ],
      "text/plain": [
       "                    long term debt  fiscal year  short term debt\n",
       "Ticker Report Date                                              \n",
       "A      2008-10-31     2.125000e+09         2008              NaN\n",
       "       2009-10-31     2.904000e+09         2009     1.000000e+06\n",
       "       2010-10-31     2.190000e+09         2010     1.501000e+09\n",
       "       2011-10-31     1.932000e+09         2011     2.530000e+08\n",
       "       2012-10-31     2.112000e+09         2012     2.500000e+08\n",
       "...                            ...          ...              ...\n",
       "low    2015-02-28     1.080600e+10         2014     5.520000e+08\n",
       "       2016-02-29     1.154500e+10         2015     1.104000e+09\n",
       "       2017-02-28     1.439400e+10         2016     1.305000e+09\n",
       "       2018-02-28     1.556400e+10         2017     1.431000e+09\n",
       "       2019-02-28     1.439100e+10         2018     1.832000e+09\n",
       "\n",
       "[15560 rows x 3 columns]"
      ]
     },
     "execution_count": 11,
     "metadata": {},
     "output_type": "execute_result"
    }
   ],
   "source": [
    "data = us_balance[columns_needed]\n",
    "data = data.rename(columns = {\n",
    "    \"Fiscal Year\" : 'fiscal year',\n",
    "    \"Short Term Debt\" : 'short term debt',\n",
    "    \"Long Term Debt\" : 'long term debt'\n",
    "})\n",
    "data"
   ]
  },
  {
   "cell_type": "markdown",
   "metadata": {},
   "source": [
    "### merge beta and balance data"
   ]
  },
  {
   "cell_type": "code",
   "execution_count": 12,
   "metadata": {},
   "outputs": [
    {
     "data": {
      "text/html": [
       "<div>\n",
       "<style scoped>\n",
       "    .dataframe tbody tr th:only-of-type {\n",
       "        vertical-align: middle;\n",
       "    }\n",
       "\n",
       "    .dataframe tbody tr th {\n",
       "        vertical-align: top;\n",
       "    }\n",
       "\n",
       "    .dataframe thead th {\n",
       "        text-align: right;\n",
       "    }\n",
       "</style>\n",
       "<table border=\"1\" class=\"dataframe\">\n",
       "  <thead>\n",
       "    <tr style=\"text-align: right;\">\n",
       "      <th></th>\n",
       "      <th></th>\n",
       "      <th>long term debt</th>\n",
       "      <th>fiscal year</th>\n",
       "      <th>short term debt</th>\n",
       "      <th>beta</th>\n",
       "    </tr>\n",
       "    <tr>\n",
       "      <th>Ticker</th>\n",
       "      <th>Report Date</th>\n",
       "      <th></th>\n",
       "      <th></th>\n",
       "      <th></th>\n",
       "      <th></th>\n",
       "    </tr>\n",
       "  </thead>\n",
       "  <tbody>\n",
       "    <tr>\n",
       "      <th rowspan=\"5\" valign=\"top\">A</th>\n",
       "      <th>2008-10-31</th>\n",
       "      <td>2.125000e+09</td>\n",
       "      <td>2008</td>\n",
       "      <td>NaN</td>\n",
       "      <td>1.12</td>\n",
       "    </tr>\n",
       "    <tr>\n",
       "      <th>2009-10-31</th>\n",
       "      <td>2.904000e+09</td>\n",
       "      <td>2009</td>\n",
       "      <td>1.000000e+06</td>\n",
       "      <td>1.12</td>\n",
       "    </tr>\n",
       "    <tr>\n",
       "      <th>2010-10-31</th>\n",
       "      <td>2.190000e+09</td>\n",
       "      <td>2010</td>\n",
       "      <td>1.501000e+09</td>\n",
       "      <td>1.12</td>\n",
       "    </tr>\n",
       "    <tr>\n",
       "      <th>2011-10-31</th>\n",
       "      <td>1.932000e+09</td>\n",
       "      <td>2011</td>\n",
       "      <td>2.530000e+08</td>\n",
       "      <td>1.12</td>\n",
       "    </tr>\n",
       "    <tr>\n",
       "      <th>2012-10-31</th>\n",
       "      <td>2.112000e+09</td>\n",
       "      <td>2012</td>\n",
       "      <td>2.500000e+08</td>\n",
       "      <td>1.12</td>\n",
       "    </tr>\n",
       "    <tr>\n",
       "      <th>...</th>\n",
       "      <th>...</th>\n",
       "      <td>...</td>\n",
       "      <td>...</td>\n",
       "      <td>...</td>\n",
       "      <td>...</td>\n",
       "    </tr>\n",
       "    <tr>\n",
       "      <th rowspan=\"5\" valign=\"top\">low</th>\n",
       "      <th>2015-02-28</th>\n",
       "      <td>1.080600e+10</td>\n",
       "      <td>2014</td>\n",
       "      <td>5.520000e+08</td>\n",
       "      <td>1.42</td>\n",
       "    </tr>\n",
       "    <tr>\n",
       "      <th>2016-02-29</th>\n",
       "      <td>1.154500e+10</td>\n",
       "      <td>2015</td>\n",
       "      <td>1.104000e+09</td>\n",
       "      <td>1.42</td>\n",
       "    </tr>\n",
       "    <tr>\n",
       "      <th>2017-02-28</th>\n",
       "      <td>1.439400e+10</td>\n",
       "      <td>2016</td>\n",
       "      <td>1.305000e+09</td>\n",
       "      <td>1.42</td>\n",
       "    </tr>\n",
       "    <tr>\n",
       "      <th>2018-02-28</th>\n",
       "      <td>1.556400e+10</td>\n",
       "      <td>2017</td>\n",
       "      <td>1.431000e+09</td>\n",
       "      <td>1.42</td>\n",
       "    </tr>\n",
       "    <tr>\n",
       "      <th>2019-02-28</th>\n",
       "      <td>1.439100e+10</td>\n",
       "      <td>2018</td>\n",
       "      <td>1.832000e+09</td>\n",
       "      <td>1.42</td>\n",
       "    </tr>\n",
       "  </tbody>\n",
       "</table>\n",
       "<p>15560 rows × 4 columns</p>\n",
       "</div>"
      ],
      "text/plain": [
       "                    long term debt  fiscal year  short term debt  beta\n",
       "Ticker Report Date                                                    \n",
       "A      2008-10-31     2.125000e+09         2008              NaN  1.12\n",
       "       2009-10-31     2.904000e+09         2009     1.000000e+06  1.12\n",
       "       2010-10-31     2.190000e+09         2010     1.501000e+09  1.12\n",
       "       2011-10-31     1.932000e+09         2011     2.530000e+08  1.12\n",
       "       2012-10-31     2.112000e+09         2012     2.500000e+08  1.12\n",
       "...                            ...          ...              ...   ...\n",
       "low    2015-02-28     1.080600e+10         2014     5.520000e+08  1.42\n",
       "       2016-02-29     1.154500e+10         2015     1.104000e+09  1.42\n",
       "       2017-02-28     1.439400e+10         2016     1.305000e+09  1.42\n",
       "       2018-02-28     1.556400e+10         2017     1.431000e+09  1.42\n",
       "       2019-02-28     1.439100e+10         2018     1.832000e+09  1.42\n",
       "\n",
       "[15560 rows x 4 columns]"
      ]
     },
     "execution_count": 12,
     "metadata": {},
     "output_type": "execute_result"
    }
   ],
   "source": [
    "df = pd.merge(left=data.reset_index(), right = df,\n",
    "              left_on = 'Ticker',  right_on = 'Ticker',\n",
    "              how='left')\n",
    "df = df.set_index(['Ticker','Report Date'])\n",
    "df"
   ]
  },
  {
   "cell_type": "markdown",
   "metadata": {},
   "source": [
    "### Compute the cost of equity (capital)"
   ]
  },
  {
   "cell_type": "code",
   "execution_count": 13,
   "metadata": {},
   "outputs": [
    {
     "data": {
      "text/plain": [
       "Ticker  Report Date\n",
       "A       2008-10-31     0.0866\n",
       "        2009-10-31     0.0866\n",
       "        2010-10-31     0.0866\n",
       "        2011-10-31     0.0866\n",
       "        2012-10-31     0.0866\n",
       "                        ...  \n",
       "low     2015-02-28     0.1031\n",
       "        2016-02-29     0.1031\n",
       "        2017-02-28     0.1031\n",
       "        2018-02-28     0.1031\n",
       "        2019-02-28     0.1031\n",
       "Name: beta, Length: 15560, dtype: float64"
      ]
     },
     "execution_count": 13,
     "metadata": {},
     "output_type": "execute_result"
    }
   ],
   "source": [
    " Rf + df['beta']*(risk_premium)"
   ]
  },
  {
   "cell_type": "code",
   "execution_count": 14,
   "metadata": {},
   "outputs": [
    {
     "data": {
      "text/html": [
       "<div>\n",
       "<style scoped>\n",
       "    .dataframe tbody tr th:only-of-type {\n",
       "        vertical-align: middle;\n",
       "    }\n",
       "\n",
       "    .dataframe tbody tr th {\n",
       "        vertical-align: top;\n",
       "    }\n",
       "\n",
       "    .dataframe thead th {\n",
       "        text-align: right;\n",
       "    }\n",
       "</style>\n",
       "<table border=\"1\" class=\"dataframe\">\n",
       "  <thead>\n",
       "    <tr style=\"text-align: right;\">\n",
       "      <th></th>\n",
       "      <th></th>\n",
       "      <th>long term debt</th>\n",
       "      <th>fiscal year</th>\n",
       "      <th>short term debt</th>\n",
       "      <th>beta</th>\n",
       "    </tr>\n",
       "    <tr>\n",
       "      <th>Ticker</th>\n",
       "      <th>Report Date</th>\n",
       "      <th></th>\n",
       "      <th></th>\n",
       "      <th></th>\n",
       "      <th></th>\n",
       "    </tr>\n",
       "  </thead>\n",
       "  <tbody>\n",
       "    <tr>\n",
       "      <th rowspan=\"5\" valign=\"top\">A</th>\n",
       "      <th>2008-10-31</th>\n",
       "      <td>2.125000e+09</td>\n",
       "      <td>2008</td>\n",
       "      <td>NaN</td>\n",
       "      <td>1.12</td>\n",
       "    </tr>\n",
       "    <tr>\n",
       "      <th>2009-10-31</th>\n",
       "      <td>2.904000e+09</td>\n",
       "      <td>2009</td>\n",
       "      <td>1.000000e+06</td>\n",
       "      <td>1.12</td>\n",
       "    </tr>\n",
       "    <tr>\n",
       "      <th>2010-10-31</th>\n",
       "      <td>2.190000e+09</td>\n",
       "      <td>2010</td>\n",
       "      <td>1.501000e+09</td>\n",
       "      <td>1.12</td>\n",
       "    </tr>\n",
       "    <tr>\n",
       "      <th>2011-10-31</th>\n",
       "      <td>1.932000e+09</td>\n",
       "      <td>2011</td>\n",
       "      <td>2.530000e+08</td>\n",
       "      <td>1.12</td>\n",
       "    </tr>\n",
       "    <tr>\n",
       "      <th>2012-10-31</th>\n",
       "      <td>2.112000e+09</td>\n",
       "      <td>2012</td>\n",
       "      <td>2.500000e+08</td>\n",
       "      <td>1.12</td>\n",
       "    </tr>\n",
       "    <tr>\n",
       "      <th>...</th>\n",
       "      <th>...</th>\n",
       "      <td>...</td>\n",
       "      <td>...</td>\n",
       "      <td>...</td>\n",
       "      <td>...</td>\n",
       "    </tr>\n",
       "    <tr>\n",
       "      <th rowspan=\"5\" valign=\"top\">low</th>\n",
       "      <th>2015-02-28</th>\n",
       "      <td>1.080600e+10</td>\n",
       "      <td>2014</td>\n",
       "      <td>5.520000e+08</td>\n",
       "      <td>1.42</td>\n",
       "    </tr>\n",
       "    <tr>\n",
       "      <th>2016-02-29</th>\n",
       "      <td>1.154500e+10</td>\n",
       "      <td>2015</td>\n",
       "      <td>1.104000e+09</td>\n",
       "      <td>1.42</td>\n",
       "    </tr>\n",
       "    <tr>\n",
       "      <th>2017-02-28</th>\n",
       "      <td>1.439400e+10</td>\n",
       "      <td>2016</td>\n",
       "      <td>1.305000e+09</td>\n",
       "      <td>1.42</td>\n",
       "    </tr>\n",
       "    <tr>\n",
       "      <th>2018-02-28</th>\n",
       "      <td>1.556400e+10</td>\n",
       "      <td>2017</td>\n",
       "      <td>1.431000e+09</td>\n",
       "      <td>1.42</td>\n",
       "    </tr>\n",
       "    <tr>\n",
       "      <th>2019-02-28</th>\n",
       "      <td>1.439100e+10</td>\n",
       "      <td>2018</td>\n",
       "      <td>1.832000e+09</td>\n",
       "      <td>1.42</td>\n",
       "    </tr>\n",
       "  </tbody>\n",
       "</table>\n",
       "<p>15560 rows × 4 columns</p>\n",
       "</div>"
      ],
      "text/plain": [
       "                    long term debt  fiscal year  short term debt  beta\n",
       "Ticker Report Date                                                    \n",
       "A      2008-10-31     2.125000e+09         2008              NaN  1.12\n",
       "       2009-10-31     2.904000e+09         2009     1.000000e+06  1.12\n",
       "       2010-10-31     2.190000e+09         2010     1.501000e+09  1.12\n",
       "       2011-10-31     1.932000e+09         2011     2.530000e+08  1.12\n",
       "       2012-10-31     2.112000e+09         2012     2.500000e+08  1.12\n",
       "...                            ...          ...              ...   ...\n",
       "low    2015-02-28     1.080600e+10         2014     5.520000e+08  1.42\n",
       "       2016-02-29     1.154500e+10         2015     1.104000e+09  1.42\n",
       "       2017-02-28     1.439400e+10         2016     1.305000e+09  1.42\n",
       "       2018-02-28     1.556400e+10         2017     1.431000e+09  1.42\n",
       "       2019-02-28     1.439100e+10         2018     1.832000e+09  1.42\n",
       "\n",
       "[15560 rows x 4 columns]"
      ]
     },
     "execution_count": 14,
     "metadata": {},
     "output_type": "execute_result"
    }
   ],
   "source": [
    "df"
   ]
  },
  {
   "cell_type": "code",
   "execution_count": 15,
   "metadata": {},
   "outputs": [],
   "source": [
    "df['coe'] = Rf + df['beta']*(risk_premium)"
   ]
  },
  {
   "cell_type": "code",
   "execution_count": 16,
   "metadata": {},
   "outputs": [
    {
     "data": {
      "text/plain": [
       "Ticker  Report Date\n",
       "A       2008-10-31     1.12\n",
       "        2009-10-31     1.12\n",
       "        2010-10-31     1.12\n",
       "        2011-10-31     1.12\n",
       "        2012-10-31     1.12\n",
       "                       ... \n",
       "low     2015-02-28     1.42\n",
       "        2016-02-29     1.42\n",
       "        2017-02-28     1.42\n",
       "        2018-02-28     1.42\n",
       "        2019-02-28     1.42\n",
       "Name: beta, Length: 15560, dtype: float64"
      ]
     },
     "execution_count": 16,
     "metadata": {},
     "output_type": "execute_result"
    }
   ],
   "source": [
    "df['beta']"
   ]
  },
  {
   "cell_type": "code",
   "execution_count": 17,
   "metadata": {},
   "outputs": [
    {
     "data": {
      "text/plain": [
       "Ticker  Report Date\n",
       "A       2008-10-31     0.0866\n",
       "        2009-10-31     0.0866\n",
       "        2010-10-31     0.0866\n",
       "        2011-10-31     0.0866\n",
       "        2012-10-31     0.0866\n",
       "                        ...  \n",
       "low     2015-02-28     0.1031\n",
       "        2016-02-29     0.1031\n",
       "        2017-02-28     0.1031\n",
       "        2018-02-28     0.1031\n",
       "        2019-02-28     0.1031\n",
       "Name: beta, Length: 15560, dtype: float64"
      ]
     },
     "execution_count": 17,
     "metadata": {},
     "output_type": "execute_result"
    }
   ],
   "source": [
    "Rf + df['beta']*(risk_premium)"
   ]
  },
  {
   "cell_type": "code",
   "execution_count": 18,
   "metadata": {},
   "outputs": [
    {
     "data": {
      "text/html": [
       "<div>\n",
       "<style scoped>\n",
       "    .dataframe tbody tr th:only-of-type {\n",
       "        vertical-align: middle;\n",
       "    }\n",
       "\n",
       "    .dataframe tbody tr th {\n",
       "        vertical-align: top;\n",
       "    }\n",
       "\n",
       "    .dataframe thead th {\n",
       "        text-align: right;\n",
       "    }\n",
       "</style>\n",
       "<table border=\"1\" class=\"dataframe\">\n",
       "  <thead>\n",
       "    <tr style=\"text-align: right;\">\n",
       "      <th></th>\n",
       "      <th></th>\n",
       "      <th>long term debt</th>\n",
       "      <th>fiscal year</th>\n",
       "      <th>short term debt</th>\n",
       "      <th>beta</th>\n",
       "      <th>coe</th>\n",
       "    </tr>\n",
       "    <tr>\n",
       "      <th>Ticker</th>\n",
       "      <th>Report Date</th>\n",
       "      <th></th>\n",
       "      <th></th>\n",
       "      <th></th>\n",
       "      <th></th>\n",
       "      <th></th>\n",
       "    </tr>\n",
       "  </thead>\n",
       "  <tbody>\n",
       "    <tr>\n",
       "      <th rowspan=\"5\" valign=\"top\">A</th>\n",
       "      <th>2008-10-31</th>\n",
       "      <td>2.125000e+09</td>\n",
       "      <td>2008</td>\n",
       "      <td>NaN</td>\n",
       "      <td>1.12</td>\n",
       "      <td>0.0866</td>\n",
       "    </tr>\n",
       "    <tr>\n",
       "      <th>2009-10-31</th>\n",
       "      <td>2.904000e+09</td>\n",
       "      <td>2009</td>\n",
       "      <td>1.000000e+06</td>\n",
       "      <td>1.12</td>\n",
       "      <td>0.0866</td>\n",
       "    </tr>\n",
       "    <tr>\n",
       "      <th>2010-10-31</th>\n",
       "      <td>2.190000e+09</td>\n",
       "      <td>2010</td>\n",
       "      <td>1.501000e+09</td>\n",
       "      <td>1.12</td>\n",
       "      <td>0.0866</td>\n",
       "    </tr>\n",
       "    <tr>\n",
       "      <th>2011-10-31</th>\n",
       "      <td>1.932000e+09</td>\n",
       "      <td>2011</td>\n",
       "      <td>2.530000e+08</td>\n",
       "      <td>1.12</td>\n",
       "      <td>0.0866</td>\n",
       "    </tr>\n",
       "    <tr>\n",
       "      <th>2012-10-31</th>\n",
       "      <td>2.112000e+09</td>\n",
       "      <td>2012</td>\n",
       "      <td>2.500000e+08</td>\n",
       "      <td>1.12</td>\n",
       "      <td>0.0866</td>\n",
       "    </tr>\n",
       "    <tr>\n",
       "      <th>...</th>\n",
       "      <th>...</th>\n",
       "      <td>...</td>\n",
       "      <td>...</td>\n",
       "      <td>...</td>\n",
       "      <td>...</td>\n",
       "      <td>...</td>\n",
       "    </tr>\n",
       "    <tr>\n",
       "      <th rowspan=\"5\" valign=\"top\">low</th>\n",
       "      <th>2015-02-28</th>\n",
       "      <td>1.080600e+10</td>\n",
       "      <td>2014</td>\n",
       "      <td>5.520000e+08</td>\n",
       "      <td>1.42</td>\n",
       "      <td>0.1031</td>\n",
       "    </tr>\n",
       "    <tr>\n",
       "      <th>2016-02-29</th>\n",
       "      <td>1.154500e+10</td>\n",
       "      <td>2015</td>\n",
       "      <td>1.104000e+09</td>\n",
       "      <td>1.42</td>\n",
       "      <td>0.1031</td>\n",
       "    </tr>\n",
       "    <tr>\n",
       "      <th>2017-02-28</th>\n",
       "      <td>1.439400e+10</td>\n",
       "      <td>2016</td>\n",
       "      <td>1.305000e+09</td>\n",
       "      <td>1.42</td>\n",
       "      <td>0.1031</td>\n",
       "    </tr>\n",
       "    <tr>\n",
       "      <th>2018-02-28</th>\n",
       "      <td>1.556400e+10</td>\n",
       "      <td>2017</td>\n",
       "      <td>1.431000e+09</td>\n",
       "      <td>1.42</td>\n",
       "      <td>0.1031</td>\n",
       "    </tr>\n",
       "    <tr>\n",
       "      <th>2019-02-28</th>\n",
       "      <td>1.439100e+10</td>\n",
       "      <td>2018</td>\n",
       "      <td>1.832000e+09</td>\n",
       "      <td>1.42</td>\n",
       "      <td>0.1031</td>\n",
       "    </tr>\n",
       "  </tbody>\n",
       "</table>\n",
       "<p>15560 rows × 5 columns</p>\n",
       "</div>"
      ],
      "text/plain": [
       "                    long term debt  fiscal year  short term debt  beta     coe\n",
       "Ticker Report Date                                                            \n",
       "A      2008-10-31     2.125000e+09         2008              NaN  1.12  0.0866\n",
       "       2009-10-31     2.904000e+09         2009     1.000000e+06  1.12  0.0866\n",
       "       2010-10-31     2.190000e+09         2010     1.501000e+09  1.12  0.0866\n",
       "       2011-10-31     1.932000e+09         2011     2.530000e+08  1.12  0.0866\n",
       "       2012-10-31     2.112000e+09         2012     2.500000e+08  1.12  0.0866\n",
       "...                            ...          ...              ...   ...     ...\n",
       "low    2015-02-28     1.080600e+10         2014     5.520000e+08  1.42  0.1031\n",
       "       2016-02-29     1.154500e+10         2015     1.104000e+09  1.42  0.1031\n",
       "       2017-02-28     1.439400e+10         2016     1.305000e+09  1.42  0.1031\n",
       "       2018-02-28     1.556400e+10         2017     1.431000e+09  1.42  0.1031\n",
       "       2019-02-28     1.439100e+10         2018     1.832000e+09  1.42  0.1031\n",
       "\n",
       "[15560 rows x 5 columns]"
      ]
     },
     "execution_count": 18,
     "metadata": {},
     "output_type": "execute_result"
    }
   ],
   "source": [
    "df"
   ]
  },
  {
   "cell_type": "markdown",
   "metadata": {},
   "source": [
    "## Compute the cost of Debt"
   ]
  },
  {
   "cell_type": "markdown",
   "metadata": {},
   "source": [
    "![alt text](cost_of_debt_formula.PNG \"Title\")\n"
   ]
  },
  {
   "cell_type": "markdown",
   "metadata": {},
   "source": [
    "Tax rate:"
   ]
  },
  {
   "cell_type": "code",
   "execution_count": 19,
   "metadata": {},
   "outputs": [
    {
     "name": "stdout",
     "output_type": "stream",
     "text": [
      "Dataset \"us-income-annual\" on disk (0 days old).\n",
      "- Loading from disk ... Done!\n"
     ]
    }
   ],
   "source": [
    "us_income = sf.load_income(variant='annual', market='us')"
   ]
  },
  {
   "cell_type": "code",
   "execution_count": 20,
   "metadata": {},
   "outputs": [
    {
     "name": "stdout",
     "output_type": "stream",
     "text": [
      "<class 'pandas.core.frame.DataFrame'>\n",
      "MultiIndex: 15560 entries, ('A', Timestamp('2008-10-31 00:00:00')) to ('low', Timestamp('2019-02-28 00:00:00'))\n",
      "Data columns (total 26 columns):\n",
      " #   Column                                    Non-Null Count  Dtype         \n",
      "---  ------                                    --------------  -----         \n",
      " 0   SimFinId                                  15560 non-null  int64         \n",
      " 1   Currency                                  15560 non-null  object        \n",
      " 2   Fiscal Year                               15560 non-null  int64         \n",
      " 3   Fiscal Period                             15560 non-null  object        \n",
      " 4   Publish Date                              15560 non-null  datetime64[ns]\n",
      " 5   Restated Date                             15560 non-null  datetime64[ns]\n",
      " 6   Shares (Basic)                            15464 non-null  float64       \n",
      " 7   Shares (Diluted)                          15464 non-null  float64       \n",
      " 8   Revenue                                   15313 non-null  float64       \n",
      " 9   Cost of Revenue                           14151 non-null  float64       \n",
      " 10  Gross Profit                              15323 non-null  float64       \n",
      " 11  Operating Expenses                        15487 non-null  float64       \n",
      " 12  Selling, General & Administrative         14786 non-null  float64       \n",
      " 13  Research & Development                    6184 non-null   float64       \n",
      " 14  Depreciation & Amortization               6692 non-null   float64       \n",
      " 15  Operating Income (Loss)                   15556 non-null  float64       \n",
      " 16  Non-Operating Income (Loss)               15410 non-null  float64       \n",
      " 17  Interest Expense, Net                     13718 non-null  float64       \n",
      " 18  Pretax Income (Loss), Adj.                15560 non-null  int64         \n",
      " 19  Abnormal Gains (Losses)                   10240 non-null  float64       \n",
      " 20  Pretax Income (Loss)                      15560 non-null  int64         \n",
      " 21  Income Tax (Expense) Benefit, Net         14676 non-null  float64       \n",
      " 22  Income (Loss) from Continuing Operations  15560 non-null  int64         \n",
      " 23  Net Extraordinary Gains (Losses)          3407 non-null   float64       \n",
      " 24  Net Income                                15560 non-null  int64         \n",
      " 25  Net Income (Common)                       15560 non-null  int64         \n",
      "dtypes: datetime64[ns](2), float64(15), int64(7), object(2)\n",
      "memory usage: 3.2+ MB\n"
     ]
    }
   ],
   "source": [
    "us_income.info()"
   ]
  },
  {
   "cell_type": "code",
   "execution_count": 21,
   "metadata": {},
   "outputs": [
    {
     "data": {
      "text/plain": [
       "['SimFinId',\n",
       " 'Currency',\n",
       " 'Fiscal Year',\n",
       " 'Fiscal Period',\n",
       " 'Publish Date',\n",
       " 'Restated Date',\n",
       " 'Shares (Basic)',\n",
       " 'Shares (Diluted)',\n",
       " 'Revenue',\n",
       " 'Cost of Revenue',\n",
       " 'Gross Profit',\n",
       " 'Operating Expenses',\n",
       " 'Selling, General & Administrative',\n",
       " 'Research & Development',\n",
       " 'Depreciation & Amortization',\n",
       " 'Operating Income (Loss)',\n",
       " 'Non-Operating Income (Loss)',\n",
       " 'Interest Expense, Net',\n",
       " 'Pretax Income (Loss), Adj.',\n",
       " 'Abnormal Gains (Losses)',\n",
       " 'Pretax Income (Loss)',\n",
       " 'Income Tax (Expense) Benefit, Net',\n",
       " 'Income (Loss) from Continuing Operations',\n",
       " 'Net Extraordinary Gains (Losses)',\n",
       " 'Net Income',\n",
       " 'Net Income (Common)']"
      ]
     },
     "execution_count": 21,
     "metadata": {},
     "output_type": "execute_result"
    }
   ],
   "source": [
    "us_income.columns.to_list()"
   ]
  },
  {
   "cell_type": "code",
   "execution_count": 22,
   "metadata": {},
   "outputs": [
    {
     "data": {
      "text/html": [
       "<div>\n",
       "<style scoped>\n",
       "    .dataframe tbody tr th:only-of-type {\n",
       "        vertical-align: middle;\n",
       "    }\n",
       "\n",
       "    .dataframe tbody tr th {\n",
       "        vertical-align: top;\n",
       "    }\n",
       "\n",
       "    .dataframe thead th {\n",
       "        text-align: right;\n",
       "    }\n",
       "</style>\n",
       "<table border=\"1\" class=\"dataframe\">\n",
       "  <thead>\n",
       "    <tr style=\"text-align: right;\">\n",
       "      <th></th>\n",
       "      <th></th>\n",
       "      <th>Interest Expense, Net</th>\n",
       "      <th>Income Tax (Expense) Benefit, Net</th>\n",
       "      <th>Pretax Income (Loss)</th>\n",
       "      <th>Income (Loss) from Continuing Operations</th>\n",
       "    </tr>\n",
       "    <tr>\n",
       "      <th>Ticker</th>\n",
       "      <th>Report Date</th>\n",
       "      <th></th>\n",
       "      <th></th>\n",
       "      <th></th>\n",
       "      <th></th>\n",
       "    </tr>\n",
       "  </thead>\n",
       "  <tbody>\n",
       "    <tr>\n",
       "      <th rowspan=\"5\" valign=\"top\">A</th>\n",
       "      <th>2008-10-31</th>\n",
       "      <td>-10000000.0</td>\n",
       "      <td>-1.220000e+08</td>\n",
       "      <td>815000000</td>\n",
       "      <td>693000000</td>\n",
       "    </tr>\n",
       "    <tr>\n",
       "      <th>2009-10-31</th>\n",
       "      <td>-59000000.0</td>\n",
       "      <td>-3.800000e+07</td>\n",
       "      <td>7000000</td>\n",
       "      <td>-31000000</td>\n",
       "    </tr>\n",
       "    <tr>\n",
       "      <th>2010-10-31</th>\n",
       "      <td>-76000000.0</td>\n",
       "      <td>-8.000000e+06</td>\n",
       "      <td>692000000</td>\n",
       "      <td>684000000</td>\n",
       "    </tr>\n",
       "    <tr>\n",
       "      <th>2011-10-31</th>\n",
       "      <td>-72000000.0</td>\n",
       "      <td>-2.000000e+07</td>\n",
       "      <td>1032000000</td>\n",
       "      <td>1012000000</td>\n",
       "    </tr>\n",
       "    <tr>\n",
       "      <th>2012-10-31</th>\n",
       "      <td>-92000000.0</td>\n",
       "      <td>1.100000e+08</td>\n",
       "      <td>1043000000</td>\n",
       "      <td>1153000000</td>\n",
       "    </tr>\n",
       "    <tr>\n",
       "      <th>...</th>\n",
       "      <th>...</th>\n",
       "      <td>...</td>\n",
       "      <td>...</td>\n",
       "      <td>...</td>\n",
       "      <td>...</td>\n",
       "    </tr>\n",
       "    <tr>\n",
       "      <th rowspan=\"5\" valign=\"top\">low</th>\n",
       "      <th>2015-02-28</th>\n",
       "      <td>-516000000.0</td>\n",
       "      <td>-1.578000e+09</td>\n",
       "      <td>4276000000</td>\n",
       "      <td>2698000000</td>\n",
       "    </tr>\n",
       "    <tr>\n",
       "      <th>2016-02-29</th>\n",
       "      <td>-552000000.0</td>\n",
       "      <td>-1.873000e+09</td>\n",
       "      <td>4419000000</td>\n",
       "      <td>2546000000</td>\n",
       "    </tr>\n",
       "    <tr>\n",
       "      <th>2017-02-28</th>\n",
       "      <td>-645000000.0</td>\n",
       "      <td>-2.108000e+09</td>\n",
       "      <td>5201000000</td>\n",
       "      <td>3093000000</td>\n",
       "    </tr>\n",
       "    <tr>\n",
       "      <th>2018-02-28</th>\n",
       "      <td>-633000000.0</td>\n",
       "      <td>-2.042000e+09</td>\n",
       "      <td>5489000000</td>\n",
       "      <td>3447000000</td>\n",
       "    </tr>\n",
       "    <tr>\n",
       "      <th>2019-02-28</th>\n",
       "      <td>-624000000.0</td>\n",
       "      <td>-1.080000e+09</td>\n",
       "      <td>3394000000</td>\n",
       "      <td>2314000000</td>\n",
       "    </tr>\n",
       "  </tbody>\n",
       "</table>\n",
       "<p>15560 rows × 4 columns</p>\n",
       "</div>"
      ],
      "text/plain": [
       "                    Interest Expense, Net  Income Tax (Expense) Benefit, Net  \\\n",
       "Ticker Report Date                                                             \n",
       "A      2008-10-31             -10000000.0                      -1.220000e+08   \n",
       "       2009-10-31             -59000000.0                      -3.800000e+07   \n",
       "       2010-10-31             -76000000.0                      -8.000000e+06   \n",
       "       2011-10-31             -72000000.0                      -2.000000e+07   \n",
       "       2012-10-31             -92000000.0                       1.100000e+08   \n",
       "...                                   ...                                ...   \n",
       "low    2015-02-28            -516000000.0                      -1.578000e+09   \n",
       "       2016-02-29            -552000000.0                      -1.873000e+09   \n",
       "       2017-02-28            -645000000.0                      -2.108000e+09   \n",
       "       2018-02-28            -633000000.0                      -2.042000e+09   \n",
       "       2019-02-28            -624000000.0                      -1.080000e+09   \n",
       "\n",
       "                    Pretax Income (Loss)  \\\n",
       "Ticker Report Date                         \n",
       "A      2008-10-31              815000000   \n",
       "       2009-10-31                7000000   \n",
       "       2010-10-31              692000000   \n",
       "       2011-10-31             1032000000   \n",
       "       2012-10-31             1043000000   \n",
       "...                                  ...   \n",
       "low    2015-02-28             4276000000   \n",
       "       2016-02-29             4419000000   \n",
       "       2017-02-28             5201000000   \n",
       "       2018-02-28             5489000000   \n",
       "       2019-02-28             3394000000   \n",
       "\n",
       "                    Income (Loss) from Continuing Operations  \n",
       "Ticker Report Date                                            \n",
       "A      2008-10-31                                  693000000  \n",
       "       2009-10-31                                  -31000000  \n",
       "       2010-10-31                                  684000000  \n",
       "       2011-10-31                                 1012000000  \n",
       "       2012-10-31                                 1153000000  \n",
       "...                                                      ...  \n",
       "low    2015-02-28                                 2698000000  \n",
       "       2016-02-29                                 2546000000  \n",
       "       2017-02-28                                 3093000000  \n",
       "       2018-02-28                                 3447000000  \n",
       "       2019-02-28                                 2314000000  \n",
       "\n",
       "[15560 rows x 4 columns]"
      ]
     },
     "execution_count": 22,
     "metadata": {},
     "output_type": "execute_result"
    }
   ],
   "source": [
    "data_income = us_income[['Interest Expense, Net', 'Income Tax (Expense) Benefit, Net',\n",
    "                         'Pretax Income (Loss)',\n",
    "                        'Income (Loss) from Continuing Operations']]\n",
    "data_income"
   ]
  },
  {
   "cell_type": "code",
   "execution_count": 23,
   "metadata": {},
   "outputs": [
    {
     "data": {
      "text/html": [
       "<div>\n",
       "<style scoped>\n",
       "    .dataframe tbody tr th:only-of-type {\n",
       "        vertical-align: middle;\n",
       "    }\n",
       "\n",
       "    .dataframe tbody tr th {\n",
       "        vertical-align: top;\n",
       "    }\n",
       "\n",
       "    .dataframe thead th {\n",
       "        text-align: right;\n",
       "    }\n",
       "</style>\n",
       "<table border=\"1\" class=\"dataframe\">\n",
       "  <thead>\n",
       "    <tr style=\"text-align: right;\">\n",
       "      <th></th>\n",
       "      <th></th>\n",
       "      <th>long term debt</th>\n",
       "      <th>fiscal year</th>\n",
       "      <th>short term debt</th>\n",
       "      <th>beta</th>\n",
       "      <th>coe</th>\n",
       "    </tr>\n",
       "    <tr>\n",
       "      <th>Ticker</th>\n",
       "      <th>Report Date</th>\n",
       "      <th></th>\n",
       "      <th></th>\n",
       "      <th></th>\n",
       "      <th></th>\n",
       "      <th></th>\n",
       "    </tr>\n",
       "  </thead>\n",
       "  <tbody>\n",
       "    <tr>\n",
       "      <th rowspan=\"5\" valign=\"top\">A</th>\n",
       "      <th>2008-10-31</th>\n",
       "      <td>2.125000e+09</td>\n",
       "      <td>2008</td>\n",
       "      <td>NaN</td>\n",
       "      <td>1.12</td>\n",
       "      <td>0.0866</td>\n",
       "    </tr>\n",
       "    <tr>\n",
       "      <th>2009-10-31</th>\n",
       "      <td>2.904000e+09</td>\n",
       "      <td>2009</td>\n",
       "      <td>1.000000e+06</td>\n",
       "      <td>1.12</td>\n",
       "      <td>0.0866</td>\n",
       "    </tr>\n",
       "    <tr>\n",
       "      <th>2010-10-31</th>\n",
       "      <td>2.190000e+09</td>\n",
       "      <td>2010</td>\n",
       "      <td>1.501000e+09</td>\n",
       "      <td>1.12</td>\n",
       "      <td>0.0866</td>\n",
       "    </tr>\n",
       "    <tr>\n",
       "      <th>2011-10-31</th>\n",
       "      <td>1.932000e+09</td>\n",
       "      <td>2011</td>\n",
       "      <td>2.530000e+08</td>\n",
       "      <td>1.12</td>\n",
       "      <td>0.0866</td>\n",
       "    </tr>\n",
       "    <tr>\n",
       "      <th>2012-10-31</th>\n",
       "      <td>2.112000e+09</td>\n",
       "      <td>2012</td>\n",
       "      <td>2.500000e+08</td>\n",
       "      <td>1.12</td>\n",
       "      <td>0.0866</td>\n",
       "    </tr>\n",
       "    <tr>\n",
       "      <th>...</th>\n",
       "      <th>...</th>\n",
       "      <td>...</td>\n",
       "      <td>...</td>\n",
       "      <td>...</td>\n",
       "      <td>...</td>\n",
       "      <td>...</td>\n",
       "    </tr>\n",
       "    <tr>\n",
       "      <th rowspan=\"5\" valign=\"top\">low</th>\n",
       "      <th>2015-02-28</th>\n",
       "      <td>1.080600e+10</td>\n",
       "      <td>2014</td>\n",
       "      <td>5.520000e+08</td>\n",
       "      <td>1.42</td>\n",
       "      <td>0.1031</td>\n",
       "    </tr>\n",
       "    <tr>\n",
       "      <th>2016-02-29</th>\n",
       "      <td>1.154500e+10</td>\n",
       "      <td>2015</td>\n",
       "      <td>1.104000e+09</td>\n",
       "      <td>1.42</td>\n",
       "      <td>0.1031</td>\n",
       "    </tr>\n",
       "    <tr>\n",
       "      <th>2017-02-28</th>\n",
       "      <td>1.439400e+10</td>\n",
       "      <td>2016</td>\n",
       "      <td>1.305000e+09</td>\n",
       "      <td>1.42</td>\n",
       "      <td>0.1031</td>\n",
       "    </tr>\n",
       "    <tr>\n",
       "      <th>2018-02-28</th>\n",
       "      <td>1.556400e+10</td>\n",
       "      <td>2017</td>\n",
       "      <td>1.431000e+09</td>\n",
       "      <td>1.42</td>\n",
       "      <td>0.1031</td>\n",
       "    </tr>\n",
       "    <tr>\n",
       "      <th>2019-02-28</th>\n",
       "      <td>1.439100e+10</td>\n",
       "      <td>2018</td>\n",
       "      <td>1.832000e+09</td>\n",
       "      <td>1.42</td>\n",
       "      <td>0.1031</td>\n",
       "    </tr>\n",
       "  </tbody>\n",
       "</table>\n",
       "<p>15560 rows × 5 columns</p>\n",
       "</div>"
      ],
      "text/plain": [
       "                    long term debt  fiscal year  short term debt  beta     coe\n",
       "Ticker Report Date                                                            \n",
       "A      2008-10-31     2.125000e+09         2008              NaN  1.12  0.0866\n",
       "       2009-10-31     2.904000e+09         2009     1.000000e+06  1.12  0.0866\n",
       "       2010-10-31     2.190000e+09         2010     1.501000e+09  1.12  0.0866\n",
       "       2011-10-31     1.932000e+09         2011     2.530000e+08  1.12  0.0866\n",
       "       2012-10-31     2.112000e+09         2012     2.500000e+08  1.12  0.0866\n",
       "...                            ...          ...              ...   ...     ...\n",
       "low    2015-02-28     1.080600e+10         2014     5.520000e+08  1.42  0.1031\n",
       "       2016-02-29     1.154500e+10         2015     1.104000e+09  1.42  0.1031\n",
       "       2017-02-28     1.439400e+10         2016     1.305000e+09  1.42  0.1031\n",
       "       2018-02-28     1.556400e+10         2017     1.431000e+09  1.42  0.1031\n",
       "       2019-02-28     1.439100e+10         2018     1.832000e+09  1.42  0.1031\n",
       "\n",
       "[15560 rows x 5 columns]"
      ]
     },
     "execution_count": 23,
     "metadata": {},
     "output_type": "execute_result"
    }
   ],
   "source": [
    "df"
   ]
  },
  {
   "cell_type": "code",
   "execution_count": 24,
   "metadata": {},
   "outputs": [],
   "source": [
    "df['weird tax rate'] = 1-(data_income['Income (Loss) from Continuing Operations']/data_income['Pretax Income (Loss)'])"
   ]
  },
  {
   "cell_type": "code",
   "execution_count": 25,
   "metadata": {},
   "outputs": [
    {
     "data": {
      "text/plain": [
       "Ticker  Report Date\n",
       "A       2008-10-31     0.149693\n",
       "        2009-10-31     5.428571\n",
       "        2010-10-31     0.011561\n",
       "        2011-10-31     0.019380\n",
       "        2012-10-31    -0.105465\n",
       "                         ...   \n",
       "low     2015-02-28     0.369036\n",
       "        2016-02-29     0.423852\n",
       "        2017-02-28     0.405307\n",
       "        2018-02-28     0.372017\n",
       "        2019-02-28     0.318209\n",
       "Name: weird tax rate, Length: 15560, dtype: float64"
      ]
     },
     "execution_count": 25,
     "metadata": {},
     "output_type": "execute_result"
    }
   ],
   "source": [
    "df['weird tax rate']"
   ]
  },
  {
   "cell_type": "code",
   "execution_count": 26,
   "metadata": {},
   "outputs": [],
   "source": [
    "tr = df.reset_index()\n",
    "tr = tr['weird tax rate']"
   ]
  },
  {
   "cell_type": "code",
   "execution_count": 27,
   "metadata": {},
   "outputs": [
    {
     "data": {
      "text/plain": [
       "0        0.149693\n",
       "1        5.428571\n",
       "2        0.011561\n",
       "3        0.019380\n",
       "4       -0.105465\n",
       "           ...   \n",
       "15555    0.369036\n",
       "15556    0.423852\n",
       "15557    0.405307\n",
       "15558    0.372017\n",
       "15559    0.318209\n",
       "Name: weird tax rate, Length: 15560, dtype: float64"
      ]
     },
     "execution_count": 27,
     "metadata": {},
     "output_type": "execute_result"
    }
   ],
   "source": [
    "tr"
   ]
  },
  {
   "cell_type": "code",
   "execution_count": 28,
   "metadata": {},
   "outputs": [],
   "source": [
    "tr = tr[(tr < 1) & (tr > -1) ]"
   ]
  },
  {
   "cell_type": "code",
   "execution_count": 29,
   "metadata": {},
   "outputs": [
    {
     "data": {
      "text/plain": [
       "[<matplotlib.lines.Line2D at 0x196f1766ee0>]"
      ]
     },
     "execution_count": 29,
     "metadata": {},
     "output_type": "execute_result"
    },
    {
     "data": {
      "image/png": "[encoded data removed]",
      "text/plain": [
       "<Figure size 432x288 with 1 Axes>"
      ]
     },
     "metadata": {
      "needs_background": "light"
     },
     "output_type": "display_data"
    }
   ],
   "source": [
    "import matplotlib.pyplot as plt\n",
    "plt.plot(tr)\n"
   ]
  },
  {
   "cell_type": "code",
   "execution_count": 30,
   "metadata": {},
   "outputs": [
    {
     "data": {
      "text/plain": [
       "count    14839.000000\n",
       "mean         0.194296\n",
       "std          0.228535\n",
       "min         -0.995344\n",
       "25%          0.005125\n",
       "50%          0.243860\n",
       "75%          0.349942\n",
       "max          0.991564\n",
       "Name: weird tax rate, dtype: float64"
      ]
     },
     "execution_count": 30,
     "metadata": {},
     "output_type": "execute_result"
    }
   ],
   "source": [
    "tr.describe()"
   ]
  },
  {
   "cell_type": "code",
   "execution_count": 31,
   "metadata": {},
   "outputs": [],
   "source": [
    "df['cod'] = (-data_income['Interest Expense, Net']/(df[\"short term debt\"]+df[\"long term debt\"]))* (1-0.21)"
   ]
  },
  {
   "cell_type": "code",
   "execution_count": 32,
   "metadata": {},
   "outputs": [
    {
     "name": "stdout",
     "output_type": "stream",
     "text": [
      "It is strange but  0.02 % of the data are negative, \n",
      "so we keep only positive\n"
     ]
    }
   ],
   "source": [
    "print(f\"It is strange but {len(df[df['cod'] <0])/len(df['cod']) : .2f} % of the data are negative, \\n\\\n",
    "so we keep only positive\")"
   ]
  },
  {
   "cell_type": "code",
   "execution_count": 33,
   "metadata": {},
   "outputs": [
    {
     "data": {
      "text/html": [
       "<div>\n",
       "<style scoped>\n",
       "    .dataframe tbody tr th:only-of-type {\n",
       "        vertical-align: middle;\n",
       "    }\n",
       "\n",
       "    .dataframe tbody tr th {\n",
       "        vertical-align: top;\n",
       "    }\n",
       "\n",
       "    .dataframe thead th {\n",
       "        text-align: right;\n",
       "    }\n",
       "</style>\n",
       "<table border=\"1\" class=\"dataframe\">\n",
       "  <thead>\n",
       "    <tr style=\"text-align: right;\">\n",
       "      <th></th>\n",
       "      <th></th>\n",
       "      <th>long term debt</th>\n",
       "      <th>fiscal year</th>\n",
       "      <th>short term debt</th>\n",
       "      <th>beta</th>\n",
       "      <th>coe</th>\n",
       "      <th>weird tax rate</th>\n",
       "      <th>cod</th>\n",
       "    </tr>\n",
       "    <tr>\n",
       "      <th>Ticker</th>\n",
       "      <th>Report Date</th>\n",
       "      <th></th>\n",
       "      <th></th>\n",
       "      <th></th>\n",
       "      <th></th>\n",
       "      <th></th>\n",
       "      <th></th>\n",
       "      <th></th>\n",
       "    </tr>\n",
       "  </thead>\n",
       "  <tbody>\n",
       "    <tr>\n",
       "      <th rowspan=\"5\" valign=\"top\">A</th>\n",
       "      <th>2008-10-31</th>\n",
       "      <td>2.125000e+09</td>\n",
       "      <td>2008</td>\n",
       "      <td>NaN</td>\n",
       "      <td>1.12</td>\n",
       "      <td>0.0866</td>\n",
       "      <td>0.149693</td>\n",
       "      <td>NaN</td>\n",
       "    </tr>\n",
       "    <tr>\n",
       "      <th>2009-10-31</th>\n",
       "      <td>2.904000e+09</td>\n",
       "      <td>2009</td>\n",
       "      <td>1.000000e+06</td>\n",
       "      <td>1.12</td>\n",
       "      <td>0.0866</td>\n",
       "      <td>5.428571</td>\n",
       "      <td>0.016045</td>\n",
       "    </tr>\n",
       "    <tr>\n",
       "      <th>2010-10-31</th>\n",
       "      <td>2.190000e+09</td>\n",
       "      <td>2010</td>\n",
       "      <td>1.501000e+09</td>\n",
       "      <td>1.12</td>\n",
       "      <td>0.0866</td>\n",
       "      <td>0.011561</td>\n",
       "      <td>0.016267</td>\n",
       "    </tr>\n",
       "    <tr>\n",
       "      <th>2011-10-31</th>\n",
       "      <td>1.932000e+09</td>\n",
       "      <td>2011</td>\n",
       "      <td>2.530000e+08</td>\n",
       "      <td>1.12</td>\n",
       "      <td>0.0866</td>\n",
       "      <td>0.019380</td>\n",
       "      <td>0.026032</td>\n",
       "    </tr>\n",
       "    <tr>\n",
       "      <th>2012-10-31</th>\n",
       "      <td>2.112000e+09</td>\n",
       "      <td>2012</td>\n",
       "      <td>2.500000e+08</td>\n",
       "      <td>1.12</td>\n",
       "      <td>0.0866</td>\n",
       "      <td>-0.105465</td>\n",
       "      <td>0.030771</td>\n",
       "    </tr>\n",
       "    <tr>\n",
       "      <th>...</th>\n",
       "      <th>...</th>\n",
       "      <td>...</td>\n",
       "      <td>...</td>\n",
       "      <td>...</td>\n",
       "      <td>...</td>\n",
       "      <td>...</td>\n",
       "      <td>...</td>\n",
       "      <td>...</td>\n",
       "    </tr>\n",
       "    <tr>\n",
       "      <th rowspan=\"5\" valign=\"top\">low</th>\n",
       "      <th>2015-02-28</th>\n",
       "      <td>1.080600e+10</td>\n",
       "      <td>2014</td>\n",
       "      <td>5.520000e+08</td>\n",
       "      <td>1.42</td>\n",
       "      <td>0.1031</td>\n",
       "      <td>0.369036</td>\n",
       "      <td>0.035890</td>\n",
       "    </tr>\n",
       "    <tr>\n",
       "      <th>2016-02-29</th>\n",
       "      <td>1.154500e+10</td>\n",
       "      <td>2015</td>\n",
       "      <td>1.104000e+09</td>\n",
       "      <td>1.42</td>\n",
       "      <td>0.1031</td>\n",
       "      <td>0.423852</td>\n",
       "      <td>0.034475</td>\n",
       "    </tr>\n",
       "    <tr>\n",
       "      <th>2017-02-28</th>\n",
       "      <td>1.439400e+10</td>\n",
       "      <td>2016</td>\n",
       "      <td>1.305000e+09</td>\n",
       "      <td>1.42</td>\n",
       "      <td>0.1031</td>\n",
       "      <td>0.405307</td>\n",
       "      <td>0.032457</td>\n",
       "    </tr>\n",
       "    <tr>\n",
       "      <th>2018-02-28</th>\n",
       "      <td>1.556400e+10</td>\n",
       "      <td>2017</td>\n",
       "      <td>1.431000e+09</td>\n",
       "      <td>1.42</td>\n",
       "      <td>0.1031</td>\n",
       "      <td>0.372017</td>\n",
       "      <td>0.029425</td>\n",
       "    </tr>\n",
       "    <tr>\n",
       "      <th>2019-02-28</th>\n",
       "      <td>1.439100e+10</td>\n",
       "      <td>2018</td>\n",
       "      <td>1.832000e+09</td>\n",
       "      <td>1.42</td>\n",
       "      <td>0.1031</td>\n",
       "      <td>0.318209</td>\n",
       "      <td>0.030386</td>\n",
       "    </tr>\n",
       "  </tbody>\n",
       "</table>\n",
       "<p>15560 rows × 7 columns</p>\n",
       "</div>"
      ],
      "text/plain": [
       "                    long term debt  fiscal year  short term debt  beta  \\\n",
       "Ticker Report Date                                                       \n",
       "A      2008-10-31     2.125000e+09         2008              NaN  1.12   \n",
       "       2009-10-31     2.904000e+09         2009     1.000000e+06  1.12   \n",
       "       2010-10-31     2.190000e+09         2010     1.501000e+09  1.12   \n",
       "       2011-10-31     1.932000e+09         2011     2.530000e+08  1.12   \n",
       "       2012-10-31     2.112000e+09         2012     2.500000e+08  1.12   \n",
       "...                            ...          ...              ...   ...   \n",
       "low    2015-02-28     1.080600e+10         2014     5.520000e+08  1.42   \n",
       "       2016-02-29     1.154500e+10         2015     1.104000e+09  1.42   \n",
       "       2017-02-28     1.439400e+10         2016     1.305000e+09  1.42   \n",
       "       2018-02-28     1.556400e+10         2017     1.431000e+09  1.42   \n",
       "       2019-02-28     1.439100e+10         2018     1.832000e+09  1.42   \n",
       "\n",
       "                       coe  weird tax rate       cod  \n",
       "Ticker Report Date                                    \n",
       "A      2008-10-31   0.0866        0.149693       NaN  \n",
       "       2009-10-31   0.0866        5.428571  0.016045  \n",
       "       2010-10-31   0.0866        0.011561  0.016267  \n",
       "       2011-10-31   0.0866        0.019380  0.026032  \n",
       "       2012-10-31   0.0866       -0.105465  0.030771  \n",
       "...                    ...             ...       ...  \n",
       "low    2015-02-28   0.1031        0.369036  0.035890  \n",
       "       2016-02-29   0.1031        0.423852  0.034475  \n",
       "       2017-02-28   0.1031        0.405307  0.032457  \n",
       "       2018-02-28   0.1031        0.372017  0.029425  \n",
       "       2019-02-28   0.1031        0.318209  0.030386  \n",
       "\n",
       "[15560 rows x 7 columns]"
      ]
     },
     "execution_count": 33,
     "metadata": {},
     "output_type": "execute_result"
    }
   ],
   "source": [
    "df"
   ]
  },
  {
   "cell_type": "code",
   "execution_count": 34,
   "metadata": {},
   "outputs": [
    {
     "data": {
      "text/html": [
       "<div>\n",
       "<style scoped>\n",
       "    .dataframe tbody tr th:only-of-type {\n",
       "        vertical-align: middle;\n",
       "    }\n",
       "\n",
       "    .dataframe tbody tr th {\n",
       "        vertical-align: top;\n",
       "    }\n",
       "\n",
       "    .dataframe thead th {\n",
       "        text-align: right;\n",
       "    }\n",
       "</style>\n",
       "<table border=\"1\" class=\"dataframe\">\n",
       "  <thead>\n",
       "    <tr style=\"text-align: right;\">\n",
       "      <th></th>\n",
       "      <th></th>\n",
       "      <th>Interest Expense, Net</th>\n",
       "      <th>Income Tax (Expense) Benefit, Net</th>\n",
       "      <th>Pretax Income (Loss)</th>\n",
       "      <th>Income (Loss) from Continuing Operations</th>\n",
       "    </tr>\n",
       "    <tr>\n",
       "      <th>Ticker</th>\n",
       "      <th>Report Date</th>\n",
       "      <th></th>\n",
       "      <th></th>\n",
       "      <th></th>\n",
       "      <th></th>\n",
       "    </tr>\n",
       "  </thead>\n",
       "  <tbody>\n",
       "    <tr>\n",
       "      <th>AAOI</th>\n",
       "      <th>2014-12-31</th>\n",
       "      <td>43000.0</td>\n",
       "      <td>-199000.0</td>\n",
       "      <td>4482000</td>\n",
       "      <td>4283000</td>\n",
       "    </tr>\n",
       "    <tr>\n",
       "      <th rowspan=\"4\" valign=\"top\">AAON</th>\n",
       "      <th>2010-12-31</th>\n",
       "      <td>213000.0</td>\n",
       "      <td>-10799000.0</td>\n",
       "      <td>32693000</td>\n",
       "      <td>21894000</td>\n",
       "    </tr>\n",
       "    <tr>\n",
       "      <th>2012-12-31</th>\n",
       "      <td>42000.0</td>\n",
       "      <td>-16868000.0</td>\n",
       "      <td>44317000</td>\n",
       "      <td>27449000</td>\n",
       "    </tr>\n",
       "    <tr>\n",
       "      <th>2013-12-31</th>\n",
       "      <td>221000.0</td>\n",
       "      <td>-18747000.0</td>\n",
       "      <td>56294000</td>\n",
       "      <td>37547000</td>\n",
       "    </tr>\n",
       "    <tr>\n",
       "      <th>2014-12-31</th>\n",
       "      <td>276000.0</td>\n",
       "      <td>-24088000.0</td>\n",
       "      <td>68246000</td>\n",
       "      <td>44158000</td>\n",
       "    </tr>\n",
       "    <tr>\n",
       "      <th>...</th>\n",
       "      <th>...</th>\n",
       "      <td>...</td>\n",
       "      <td>...</td>\n",
       "      <td>...</td>\n",
       "      <td>...</td>\n",
       "    </tr>\n",
       "    <tr>\n",
       "      <th>ZUMZ</th>\n",
       "      <th>2019-02-28</th>\n",
       "      <td>1692000.0</td>\n",
       "      <td>-17125000.0</td>\n",
       "      <td>62330000</td>\n",
       "      <td>45205000</td>\n",
       "    </tr>\n",
       "    <tr>\n",
       "      <th rowspan=\"4\" valign=\"top\">ZYNE</th>\n",
       "      <th>2015-12-31</th>\n",
       "      <td>7352.0</td>\n",
       "      <td>-27543.0</td>\n",
       "      <td>-12523807</td>\n",
       "      <td>-12551350</td>\n",
       "    </tr>\n",
       "    <tr>\n",
       "      <th>2016-12-31</th>\n",
       "      <td>80222.0</td>\n",
       "      <td>27543.0</td>\n",
       "      <td>-23416050</td>\n",
       "      <td>-23388507</td>\n",
       "    </tr>\n",
       "    <tr>\n",
       "      <th>2017-12-31</th>\n",
       "      <td>519554.0</td>\n",
       "      <td>0.0</td>\n",
       "      <td>-32012304</td>\n",
       "      <td>-32012304</td>\n",
       "    </tr>\n",
       "    <tr>\n",
       "      <th>2018-12-31</th>\n",
       "      <td>961323.0</td>\n",
       "      <td>0.0</td>\n",
       "      <td>-39911175</td>\n",
       "      <td>-39911175</td>\n",
       "    </tr>\n",
       "  </tbody>\n",
       "</table>\n",
       "<p>1719 rows × 4 columns</p>\n",
       "</div>"
      ],
      "text/plain": [
       "                    Interest Expense, Net  Income Tax (Expense) Benefit, Net  \\\n",
       "Ticker Report Date                                                             \n",
       "AAOI   2014-12-31                 43000.0                          -199000.0   \n",
       "AAON   2010-12-31                213000.0                        -10799000.0   \n",
       "       2012-12-31                 42000.0                        -16868000.0   \n",
       "       2013-12-31                221000.0                        -18747000.0   \n",
       "       2014-12-31                276000.0                        -24088000.0   \n",
       "...                                   ...                                ...   \n",
       "ZUMZ   2019-02-28               1692000.0                        -17125000.0   \n",
       "ZYNE   2015-12-31                  7352.0                           -27543.0   \n",
       "       2016-12-31                 80222.0                            27543.0   \n",
       "       2017-12-31                519554.0                                0.0   \n",
       "       2018-12-31                961323.0                                0.0   \n",
       "\n",
       "                    Pretax Income (Loss)  \\\n",
       "Ticker Report Date                         \n",
       "AAOI   2014-12-31                4482000   \n",
       "AAON   2010-12-31               32693000   \n",
       "       2012-12-31               44317000   \n",
       "       2013-12-31               56294000   \n",
       "       2014-12-31               68246000   \n",
       "...                                  ...   \n",
       "ZUMZ   2019-02-28               62330000   \n",
       "ZYNE   2015-12-31              -12523807   \n",
       "       2016-12-31              -23416050   \n",
       "       2017-12-31              -32012304   \n",
       "       2018-12-31              -39911175   \n",
       "\n",
       "                    Income (Loss) from Continuing Operations  \n",
       "Ticker Report Date                                            \n",
       "AAOI   2014-12-31                                    4283000  \n",
       "AAON   2010-12-31                                   21894000  \n",
       "       2012-12-31                                   27449000  \n",
       "       2013-12-31                                   37547000  \n",
       "       2014-12-31                                   44158000  \n",
       "...                                                      ...  \n",
       "ZUMZ   2019-02-28                                   45205000  \n",
       "ZYNE   2015-12-31                                  -12551350  \n",
       "       2016-12-31                                  -23388507  \n",
       "       2017-12-31                                  -32012304  \n",
       "       2018-12-31                                  -39911175  \n",
       "\n",
       "[1719 rows x 4 columns]"
      ]
     },
     "execution_count": 34,
     "metadata": {},
     "output_type": "execute_result"
    }
   ],
   "source": [
    "data_income[data_income['Interest Expense, Net']>0]"
   ]
  },
  {
   "cell_type": "markdown",
   "metadata": {},
   "source": [
    "__Cost of Debt :__"
   ]
  },
  {
   "cell_type": "code",
   "execution_count": 35,
   "metadata": {},
   "outputs": [
    {
     "data": {
      "text/plain": [
       "Ticker  Report Date\n",
       "A       2008-10-31          NaN\n",
       "        2009-10-31     0.016045\n",
       "        2010-10-31     0.016267\n",
       "        2011-10-31     0.026032\n",
       "        2012-10-31     0.030771\n",
       "                         ...   \n",
       "low     2015-02-28     0.035890\n",
       "        2016-02-29     0.034475\n",
       "        2017-02-28     0.032457\n",
       "        2018-02-28     0.029425\n",
       "        2019-02-28     0.030386\n",
       "Name: cod, Length: 15560, dtype: float64"
      ]
     },
     "execution_count": 35,
     "metadata": {},
     "output_type": "execute_result"
    }
   ],
   "source": [
    "df.cod"
   ]
  },
  {
   "cell_type": "markdown",
   "metadata": {},
   "source": [
    "A Faire :\n",
    "\n",
    "- pour le Cost of Debt, ne prendre que les resultats des dernière pour les entreprises."
   ]
  },
  {
   "cell_type": "code",
   "execution_count": 36,
   "metadata": {},
   "outputs": [],
   "source": [
    "last_data = df[df.index.get_level_values('Report Date') >= '2017-06-01']"
   ]
  },
  {
   "cell_type": "code",
   "execution_count": 37,
   "metadata": {},
   "outputs": [
    {
     "data": {
      "text/html": [
       "<div>\n",
       "<style scoped>\n",
       "    .dataframe tbody tr th:only-of-type {\n",
       "        vertical-align: middle;\n",
       "    }\n",
       "\n",
       "    .dataframe tbody tr th {\n",
       "        vertical-align: top;\n",
       "    }\n",
       "\n",
       "    .dataframe thead th {\n",
       "        text-align: right;\n",
       "    }\n",
       "</style>\n",
       "<table border=\"1\" class=\"dataframe\">\n",
       "  <thead>\n",
       "    <tr style=\"text-align: right;\">\n",
       "      <th></th>\n",
       "      <th></th>\n",
       "      <th>long term debt</th>\n",
       "      <th>fiscal year</th>\n",
       "      <th>short term debt</th>\n",
       "      <th>beta</th>\n",
       "      <th>coe</th>\n",
       "      <th>weird tax rate</th>\n",
       "      <th>cod</th>\n",
       "    </tr>\n",
       "    <tr>\n",
       "      <th>Ticker</th>\n",
       "      <th>Report Date</th>\n",
       "      <th></th>\n",
       "      <th></th>\n",
       "      <th></th>\n",
       "      <th></th>\n",
       "      <th></th>\n",
       "      <th></th>\n",
       "      <th></th>\n",
       "    </tr>\n",
       "  </thead>\n",
       "  <tbody>\n",
       "    <tr>\n",
       "      <th rowspan=\"2\" valign=\"top\">A</th>\n",
       "      <th>2017-10-31</th>\n",
       "      <td>1.801000e+09</td>\n",
       "      <td>2017</td>\n",
       "      <td>2.100000e+08</td>\n",
       "      <td>1.12</td>\n",
       "      <td>0.08660</td>\n",
       "      <td>0.148194</td>\n",
       "      <td>0.022392</td>\n",
       "    </tr>\n",
       "    <tr>\n",
       "      <th>2018-10-31</th>\n",
       "      <td>1.799000e+09</td>\n",
       "      <td>2018</td>\n",
       "      <td>0.000000e+00</td>\n",
       "      <td>1.12</td>\n",
       "      <td>0.08660</td>\n",
       "      <td>0.665962</td>\n",
       "      <td>0.016248</td>\n",
       "    </tr>\n",
       "    <tr>\n",
       "      <th rowspan=\"2\" valign=\"top\">AA</th>\n",
       "      <th>2017-12-31</th>\n",
       "      <td>1.388000e+09</td>\n",
       "      <td>2017</td>\n",
       "      <td>1.600000e+07</td>\n",
       "      <td>2.28</td>\n",
       "      <td>0.15040</td>\n",
       "      <td>0.517688</td>\n",
       "      <td>0.058519</td>\n",
       "    </tr>\n",
       "    <tr>\n",
       "      <th>2018-12-31</th>\n",
       "      <td>1.801000e+09</td>\n",
       "      <td>2018</td>\n",
       "      <td>1.000000e+06</td>\n",
       "      <td>2.28</td>\n",
       "      <td>0.15040</td>\n",
       "      <td>0.454602</td>\n",
       "      <td>0.053485</td>\n",
       "    </tr>\n",
       "    <tr>\n",
       "      <th>AAL</th>\n",
       "      <th>2017-12-31</th>\n",
       "      <td>2.251100e+10</td>\n",
       "      <td>2017</td>\n",
       "      <td>2.554000e+09</td>\n",
       "      <td>1.73</td>\n",
       "      <td>0.12015</td>\n",
       "      <td>0.377756</td>\n",
       "      <td>0.030226</td>\n",
       "    </tr>\n",
       "    <tr>\n",
       "      <th>...</th>\n",
       "      <th>...</th>\n",
       "      <td>...</td>\n",
       "      <td>...</td>\n",
       "      <td>...</td>\n",
       "      <td>...</td>\n",
       "      <td>...</td>\n",
       "      <td>...</td>\n",
       "      <td>...</td>\n",
       "    </tr>\n",
       "    <tr>\n",
       "      <th>ZYNE</th>\n",
       "      <th>2018-12-31</th>\n",
       "      <td>NaN</td>\n",
       "      <td>2018</td>\n",
       "      <td>NaN</td>\n",
       "      <td>3.09</td>\n",
       "      <td>0.19495</td>\n",
       "      <td>0.000000</td>\n",
       "      <td>NaN</td>\n",
       "    </tr>\n",
       "    <tr>\n",
       "      <th rowspan=\"2\" valign=\"top\">ZYXI</th>\n",
       "      <th>2017-12-31</th>\n",
       "      <td>NaN</td>\n",
       "      <td>2017</td>\n",
       "      <td>3.540000e+05</td>\n",
       "      <td>1.08</td>\n",
       "      <td>0.08440</td>\n",
       "      <td>0.017214</td>\n",
       "      <td>NaN</td>\n",
       "    </tr>\n",
       "    <tr>\n",
       "      <th>2018-12-31</th>\n",
       "      <td>2.967000e+06</td>\n",
       "      <td>2018</td>\n",
       "      <td>NaN</td>\n",
       "      <td>1.08</td>\n",
       "      <td>0.08440</td>\n",
       "      <td>0.064996</td>\n",
       "      <td>NaN</td>\n",
       "    </tr>\n",
       "    <tr>\n",
       "      <th rowspan=\"2\" valign=\"top\">low</th>\n",
       "      <th>2018-02-28</th>\n",
       "      <td>1.556400e+10</td>\n",
       "      <td>2017</td>\n",
       "      <td>1.431000e+09</td>\n",
       "      <td>1.42</td>\n",
       "      <td>0.10310</td>\n",
       "      <td>0.372017</td>\n",
       "      <td>0.029425</td>\n",
       "    </tr>\n",
       "    <tr>\n",
       "      <th>2019-02-28</th>\n",
       "      <td>1.439100e+10</td>\n",
       "      <td>2018</td>\n",
       "      <td>1.832000e+09</td>\n",
       "      <td>1.42</td>\n",
       "      <td>0.10310</td>\n",
       "      <td>0.318209</td>\n",
       "      <td>0.030386</td>\n",
       "    </tr>\n",
       "  </tbody>\n",
       "</table>\n",
       "<p>3578 rows × 7 columns</p>\n",
       "</div>"
      ],
      "text/plain": [
       "                    long term debt  fiscal year  short term debt  beta  \\\n",
       "Ticker Report Date                                                       \n",
       "A      2017-10-31     1.801000e+09         2017     2.100000e+08  1.12   \n",
       "       2018-10-31     1.799000e+09         2018     0.000000e+00  1.12   \n",
       "AA     2017-12-31     1.388000e+09         2017     1.600000e+07  2.28   \n",
       "       2018-12-31     1.801000e+09         2018     1.000000e+06  2.28   \n",
       "AAL    2017-12-31     2.251100e+10         2017     2.554000e+09  1.73   \n",
       "...                            ...          ...              ...   ...   \n",
       "ZYNE   2018-12-31              NaN         2018              NaN  3.09   \n",
       "ZYXI   2017-12-31              NaN         2017     3.540000e+05  1.08   \n",
       "       2018-12-31     2.967000e+06         2018              NaN  1.08   \n",
       "low    2018-02-28     1.556400e+10         2017     1.431000e+09  1.42   \n",
       "       2019-02-28     1.439100e+10         2018     1.832000e+09  1.42   \n",
       "\n",
       "                        coe  weird tax rate       cod  \n",
       "Ticker Report Date                                     \n",
       "A      2017-10-31   0.08660        0.148194  0.022392  \n",
       "       2018-10-31   0.08660        0.665962  0.016248  \n",
       "AA     2017-12-31   0.15040        0.517688  0.058519  \n",
       "       2018-12-31   0.15040        0.454602  0.053485  \n",
       "AAL    2017-12-31   0.12015        0.377756  0.030226  \n",
       "...                     ...             ...       ...  \n",
       "ZYNE   2018-12-31   0.19495        0.000000       NaN  \n",
       "ZYXI   2017-12-31   0.08440        0.017214       NaN  \n",
       "       2018-12-31   0.08440        0.064996       NaN  \n",
       "low    2018-02-28   0.10310        0.372017  0.029425  \n",
       "       2019-02-28   0.10310        0.318209  0.030386  \n",
       "\n",
       "[3578 rows x 7 columns]"
      ]
     },
     "execution_count": 37,
     "metadata": {},
     "output_type": "execute_result"
    }
   ],
   "source": [
    "last_data"
   ]
  },
  {
   "cell_type": "code",
   "execution_count": 38,
   "metadata": {},
   "outputs": [],
   "source": [
    "last_data = last_data.groupby(level='Ticker').tail(1)"
   ]
  },
  {
   "cell_type": "code",
   "execution_count": 39,
   "metadata": {
    "scrolled": true
   },
   "outputs": [],
   "source": [
    "last_data = last_data[~last_data[\"cod\"].isna()]"
   ]
  },
  {
   "cell_type": "markdown",
   "metadata": {},
   "source": [
    "On laisse nos capm negatif mais ca ne devrait pas exister."
   ]
  },
  {
   "cell_type": "code",
   "execution_count": 40,
   "metadata": {},
   "outputs": [],
   "source": [
    "last_data = last_data[~last_data[\"coe\"].isna()]\n",
    "last_data = last_data[last_data[\"coe\"] > 0]"
   ]
  },
  {
   "cell_type": "code",
   "execution_count": 41,
   "metadata": {},
   "outputs": [
    {
     "data": {
      "text/html": [
       "<div>\n",
       "<style scoped>\n",
       "    .dataframe tbody tr th:only-of-type {\n",
       "        vertical-align: middle;\n",
       "    }\n",
       "\n",
       "    .dataframe tbody tr th {\n",
       "        vertical-align: top;\n",
       "    }\n",
       "\n",
       "    .dataframe thead th {\n",
       "        text-align: right;\n",
       "    }\n",
       "</style>\n",
       "<table border=\"1\" class=\"dataframe\">\n",
       "  <thead>\n",
       "    <tr style=\"text-align: right;\">\n",
       "      <th></th>\n",
       "      <th></th>\n",
       "      <th>long term debt</th>\n",
       "      <th>fiscal year</th>\n",
       "      <th>short term debt</th>\n",
       "      <th>beta</th>\n",
       "      <th>coe</th>\n",
       "      <th>weird tax rate</th>\n",
       "      <th>cod</th>\n",
       "    </tr>\n",
       "    <tr>\n",
       "      <th>Ticker</th>\n",
       "      <th>Report Date</th>\n",
       "      <th></th>\n",
       "      <th></th>\n",
       "      <th></th>\n",
       "      <th></th>\n",
       "      <th></th>\n",
       "      <th></th>\n",
       "      <th></th>\n",
       "    </tr>\n",
       "  </thead>\n",
       "  <tbody>\n",
       "    <tr>\n",
       "      <th>A</th>\n",
       "      <th>2018-10-31</th>\n",
       "      <td>1.799000e+09</td>\n",
       "      <td>2018</td>\n",
       "      <td>0.000000e+00</td>\n",
       "      <td>1.12</td>\n",
       "      <td>0.08660</td>\n",
       "      <td>0.665962</td>\n",
       "      <td>0.016248</td>\n",
       "    </tr>\n",
       "    <tr>\n",
       "      <th>AA</th>\n",
       "      <th>2018-12-31</th>\n",
       "      <td>1.801000e+09</td>\n",
       "      <td>2018</td>\n",
       "      <td>1.000000e+06</td>\n",
       "      <td>2.28</td>\n",
       "      <td>0.15040</td>\n",
       "      <td>0.454602</td>\n",
       "      <td>0.053485</td>\n",
       "    </tr>\n",
       "    <tr>\n",
       "      <th>AAL</th>\n",
       "      <th>2018-12-31</th>\n",
       "      <td>2.117900e+10</td>\n",
       "      <td>2018</td>\n",
       "      <td>3.294000e+09</td>\n",
       "      <td>1.73</td>\n",
       "      <td>0.12015</td>\n",
       "      <td>0.250531</td>\n",
       "      <td>0.030279</td>\n",
       "    </tr>\n",
       "    <tr>\n",
       "      <th>AAOI</th>\n",
       "      <th>2018-12-31</th>\n",
       "      <td>6.032800e+07</td>\n",
       "      <td>2018</td>\n",
       "      <td>2.358900e+07</td>\n",
       "      <td>1.98</td>\n",
       "      <td>0.13390</td>\n",
       "      <td>0.780528</td>\n",
       "      <td>0.007757</td>\n",
       "    </tr>\n",
       "    <tr>\n",
       "      <th>AAWW</th>\n",
       "      <th>2018-12-31</th>\n",
       "      <td>2.205005e+09</td>\n",
       "      <td>2018</td>\n",
       "      <td>2.648350e+08</td>\n",
       "      <td>1.69</td>\n",
       "      <td>0.11795</td>\n",
       "      <td>0.125179</td>\n",
       "      <td>0.036038</td>\n",
       "    </tr>\n",
       "    <tr>\n",
       "      <th>...</th>\n",
       "      <th>...</th>\n",
       "      <td>...</td>\n",
       "      <td>...</td>\n",
       "      <td>...</td>\n",
       "      <td>...</td>\n",
       "      <td>...</td>\n",
       "      <td>...</td>\n",
       "      <td>...</td>\n",
       "    </tr>\n",
       "    <tr>\n",
       "      <th>YGYI</th>\n",
       "      <th>2018-12-31</th>\n",
       "      <td>8.736000e+06</td>\n",
       "      <td>2018</td>\n",
       "      <td>1.956000e+06</td>\n",
       "      <td>2.54</td>\n",
       "      <td>0.16470</td>\n",
       "      <td>-0.021166</td>\n",
       "      <td>0.486472</td>\n",
       "    </tr>\n",
       "    <tr>\n",
       "      <th>YUM</th>\n",
       "      <th>2018-12-31</th>\n",
       "      <td>9.751000e+09</td>\n",
       "      <td>2018</td>\n",
       "      <td>3.210000e+08</td>\n",
       "      <td>0.87</td>\n",
       "      <td>0.07285</td>\n",
       "      <td>0.161501</td>\n",
       "      <td>0.035453</td>\n",
       "    </tr>\n",
       "    <tr>\n",
       "      <th>ZBH</th>\n",
       "      <th>2018-12-31</th>\n",
       "      <td>8.413700e+09</td>\n",
       "      <td>2018</td>\n",
       "      <td>5.250000e+08</td>\n",
       "      <td>1.31</td>\n",
       "      <td>0.09705</td>\n",
       "      <td>-0.399115</td>\n",
       "      <td>0.025568</td>\n",
       "    </tr>\n",
       "    <tr>\n",
       "      <th>ZTS</th>\n",
       "      <th>2018-12-31</th>\n",
       "      <td>6.443000e+09</td>\n",
       "      <td>2018</td>\n",
       "      <td>9.000000e+06</td>\n",
       "      <td>0.77</td>\n",
       "      <td>0.06735</td>\n",
       "      <td>0.157396</td>\n",
       "      <td>0.025223</td>\n",
       "    </tr>\n",
       "    <tr>\n",
       "      <th>low</th>\n",
       "      <th>2019-02-28</th>\n",
       "      <td>1.439100e+10</td>\n",
       "      <td>2018</td>\n",
       "      <td>1.832000e+09</td>\n",
       "      <td>1.42</td>\n",
       "      <td>0.10310</td>\n",
       "      <td>0.318209</td>\n",
       "      <td>0.030386</td>\n",
       "    </tr>\n",
       "  </tbody>\n",
       "</table>\n",
       "<p>775 rows × 7 columns</p>\n",
       "</div>"
      ],
      "text/plain": [
       "                    long term debt  fiscal year  short term debt  beta  \\\n",
       "Ticker Report Date                                                       \n",
       "A      2018-10-31     1.799000e+09         2018     0.000000e+00  1.12   \n",
       "AA     2018-12-31     1.801000e+09         2018     1.000000e+06  2.28   \n",
       "AAL    2018-12-31     2.117900e+10         2018     3.294000e+09  1.73   \n",
       "AAOI   2018-12-31     6.032800e+07         2018     2.358900e+07  1.98   \n",
       "AAWW   2018-12-31     2.205005e+09         2018     2.648350e+08  1.69   \n",
       "...                            ...          ...              ...   ...   \n",
       "YGYI   2018-12-31     8.736000e+06         2018     1.956000e+06  2.54   \n",
       "YUM    2018-12-31     9.751000e+09         2018     3.210000e+08  0.87   \n",
       "ZBH    2018-12-31     8.413700e+09         2018     5.250000e+08  1.31   \n",
       "ZTS    2018-12-31     6.443000e+09         2018     9.000000e+06  0.77   \n",
       "low    2019-02-28     1.439100e+10         2018     1.832000e+09  1.42   \n",
       "\n",
       "                        coe  weird tax rate       cod  \n",
       "Ticker Report Date                                     \n",
       "A      2018-10-31   0.08660        0.665962  0.016248  \n",
       "AA     2018-12-31   0.15040        0.454602  0.053485  \n",
       "AAL    2018-12-31   0.12015        0.250531  0.030279  \n",
       "AAOI   2018-12-31   0.13390        0.780528  0.007757  \n",
       "AAWW   2018-12-31   0.11795        0.125179  0.036038  \n",
       "...                     ...             ...       ...  \n",
       "YGYI   2018-12-31   0.16470       -0.021166  0.486472  \n",
       "YUM    2018-12-31   0.07285        0.161501  0.035453  \n",
       "ZBH    2018-12-31   0.09705       -0.399115  0.025568  \n",
       "ZTS    2018-12-31   0.06735        0.157396  0.025223  \n",
       "low    2019-02-28   0.10310        0.318209  0.030386  \n",
       "\n",
       "[775 rows x 7 columns]"
      ]
     },
     "execution_count": 41,
     "metadata": {},
     "output_type": "execute_result"
    }
   ],
   "source": [
    "last_data"
   ]
  },
  {
   "cell_type": "markdown",
   "metadata": {},
   "source": [
    "## Compute the Wacc"
   ]
  },
  {
   "cell_type": "markdown",
   "metadata": {},
   "source": [
    "![alt text](wacc.PNG \"Title\")\n"
   ]
  },
  {
   "cell_type": "markdown",
   "metadata": {},
   "source": [
    "Use the data since 2017 for example, but only use 1 time each company"
   ]
  },
  {
   "cell_type": "code",
   "execution_count": 42,
   "metadata": {},
   "outputs": [],
   "source": [
    "# shareprices = sf.load_shareprices(variant='daily', market='us')\n",
    "# shareprices = shareprices[~shareprices.index.isin(list(set(shareprices.index) - set(last_data.index)))]\n",
    "# print(f\"here we lose {100*(1- len(shareprices)/len(last_data))} % of the data\")"
   ]
  },
  {
   "cell_type": "code",
   "execution_count": 43,
   "metadata": {},
   "outputs": [],
   "source": [
    "# columns_to_keep = ['Close', \"Shares Outstanding\"]\n",
    "# shareprices = shareprices[columns_to_keep]\n",
    "# shareprices = shareprices.dropna()\n",
    "\n",
    "# last_data = pd.merge(left=shareprices.reset_index(), right = last_data.reset_index(),\n",
    "#               left_on = 'Ticker',  right_on = 'Ticker',\n",
    "#               how='left')\n",
    "# last_data.set_index(['Ticker','Date'], inplace = True)\n",
    "# last_data['market cap'] = last_data['Shares Outstanding'] * last_data['Close']\n",
    "# last_data['Wacc'] = (last_data['market cap']/(last_data['market cap']+last_data['total debt']))*\\\n",
    "#                      last_data['coe'] +\\\n",
    "#                      (last_data['total debt']/(last_data['market cap']+last_data['total debt']))*\\\n",
    "#                      last_data['cod'] * (1-0.21)"
   ]
  },
  {
   "cell_type": "code",
   "execution_count": 44,
   "metadata": {},
   "outputs": [],
   "source": [
    "#last_data.to_csv('df_wacc.csv')\n",
    "last_data = pd.read_csv('df_wacc.csv')"
   ]
  },
  {
   "cell_type": "code",
   "execution_count": 45,
   "metadata": {},
   "outputs": [
    {
     "data": {
      "text/html": [
       "<div>\n",
       "<style scoped>\n",
       "    .dataframe tbody tr th:only-of-type {\n",
       "        vertical-align: middle;\n",
       "    }\n",
       "\n",
       "    .dataframe tbody tr th {\n",
       "        vertical-align: top;\n",
       "    }\n",
       "\n",
       "    .dataframe thead th {\n",
       "        text-align: right;\n",
       "    }\n",
       "</style>\n",
       "<table border=\"1\" class=\"dataframe\">\n",
       "  <thead>\n",
       "    <tr style=\"text-align: right;\">\n",
       "      <th></th>\n",
       "      <th>Ticker</th>\n",
       "      <th>Date</th>\n",
       "      <th>Close</th>\n",
       "      <th>Shares Outstanding</th>\n",
       "      <th>Report Date</th>\n",
       "      <th>total debt</th>\n",
       "      <th>long term debt</th>\n",
       "      <th>fiscal year</th>\n",
       "      <th>beta</th>\n",
       "      <th>coe</th>\n",
       "      <th>weird tax rate</th>\n",
       "      <th>cod</th>\n",
       "      <th>market cap</th>\n",
       "      <th>Wacc</th>\n",
       "    </tr>\n",
       "  </thead>\n",
       "  <tbody>\n",
       "    <tr>\n",
       "      <th>0</th>\n",
       "      <td>A</td>\n",
       "      <td>2018-10-31</td>\n",
       "      <td>64.79</td>\n",
       "      <td>318000000.0</td>\n",
       "      <td>2018-10-31</td>\n",
       "      <td>3970000000</td>\n",
       "      <td>1.799000e+09</td>\n",
       "      <td>2018</td>\n",
       "      <td>1.12</td>\n",
       "      <td>0.08660</td>\n",
       "      <td>0.665962</td>\n",
       "      <td>0.007363</td>\n",
       "      <td>2.060322e+10</td>\n",
       "      <td>0.073549</td>\n",
       "    </tr>\n",
       "    <tr>\n",
       "      <th>1</th>\n",
       "      <td>AA</td>\n",
       "      <td>2018-12-31</td>\n",
       "      <td>26.58</td>\n",
       "      <td>184770249.0</td>\n",
       "      <td>2018-12-31</td>\n",
       "      <td>8544000000</td>\n",
       "      <td>1.801000e+09</td>\n",
       "      <td>2018</td>\n",
       "      <td>2.28</td>\n",
       "      <td>0.15040</td>\n",
       "      <td>0.454602</td>\n",
       "      <td>0.011280</td>\n",
       "      <td>4.911193e+09</td>\n",
       "      <td>0.060555</td>\n",
       "    </tr>\n",
       "    <tr>\n",
       "      <th>2</th>\n",
       "      <td>AAL</td>\n",
       "      <td>2018-12-31</td>\n",
       "      <td>32.11</td>\n",
       "      <td>460610870.0</td>\n",
       "      <td>2018-12-31</td>\n",
       "      <td>60749000000</td>\n",
       "      <td>2.117900e+10</td>\n",
       "      <td>2018</td>\n",
       "      <td>1.73</td>\n",
       "      <td>0.12015</td>\n",
       "      <td>0.250531</td>\n",
       "      <td>0.012198</td>\n",
       "      <td>1.479022e+10</td>\n",
       "      <td>0.031274</td>\n",
       "    </tr>\n",
       "    <tr>\n",
       "      <th>3</th>\n",
       "      <td>AAN</td>\n",
       "      <td>2018-12-31</td>\n",
       "      <td>42.05</td>\n",
       "      <td>68594784.0</td>\n",
       "      <td>2018-12-31</td>\n",
       "      <td>1065984000</td>\n",
       "      <td>4.247520e+08</td>\n",
       "      <td>2018</td>\n",
       "      <td>1.62</td>\n",
       "      <td>0.11410</td>\n",
       "      <td>0.222019</td>\n",
       "      <td>0.011847</td>\n",
       "      <td>2.884411e+09</td>\n",
       "      <td>0.085837</td>\n",
       "    </tr>\n",
       "    <tr>\n",
       "      <th>4</th>\n",
       "      <td>AAOI</td>\n",
       "      <td>2018-12-31</td>\n",
       "      <td>15.43</td>\n",
       "      <td>19810000.0</td>\n",
       "      <td>2018-12-31</td>\n",
       "      <td>137746000</td>\n",
       "      <td>6.032800e+07</td>\n",
       "      <td>2018</td>\n",
       "      <td>1.98</td>\n",
       "      <td>0.13390</td>\n",
       "      <td>0.780528</td>\n",
       "      <td>0.004726</td>\n",
       "      <td>3.056683e+08</td>\n",
       "      <td>0.093464</td>\n",
       "    </tr>\n",
       "    <tr>\n",
       "      <th>...</th>\n",
       "      <td>...</td>\n",
       "      <td>...</td>\n",
       "      <td>...</td>\n",
       "      <td>...</td>\n",
       "      <td>...</td>\n",
       "      <td>...</td>\n",
       "      <td>...</td>\n",
       "      <td>...</td>\n",
       "      <td>...</td>\n",
       "      <td>...</td>\n",
       "      <td>...</td>\n",
       "      <td>...</td>\n",
       "      <td>...</td>\n",
       "      <td>...</td>\n",
       "    </tr>\n",
       "    <tr>\n",
       "      <th>964</th>\n",
       "      <td>ZTS</td>\n",
       "      <td>2018-12-31</td>\n",
       "      <td>85.54</td>\n",
       "      <td>479562326.0</td>\n",
       "      <td>2018-12-31</td>\n",
       "      <td>8592000000</td>\n",
       "      <td>6.443000e+09</td>\n",
       "      <td>2018</td>\n",
       "      <td>0.77</td>\n",
       "      <td>0.06735</td>\n",
       "      <td>0.157396</td>\n",
       "      <td>0.018941</td>\n",
       "      <td>4.102176e+10</td>\n",
       "      <td>0.058278</td>\n",
       "    </tr>\n",
       "    <tr>\n",
       "      <th>965</th>\n",
       "      <td>ZUMZ</td>\n",
       "      <td>2019-02-28</td>\n",
       "      <td>24.70</td>\n",
       "      <td>25521000.0</td>\n",
       "      <td>2019-02-28</td>\n",
       "      <td>133734000</td>\n",
       "      <td>NaN</td>\n",
       "      <td>2018</td>\n",
       "      <td>1.82</td>\n",
       "      <td>0.12510</td>\n",
       "      <td>0.274747</td>\n",
       "      <td>-0.009995</td>\n",
       "      <td>6.303687e+08</td>\n",
       "      <td>0.101823</td>\n",
       "    </tr>\n",
       "    <tr>\n",
       "      <th>966</th>\n",
       "      <td>ZYNE</td>\n",
       "      <td>2018-12-31</td>\n",
       "      <td>2.97</td>\n",
       "      <td>17626873.0</td>\n",
       "      <td>2018-12-31</td>\n",
       "      <td>9725782</td>\n",
       "      <td>NaN</td>\n",
       "      <td>2018</td>\n",
       "      <td>3.09</td>\n",
       "      <td>0.19495</td>\n",
       "      <td>0.000000</td>\n",
       "      <td>-0.078086</td>\n",
       "      <td>5.235181e+07</td>\n",
       "      <td>0.154742</td>\n",
       "    </tr>\n",
       "    <tr>\n",
       "      <th>967</th>\n",
       "      <td>ZYXI</td>\n",
       "      <td>2018-12-31</td>\n",
       "      <td>2.94</td>\n",
       "      <td>32271367.0</td>\n",
       "      <td>2018-12-31</td>\n",
       "      <td>9960000</td>\n",
       "      <td>2.967000e+06</td>\n",
       "      <td>2018</td>\n",
       "      <td>1.08</td>\n",
       "      <td>0.08440</td>\n",
       "      <td>0.064996</td>\n",
       "      <td>0.012215</td>\n",
       "      <td>9.487782e+07</td>\n",
       "      <td>0.077298</td>\n",
       "    </tr>\n",
       "    <tr>\n",
       "      <th>968</th>\n",
       "      <td>low</td>\n",
       "      <td>2019-02-28</td>\n",
       "      <td>105.09</td>\n",
       "      <td>801000000.0</td>\n",
       "      <td>2019-02-28</td>\n",
       "      <td>30864000000</td>\n",
       "      <td>1.439100e+10</td>\n",
       "      <td>2018</td>\n",
       "      <td>1.42</td>\n",
       "      <td>0.10310</td>\n",
       "      <td>0.318209</td>\n",
       "      <td>0.015972</td>\n",
       "      <td>8.417709e+10</td>\n",
       "      <td>0.078825</td>\n",
       "    </tr>\n",
       "  </tbody>\n",
       "</table>\n",
       "<p>969 rows × 14 columns</p>\n",
       "</div>"
      ],
      "text/plain": [
       "    Ticker        Date   Close  Shares Outstanding Report Date   total debt  \\\n",
       "0        A  2018-10-31   64.79         318000000.0  2018-10-31   3970000000   \n",
       "1       AA  2018-12-31   26.58         184770249.0  2018-12-31   8544000000   \n",
       "2      AAL  2018-12-31   32.11         460610870.0  2018-12-31  60749000000   \n",
       "3      AAN  2018-12-31   42.05          68594784.0  2018-12-31   1065984000   \n",
       "4     AAOI  2018-12-31   15.43          19810000.0  2018-12-31    137746000   \n",
       "..     ...         ...     ...                 ...         ...          ...   \n",
       "964    ZTS  2018-12-31   85.54         479562326.0  2018-12-31   8592000000   \n",
       "965   ZUMZ  2019-02-28   24.70          25521000.0  2019-02-28    133734000   \n",
       "966   ZYNE  2018-12-31    2.97          17626873.0  2018-12-31      9725782   \n",
       "967   ZYXI  2018-12-31    2.94          32271367.0  2018-12-31      9960000   \n",
       "968    low  2019-02-28  105.09         801000000.0  2019-02-28  30864000000   \n",
       "\n",
       "     long term debt  fiscal year  beta      coe  weird tax rate       cod  \\\n",
       "0      1.799000e+09         2018  1.12  0.08660        0.665962  0.007363   \n",
       "1      1.801000e+09         2018  2.28  0.15040        0.454602  0.011280   \n",
       "2      2.117900e+10         2018  1.73  0.12015        0.250531  0.012198   \n",
       "3      4.247520e+08         2018  1.62  0.11410        0.222019  0.011847   \n",
       "4      6.032800e+07         2018  1.98  0.13390        0.780528  0.004726   \n",
       "..              ...          ...   ...      ...             ...       ...   \n",
       "964    6.443000e+09         2018  0.77  0.06735        0.157396  0.018941   \n",
       "965             NaN         2018  1.82  0.12510        0.274747 -0.009995   \n",
       "966             NaN         2018  3.09  0.19495        0.000000 -0.078086   \n",
       "967    2.967000e+06         2018  1.08  0.08440        0.064996  0.012215   \n",
       "968    1.439100e+10         2018  1.42  0.10310        0.318209  0.015972   \n",
       "\n",
       "       market cap      Wacc  \n",
       "0    2.060322e+10  0.073549  \n",
       "1    4.911193e+09  0.060555  \n",
       "2    1.479022e+10  0.031274  \n",
       "3    2.884411e+09  0.085837  \n",
       "4    3.056683e+08  0.093464  \n",
       "..            ...       ...  \n",
       "964  4.102176e+10  0.058278  \n",
       "965  6.303687e+08  0.101823  \n",
       "966  5.235181e+07  0.154742  \n",
       "967  9.487782e+07  0.077298  \n",
       "968  8.417709e+10  0.078825  \n",
       "\n",
       "[969 rows x 14 columns]"
      ]
     },
     "execution_count": 45,
     "metadata": {},
     "output_type": "execute_result"
    }
   ],
   "source": [
    "last_data"
   ]
  },
  {
   "cell_type": "markdown",
   "metadata": {},
   "source": [
    "## Train some models"
   ]
  },
  {
   "cell_type": "markdown",
   "metadata": {},
   "source": [
    "### get sectors info"
   ]
  },
  {
   "cell_type": "code",
   "execution_count": 46,
   "metadata": {},
   "outputs": [
    {
     "name": "stdout",
     "output_type": "stream",
     "text": [
      "Dataset \"industries\" on disk (0 days old).\n",
      "- Loading from disk ... Done!\n",
      "Dataset \"us-companies\" on disk (0 days old).\n",
      "- Loading from disk ... Done!\n"
     ]
    },
    {
     "data": {
      "text/html": [
       "<div>\n",
       "<style scoped>\n",
       "    .dataframe tbody tr th:only-of-type {\n",
       "        vertical-align: middle;\n",
       "    }\n",
       "\n",
       "    .dataframe tbody tr th {\n",
       "        vertical-align: top;\n",
       "    }\n",
       "\n",
       "    .dataframe thead th {\n",
       "        text-align: right;\n",
       "    }\n",
       "</style>\n",
       "<table border=\"1\" class=\"dataframe\">\n",
       "  <thead>\n",
       "    <tr style=\"text-align: right;\">\n",
       "      <th></th>\n",
       "      <th>Sector</th>\n",
       "      <th>Industry</th>\n",
       "    </tr>\n",
       "    <tr>\n",
       "      <th>Ticker</th>\n",
       "      <th></th>\n",
       "      <th></th>\n",
       "    </tr>\n",
       "  </thead>\n",
       "  <tbody>\n",
       "    <tr>\n",
       "      <th>AAON</th>\n",
       "      <td>Industrials</td>\n",
       "      <td>Industrial Products</td>\n",
       "    </tr>\n",
       "    <tr>\n",
       "      <th>ACCO</th>\n",
       "      <td>Industrials</td>\n",
       "      <td>Industrial Products</td>\n",
       "    </tr>\n",
       "    <tr>\n",
       "      <th>ADES</th>\n",
       "      <td>Industrials</td>\n",
       "      <td>Industrial Products</td>\n",
       "    </tr>\n",
       "    <tr>\n",
       "      <th>AIMC</th>\n",
       "      <td>Industrials</td>\n",
       "      <td>Industrial Products</td>\n",
       "    </tr>\n",
       "    <tr>\n",
       "      <th>AME</th>\n",
       "      <td>Industrials</td>\n",
       "      <td>Industrial Products</td>\n",
       "    </tr>\n",
       "    <tr>\n",
       "      <th>...</th>\n",
       "      <td>...</td>\n",
       "      <td>...</td>\n",
       "    </tr>\n",
       "    <tr>\n",
       "      <th>USAP</th>\n",
       "      <td>Basic Materials</td>\n",
       "      <td>Steel</td>\n",
       "    </tr>\n",
       "    <tr>\n",
       "      <th>WOR</th>\n",
       "      <td>Basic Materials</td>\n",
       "      <td>Steel</td>\n",
       "    </tr>\n",
       "    <tr>\n",
       "      <th>X</th>\n",
       "      <td>Basic Materials</td>\n",
       "      <td>Steel</td>\n",
       "    </tr>\n",
       "    <tr>\n",
       "      <th>ZEUS</th>\n",
       "      <td>Basic Materials</td>\n",
       "      <td>Steel</td>\n",
       "    </tr>\n",
       "    <tr>\n",
       "      <th>BRKA</th>\n",
       "      <td>Other</td>\n",
       "      <td>Diversified Holdings</td>\n",
       "    </tr>\n",
       "  </tbody>\n",
       "</table>\n",
       "<p>2010 rows × 2 columns</p>\n",
       "</div>"
      ],
      "text/plain": [
       "                 Sector              Industry\n",
       "Ticker                                       \n",
       "AAON        Industrials   Industrial Products\n",
       "ACCO        Industrials   Industrial Products\n",
       "ADES        Industrials   Industrial Products\n",
       "AIMC        Industrials   Industrial Products\n",
       "AME         Industrials   Industrial Products\n",
       "...                 ...                   ...\n",
       "USAP    Basic Materials                 Steel\n",
       "WOR     Basic Materials                 Steel\n",
       "X       Basic Materials                 Steel\n",
       "ZEUS    Basic Materials                 Steel\n",
       "BRKA              Other  Diversified Holdings\n",
       "\n",
       "[2010 rows x 2 columns]"
      ]
     },
     "execution_count": 46,
     "metadata": {},
     "output_type": "execute_result"
    }
   ],
   "source": [
    "sectors = sf.load_industries().reset_index()\n",
    "comp = sf.load_companies(market='us').reset_index()\n",
    "\n",
    "industry = pd.merge(left=sectors, right=comp, left_on='IndustryId',right_on='IndustryId', how='left').set_index('Ticker')\n",
    "industry = industry.drop(columns={'SimFinId', 'Company Name','IndustryId'})\n",
    "industry"
   ]
  },
  {
   "cell_type": "code",
   "execution_count": 47,
   "metadata": {},
   "outputs": [
    {
     "name": "stdout",
     "output_type": "stream",
     "text": [
      "<class 'pandas.core.frame.DataFrame'>\n",
      "RangeIndex: 2136 entries, 0 to 2135\n",
      "Data columns (total 4 columns):\n",
      " #   Column        Non-Null Count  Dtype  \n",
      "---  ------        --------------  -----  \n",
      " 0   Ticker        2136 non-null   object \n",
      " 1   SimFinId      2136 non-null   int64  \n",
      " 2   Company Name  2136 non-null   object \n",
      " 3   IndustryId    2010 non-null   float64\n",
      "dtypes: float64(1), int64(1), object(2)\n",
      "memory usage: 66.9+ KB\n"
     ]
    }
   ],
   "source": [
    "comp.info()"
   ]
  },
  {
   "cell_type": "code",
   "execution_count": 48,
   "metadata": {},
   "outputs": [
    {
     "data": {
      "text/plain": [
       "0      0.073549\n",
       "1      0.060555\n",
       "2      0.031274\n",
       "3      0.085837\n",
       "4      0.093464\n",
       "         ...   \n",
       "964    0.058278\n",
       "965    0.101823\n",
       "966    0.154742\n",
       "967    0.077298\n",
       "968    0.078825\n",
       "Name: Wacc, Length: 969, dtype: float64"
      ]
     },
     "execution_count": 48,
     "metadata": {},
     "output_type": "execute_result"
    }
   ],
   "source": [
    "y = last_data['Wacc']\n",
    "y"
   ]
  },
  {
   "cell_type": "markdown",
   "metadata": {},
   "source": [
    "### Clustering"
   ]
  },
  {
   "cell_type": "markdown",
   "metadata": {},
   "source": [
    "### Regression"
   ]
  },
  {
   "cell_type": "code",
   "execution_count": 49,
   "metadata": {},
   "outputs": [],
   "source": [
    "from sklearn.cluster import KMeans\n",
    "from sklearn.cluster import AgglomerativeClustering\n",
    "from sklearn.preprocessing import StandardScaler\n",
    "import scipy.cluster.hierarchy as sch\n",
    "\n",
    "from sklearn.metrics import mean_squared_error\n",
    "\n",
    "from sklearn.model_selection import train_test_split\n",
    "import matplotlib.pyplot as plt\n",
    "\n"
   ]
  },
  {
   "cell_type": "markdown",
   "metadata": {},
   "source": [
    "#### Prepare data"
   ]
  },
  {
   "cell_type": "code",
   "execution_count": 50,
   "metadata": {},
   "outputs": [],
   "source": [
    "df1 = us_balance[['Total Current Assets', 'Total Noncurrent Assets',\n",
    "                  'Total Current Liabilities', 'Total Noncurrent Liabilities',\n",
    "                  'Total Equity']].dropna().groupby(level='Ticker').tail(1).reset_index()\n",
    "\n",
    "df2 = us_income[['Operating Expenses', 'Operating Income (Loss)',\n",
    "                 'Non-Operating Income (Loss)']].dropna().groupby(level='Ticker').tail(1).reset_index()"
   ]
  },
  {
   "cell_type": "code",
   "execution_count": 51,
   "metadata": {},
   "outputs": [
    {
     "data": {
      "text/html": [
       "<div>\n",
       "<style scoped>\n",
       "    .dataframe tbody tr th:only-of-type {\n",
       "        vertical-align: middle;\n",
       "    }\n",
       "\n",
       "    .dataframe tbody tr th {\n",
       "        vertical-align: top;\n",
       "    }\n",
       "\n",
       "    .dataframe thead th {\n",
       "        text-align: right;\n",
       "    }\n",
       "</style>\n",
       "<table border=\"1\" class=\"dataframe\">\n",
       "  <thead>\n",
       "    <tr style=\"text-align: right;\">\n",
       "      <th></th>\n",
       "      <th>Total Current Assets</th>\n",
       "      <th>Total Noncurrent Assets</th>\n",
       "      <th>Total Current Liabilities</th>\n",
       "      <th>Total Noncurrent Liabilities</th>\n",
       "      <th>Total Equity</th>\n",
       "      <th>Operating Expenses</th>\n",
       "      <th>Operating Income (Loss)</th>\n",
       "      <th>Non-Operating Income (Loss)</th>\n",
       "      <th>Sector</th>\n",
       "      <th>Industry</th>\n",
       "    </tr>\n",
       "    <tr>\n",
       "      <th>Ticker</th>\n",
       "      <th></th>\n",
       "      <th></th>\n",
       "      <th></th>\n",
       "      <th></th>\n",
       "      <th></th>\n",
       "      <th></th>\n",
       "      <th></th>\n",
       "      <th></th>\n",
       "      <th></th>\n",
       "      <th></th>\n",
       "    </tr>\n",
       "  </thead>\n",
       "  <tbody>\n",
       "    <tr>\n",
       "      <th>A</th>\n",
       "      <td>3.848000e+09</td>\n",
       "      <td>4.693000e+09</td>\n",
       "      <td>1171000000</td>\n",
       "      <td>2.799000e+09</td>\n",
       "      <td>4.571000e+09</td>\n",
       "      <td>-1.759000e+09</td>\n",
       "      <td>9.280000e+08</td>\n",
       "      <td>18000000.0</td>\n",
       "      <td>Healthcare</td>\n",
       "      <td>Medical Diagnostics &amp; Research</td>\n",
       "    </tr>\n",
       "    <tr>\n",
       "      <th>AA</th>\n",
       "      <td>4.134000e+09</td>\n",
       "      <td>1.180400e+10</td>\n",
       "      <td>2919000000</td>\n",
       "      <td>5.625000e+09</td>\n",
       "      <td>7.394000e+09</td>\n",
       "      <td>-1.012000e+09</td>\n",
       "      <td>2.310000e+09</td>\n",
       "      <td>-186000000.0</td>\n",
       "      <td>Basic Materials</td>\n",
       "      <td>Metals &amp; Mining</td>\n",
       "    </tr>\n",
       "    <tr>\n",
       "      <th>AAC</th>\n",
       "      <td>9.647900e+07</td>\n",
       "      <td>2.874050e+08</td>\n",
       "      <td>45342000</td>\n",
       "      <td>1.837540e+08</td>\n",
       "      <td>1.547880e+08</td>\n",
       "      <td>-1.279680e+08</td>\n",
       "      <td>-1.371700e+07</td>\n",
       "      <td>-7675000.0</td>\n",
       "      <td>Healthcare</td>\n",
       "      <td>Health Care Providers</td>\n",
       "    </tr>\n",
       "    <tr>\n",
       "      <th>AAL</th>\n",
       "      <td>8.637000e+09</td>\n",
       "      <td>5.194300e+10</td>\n",
       "      <td>18096000000</td>\n",
       "      <td>4.265300e+10</td>\n",
       "      <td>-1.690000e+08</td>\n",
       "      <td>-9.234000e+09</td>\n",
       "      <td>2.656000e+09</td>\n",
       "      <td>-772000000.0</td>\n",
       "      <td>Industrials</td>\n",
       "      <td>Airlines</td>\n",
       "    </tr>\n",
       "    <tr>\n",
       "      <th>AAMC</th>\n",
       "      <td>4.590500e+07</td>\n",
       "      <td>3.462000e+06</td>\n",
       "      <td>6771000</td>\n",
       "      <td>0.000000e+00</td>\n",
       "      <td>4.259600e+07</td>\n",
       "      <td>-5.214000e+06</td>\n",
       "      <td>-6.608000e+06</td>\n",
       "      <td>1191000.0</td>\n",
       "      <td>Financial Services</td>\n",
       "      <td>Asset Management</td>\n",
       "    </tr>\n",
       "  </tbody>\n",
       "</table>\n",
       "</div>"
      ],
      "text/plain": [
       "        Total Current Assets  Total Noncurrent Assets  \\\n",
       "Ticker                                                  \n",
       "A               3.848000e+09             4.693000e+09   \n",
       "AA              4.134000e+09             1.180400e+10   \n",
       "AAC             9.647900e+07             2.874050e+08   \n",
       "AAL             8.637000e+09             5.194300e+10   \n",
       "AAMC            4.590500e+07             3.462000e+06   \n",
       "\n",
       "        Total Current Liabilities  Total Noncurrent Liabilities  Total Equity  \\\n",
       "Ticker                                                                          \n",
       "A                      1171000000                  2.799000e+09  4.571000e+09   \n",
       "AA                     2919000000                  5.625000e+09  7.394000e+09   \n",
       "AAC                      45342000                  1.837540e+08  1.547880e+08   \n",
       "AAL                   18096000000                  4.265300e+10 -1.690000e+08   \n",
       "AAMC                      6771000                  0.000000e+00  4.259600e+07   \n",
       "\n",
       "        Operating Expenses  Operating Income (Loss)  \\\n",
       "Ticker                                                \n",
       "A            -1.759000e+09             9.280000e+08   \n",
       "AA           -1.012000e+09             2.310000e+09   \n",
       "AAC          -1.279680e+08            -1.371700e+07   \n",
       "AAL          -9.234000e+09             2.656000e+09   \n",
       "AAMC         -5.214000e+06            -6.608000e+06   \n",
       "\n",
       "        Non-Operating Income (Loss)              Sector  \\\n",
       "Ticker                                                    \n",
       "A                        18000000.0          Healthcare   \n",
       "AA                     -186000000.0     Basic Materials   \n",
       "AAC                      -7675000.0          Healthcare   \n",
       "AAL                    -772000000.0         Industrials   \n",
       "AAMC                      1191000.0  Financial Services   \n",
       "\n",
       "                              Industry  \n",
       "Ticker                                  \n",
       "A       Medical Diagnostics & Research  \n",
       "AA                     Metals & Mining  \n",
       "AAC              Health Care Providers  \n",
       "AAL                           Airlines  \n",
       "AAMC                  Asset Management  "
      ]
     },
     "execution_count": 51,
     "metadata": {},
     "output_type": "execute_result"
    }
   ],
   "source": [
    "df = pd.merge(left=df1, right=df2,\n",
    "              left_on=df1['Ticker'], right_on=df2['Ticker'],\n",
    "              how='left').rename(columns={'Ticker_x':'Ticker'}).drop(columns={'key_0','Report Date_x','Report Date_y','Ticker_y'})\n",
    "df = df.set_index('Ticker')\n",
    "\n",
    "df = pd.merge(left=df, right=industry, left_on=df.index, right_on=industry.index, how='left').rename(columns={'key_0':'Ticker'}).set_index('Ticker')\n",
    "\n",
    "df.head()"
   ]
  },
  {
   "cell_type": "code",
   "execution_count": 52,
   "metadata": {},
   "outputs": [],
   "source": [
    "y = last_data[['Ticker','Wacc']].set_index('Ticker')"
   ]
  },
  {
   "cell_type": "code",
   "execution_count": 53,
   "metadata": {},
   "outputs": [
    {
     "data": {
      "text/html": [
       "<div>\n",
       "<style scoped>\n",
       "    .dataframe tbody tr th:only-of-type {\n",
       "        vertical-align: middle;\n",
       "    }\n",
       "\n",
       "    .dataframe tbody tr th {\n",
       "        vertical-align: top;\n",
       "    }\n",
       "\n",
       "    .dataframe thead th {\n",
       "        text-align: right;\n",
       "    }\n",
       "</style>\n",
       "<table border=\"1\" class=\"dataframe\">\n",
       "  <thead>\n",
       "    <tr style=\"text-align: right;\">\n",
       "      <th></th>\n",
       "      <th>Wacc</th>\n",
       "    </tr>\n",
       "    <tr>\n",
       "      <th>Ticker</th>\n",
       "      <th></th>\n",
       "    </tr>\n",
       "  </thead>\n",
       "  <tbody>\n",
       "    <tr>\n",
       "      <th>A</th>\n",
       "      <td>0.073549</td>\n",
       "    </tr>\n",
       "    <tr>\n",
       "      <th>AA</th>\n",
       "      <td>0.060555</td>\n",
       "    </tr>\n",
       "    <tr>\n",
       "      <th>AAL</th>\n",
       "      <td>0.031274</td>\n",
       "    </tr>\n",
       "    <tr>\n",
       "      <th>AAN</th>\n",
       "      <td>0.085837</td>\n",
       "    </tr>\n",
       "    <tr>\n",
       "      <th>AAOI</th>\n",
       "      <td>0.093464</td>\n",
       "    </tr>\n",
       "  </tbody>\n",
       "</table>\n",
       "</div>"
      ],
      "text/plain": [
       "            Wacc\n",
       "Ticker          \n",
       "A       0.073549\n",
       "AA      0.060555\n",
       "AAL     0.031274\n",
       "AAN     0.085837\n",
       "AAOI    0.093464"
      ]
     },
     "execution_count": 53,
     "metadata": {},
     "output_type": "execute_result"
    }
   ],
   "source": [
    "y.head()"
   ]
  },
  {
   "cell_type": "code",
   "execution_count": 54,
   "metadata": {},
   "outputs": [
    {
     "data": {
      "text/html": [
       "<div>\n",
       "<style scoped>\n",
       "    .dataframe tbody tr th:only-of-type {\n",
       "        vertical-align: middle;\n",
       "    }\n",
       "\n",
       "    .dataframe tbody tr th {\n",
       "        vertical-align: top;\n",
       "    }\n",
       "\n",
       "    .dataframe thead th {\n",
       "        text-align: right;\n",
       "    }\n",
       "</style>\n",
       "<table border=\"1\" class=\"dataframe\">\n",
       "  <thead>\n",
       "    <tr style=\"text-align: right;\">\n",
       "      <th></th>\n",
       "      <th>Wacc</th>\n",
       "      <th>Total Current Assets</th>\n",
       "      <th>Total Noncurrent Assets</th>\n",
       "      <th>Total Current Liabilities</th>\n",
       "      <th>Total Noncurrent Liabilities</th>\n",
       "      <th>Total Equity</th>\n",
       "      <th>Operating Expenses</th>\n",
       "      <th>Operating Income (Loss)</th>\n",
       "      <th>Non-Operating Income (Loss)</th>\n",
       "      <th>Sector</th>\n",
       "      <th>Industry</th>\n",
       "    </tr>\n",
       "    <tr>\n",
       "      <th>Ticker</th>\n",
       "      <th></th>\n",
       "      <th></th>\n",
       "      <th></th>\n",
       "      <th></th>\n",
       "      <th></th>\n",
       "      <th></th>\n",
       "      <th></th>\n",
       "      <th></th>\n",
       "      <th></th>\n",
       "      <th></th>\n",
       "      <th></th>\n",
       "    </tr>\n",
       "  </thead>\n",
       "  <tbody>\n",
       "    <tr>\n",
       "      <th>A</th>\n",
       "      <td>0.073549</td>\n",
       "      <td>3.848000e+09</td>\n",
       "      <td>4.693000e+09</td>\n",
       "      <td>1.171000e+09</td>\n",
       "      <td>2.799000e+09</td>\n",
       "      <td>4.571000e+09</td>\n",
       "      <td>-1.759000e+09</td>\n",
       "      <td>9.280000e+08</td>\n",
       "      <td>18000000.0</td>\n",
       "      <td>Healthcare</td>\n",
       "      <td>Medical Diagnostics &amp; Research</td>\n",
       "    </tr>\n",
       "    <tr>\n",
       "      <th>AA</th>\n",
       "      <td>0.060555</td>\n",
       "      <td>4.134000e+09</td>\n",
       "      <td>1.180400e+10</td>\n",
       "      <td>2.919000e+09</td>\n",
       "      <td>5.625000e+09</td>\n",
       "      <td>7.394000e+09</td>\n",
       "      <td>-1.012000e+09</td>\n",
       "      <td>2.310000e+09</td>\n",
       "      <td>-186000000.0</td>\n",
       "      <td>Basic Materials</td>\n",
       "      <td>Metals &amp; Mining</td>\n",
       "    </tr>\n",
       "    <tr>\n",
       "      <th>AAL</th>\n",
       "      <td>0.031274</td>\n",
       "      <td>8.637000e+09</td>\n",
       "      <td>5.194300e+10</td>\n",
       "      <td>1.809600e+10</td>\n",
       "      <td>4.265300e+10</td>\n",
       "      <td>-1.690000e+08</td>\n",
       "      <td>-9.234000e+09</td>\n",
       "      <td>2.656000e+09</td>\n",
       "      <td>-772000000.0</td>\n",
       "      <td>Industrials</td>\n",
       "      <td>Airlines</td>\n",
       "    </tr>\n",
       "    <tr>\n",
       "      <th>AAN</th>\n",
       "      <td>0.085837</td>\n",
       "      <td>1.537208e+09</td>\n",
       "      <td>1.289484e+09</td>\n",
       "      <td>5.606530e+08</td>\n",
       "      <td>5.053310e+08</td>\n",
       "      <td>1.760708e+09</td>\n",
       "      <td>-1.616307e+09</td>\n",
       "      <td>2.907130e+08</td>\n",
       "      <td>-17306000.0</td>\n",
       "      <td>Industrials</td>\n",
       "      <td>Consulting &amp; Outsourcing</td>\n",
       "    </tr>\n",
       "    <tr>\n",
       "      <th>AAOI</th>\n",
       "      <td>0.093464</td>\n",
       "      <td>1.942750e+08</td>\n",
       "      <td>2.725650e+08</td>\n",
       "      <td>7.741800e+07</td>\n",
       "      <td>6.032800e+07</td>\n",
       "      <td>3.290940e+08</td>\n",
       "      <td>-9.854100e+07</td>\n",
       "      <td>-1.076800e+07</td>\n",
       "      <td>990000.0</td>\n",
       "      <td>Technology</td>\n",
       "      <td>Semiconductors</td>\n",
       "    </tr>\n",
       "    <tr>\n",
       "      <th>...</th>\n",
       "      <td>...</td>\n",
       "      <td>...</td>\n",
       "      <td>...</td>\n",
       "      <td>...</td>\n",
       "      <td>...</td>\n",
       "      <td>...</td>\n",
       "      <td>...</td>\n",
       "      <td>...</td>\n",
       "      <td>...</td>\n",
       "      <td>...</td>\n",
       "      <td>...</td>\n",
       "    </tr>\n",
       "    <tr>\n",
       "      <th>ZTS</th>\n",
       "      <td>0.058278</td>\n",
       "      <td>4.399000e+09</td>\n",
       "      <td>6.378000e+09</td>\n",
       "      <td>1.223000e+09</td>\n",
       "      <td>7.369000e+09</td>\n",
       "      <td>2.185000e+09</td>\n",
       "      <td>-2.033000e+09</td>\n",
       "      <td>1.881000e+09</td>\n",
       "      <td>-123000000.0</td>\n",
       "      <td>Healthcare</td>\n",
       "      <td>Drug Manufacturers</td>\n",
       "    </tr>\n",
       "    <tr>\n",
       "      <th>ZUMZ</th>\n",
       "      <td>0.101823</td>\n",
       "      <td>3.271750e+08</td>\n",
       "      <td>2.070150e+08</td>\n",
       "      <td>9.310800e+07</td>\n",
       "      <td>4.062600e+07</td>\n",
       "      <td>4.004560e+08</td>\n",
       "      <td>-2.748580e+08</td>\n",
       "      <td>6.107800e+07</td>\n",
       "      <td>1252000.0</td>\n",
       "      <td>Consumer Cyclical</td>\n",
       "      <td>Retail - Apparel &amp; Specialty</td>\n",
       "    </tr>\n",
       "    <tr>\n",
       "      <th>ZYNE</th>\n",
       "      <td>0.154742</td>\n",
       "      <td>6.822758e+07</td>\n",
       "      <td>8.267270e+05</td>\n",
       "      <td>7.442721e+06</td>\n",
       "      <td>6.620000e+05</td>\n",
       "      <td>6.094959e+07</td>\n",
       "      <td>-4.048383e+07</td>\n",
       "      <td>-4.039783e+07</td>\n",
       "      <td>486655.0</td>\n",
       "      <td>Healthcare</td>\n",
       "      <td>Biotechnology</td>\n",
       "    </tr>\n",
       "    <tr>\n",
       "      <th>ZYXI</th>\n",
       "      <td>0.077298</td>\n",
       "      <td>1.504900e+07</td>\n",
       "      <td>4.202000e+06</td>\n",
       "      <td>6.983000e+06</td>\n",
       "      <td>2.977000e+06</td>\n",
       "      <td>9.291000e+06</td>\n",
       "      <td>-1.550900e+07</td>\n",
       "      <td>1.037000e+07</td>\n",
       "      <td>-154000.0</td>\n",
       "      <td>Healthcare</td>\n",
       "      <td>Medical Devices</td>\n",
       "    </tr>\n",
       "    <tr>\n",
       "      <th>low</th>\n",
       "      <td>0.078825</td>\n",
       "      <td>1.422800e+10</td>\n",
       "      <td>2.028000e+10</td>\n",
       "      <td>1.449700e+10</td>\n",
       "      <td>1.636700e+10</td>\n",
       "      <td>3.644000e+09</td>\n",
       "      <td>-1.889000e+10</td>\n",
       "      <td>4.018000e+09</td>\n",
       "      <td>-624000000.0</td>\n",
       "      <td>Consumer Cyclical</td>\n",
       "      <td>Retail - Apparel &amp; Specialty</td>\n",
       "    </tr>\n",
       "  </tbody>\n",
       "</table>\n",
       "<p>938 rows × 11 columns</p>\n",
       "</div>"
      ],
      "text/plain": [
       "            Wacc  Total Current Assets  Total Noncurrent Assets  \\\n",
       "Ticker                                                            \n",
       "A       0.073549          3.848000e+09             4.693000e+09   \n",
       "AA      0.060555          4.134000e+09             1.180400e+10   \n",
       "AAL     0.031274          8.637000e+09             5.194300e+10   \n",
       "AAN     0.085837          1.537208e+09             1.289484e+09   \n",
       "AAOI    0.093464          1.942750e+08             2.725650e+08   \n",
       "...          ...                   ...                      ...   \n",
       "ZTS     0.058278          4.399000e+09             6.378000e+09   \n",
       "ZUMZ    0.101823          3.271750e+08             2.070150e+08   \n",
       "ZYNE    0.154742          6.822758e+07             8.267270e+05   \n",
       "ZYXI    0.077298          1.504900e+07             4.202000e+06   \n",
       "low     0.078825          1.422800e+10             2.028000e+10   \n",
       "\n",
       "        Total Current Liabilities  Total Noncurrent Liabilities  Total Equity  \\\n",
       "Ticker                                                                          \n",
       "A                    1.171000e+09                  2.799000e+09  4.571000e+09   \n",
       "AA                   2.919000e+09                  5.625000e+09  7.394000e+09   \n",
       "AAL                  1.809600e+10                  4.265300e+10 -1.690000e+08   \n",
       "AAN                  5.606530e+08                  5.053310e+08  1.760708e+09   \n",
       "AAOI                 7.741800e+07                  6.032800e+07  3.290940e+08   \n",
       "...                           ...                           ...           ...   \n",
       "ZTS                  1.223000e+09                  7.369000e+09  2.185000e+09   \n",
       "ZUMZ                 9.310800e+07                  4.062600e+07  4.004560e+08   \n",
       "ZYNE                 7.442721e+06                  6.620000e+05  6.094959e+07   \n",
       "ZYXI                 6.983000e+06                  2.977000e+06  9.291000e+06   \n",
       "low                  1.449700e+10                  1.636700e+10  3.644000e+09   \n",
       "\n",
       "        Operating Expenses  Operating Income (Loss)  \\\n",
       "Ticker                                                \n",
       "A            -1.759000e+09             9.280000e+08   \n",
       "AA           -1.012000e+09             2.310000e+09   \n",
       "AAL          -9.234000e+09             2.656000e+09   \n",
       "AAN          -1.616307e+09             2.907130e+08   \n",
       "AAOI         -9.854100e+07            -1.076800e+07   \n",
       "...                    ...                      ...   \n",
       "ZTS          -2.033000e+09             1.881000e+09   \n",
       "ZUMZ         -2.748580e+08             6.107800e+07   \n",
       "ZYNE         -4.048383e+07            -4.039783e+07   \n",
       "ZYXI         -1.550900e+07             1.037000e+07   \n",
       "low          -1.889000e+10             4.018000e+09   \n",
       "\n",
       "        Non-Operating Income (Loss)             Sector  \\\n",
       "Ticker                                                   \n",
       "A                        18000000.0         Healthcare   \n",
       "AA                     -186000000.0    Basic Materials   \n",
       "AAL                    -772000000.0        Industrials   \n",
       "AAN                     -17306000.0        Industrials   \n",
       "AAOI                       990000.0         Technology   \n",
       "...                             ...                ...   \n",
       "ZTS                    -123000000.0         Healthcare   \n",
       "ZUMZ                      1252000.0  Consumer Cyclical   \n",
       "ZYNE                       486655.0         Healthcare   \n",
       "ZYXI                      -154000.0         Healthcare   \n",
       "low                    -624000000.0  Consumer Cyclical   \n",
       "\n",
       "                              Industry  \n",
       "Ticker                                  \n",
       "A       Medical Diagnostics & Research  \n",
       "AA                     Metals & Mining  \n",
       "AAL                           Airlines  \n",
       "AAN           Consulting & Outsourcing  \n",
       "AAOI                    Semiconductors  \n",
       "...                                ...  \n",
       "ZTS                 Drug Manufacturers  \n",
       "ZUMZ      Retail - Apparel & Specialty  \n",
       "ZYNE                     Biotechnology  \n",
       "ZYXI                   Medical Devices  \n",
       "low       Retail - Apparel & Specialty  \n",
       "\n",
       "[938 rows x 11 columns]"
      ]
     },
     "execution_count": 54,
     "metadata": {},
     "output_type": "execute_result"
    }
   ],
   "source": [
    "final_df = pd.merge(left=y,right=df,\n",
    "                    left_on=y.index,right_on=df.index,\n",
    "                    how='left')\n",
    "final_df = final_df.rename(columns={'key_0':'Ticker'}).set_index('Ticker')\n",
    "final_df = final_df.dropna()\n",
    "final_df"
   ]
  },
  {
   "cell_type": "markdown",
   "metadata": {},
   "source": [
    "#### Use sector as an information"
   ]
  },
  {
   "cell_type": "code",
   "execution_count": 203,
   "metadata": {},
   "outputs": [],
   "source": [
    "X = final_df.drop(columns={'Wacc', 'Sector', 'Industry'})\n",
    "\n",
    "y = final_df[['Wacc']]"
   ]
  },
  {
   "cell_type": "code",
   "execution_count": 204,
   "metadata": {},
   "outputs": [
    {
     "data": {
      "text/html": [
       "<div>\n",
       "<style scoped>\n",
       "    .dataframe tbody tr th:only-of-type {\n",
       "        vertical-align: middle;\n",
       "    }\n",
       "\n",
       "    .dataframe tbody tr th {\n",
       "        vertical-align: top;\n",
       "    }\n",
       "\n",
       "    .dataframe thead th {\n",
       "        text-align: right;\n",
       "    }\n",
       "</style>\n",
       "<table border=\"1\" class=\"dataframe\">\n",
       "  <thead>\n",
       "    <tr style=\"text-align: right;\">\n",
       "      <th></th>\n",
       "      <th>Total Current Assets</th>\n",
       "      <th>Total Noncurrent Assets</th>\n",
       "      <th>Total Current Liabilities</th>\n",
       "      <th>Total Noncurrent Liabilities</th>\n",
       "      <th>Total Equity</th>\n",
       "      <th>Operating Expenses</th>\n",
       "      <th>Operating Income (Loss)</th>\n",
       "      <th>Non-Operating Income (Loss)</th>\n",
       "    </tr>\n",
       "    <tr>\n",
       "      <th>Ticker</th>\n",
       "      <th></th>\n",
       "      <th></th>\n",
       "      <th></th>\n",
       "      <th></th>\n",
       "      <th></th>\n",
       "      <th></th>\n",
       "      <th></th>\n",
       "      <th></th>\n",
       "    </tr>\n",
       "  </thead>\n",
       "  <tbody>\n",
       "    <tr>\n",
       "      <th>A</th>\n",
       "      <td>3.848000e+09</td>\n",
       "      <td>4.693000e+09</td>\n",
       "      <td>1.171000e+09</td>\n",
       "      <td>2.799000e+09</td>\n",
       "      <td>4.571000e+09</td>\n",
       "      <td>-1.759000e+09</td>\n",
       "      <td>9.280000e+08</td>\n",
       "      <td>18000000.0</td>\n",
       "    </tr>\n",
       "    <tr>\n",
       "      <th>AA</th>\n",
       "      <td>4.134000e+09</td>\n",
       "      <td>1.180400e+10</td>\n",
       "      <td>2.919000e+09</td>\n",
       "      <td>5.625000e+09</td>\n",
       "      <td>7.394000e+09</td>\n",
       "      <td>-1.012000e+09</td>\n",
       "      <td>2.310000e+09</td>\n",
       "      <td>-186000000.0</td>\n",
       "    </tr>\n",
       "    <tr>\n",
       "      <th>AAL</th>\n",
       "      <td>8.637000e+09</td>\n",
       "      <td>5.194300e+10</td>\n",
       "      <td>1.809600e+10</td>\n",
       "      <td>4.265300e+10</td>\n",
       "      <td>-1.690000e+08</td>\n",
       "      <td>-9.234000e+09</td>\n",
       "      <td>2.656000e+09</td>\n",
       "      <td>-772000000.0</td>\n",
       "    </tr>\n",
       "    <tr>\n",
       "      <th>AAN</th>\n",
       "      <td>1.537208e+09</td>\n",
       "      <td>1.289484e+09</td>\n",
       "      <td>5.606530e+08</td>\n",
       "      <td>5.053310e+08</td>\n",
       "      <td>1.760708e+09</td>\n",
       "      <td>-1.616307e+09</td>\n",
       "      <td>2.907130e+08</td>\n",
       "      <td>-17306000.0</td>\n",
       "    </tr>\n",
       "    <tr>\n",
       "      <th>AAOI</th>\n",
       "      <td>1.942750e+08</td>\n",
       "      <td>2.725650e+08</td>\n",
       "      <td>7.741800e+07</td>\n",
       "      <td>6.032800e+07</td>\n",
       "      <td>3.290940e+08</td>\n",
       "      <td>-9.854100e+07</td>\n",
       "      <td>-1.076800e+07</td>\n",
       "      <td>990000.0</td>\n",
       "    </tr>\n",
       "    <tr>\n",
       "      <th>...</th>\n",
       "      <td>...</td>\n",
       "      <td>...</td>\n",
       "      <td>...</td>\n",
       "      <td>...</td>\n",
       "      <td>...</td>\n",
       "      <td>...</td>\n",
       "      <td>...</td>\n",
       "      <td>...</td>\n",
       "    </tr>\n",
       "    <tr>\n",
       "      <th>ZTS</th>\n",
       "      <td>4.399000e+09</td>\n",
       "      <td>6.378000e+09</td>\n",
       "      <td>1.223000e+09</td>\n",
       "      <td>7.369000e+09</td>\n",
       "      <td>2.185000e+09</td>\n",
       "      <td>-2.033000e+09</td>\n",
       "      <td>1.881000e+09</td>\n",
       "      <td>-123000000.0</td>\n",
       "    </tr>\n",
       "    <tr>\n",
       "      <th>ZUMZ</th>\n",
       "      <td>3.271750e+08</td>\n",
       "      <td>2.070150e+08</td>\n",
       "      <td>9.310800e+07</td>\n",
       "      <td>4.062600e+07</td>\n",
       "      <td>4.004560e+08</td>\n",
       "      <td>-2.748580e+08</td>\n",
       "      <td>6.107800e+07</td>\n",
       "      <td>1252000.0</td>\n",
       "    </tr>\n",
       "    <tr>\n",
       "      <th>ZYNE</th>\n",
       "      <td>6.822758e+07</td>\n",
       "      <td>8.267270e+05</td>\n",
       "      <td>7.442721e+06</td>\n",
       "      <td>6.620000e+05</td>\n",
       "      <td>6.094959e+07</td>\n",
       "      <td>-4.048383e+07</td>\n",
       "      <td>-4.039783e+07</td>\n",
       "      <td>486655.0</td>\n",
       "    </tr>\n",
       "    <tr>\n",
       "      <th>ZYXI</th>\n",
       "      <td>1.504900e+07</td>\n",
       "      <td>4.202000e+06</td>\n",
       "      <td>6.983000e+06</td>\n",
       "      <td>2.977000e+06</td>\n",
       "      <td>9.291000e+06</td>\n",
       "      <td>-1.550900e+07</td>\n",
       "      <td>1.037000e+07</td>\n",
       "      <td>-154000.0</td>\n",
       "    </tr>\n",
       "    <tr>\n",
       "      <th>low</th>\n",
       "      <td>1.422800e+10</td>\n",
       "      <td>2.028000e+10</td>\n",
       "      <td>1.449700e+10</td>\n",
       "      <td>1.636700e+10</td>\n",
       "      <td>3.644000e+09</td>\n",
       "      <td>-1.889000e+10</td>\n",
       "      <td>4.018000e+09</td>\n",
       "      <td>-624000000.0</td>\n",
       "    </tr>\n",
       "  </tbody>\n",
       "</table>\n",
       "<p>937 rows × 8 columns</p>\n",
       "</div>"
      ],
      "text/plain": [
       "        Total Current Assets  Total Noncurrent Assets  \\\n",
       "Ticker                                                  \n",
       "A               3.848000e+09             4.693000e+09   \n",
       "AA              4.134000e+09             1.180400e+10   \n",
       "AAL             8.637000e+09             5.194300e+10   \n",
       "AAN             1.537208e+09             1.289484e+09   \n",
       "AAOI            1.942750e+08             2.725650e+08   \n",
       "...                      ...                      ...   \n",
       "ZTS             4.399000e+09             6.378000e+09   \n",
       "ZUMZ            3.271750e+08             2.070150e+08   \n",
       "ZYNE            6.822758e+07             8.267270e+05   \n",
       "ZYXI            1.504900e+07             4.202000e+06   \n",
       "low             1.422800e+10             2.028000e+10   \n",
       "\n",
       "        Total Current Liabilities  Total Noncurrent Liabilities  Total Equity  \\\n",
       "Ticker                                                                          \n",
       "A                    1.171000e+09                  2.799000e+09  4.571000e+09   \n",
       "AA                   2.919000e+09                  5.625000e+09  7.394000e+09   \n",
       "AAL                  1.809600e+10                  4.265300e+10 -1.690000e+08   \n",
       "AAN                  5.606530e+08                  5.053310e+08  1.760708e+09   \n",
       "AAOI                 7.741800e+07                  6.032800e+07  3.290940e+08   \n",
       "...                           ...                           ...           ...   \n",
       "ZTS                  1.223000e+09                  7.369000e+09  2.185000e+09   \n",
       "ZUMZ                 9.310800e+07                  4.062600e+07  4.004560e+08   \n",
       "ZYNE                 7.442721e+06                  6.620000e+05  6.094959e+07   \n",
       "ZYXI                 6.983000e+06                  2.977000e+06  9.291000e+06   \n",
       "low                  1.449700e+10                  1.636700e+10  3.644000e+09   \n",
       "\n",
       "        Operating Expenses  Operating Income (Loss)  \\\n",
       "Ticker                                                \n",
       "A            -1.759000e+09             9.280000e+08   \n",
       "AA           -1.012000e+09             2.310000e+09   \n",
       "AAL          -9.234000e+09             2.656000e+09   \n",
       "AAN          -1.616307e+09             2.907130e+08   \n",
       "AAOI         -9.854100e+07            -1.076800e+07   \n",
       "...                    ...                      ...   \n",
       "ZTS          -2.033000e+09             1.881000e+09   \n",
       "ZUMZ         -2.748580e+08             6.107800e+07   \n",
       "ZYNE         -4.048383e+07            -4.039783e+07   \n",
       "ZYXI         -1.550900e+07             1.037000e+07   \n",
       "low          -1.889000e+10             4.018000e+09   \n",
       "\n",
       "        Non-Operating Income (Loss)  \n",
       "Ticker                               \n",
       "A                        18000000.0  \n",
       "AA                     -186000000.0  \n",
       "AAL                    -772000000.0  \n",
       "AAN                     -17306000.0  \n",
       "AAOI                       990000.0  \n",
       "...                             ...  \n",
       "ZTS                    -123000000.0  \n",
       "ZUMZ                      1252000.0  \n",
       "ZYNE                       486655.0  \n",
       "ZYXI                      -154000.0  \n",
       "low                    -624000000.0  \n",
       "\n",
       "[937 rows x 8 columns]"
      ]
     },
     "execution_count": 204,
     "metadata": {},
     "output_type": "execute_result"
    }
   ],
   "source": [
    "X_IBM = X[X.index.get_level_values('Ticker') == 'IBM']\n",
    "X = X[X.index.get_level_values('Ticker') != 'IBM']\n",
    "X"
   ]
  },
  {
   "cell_type": "code",
   "execution_count": 205,
   "metadata": {},
   "outputs": [
    {
     "data": {
      "text/html": [
       "<div>\n",
       "<style scoped>\n",
       "    .dataframe tbody tr th:only-of-type {\n",
       "        vertical-align: middle;\n",
       "    }\n",
       "\n",
       "    .dataframe tbody tr th {\n",
       "        vertical-align: top;\n",
       "    }\n",
       "\n",
       "    .dataframe thead th {\n",
       "        text-align: right;\n",
       "    }\n",
       "</style>\n",
       "<table border=\"1\" class=\"dataframe\">\n",
       "  <thead>\n",
       "    <tr style=\"text-align: right;\">\n",
       "      <th></th>\n",
       "      <th>Total Current Assets</th>\n",
       "      <th>Total Noncurrent Assets</th>\n",
       "      <th>Total Current Liabilities</th>\n",
       "      <th>Total Noncurrent Liabilities</th>\n",
       "      <th>Total Equity</th>\n",
       "      <th>Operating Expenses</th>\n",
       "      <th>Operating Income (Loss)</th>\n",
       "      <th>Non-Operating Income (Loss)</th>\n",
       "    </tr>\n",
       "    <tr>\n",
       "      <th>Ticker</th>\n",
       "      <th></th>\n",
       "      <th></th>\n",
       "      <th></th>\n",
       "      <th></th>\n",
       "      <th></th>\n",
       "      <th></th>\n",
       "      <th></th>\n",
       "      <th></th>\n",
       "    </tr>\n",
       "  </thead>\n",
       "  <tbody>\n",
       "    <tr>\n",
       "      <th>IBM</th>\n",
       "      <td>4.914500e+10</td>\n",
       "      <td>7.423600e+10</td>\n",
       "      <td>3.822700e+10</td>\n",
       "      <td>6.822600e+10</td>\n",
       "      <td>1.693000e+10</td>\n",
       "      <td>-2.474500e+10</td>\n",
       "      <td>1.219100e+10</td>\n",
       "      <td>-1.875000e+09</td>\n",
       "    </tr>\n",
       "  </tbody>\n",
       "</table>\n",
       "</div>"
      ],
      "text/plain": [
       "        Total Current Assets  Total Noncurrent Assets  \\\n",
       "Ticker                                                  \n",
       "IBM             4.914500e+10             7.423600e+10   \n",
       "\n",
       "        Total Current Liabilities  Total Noncurrent Liabilities  Total Equity  \\\n",
       "Ticker                                                                          \n",
       "IBM                  3.822700e+10                  6.822600e+10  1.693000e+10   \n",
       "\n",
       "        Operating Expenses  Operating Income (Loss)  \\\n",
       "Ticker                                                \n",
       "IBM          -2.474500e+10             1.219100e+10   \n",
       "\n",
       "        Non-Operating Income (Loss)  \n",
       "Ticker                               \n",
       "IBM                   -1.875000e+09  "
      ]
     },
     "execution_count": 205,
     "metadata": {},
     "output_type": "execute_result"
    }
   ],
   "source": [
    "X_IBM"
   ]
  },
  {
   "cell_type": "code",
   "execution_count": 149,
   "metadata": {},
   "outputs": [],
   "source": [
    "#Normalized data\n",
    "scaler_X = StandardScaler()\n",
    "X_standardize = X\n",
    "#X_standardize = scaler_X.fit_transform(X)\n",
    "X_standardize = pd.DataFrame(X_standardize, columns=X.columns, index = X.index)\n",
    "\n",
    "y_standardize = y\n",
    "#y_standardize = scaler_X.fit_transform(y)\n",
    "y_standardize = pd.DataFrame(y_standardize, columns=y.columns, index = X.index)"
   ]
  },
  {
   "cell_type": "code",
   "execution_count": 150,
   "metadata": {},
   "outputs": [
    {
     "data": {
      "text/html": [
       "<div>\n",
       "<style scoped>\n",
       "    .dataframe tbody tr th:only-of-type {\n",
       "        vertical-align: middle;\n",
       "    }\n",
       "\n",
       "    .dataframe tbody tr th {\n",
       "        vertical-align: top;\n",
       "    }\n",
       "\n",
       "    .dataframe thead th {\n",
       "        text-align: right;\n",
       "    }\n",
       "</style>\n",
       "<table border=\"1\" class=\"dataframe\">\n",
       "  <thead>\n",
       "    <tr style=\"text-align: right;\">\n",
       "      <th></th>\n",
       "      <th>Total Current Assets</th>\n",
       "      <th>Total Noncurrent Assets</th>\n",
       "      <th>Total Current Liabilities</th>\n",
       "      <th>Total Noncurrent Liabilities</th>\n",
       "      <th>Total Equity</th>\n",
       "      <th>Operating Expenses</th>\n",
       "      <th>Operating Income (Loss)</th>\n",
       "      <th>Non-Operating Income (Loss)</th>\n",
       "    </tr>\n",
       "    <tr>\n",
       "      <th>Ticker</th>\n",
       "      <th></th>\n",
       "      <th></th>\n",
       "      <th></th>\n",
       "      <th></th>\n",
       "      <th></th>\n",
       "      <th></th>\n",
       "      <th></th>\n",
       "      <th></th>\n",
       "    </tr>\n",
       "  </thead>\n",
       "  <tbody>\n",
       "    <tr>\n",
       "      <th>A</th>\n",
       "      <td>3.848000e+09</td>\n",
       "      <td>4.693000e+09</td>\n",
       "      <td>1.171000e+09</td>\n",
       "      <td>2.799000e+09</td>\n",
       "      <td>4.571000e+09</td>\n",
       "      <td>-1.759000e+09</td>\n",
       "      <td>9.280000e+08</td>\n",
       "      <td>18000000.0</td>\n",
       "    </tr>\n",
       "    <tr>\n",
       "      <th>AA</th>\n",
       "      <td>4.134000e+09</td>\n",
       "      <td>1.180400e+10</td>\n",
       "      <td>2.919000e+09</td>\n",
       "      <td>5.625000e+09</td>\n",
       "      <td>7.394000e+09</td>\n",
       "      <td>-1.012000e+09</td>\n",
       "      <td>2.310000e+09</td>\n",
       "      <td>-186000000.0</td>\n",
       "    </tr>\n",
       "    <tr>\n",
       "      <th>AAL</th>\n",
       "      <td>8.637000e+09</td>\n",
       "      <td>5.194300e+10</td>\n",
       "      <td>1.809600e+10</td>\n",
       "      <td>4.265300e+10</td>\n",
       "      <td>-1.690000e+08</td>\n",
       "      <td>-9.234000e+09</td>\n",
       "      <td>2.656000e+09</td>\n",
       "      <td>-772000000.0</td>\n",
       "    </tr>\n",
       "    <tr>\n",
       "      <th>AAN</th>\n",
       "      <td>1.537208e+09</td>\n",
       "      <td>1.289484e+09</td>\n",
       "      <td>5.606530e+08</td>\n",
       "      <td>5.053310e+08</td>\n",
       "      <td>1.760708e+09</td>\n",
       "      <td>-1.616307e+09</td>\n",
       "      <td>2.907130e+08</td>\n",
       "      <td>-17306000.0</td>\n",
       "    </tr>\n",
       "    <tr>\n",
       "      <th>AAOI</th>\n",
       "      <td>1.942750e+08</td>\n",
       "      <td>2.725650e+08</td>\n",
       "      <td>7.741800e+07</td>\n",
       "      <td>6.032800e+07</td>\n",
       "      <td>3.290940e+08</td>\n",
       "      <td>-9.854100e+07</td>\n",
       "      <td>-1.076800e+07</td>\n",
       "      <td>990000.0</td>\n",
       "    </tr>\n",
       "    <tr>\n",
       "      <th>...</th>\n",
       "      <td>...</td>\n",
       "      <td>...</td>\n",
       "      <td>...</td>\n",
       "      <td>...</td>\n",
       "      <td>...</td>\n",
       "      <td>...</td>\n",
       "      <td>...</td>\n",
       "      <td>...</td>\n",
       "    </tr>\n",
       "    <tr>\n",
       "      <th>ZTS</th>\n",
       "      <td>4.399000e+09</td>\n",
       "      <td>6.378000e+09</td>\n",
       "      <td>1.223000e+09</td>\n",
       "      <td>7.369000e+09</td>\n",
       "      <td>2.185000e+09</td>\n",
       "      <td>-2.033000e+09</td>\n",
       "      <td>1.881000e+09</td>\n",
       "      <td>-123000000.0</td>\n",
       "    </tr>\n",
       "    <tr>\n",
       "      <th>ZUMZ</th>\n",
       "      <td>3.271750e+08</td>\n",
       "      <td>2.070150e+08</td>\n",
       "      <td>9.310800e+07</td>\n",
       "      <td>4.062600e+07</td>\n",
       "      <td>4.004560e+08</td>\n",
       "      <td>-2.748580e+08</td>\n",
       "      <td>6.107800e+07</td>\n",
       "      <td>1252000.0</td>\n",
       "    </tr>\n",
       "    <tr>\n",
       "      <th>ZYNE</th>\n",
       "      <td>6.822758e+07</td>\n",
       "      <td>8.267270e+05</td>\n",
       "      <td>7.442721e+06</td>\n",
       "      <td>6.620000e+05</td>\n",
       "      <td>6.094959e+07</td>\n",
       "      <td>-4.048383e+07</td>\n",
       "      <td>-4.039783e+07</td>\n",
       "      <td>486655.0</td>\n",
       "    </tr>\n",
       "    <tr>\n",
       "      <th>ZYXI</th>\n",
       "      <td>1.504900e+07</td>\n",
       "      <td>4.202000e+06</td>\n",
       "      <td>6.983000e+06</td>\n",
       "      <td>2.977000e+06</td>\n",
       "      <td>9.291000e+06</td>\n",
       "      <td>-1.550900e+07</td>\n",
       "      <td>1.037000e+07</td>\n",
       "      <td>-154000.0</td>\n",
       "    </tr>\n",
       "    <tr>\n",
       "      <th>low</th>\n",
       "      <td>1.422800e+10</td>\n",
       "      <td>2.028000e+10</td>\n",
       "      <td>1.449700e+10</td>\n",
       "      <td>1.636700e+10</td>\n",
       "      <td>3.644000e+09</td>\n",
       "      <td>-1.889000e+10</td>\n",
       "      <td>4.018000e+09</td>\n",
       "      <td>-624000000.0</td>\n",
       "    </tr>\n",
       "  </tbody>\n",
       "</table>\n",
       "<p>937 rows × 8 columns</p>\n",
       "</div>"
      ],
      "text/plain": [
       "        Total Current Assets  Total Noncurrent Assets  \\\n",
       "Ticker                                                  \n",
       "A               3.848000e+09             4.693000e+09   \n",
       "AA              4.134000e+09             1.180400e+10   \n",
       "AAL             8.637000e+09             5.194300e+10   \n",
       "AAN             1.537208e+09             1.289484e+09   \n",
       "AAOI            1.942750e+08             2.725650e+08   \n",
       "...                      ...                      ...   \n",
       "ZTS             4.399000e+09             6.378000e+09   \n",
       "ZUMZ            3.271750e+08             2.070150e+08   \n",
       "ZYNE            6.822758e+07             8.267270e+05   \n",
       "ZYXI            1.504900e+07             4.202000e+06   \n",
       "low             1.422800e+10             2.028000e+10   \n",
       "\n",
       "        Total Current Liabilities  Total Noncurrent Liabilities  Total Equity  \\\n",
       "Ticker                                                                          \n",
       "A                    1.171000e+09                  2.799000e+09  4.571000e+09   \n",
       "AA                   2.919000e+09                  5.625000e+09  7.394000e+09   \n",
       "AAL                  1.809600e+10                  4.265300e+10 -1.690000e+08   \n",
       "AAN                  5.606530e+08                  5.053310e+08  1.760708e+09   \n",
       "AAOI                 7.741800e+07                  6.032800e+07  3.290940e+08   \n",
       "...                           ...                           ...           ...   \n",
       "ZTS                  1.223000e+09                  7.369000e+09  2.185000e+09   \n",
       "ZUMZ                 9.310800e+07                  4.062600e+07  4.004560e+08   \n",
       "ZYNE                 7.442721e+06                  6.620000e+05  6.094959e+07   \n",
       "ZYXI                 6.983000e+06                  2.977000e+06  9.291000e+06   \n",
       "low                  1.449700e+10                  1.636700e+10  3.644000e+09   \n",
       "\n",
       "        Operating Expenses  Operating Income (Loss)  \\\n",
       "Ticker                                                \n",
       "A            -1.759000e+09             9.280000e+08   \n",
       "AA           -1.012000e+09             2.310000e+09   \n",
       "AAL          -9.234000e+09             2.656000e+09   \n",
       "AAN          -1.616307e+09             2.907130e+08   \n",
       "AAOI         -9.854100e+07            -1.076800e+07   \n",
       "...                    ...                      ...   \n",
       "ZTS          -2.033000e+09             1.881000e+09   \n",
       "ZUMZ         -2.748580e+08             6.107800e+07   \n",
       "ZYNE         -4.048383e+07            -4.039783e+07   \n",
       "ZYXI         -1.550900e+07             1.037000e+07   \n",
       "low          -1.889000e+10             4.018000e+09   \n",
       "\n",
       "        Non-Operating Income (Loss)  \n",
       "Ticker                               \n",
       "A                        18000000.0  \n",
       "AA                     -186000000.0  \n",
       "AAL                    -772000000.0  \n",
       "AAN                     -17306000.0  \n",
       "AAOI                       990000.0  \n",
       "...                             ...  \n",
       "ZTS                    -123000000.0  \n",
       "ZUMZ                      1252000.0  \n",
       "ZYNE                       486655.0  \n",
       "ZYXI                      -154000.0  \n",
       "low                    -624000000.0  \n",
       "\n",
       "[937 rows x 8 columns]"
      ]
     },
     "execution_count": 150,
     "metadata": {},
     "output_type": "execute_result"
    }
   ],
   "source": [
    "X_standardize_sect = X_standardize.join(pd.get_dummies(final_df['Sector']))\n",
    "X_standardize"
   ]
  },
  {
   "cell_type": "code",
   "execution_count": 151,
   "metadata": {},
   "outputs": [],
   "source": [
    "# Splitting the dataset into the Training set and Test set\n",
    "X_train, X_test, y_train, y_test = train_test_split(X_standardize_sect, y_standardize, test_size = 1/5, random_state = 0)\n",
    "X_train = pd.DataFrame(X_train)\n",
    "X_test = pd.DataFrame(X_test)\n",
    "y_train = pd.DataFrame(y_train)\n",
    "y_test = pd.DataFrame(y_test)"
   ]
  },
  {
   "cell_type": "code",
   "execution_count": 152,
   "metadata": {},
   "outputs": [
    {
     "name": "stdout",
     "output_type": "stream",
     "text": [
      " score de regression sur train :  0.2158\n",
      " score de regression sur test :   0.2801\n"
     ]
    }
   ],
   "source": [
    "from sklearn.linear_model import LinearRegression\n",
    "regressor = LinearRegression()\n",
    "regressor.fit(X_train, y_train)\n",
    "\n",
    "#Predicting the Test set results\n",
    "y_pred = regressor.predict(X_test)\n",
    "\n",
    "print(f' score de regression sur train : {regressor.score(X_train, y_train) : .4f}')\n",
    "print(f' score de regression sur test :  {regressor.score(X_test, y_test) : .4f}')"
   ]
  },
  {
   "cell_type": "code",
   "execution_count": 153,
   "metadata": {},
   "outputs": [
    {
     "data": {
      "application/vnd.plotly.v1+json": {
       "config": {
        "plotlyServerURL": "https://plot.ly"
       },
       "data": [
        {
         "alignmentgroup": "True",
         "hovertemplate": "index=%{x}<br>beta=%{marker.color}<extra></extra>",
         "legendgroup": "",
         "marker": {
          "color": [
           -5.9412568879765915e-09,
           -5.941077826188186e-09,
           5.940798857963105e-09,
           5.940825865060199e-09,
           5.941085530656384e-09,
           -4.639874423271759e-13,
           3.898100933950617e-13,
           1.3417015028241124e-12,
           0.0026201818210087914,
           -0.015813160760690555,
           0.005637410211693823,
           -0.01034908746999107,
           0.024658307971728292,
           -0.0011367622217328109,
           0.01726543464718478,
           0.00018366626218688746,
           -0.005362692387077571,
           0.00983203455335176,
           -0.027535332627662324
          ],
          "coloraxis": "coloraxis"
         },
         "name": "",
         "offsetgroup": "",
         "orientation": "v",
         "showlegend": false,
         "textposition": "auto",
         "type": "bar",
         "x": [
          "Total Current Assets",
          "Total Noncurrent Assets",
          "Total Current Liabilities",
          "Total Noncurrent Liabilities",
          "Total Equity",
          "Operating Expenses",
          "Operating Income (Loss)",
          "Non-Operating Income (Loss)",
          "Basic Materials",
          "Business Services",
          "Consumer Cyclical",
          "Consumer Defensive",
          "Energy",
          "Financial Services",
          "Healthcare",
          "Industrials",
          "Real Estate",
          "Technology",
          "Utilities"
         ],
         "xaxis": "x",
         "y": [
          -5.9412568879765915e-09,
          -5.941077826188186e-09,
          5.940798857963105e-09,
          5.940825865060199e-09,
          5.941085530656384e-09,
          -4.639874423271759e-13,
          3.898100933950617e-13,
          1.3417015028241124e-12,
          0.0026201818210087914,
          -0.015813160760690555,
          0.005637410211693823,
          -0.01034908746999107,
          0.024658307971728292,
          -0.0011367622217328109,
          0.01726543464718478,
          0.00018366626218688746,
          -0.005362692387077571,
          0.00983203455335176,
          -0.027535332627662324
         ],
         "yaxis": "y"
        }
       ],
       "layout": {
        "barmode": "relative",
        "coloraxis": {
         "colorbar": {
          "title": {
           "text": "beta"
          }
         },
         "colorscale": [
          [
           0,
           "#0d0887"
          ],
          [
           0.1111111111111111,
           "#46039f"
          ],
          [
           0.2222222222222222,
           "#7201a8"
          ],
          [
           0.3333333333333333,
           "#9c179e"
          ],
          [
           0.4444444444444444,
           "#bd3786"
          ],
          [
           0.5555555555555556,
           "#d8576b"
          ],
          [
           0.6666666666666666,
           "#ed7953"
          ],
          [
           0.7777777777777778,
           "#fb9f3a"
          ],
          [
           0.8888888888888888,
           "#fdca26"
          ],
          [
           1,
           "#f0f921"
          ]
         ]
        },
        "legend": {
         "tracegroupgap": 0
        },
        "margin": {
         "t": 60
        },
        "template": {
         "data": {
          "bar": [
           {
            "error_x": {
             "color": "#2a3f5f"
            },
            "error_y": {
             "color": "#2a3f5f"
            },
            "marker": {
             "line": {
              "color": "#E5ECF6",
              "width": 0.5
             }
            },
            "type": "bar"
           }
          ],
          "barpolar": [
           {
            "marker": {
             "line": {
              "color": "#E5ECF6",
              "width": 0.5
             }
            },
            "type": "barpolar"
           }
          ],
          "carpet": [
           {
            "aaxis": {
             "endlinecolor": "#2a3f5f",
             "gridcolor": "white",
             "linecolor": "white",
             "minorgridcolor": "white",
             "startlinecolor": "#2a3f5f"
            },
            "baxis": {
             "endlinecolor": "#2a3f5f",
             "gridcolor": "white",
             "linecolor": "white",
             "minorgridcolor": "white",
             "startlinecolor": "#2a3f5f"
            },
            "type": "carpet"
           }
          ],
          "choropleth": [
           {
            "colorbar": {
             "outlinewidth": 0,
             "ticks": ""
            },
            "type": "choropleth"
           }
          ],
          "contour": [
           {
            "colorbar": {
             "outlinewidth": 0,
             "ticks": ""
            },
            "colorscale": [
             [
              0,
              "#0d0887"
             ],
             [
              0.1111111111111111,
              "#46039f"
             ],
             [
              0.2222222222222222,
              "#7201a8"
             ],
             [
              0.3333333333333333,
              "#9c179e"
             ],
             [
              0.4444444444444444,
              "#bd3786"
             ],
             [
              0.5555555555555556,
              "#d8576b"
             ],
             [
              0.6666666666666666,
              "#ed7953"
             ],
             [
              0.7777777777777778,
              "#fb9f3a"
             ],
             [
              0.8888888888888888,
              "#fdca26"
             ],
             [
              1,
              "#f0f921"
             ]
            ],
            "type": "contour"
           }
          ],
          "contourcarpet": [
           {
            "colorbar": {
             "outlinewidth": 0,
             "ticks": ""
            },
            "type": "contourcarpet"
           }
          ],
          "heatmap": [
           {
            "colorbar": {
             "outlinewidth": 0,
             "ticks": ""
            },
            "colorscale": [
             [
              0,
              "#0d0887"
             ],
             [
              0.1111111111111111,
              "#46039f"
             ],
             [
              0.2222222222222222,
              "#7201a8"
             ],
             [
              0.3333333333333333,
              "#9c179e"
             ],
             [
              0.4444444444444444,
              "#bd3786"
             ],
             [
              0.5555555555555556,
              "#d8576b"
             ],
             [
              0.6666666666666666,
              "#ed7953"
             ],
             [
              0.7777777777777778,
              "#fb9f3a"
             ],
             [
              0.8888888888888888,
              "#fdca26"
             ],
             [
              1,
              "#f0f921"
             ]
            ],
            "type": "heatmap"
           }
          ],
          "heatmapgl": [
           {
            "colorbar": {
             "outlinewidth": 0,
             "ticks": ""
            },
            "colorscale": [
             [
              0,
              "#0d0887"
             ],
             [
              0.1111111111111111,
              "#46039f"
             ],
             [
              0.2222222222222222,
              "#7201a8"
             ],
             [
              0.3333333333333333,
              "#9c179e"
             ],
             [
              0.4444444444444444,
              "#bd3786"
             ],
             [
              0.5555555555555556,
              "#d8576b"
             ],
             [
              0.6666666666666666,
              "#ed7953"
             ],
             [
              0.7777777777777778,
              "#fb9f3a"
             ],
             [
              0.8888888888888888,
              "#fdca26"
             ],
             [
              1,
              "#f0f921"
             ]
            ],
            "type": "heatmapgl"
           }
          ],
          "histogram": [
           {
            "marker": {
             "colorbar": {
              "outlinewidth": 0,
              "ticks": ""
             }
            },
            "type": "histogram"
           }
          ],
          "histogram2d": [
           {
            "colorbar": {
             "outlinewidth": 0,
             "ticks": ""
            },
            "colorscale": [
             [
              0,
              "#0d0887"
             ],
             [
              0.1111111111111111,
              "#46039f"
             ],
             [
              0.2222222222222222,
              "#7201a8"
             ],
             [
              0.3333333333333333,
              "#9c179e"
             ],
             [
              0.4444444444444444,
              "#bd3786"
             ],
             [
              0.5555555555555556,
              "#d8576b"
             ],
             [
              0.6666666666666666,
              "#ed7953"
             ],
             [
              0.7777777777777778,
              "#fb9f3a"
             ],
             [
              0.8888888888888888,
              "#fdca26"
             ],
             [
              1,
              "#f0f921"
             ]
            ],
            "type": "histogram2d"
           }
          ],
          "histogram2dcontour": [
           {
            "colorbar": {
             "outlinewidth": 0,
             "ticks": ""
            },
            "colorscale": [
             [
              0,
              "#0d0887"
             ],
             [
              0.1111111111111111,
              "#46039f"
             ],
             [
              0.2222222222222222,
              "#7201a8"
             ],
             [
              0.3333333333333333,
              "#9c179e"
             ],
             [
              0.4444444444444444,
              "#bd3786"
             ],
             [
              0.5555555555555556,
              "#d8576b"
             ],
             [
              0.6666666666666666,
              "#ed7953"
             ],
             [
              0.7777777777777778,
              "#fb9f3a"
             ],
             [
              0.8888888888888888,
              "#fdca26"
             ],
             [
              1,
              "#f0f921"
             ]
            ],
            "type": "histogram2dcontour"
           }
          ],
          "mesh3d": [
           {
            "colorbar": {
             "outlinewidth": 0,
             "ticks": ""
            },
            "type": "mesh3d"
           }
          ],
          "parcoords": [
           {
            "line": {
             "colorbar": {
              "outlinewidth": 0,
              "ticks": ""
             }
            },
            "type": "parcoords"
           }
          ],
          "pie": [
           {
            "automargin": true,
            "type": "pie"
           }
          ],
          "scatter": [
           {
            "marker": {
             "colorbar": {
              "outlinewidth": 0,
              "ticks": ""
             }
            },
            "type": "scatter"
           }
          ],
          "scatter3d": [
           {
            "line": {
             "colorbar": {
              "outlinewidth": 0,
              "ticks": ""
             }
            },
            "marker": {
             "colorbar": {
              "outlinewidth": 0,
              "ticks": ""
             }
            },
            "type": "scatter3d"
           }
          ],
          "scattercarpet": [
           {
            "marker": {
             "colorbar": {
              "outlinewidth": 0,
              "ticks": ""
             }
            },
            "type": "scattercarpet"
           }
          ],
          "scattergeo": [
           {
            "marker": {
             "colorbar": {
              "outlinewidth": 0,
              "ticks": ""
             }
            },
            "type": "scattergeo"
           }
          ],
          "scattergl": [
           {
            "marker": {
             "colorbar": {
              "outlinewidth": 0,
              "ticks": ""
             }
            },
            "type": "scattergl"
           }
          ],
          "scattermapbox": [
           {
            "marker": {
             "colorbar": {
              "outlinewidth": 0,
              "ticks": ""
             }
            },
            "type": "scattermapbox"
           }
          ],
          "scatterpolar": [
           {
            "marker": {
             "colorbar": {
              "outlinewidth": 0,
              "ticks": ""
             }
            },
            "type": "scatterpolar"
           }
          ],
          "scatterpolargl": [
           {
            "marker": {
             "colorbar": {
              "outlinewidth": 0,
              "ticks": ""
             }
            },
            "type": "scatterpolargl"
           }
          ],
          "scatterternary": [
           {
            "marker": {
             "colorbar": {
              "outlinewidth": 0,
              "ticks": ""
             }
            },
            "type": "scatterternary"
           }
          ],
          "surface": [
           {
            "colorbar": {
             "outlinewidth": 0,
             "ticks": ""
            },
            "colorscale": [
             [
              0,
              "#0d0887"
             ],
             [
              0.1111111111111111,
              "#46039f"
             ],
             [
              0.2222222222222222,
              "#7201a8"
             ],
             [
              0.3333333333333333,
              "#9c179e"
             ],
             [
              0.4444444444444444,
              "#bd3786"
             ],
             [
              0.5555555555555556,
              "#d8576b"
             ],
             [
              0.6666666666666666,
              "#ed7953"
             ],
             [
              0.7777777777777778,
              "#fb9f3a"
             ],
             [
              0.8888888888888888,
              "#fdca26"
             ],
             [
              1,
              "#f0f921"
             ]
            ],
            "type": "surface"
           }
          ],
          "table": [
           {
            "cells": {
             "fill": {
              "color": "#EBF0F8"
             },
             "line": {
              "color": "white"
             }
            },
            "header": {
             "fill": {
              "color": "#C8D4E3"
             },
             "line": {
              "color": "white"
             }
            },
            "type": "table"
           }
          ]
         },
         "layout": {
          "annotationdefaults": {
           "arrowcolor": "#2a3f5f",
           "arrowhead": 0,
           "arrowwidth": 1
          },
          "coloraxis": {
           "colorbar": {
            "outlinewidth": 0,
            "ticks": ""
           }
          },
          "colorscale": {
           "diverging": [
            [
             0,
             "#8e0152"
            ],
            [
             0.1,
             "#c51b7d"
            ],
            [
             0.2,
             "#de77ae"
            ],
            [
             0.3,
             "#f1b6da"
            ],
            [
             0.4,
             "#fde0ef"
            ],
            [
             0.5,
             "#f7f7f7"
            ],
            [
             0.6,
             "#e6f5d0"
            ],
            [
             0.7,
             "#b8e186"
            ],
            [
             0.8,
             "#7fbc41"
            ],
            [
             0.9,
             "#4d9221"
            ],
            [
             1,
             "#276419"
            ]
           ],
           "sequential": [
            [
             0,
             "#0d0887"
            ],
            [
             0.1111111111111111,
             "#46039f"
            ],
            [
             0.2222222222222222,
             "#7201a8"
            ],
            [
             0.3333333333333333,
             "#9c179e"
            ],
            [
             0.4444444444444444,
             "#bd3786"
            ],
            [
             0.5555555555555556,
             "#d8576b"
            ],
            [
             0.6666666666666666,
             "#ed7953"
            ],
            [
             0.7777777777777778,
             "#fb9f3a"
            ],
            [
             0.8888888888888888,
             "#fdca26"
            ],
            [
             1,
             "#f0f921"
            ]
           ],
           "sequentialminus": [
            [
             0,
             "#0d0887"
            ],
            [
             0.1111111111111111,
             "#46039f"
            ],
            [
             0.2222222222222222,
             "#7201a8"
            ],
            [
             0.3333333333333333,
             "#9c179e"
            ],
            [
             0.4444444444444444,
             "#bd3786"
            ],
            [
             0.5555555555555556,
             "#d8576b"
            ],
            [
             0.6666666666666666,
             "#ed7953"
            ],
            [
             0.7777777777777778,
             "#fb9f3a"
            ],
            [
             0.8888888888888888,
             "#fdca26"
            ],
            [
             1,
             "#f0f921"
            ]
           ]
          },
          "colorway": [
           "#636efa",
           "#EF553B",
           "#00cc96",
           "#ab63fa",
           "#FFA15A",
           "#19d3f3",
           "#FF6692",
           "#B6E880",
           "#FF97FF",
           "#FECB52"
          ],
          "font": {
           "color": "#2a3f5f"
          },
          "geo": {
           "bgcolor": "white",
           "lakecolor": "white",
           "landcolor": "#E5ECF6",
           "showlakes": true,
           "showland": true,
           "subunitcolor": "white"
          },
          "hoverlabel": {
           "align": "left"
          },
          "hovermode": "closest",
          "mapbox": {
           "style": "light"
          },
          "paper_bgcolor": "white",
          "plot_bgcolor": "#E5ECF6",
          "polar": {
           "angularaxis": {
            "gridcolor": "white",
            "linecolor": "white",
            "ticks": ""
           },
           "bgcolor": "#E5ECF6",
           "radialaxis": {
            "gridcolor": "white",
            "linecolor": "white",
            "ticks": ""
           }
          },
          "scene": {
           "xaxis": {
            "backgroundcolor": "#E5ECF6",
            "gridcolor": "white",
            "gridwidth": 2,
            "linecolor": "white",
            "showbackground": true,
            "ticks": "",
            "zerolinecolor": "white"
           },
           "yaxis": {
            "backgroundcolor": "#E5ECF6",
            "gridcolor": "white",
            "gridwidth": 2,
            "linecolor": "white",
            "showbackground": true,
            "ticks": "",
            "zerolinecolor": "white"
           },
           "zaxis": {
            "backgroundcolor": "#E5ECF6",
            "gridcolor": "white",
            "gridwidth": 2,
            "linecolor": "white",
            "showbackground": true,
            "ticks": "",
            "zerolinecolor": "white"
           }
          },
          "shapedefaults": {
           "line": {
            "color": "#2a3f5f"
           }
          },
          "ternary": {
           "aaxis": {
            "gridcolor": "white",
            "linecolor": "white",
            "ticks": ""
           },
           "baxis": {
            "gridcolor": "white",
            "linecolor": "white",
            "ticks": ""
           },
           "bgcolor": "#E5ECF6",
           "caxis": {
            "gridcolor": "white",
            "linecolor": "white",
            "ticks": ""
           }
          },
          "title": {
           "x": 0.05
          },
          "xaxis": {
           "automargin": true,
           "gridcolor": "white",
           "linecolor": "white",
           "ticks": "",
           "title": {
            "standoff": 15
           },
           "zerolinecolor": "white",
           "zerolinewidth": 2
          },
          "yaxis": {
           "automargin": true,
           "gridcolor": "white",
           "linecolor": "white",
           "ticks": "",
           "title": {
            "standoff": 15
           },
           "zerolinecolor": "white",
           "zerolinewidth": 2
          }
         }
        },
        "title": {
         "text": "Betas influence"
        },
        "xaxis": {
         "anchor": "y",
         "domain": [
          0,
          1
         ],
         "title": {
          "text": "index"
         }
        },
        "yaxis": {
         "anchor": "x",
         "domain": [
          0,
          1
         ],
         "title": {
          "text": "beta"
         }
        }
       }
      },
      "text/html": [
       "<div>\n",
       "        \n",
       "        \n",
       "            <div id=\"25a4bf22-9960-4945-a897-8cb07c5bd4b0\" class=\"plotly-graph-div\" style=\"height:525px; width:100%;\"></div>\n",
       "            <script type=\"text/javascript\">\n",
       "                require([\"plotly\"], function(Plotly) {\n",
       "                    window.PLOTLYENV=window.PLOTLYENV || {};\n",
       "                    \n",
       "                if (document.getElementById(\"25a4bf22-9960-4945-a897-8cb07c5bd4b0\")) {\n",
       "                    Plotly.newPlot(\n",
       "                        '25a4bf22-9960-4945-a897-8cb07c5bd4b0',\n",
       "                        [{\"alignmentgroup\": \"True\", \"hovertemplate\": \"index=%{x}<br>beta=%{marker.color}<extra></extra>\", \"legendgroup\": \"\", \"marker\": {\"color\": [-5.9412568879765915e-09, -5.941077826188186e-09, 5.940798857963105e-09, 5.940825865060199e-09, 5.941085530656384e-09, -4.639874423271759e-13, 3.898100933950617e-13, 1.3417015028241124e-12, 0.0026201818210087914, -0.015813160760690555, 0.005637410211693823, -0.01034908746999107, 0.024658307971728292, -0.0011367622217328109, 0.01726543464718478, 0.00018366626218688746, -0.005362692387077571, 0.00983203455335176, -0.027535332627662324], \"coloraxis\": \"coloraxis\"}, \"name\": \"\", \"offsetgroup\": \"\", \"orientation\": \"v\", \"showlegend\": false, \"textposition\": \"auto\", \"type\": \"bar\", \"x\": [\"Total Current Assets\", \"Total Noncurrent Assets\", \"Total Current Liabilities\", \"Total Noncurrent Liabilities\", \"Total Equity\", \"Operating Expenses\", \"Operating Income (Loss)\", \"Non-Operating Income (Loss)\", \"Basic Materials\", \"Business Services\", \"Consumer Cyclical\", \"Consumer Defensive\", \"Energy\", \"Financial Services\", \"Healthcare\", \"Industrials\", \"Real Estate\", \"Technology\", \"Utilities\"], \"xaxis\": \"x\", \"y\": [-5.9412568879765915e-09, -5.941077826188186e-09, 5.940798857963105e-09, 5.940825865060199e-09, 5.941085530656384e-09, -4.639874423271759e-13, 3.898100933950617e-13, 1.3417015028241124e-12, 0.0026201818210087914, -0.015813160760690555, 0.005637410211693823, -0.01034908746999107, 0.024658307971728292, -0.0011367622217328109, 0.01726543464718478, 0.00018366626218688746, -0.005362692387077571, 0.00983203455335176, -0.027535332627662324], \"yaxis\": \"y\"}],\n",
       "                        {\"barmode\": \"relative\", \"coloraxis\": {\"colorbar\": {\"title\": {\"text\": \"beta\"}}, \"colorscale\": [[0.0, \"#0d0887\"], [0.1111111111111111, \"#46039f\"], [0.2222222222222222, \"#7201a8\"], [0.3333333333333333, \"#9c179e\"], [0.4444444444444444, \"#bd3786\"], [0.5555555555555556, \"#d8576b\"], [0.6666666666666666, \"#ed7953\"], [0.7777777777777778, \"#fb9f3a\"], [0.8888888888888888, \"#fdca26\"], [1.0, \"#f0f921\"]]}, \"legend\": {\"tracegroupgap\": 0}, \"margin\": {\"t\": 60}, \"template\": {\"data\": {\"bar\": [{\"error_x\": {\"color\": \"#2a3f5f\"}, \"error_y\": {\"color\": \"#2a3f5f\"}, \"marker\": {\"line\": {\"color\": \"#E5ECF6\", \"width\": 0.5}}, \"type\": \"bar\"}], \"barpolar\": [{\"marker\": {\"line\": {\"color\": \"#E5ECF6\", \"width\": 0.5}}, \"type\": \"barpolar\"}], \"carpet\": [{\"aaxis\": {\"endlinecolor\": \"#2a3f5f\", \"gridcolor\": \"white\", \"linecolor\": \"white\", \"minorgridcolor\": \"white\", \"startlinecolor\": \"#2a3f5f\"}, \"baxis\": {\"endlinecolor\": \"#2a3f5f\", \"gridcolor\": \"white\", \"linecolor\": \"white\", \"minorgridcolor\": \"white\", \"startlinecolor\": \"#2a3f5f\"}, \"type\": \"carpet\"}], \"choropleth\": [{\"colorbar\": {\"outlinewidth\": 0, \"ticks\": \"\"}, \"type\": \"choropleth\"}], \"contour\": [{\"colorbar\": {\"outlinewidth\": 0, \"ticks\": \"\"}, \"colorscale\": [[0.0, \"#0d0887\"], [0.1111111111111111, \"#46039f\"], [0.2222222222222222, \"#7201a8\"], [0.3333333333333333, \"#9c179e\"], [0.4444444444444444, \"#bd3786\"], [0.5555555555555556, \"#d8576b\"], [0.6666666666666666, \"#ed7953\"], [0.7777777777777778, \"#fb9f3a\"], [0.8888888888888888, \"#fdca26\"], [1.0, \"#f0f921\"]], \"type\": \"contour\"}], \"contourcarpet\": [{\"colorbar\": {\"outlinewidth\": 0, \"ticks\": \"\"}, \"type\": \"contourcarpet\"}], \"heatmap\": [{\"colorbar\": {\"outlinewidth\": 0, \"ticks\": \"\"}, \"colorscale\": [[0.0, \"#0d0887\"], [0.1111111111111111, \"#46039f\"], [0.2222222222222222, \"#7201a8\"], [0.3333333333333333, \"#9c179e\"], [0.4444444444444444, \"#bd3786\"], [0.5555555555555556, \"#d8576b\"], [0.6666666666666666, \"#ed7953\"], [0.7777777777777778, \"#fb9f3a\"], [0.8888888888888888, \"#fdca26\"], [1.0, \"#f0f921\"]], \"type\": \"heatmap\"}], \"heatmapgl\": [{\"colorbar\": {\"outlinewidth\": 0, \"ticks\": \"\"}, \"colorscale\": [[0.0, \"#0d0887\"], [0.1111111111111111, \"#46039f\"], [0.2222222222222222, \"#7201a8\"], [0.3333333333333333, \"#9c179e\"], [0.4444444444444444, \"#bd3786\"], [0.5555555555555556, \"#d8576b\"], [0.6666666666666666, \"#ed7953\"], [0.7777777777777778, \"#fb9f3a\"], [0.8888888888888888, \"#fdca26\"], [1.0, \"#f0f921\"]], \"type\": \"heatmapgl\"}], \"histogram\": [{\"marker\": {\"colorbar\": {\"outlinewidth\": 0, \"ticks\": \"\"}}, \"type\": \"histogram\"}], \"histogram2d\": [{\"colorbar\": {\"outlinewidth\": 0, \"ticks\": \"\"}, \"colorscale\": [[0.0, \"#0d0887\"], [0.1111111111111111, \"#46039f\"], [0.2222222222222222, \"#7201a8\"], [0.3333333333333333, \"#9c179e\"], [0.4444444444444444, \"#bd3786\"], [0.5555555555555556, \"#d8576b\"], [0.6666666666666666, \"#ed7953\"], [0.7777777777777778, \"#fb9f3a\"], [0.8888888888888888, \"#fdca26\"], [1.0, \"#f0f921\"]], \"type\": \"histogram2d\"}], \"histogram2dcontour\": [{\"colorbar\": {\"outlinewidth\": 0, \"ticks\": \"\"}, \"colorscale\": [[0.0, \"#0d0887\"], [0.1111111111111111, \"#46039f\"], [0.2222222222222222, \"#7201a8\"], [0.3333333333333333, \"#9c179e\"], [0.4444444444444444, \"#bd3786\"], [0.5555555555555556, \"#d8576b\"], [0.6666666666666666, \"#ed7953\"], [0.7777777777777778, \"#fb9f3a\"], [0.8888888888888888, \"#fdca26\"], [1.0, \"#f0f921\"]], \"type\": \"histogram2dcontour\"}], \"mesh3d\": [{\"colorbar\": {\"outlinewidth\": 0, \"ticks\": \"\"}, \"type\": \"mesh3d\"}], \"parcoords\": [{\"line\": {\"colorbar\": {\"outlinewidth\": 0, \"ticks\": \"\"}}, \"type\": \"parcoords\"}], \"pie\": [{\"automargin\": true, \"type\": \"pie\"}], \"scatter\": [{\"marker\": {\"colorbar\": {\"outlinewidth\": 0, \"ticks\": \"\"}}, \"type\": \"scatter\"}], \"scatter3d\": [{\"line\": {\"colorbar\": {\"outlinewidth\": 0, \"ticks\": \"\"}}, \"marker\": {\"colorbar\": {\"outlinewidth\": 0, \"ticks\": \"\"}}, \"type\": \"scatter3d\"}], \"scattercarpet\": [{\"marker\": {\"colorbar\": {\"outlinewidth\": 0, \"ticks\": \"\"}}, \"type\": \"scattercarpet\"}], \"scattergeo\": [{\"marker\": {\"colorbar\": {\"outlinewidth\": 0, \"ticks\": \"\"}}, \"type\": \"scattergeo\"}], \"scattergl\": [{\"marker\": {\"colorbar\": {\"outlinewidth\": 0, \"ticks\": \"\"}}, \"type\": \"scattergl\"}], \"scattermapbox\": [{\"marker\": {\"colorbar\": {\"outlinewidth\": 0, \"ticks\": \"\"}}, \"type\": \"scattermapbox\"}], \"scatterpolar\": [{\"marker\": {\"colorbar\": {\"outlinewidth\": 0, \"ticks\": \"\"}}, \"type\": \"scatterpolar\"}], \"scatterpolargl\": [{\"marker\": {\"colorbar\": {\"outlinewidth\": 0, \"ticks\": \"\"}}, \"type\": \"scatterpolargl\"}], \"scatterternary\": [{\"marker\": {\"colorbar\": {\"outlinewidth\": 0, \"ticks\": \"\"}}, \"type\": \"scatterternary\"}], \"surface\": [{\"colorbar\": {\"outlinewidth\": 0, \"ticks\": \"\"}, \"colorscale\": [[0.0, \"#0d0887\"], [0.1111111111111111, \"#46039f\"], [0.2222222222222222, \"#7201a8\"], [0.3333333333333333, \"#9c179e\"], [0.4444444444444444, \"#bd3786\"], [0.5555555555555556, \"#d8576b\"], [0.6666666666666666, \"#ed7953\"], [0.7777777777777778, \"#fb9f3a\"], [0.8888888888888888, \"#fdca26\"], [1.0, \"#f0f921\"]], \"type\": \"surface\"}], \"table\": [{\"cells\": {\"fill\": {\"color\": \"#EBF0F8\"}, \"line\": {\"color\": \"white\"}}, \"header\": {\"fill\": {\"color\": \"#C8D4E3\"}, \"line\": {\"color\": \"white\"}}, \"type\": \"table\"}]}, \"layout\": {\"annotationdefaults\": {\"arrowcolor\": \"#2a3f5f\", \"arrowhead\": 0, \"arrowwidth\": 1}, \"coloraxis\": {\"colorbar\": {\"outlinewidth\": 0, \"ticks\": \"\"}}, \"colorscale\": {\"diverging\": [[0, \"#8e0152\"], [0.1, \"#c51b7d\"], [0.2, \"#de77ae\"], [0.3, \"#f1b6da\"], [0.4, \"#fde0ef\"], [0.5, \"#f7f7f7\"], [0.6, \"#e6f5d0\"], [0.7, \"#b8e186\"], [0.8, \"#7fbc41\"], [0.9, \"#4d9221\"], [1, \"#276419\"]], \"sequential\": [[0.0, \"#0d0887\"], [0.1111111111111111, \"#46039f\"], [0.2222222222222222, \"#7201a8\"], [0.3333333333333333, \"#9c179e\"], [0.4444444444444444, \"#bd3786\"], [0.5555555555555556, \"#d8576b\"], [0.6666666666666666, \"#ed7953\"], [0.7777777777777778, \"#fb9f3a\"], [0.8888888888888888, \"#fdca26\"], [1.0, \"#f0f921\"]], \"sequentialminus\": [[0.0, \"#0d0887\"], [0.1111111111111111, \"#46039f\"], [0.2222222222222222, \"#7201a8\"], [0.3333333333333333, \"#9c179e\"], [0.4444444444444444, \"#bd3786\"], [0.5555555555555556, \"#d8576b\"], [0.6666666666666666, \"#ed7953\"], [0.7777777777777778, \"#fb9f3a\"], [0.8888888888888888, \"#fdca26\"], [1.0, \"#f0f921\"]]}, \"colorway\": [\"#636efa\", \"#EF553B\", \"#00cc96\", \"#ab63fa\", \"#FFA15A\", \"#19d3f3\", \"#FF6692\", \"#B6E880\", \"#FF97FF\", \"#FECB52\"], \"font\": {\"color\": \"#2a3f5f\"}, \"geo\": {\"bgcolor\": \"white\", \"lakecolor\": \"white\", \"landcolor\": \"#E5ECF6\", \"showlakes\": true, \"showland\": true, \"subunitcolor\": \"white\"}, \"hoverlabel\": {\"align\": \"left\"}, \"hovermode\": \"closest\", \"mapbox\": {\"style\": \"light\"}, \"paper_bgcolor\": \"white\", \"plot_bgcolor\": \"#E5ECF6\", \"polar\": {\"angularaxis\": {\"gridcolor\": \"white\", \"linecolor\": \"white\", \"ticks\": \"\"}, \"bgcolor\": \"#E5ECF6\", \"radialaxis\": {\"gridcolor\": \"white\", \"linecolor\": \"white\", \"ticks\": \"\"}}, \"scene\": {\"xaxis\": {\"backgroundcolor\": \"#E5ECF6\", \"gridcolor\": \"white\", \"gridwidth\": 2, \"linecolor\": \"white\", \"showbackground\": true, \"ticks\": \"\", \"zerolinecolor\": \"white\"}, \"yaxis\": {\"backgroundcolor\": \"#E5ECF6\", \"gridcolor\": \"white\", \"gridwidth\": 2, \"linecolor\": \"white\", \"showbackground\": true, \"ticks\": \"\", \"zerolinecolor\": \"white\"}, \"zaxis\": {\"backgroundcolor\": \"#E5ECF6\", \"gridcolor\": \"white\", \"gridwidth\": 2, \"linecolor\": \"white\", \"showbackground\": true, \"ticks\": \"\", \"zerolinecolor\": \"white\"}}, \"shapedefaults\": {\"line\": {\"color\": \"#2a3f5f\"}}, \"ternary\": {\"aaxis\": {\"gridcolor\": \"white\", \"linecolor\": \"white\", \"ticks\": \"\"}, \"baxis\": {\"gridcolor\": \"white\", \"linecolor\": \"white\", \"ticks\": \"\"}, \"bgcolor\": \"#E5ECF6\", \"caxis\": {\"gridcolor\": \"white\", \"linecolor\": \"white\", \"ticks\": \"\"}}, \"title\": {\"x\": 0.05}, \"xaxis\": {\"automargin\": true, \"gridcolor\": \"white\", \"linecolor\": \"white\", \"ticks\": \"\", \"title\": {\"standoff\": 15}, \"zerolinecolor\": \"white\", \"zerolinewidth\": 2}, \"yaxis\": {\"automargin\": true, \"gridcolor\": \"white\", \"linecolor\": \"white\", \"ticks\": \"\", \"title\": {\"standoff\": 15}, \"zerolinecolor\": \"white\", \"zerolinewidth\": 2}}}, \"title\": {\"text\": \"Betas influence\"}, \"xaxis\": {\"anchor\": \"y\", \"domain\": [0.0, 1.0], \"title\": {\"text\": \"index\"}}, \"yaxis\": {\"anchor\": \"x\", \"domain\": [0.0, 1.0], \"title\": {\"text\": \"beta\"}}},\n",
       "                        {\"responsive\": true}\n",
       "                    ).then(function(){\n",
       "                            \n",
       "var gd = document.getElementById('25a4bf22-9960-4945-a897-8cb07c5bd4b0');\n",
       "var x = new MutationObserver(function (mutations, observer) {{\n",
       "        var display = window.getComputedStyle(gd).display;\n",
       "        if (!display || display === 'none') {{\n",
       "            console.log([gd, 'removed!']);\n",
       "            Plotly.purge(gd);\n",
       "            observer.disconnect();\n",
       "        }}\n",
       "}});\n",
       "\n",
       "// Listen for the removal of the full notebook cells\n",
       "var notebookContainer = gd.closest('#notebook-container');\n",
       "if (notebookContainer) {{\n",
       "    x.observe(notebookContainer, {childList: true});\n",
       "}}\n",
       "\n",
       "// Listen for the clearing of the current output cell\n",
       "var outputEl = gd.closest('.output');\n",
       "if (outputEl) {{\n",
       "    x.observe(outputEl, {childList: true});\n",
       "}}\n",
       "\n",
       "                        })\n",
       "                };\n",
       "                });\n",
       "            </script>\n",
       "        </div>"
      ]
     },
     "metadata": {},
     "output_type": "display_data"
    }
   ],
   "source": [
    "# Plot the betas\n",
    "reg_coeffs = pd.DataFrame(regressor.coef_).T\n",
    "reg_coeffs.index = (X_train.columns.to_list())\n",
    "reg_coeffs.rename(columns={0 : 'beta'}, inplace= True)\n",
    "import plotly.express as px\n",
    "fig = px.bar(reg_coeffs,\n",
    "             x=reg_coeffs.index,\n",
    "             y='beta',\n",
    "            color='beta')\n",
    "fig.update_layout(title = 'Betas influence')\n",
    "fig.show()"
   ]
  },
  {
   "cell_type": "code",
   "execution_count": 154,
   "metadata": {},
   "outputs": [
    {
     "data": {
      "text/html": [
       "<div>\n",
       "<style scoped>\n",
       "    .dataframe tbody tr th:only-of-type {\n",
       "        vertical-align: middle;\n",
       "    }\n",
       "\n",
       "    .dataframe tbody tr th {\n",
       "        vertical-align: top;\n",
       "    }\n",
       "\n",
       "    .dataframe thead th {\n",
       "        text-align: right;\n",
       "    }\n",
       "</style>\n",
       "<table border=\"1\" class=\"dataframe\">\n",
       "  <thead>\n",
       "    <tr style=\"text-align: right;\">\n",
       "      <th></th>\n",
       "      <th>beta</th>\n",
       "    </tr>\n",
       "  </thead>\n",
       "  <tbody>\n",
       "    <tr>\n",
       "      <th>Total Current Assets</th>\n",
       "      <td>-5.941257e-09</td>\n",
       "    </tr>\n",
       "    <tr>\n",
       "      <th>Total Noncurrent Assets</th>\n",
       "      <td>-5.941078e-09</td>\n",
       "    </tr>\n",
       "    <tr>\n",
       "      <th>Total Current Liabilities</th>\n",
       "      <td>5.940799e-09</td>\n",
       "    </tr>\n",
       "    <tr>\n",
       "      <th>Total Noncurrent Liabilities</th>\n",
       "      <td>5.940826e-09</td>\n",
       "    </tr>\n",
       "    <tr>\n",
       "      <th>Total Equity</th>\n",
       "      <td>5.941086e-09</td>\n",
       "    </tr>\n",
       "    <tr>\n",
       "      <th>Operating Expenses</th>\n",
       "      <td>-4.639874e-13</td>\n",
       "    </tr>\n",
       "    <tr>\n",
       "      <th>Operating Income (Loss)</th>\n",
       "      <td>3.898101e-13</td>\n",
       "    </tr>\n",
       "    <tr>\n",
       "      <th>Non-Operating Income (Loss)</th>\n",
       "      <td>1.341702e-12</td>\n",
       "    </tr>\n",
       "    <tr>\n",
       "      <th>Basic Materials</th>\n",
       "      <td>2.620182e-03</td>\n",
       "    </tr>\n",
       "    <tr>\n",
       "      <th>Business Services</th>\n",
       "      <td>-1.581316e-02</td>\n",
       "    </tr>\n",
       "    <tr>\n",
       "      <th>Consumer Cyclical</th>\n",
       "      <td>5.637410e-03</td>\n",
       "    </tr>\n",
       "    <tr>\n",
       "      <th>Consumer Defensive</th>\n",
       "      <td>-1.034909e-02</td>\n",
       "    </tr>\n",
       "    <tr>\n",
       "      <th>Energy</th>\n",
       "      <td>2.465831e-02</td>\n",
       "    </tr>\n",
       "    <tr>\n",
       "      <th>Financial Services</th>\n",
       "      <td>-1.136762e-03</td>\n",
       "    </tr>\n",
       "    <tr>\n",
       "      <th>Healthcare</th>\n",
       "      <td>1.726543e-02</td>\n",
       "    </tr>\n",
       "    <tr>\n",
       "      <th>Industrials</th>\n",
       "      <td>1.836663e-04</td>\n",
       "    </tr>\n",
       "    <tr>\n",
       "      <th>Real Estate</th>\n",
       "      <td>-5.362692e-03</td>\n",
       "    </tr>\n",
       "    <tr>\n",
       "      <th>Technology</th>\n",
       "      <td>9.832035e-03</td>\n",
       "    </tr>\n",
       "    <tr>\n",
       "      <th>Utilities</th>\n",
       "      <td>-2.753533e-02</td>\n",
       "    </tr>\n",
       "  </tbody>\n",
       "</table>\n",
       "</div>"
      ],
      "text/plain": [
       "                                      beta\n",
       "Total Current Assets         -5.941257e-09\n",
       "Total Noncurrent Assets      -5.941078e-09\n",
       "Total Current Liabilities     5.940799e-09\n",
       "Total Noncurrent Liabilities  5.940826e-09\n",
       "Total Equity                  5.941086e-09\n",
       "Operating Expenses           -4.639874e-13\n",
       "Operating Income (Loss)       3.898101e-13\n",
       "Non-Operating Income (Loss)   1.341702e-12\n",
       "Basic Materials               2.620182e-03\n",
       "Business Services            -1.581316e-02\n",
       "Consumer Cyclical             5.637410e-03\n",
       "Consumer Defensive           -1.034909e-02\n",
       "Energy                        2.465831e-02\n",
       "Financial Services           -1.136762e-03\n",
       "Healthcare                    1.726543e-02\n",
       "Industrials                   1.836663e-04\n",
       "Real Estate                  -5.362692e-03\n",
       "Technology                    9.832035e-03\n",
       "Utilities                    -2.753533e-02"
      ]
     },
     "execution_count": 154,
     "metadata": {},
     "output_type": "execute_result"
    }
   ],
   "source": [
    "reg_coeffs"
   ]
  },
  {
   "cell_type": "markdown",
   "metadata": {},
   "source": [
    "##### Interpret"
   ]
  },
  {
   "cell_type": "code",
   "execution_count": 155,
   "metadata": {},
   "outputs": [
    {
     "data": {
      "text/html": [
       "<div>\n",
       "<style scoped>\n",
       "    .dataframe tbody tr th:only-of-type {\n",
       "        vertical-align: middle;\n",
       "    }\n",
       "\n",
       "    .dataframe tbody tr th {\n",
       "        vertical-align: top;\n",
       "    }\n",
       "\n",
       "    .dataframe thead th {\n",
       "        text-align: right;\n",
       "    }\n",
       "</style>\n",
       "<table border=\"1\" class=\"dataframe\">\n",
       "  <thead>\n",
       "    <tr style=\"text-align: right;\">\n",
       "      <th></th>\n",
       "      <th>0</th>\n",
       "    </tr>\n",
       "  </thead>\n",
       "  <tbody>\n",
       "    <tr>\n",
       "      <th>0</th>\n",
       "      <td>0.073637</td>\n",
       "    </tr>\n",
       "    <tr>\n",
       "      <th>1</th>\n",
       "      <td>0.056425</td>\n",
       "    </tr>\n",
       "    <tr>\n",
       "      <th>2</th>\n",
       "      <td>0.073636</td>\n",
       "    </tr>\n",
       "    <tr>\n",
       "      <th>3</th>\n",
       "      <td>0.073567</td>\n",
       "    </tr>\n",
       "    <tr>\n",
       "      <th>4</th>\n",
       "      <td>0.063996</td>\n",
       "    </tr>\n",
       "    <tr>\n",
       "      <th>...</th>\n",
       "      <td>...</td>\n",
       "    </tr>\n",
       "    <tr>\n",
       "      <th>183</th>\n",
       "      <td>0.063873</td>\n",
       "    </tr>\n",
       "    <tr>\n",
       "      <th>184</th>\n",
       "      <td>0.058396</td>\n",
       "    </tr>\n",
       "    <tr>\n",
       "      <th>185</th>\n",
       "      <td>0.053436</td>\n",
       "    </tr>\n",
       "    <tr>\n",
       "      <th>186</th>\n",
       "      <td>0.069364</td>\n",
       "    </tr>\n",
       "    <tr>\n",
       "      <th>187</th>\n",
       "      <td>0.050939</td>\n",
       "    </tr>\n",
       "  </tbody>\n",
       "</table>\n",
       "<p>188 rows × 1 columns</p>\n",
       "</div>"
      ],
      "text/plain": [
       "            0\n",
       "0    0.073637\n",
       "1    0.056425\n",
       "2    0.073636\n",
       "3    0.073567\n",
       "4    0.063996\n",
       "..        ...\n",
       "183  0.063873\n",
       "184  0.058396\n",
       "185  0.053436\n",
       "186  0.069364\n",
       "187  0.050939\n",
       "\n",
       "[188 rows x 1 columns]"
      ]
     },
     "execution_count": 155,
     "metadata": {},
     "output_type": "execute_result"
    }
   ],
   "source": [
    "pd.DataFrame(y_pred)"
   ]
  },
  {
   "cell_type": "code",
   "execution_count": 156,
   "metadata": {},
   "outputs": [
    {
     "data": {
      "text/html": [
       "<div>\n",
       "<style scoped>\n",
       "    .dataframe tbody tr th:only-of-type {\n",
       "        vertical-align: middle;\n",
       "    }\n",
       "\n",
       "    .dataframe tbody tr th {\n",
       "        vertical-align: top;\n",
       "    }\n",
       "\n",
       "    .dataframe thead th {\n",
       "        text-align: right;\n",
       "    }\n",
       "</style>\n",
       "<table border=\"1\" class=\"dataframe\">\n",
       "  <thead>\n",
       "    <tr style=\"text-align: right;\">\n",
       "      <th></th>\n",
       "      <th>y_pred</th>\n",
       "      <th>Wacc</th>\n",
       "    </tr>\n",
       "    <tr>\n",
       "      <th>Ticker</th>\n",
       "      <th></th>\n",
       "      <th></th>\n",
       "    </tr>\n",
       "  </thead>\n",
       "  <tbody>\n",
       "    <tr>\n",
       "      <th>GRUB</th>\n",
       "      <td>0.073637</td>\n",
       "      <td>0.085335</td>\n",
       "    </tr>\n",
       "    <tr>\n",
       "      <th>ACGL</th>\n",
       "      <td>0.056425</td>\n",
       "      <td>0.024209</td>\n",
       "    </tr>\n",
       "    <tr>\n",
       "      <th>PLPC</th>\n",
       "      <td>0.073636</td>\n",
       "      <td>0.059799</td>\n",
       "    </tr>\n",
       "    <tr>\n",
       "      <th>BNFT</th>\n",
       "      <td>0.073567</td>\n",
       "      <td>0.097919</td>\n",
       "    </tr>\n",
       "    <tr>\n",
       "      <th>ENG</th>\n",
       "      <td>0.063996</td>\n",
       "      <td>0.079351</td>\n",
       "    </tr>\n",
       "    <tr>\n",
       "      <th>...</th>\n",
       "      <td>...</td>\n",
       "      <td>...</td>\n",
       "    </tr>\n",
       "    <tr>\n",
       "      <th>SNA</th>\n",
       "      <td>0.063873</td>\n",
       "      <td>0.081650</td>\n",
       "    </tr>\n",
       "    <tr>\n",
       "      <th>ZG</th>\n",
       "      <td>0.058396</td>\n",
       "      <td>0.082876</td>\n",
       "    </tr>\n",
       "    <tr>\n",
       "      <th>SMPL</th>\n",
       "      <td>0.053436</td>\n",
       "      <td>0.051399</td>\n",
       "    </tr>\n",
       "    <tr>\n",
       "      <th>DS</th>\n",
       "      <td>0.069364</td>\n",
       "      <td>0.075678</td>\n",
       "    </tr>\n",
       "    <tr>\n",
       "      <th>AAL</th>\n",
       "      <td>0.050939</td>\n",
       "      <td>0.031274</td>\n",
       "    </tr>\n",
       "  </tbody>\n",
       "</table>\n",
       "<p>188 rows × 2 columns</p>\n",
       "</div>"
      ],
      "text/plain": [
       "          y_pred      Wacc\n",
       "Ticker                    \n",
       "GRUB    0.073637  0.085335\n",
       "ACGL    0.056425  0.024209\n",
       "PLPC    0.073636  0.059799\n",
       "BNFT    0.073567  0.097919\n",
       "ENG     0.063996  0.079351\n",
       "...          ...       ...\n",
       "SNA     0.063873  0.081650\n",
       "ZG      0.058396  0.082876\n",
       "SMPL    0.053436  0.051399\n",
       "DS      0.069364  0.075678\n",
       "AAL     0.050939  0.031274\n",
       "\n",
       "[188 rows x 2 columns]"
      ]
     },
     "execution_count": 156,
     "metadata": {},
     "output_type": "execute_result"
    }
   ],
   "source": [
    "df_results = pd.DataFrame(y_pred).rename(columns={0:'y_pred'})\n",
    "df_results.join(y_test.reset_index()).set_index('Ticker')"
   ]
  },
  {
   "cell_type": "code",
   "execution_count": 157,
   "metadata": {},
   "outputs": [
    {
     "data": {
      "text/plain": [
       "count    46.000000\n",
       "mean      0.085835\n",
       "std       0.028237\n",
       "min       0.031622\n",
       "25%       0.067069\n",
       "50%       0.084478\n",
       "75%       0.102224\n",
       "max       0.143606\n",
       "Name: Wacc, dtype: float64"
      ]
     },
     "execution_count": 157,
     "metadata": {},
     "output_type": "execute_result"
    }
   ],
   "source": [
    "final_df[final_df.Sector == 'Energy'].describe()['Wacc']"
   ]
  },
  {
   "cell_type": "code",
   "execution_count": 158,
   "metadata": {},
   "outputs": [
    {
     "data": {
      "text/plain": [
       "count    35.000000\n",
       "mean      0.030590\n",
       "std       0.009680\n",
       "min       0.021494\n",
       "25%       0.024827\n",
       "50%       0.026765\n",
       "75%       0.032840\n",
       "max       0.068536\n",
       "Name: Wacc, dtype: float64"
      ]
     },
     "execution_count": 158,
     "metadata": {},
     "output_type": "execute_result"
    }
   ],
   "source": [
    "final_df[final_df.Sector == 'Utilities'].describe()['Wacc']"
   ]
  },
  {
   "cell_type": "code",
   "execution_count": 159,
   "metadata": {},
   "outputs": [],
   "source": [
    "# look at the metrics :\n",
    "# a continuer"
   ]
  },
  {
   "cell_type": "code",
   "execution_count": 160,
   "metadata": {},
   "outputs": [
    {
     "name": "stdout",
     "output_type": "stream",
     "text": [
      "We have a RMSE of  0.0005\n"
     ]
    }
   ],
   "source": [
    "print(f'We have a RMSE of {mean_squared_error(y_test, y_pred) : .4f}')"
   ]
  },
  {
   "cell_type": "markdown",
   "metadata": {},
   "source": [
    "#### Test regression without sectors"
   ]
  },
  {
   "cell_type": "code",
   "execution_count": 161,
   "metadata": {},
   "outputs": [],
   "source": [
    "# Splitting the dataset into the Training set and Test set\n",
    "X_train, X_test, y_train, y_test = train_test_split(X_standardize, y_standardize, test_size = 1/5, random_state = 0)\n",
    "X_train = pd.DataFrame(X_train)\n",
    "X_test = pd.DataFrame(X_test)\n",
    "y_train = pd.DataFrame(y_train)\n",
    "y_test = pd.DataFrame(y_test)"
   ]
  },
  {
   "cell_type": "code",
   "execution_count": 162,
   "metadata": {},
   "outputs": [
    {
     "name": "stdout",
     "output_type": "stream",
     "text": [
      " score de regression sur train :  0.0664\n",
      " score de regression sur test :   0.1110\n"
     ]
    }
   ],
   "source": [
    "from sklearn.linear_model import LinearRegression\n",
    "regressor = LinearRegression()\n",
    "regressor.fit(X_train, y_train)\n",
    "\n",
    "#Predicting the Test set results\n",
    "y_pred = regressor.predict(X_test)\n",
    "print(f' score de regression sur train : {regressor.score(X_train, y_train) : .4f}')\n",
    "print(f' score de regression sur test :  {regressor.score(X_test, y_test) : .4f}')"
   ]
  },
  {
   "cell_type": "code",
   "execution_count": null,
   "metadata": {},
   "outputs": [],
   "source": [
    "print(f'We have a RMSE of {mean_squared_error(y_test, y_pred) : .4f}')"
   ]
  },
  {
   "cell_type": "code",
   "execution_count": 163,
   "metadata": {},
   "outputs": [
    {
     "data": {
      "application/vnd.plotly.v1+json": {
       "config": {
        "plotlyServerURL": "https://plot.ly"
       },
       "data": [
        {
         "alignmentgroup": "True",
         "hovertemplate": "index=%{x}<br>beta=%{marker.color}<extra></extra>",
         "legendgroup": "",
         "marker": {
          "color": [
           -2.980409291860083e-09,
           -2.9806618423117633e-09,
           2.9800630970842193e-09,
           2.9800823759721823e-09,
           2.9809319045692706e-09,
           -3.284195200703057e-13,
           6.232722570234037e-13,
           2.005151052465908e-12
          ],
          "coloraxis": "coloraxis"
         },
         "name": "",
         "offsetgroup": "",
         "orientation": "v",
         "showlegend": false,
         "textposition": "auto",
         "type": "bar",
         "x": [
          "Total Current Assets",
          "Total Noncurrent Assets",
          "Total Current Liabilities",
          "Total Noncurrent Liabilities",
          "Total Equity",
          "Operating Expenses",
          "Operating Income (Loss)",
          "Non-Operating Income (Loss)"
         ],
         "xaxis": "x",
         "y": [
          -2.980409291860083e-09,
          -2.9806618423117633e-09,
          2.9800630970842193e-09,
          2.9800823759721823e-09,
          2.9809319045692706e-09,
          -3.284195200703057e-13,
          6.232722570234037e-13,
          2.005151052465908e-12
         ],
         "yaxis": "y"
        }
       ],
       "layout": {
        "barmode": "relative",
        "coloraxis": {
         "colorbar": {
          "title": {
           "text": "beta"
          }
         },
         "colorscale": [
          [
           0,
           "#0d0887"
          ],
          [
           0.1111111111111111,
           "#46039f"
          ],
          [
           0.2222222222222222,
           "#7201a8"
          ],
          [
           0.3333333333333333,
           "#9c179e"
          ],
          [
           0.4444444444444444,
           "#bd3786"
          ],
          [
           0.5555555555555556,
           "#d8576b"
          ],
          [
           0.6666666666666666,
           "#ed7953"
          ],
          [
           0.7777777777777778,
           "#fb9f3a"
          ],
          [
           0.8888888888888888,
           "#fdca26"
          ],
          [
           1,
           "#f0f921"
          ]
         ]
        },
        "legend": {
         "tracegroupgap": 0
        },
        "margin": {
         "t": 60
        },
        "template": {
         "data": {
          "bar": [
           {
            "error_x": {
             "color": "#2a3f5f"
            },
            "error_y": {
             "color": "#2a3f5f"
            },
            "marker": {
             "line": {
              "color": "#E5ECF6",
              "width": 0.5
             }
            },
            "type": "bar"
           }
          ],
          "barpolar": [
           {
            "marker": {
             "line": {
              "color": "#E5ECF6",
              "width": 0.5
             }
            },
            "type": "barpolar"
           }
          ],
          "carpet": [
           {
            "aaxis": {
             "endlinecolor": "#2a3f5f",
             "gridcolor": "white",
             "linecolor": "white",
             "minorgridcolor": "white",
             "startlinecolor": "#2a3f5f"
            },
            "baxis": {
             "endlinecolor": "#2a3f5f",
             "gridcolor": "white",
             "linecolor": "white",
             "minorgridcolor": "white",
             "startlinecolor": "#2a3f5f"
            },
            "type": "carpet"
           }
          ],
          "choropleth": [
           {
            "colorbar": {
             "outlinewidth": 0,
             "ticks": ""
            },
            "type": "choropleth"
           }
          ],
          "contour": [
           {
            "colorbar": {
             "outlinewidth": 0,
             "ticks": ""
            },
            "colorscale": [
             [
              0,
              "#0d0887"
             ],
             [
              0.1111111111111111,
              "#46039f"
             ],
             [
              0.2222222222222222,
              "#7201a8"
             ],
             [
              0.3333333333333333,
              "#9c179e"
             ],
             [
              0.4444444444444444,
              "#bd3786"
             ],
             [
              0.5555555555555556,
              "#d8576b"
             ],
             [
              0.6666666666666666,
              "#ed7953"
             ],
             [
              0.7777777777777778,
              "#fb9f3a"
             ],
             [
              0.8888888888888888,
              "#fdca26"
             ],
             [
              1,
              "#f0f921"
             ]
            ],
            "type": "contour"
           }
          ],
          "contourcarpet": [
           {
            "colorbar": {
             "outlinewidth": 0,
             "ticks": ""
            },
            "type": "contourcarpet"
           }
          ],
          "heatmap": [
           {
            "colorbar": {
             "outlinewidth": 0,
             "ticks": ""
            },
            "colorscale": [
             [
              0,
              "#0d0887"
             ],
             [
              0.1111111111111111,
              "#46039f"
             ],
             [
              0.2222222222222222,
              "#7201a8"
             ],
             [
              0.3333333333333333,
              "#9c179e"
             ],
             [
              0.4444444444444444,
              "#bd3786"
             ],
             [
              0.5555555555555556,
              "#d8576b"
             ],
             [
              0.6666666666666666,
              "#ed7953"
             ],
             [
              0.7777777777777778,
              "#fb9f3a"
             ],
             [
              0.8888888888888888,
              "#fdca26"
             ],
             [
              1,
              "#f0f921"
             ]
            ],
            "type": "heatmap"
           }
          ],
          "heatmapgl": [
           {
            "colorbar": {
             "outlinewidth": 0,
             "ticks": ""
            },
            "colorscale": [
             [
              0,
              "#0d0887"
             ],
             [
              0.1111111111111111,
              "#46039f"
             ],
             [
              0.2222222222222222,
              "#7201a8"
             ],
             [
              0.3333333333333333,
              "#9c179e"
             ],
             [
              0.4444444444444444,
              "#bd3786"
             ],
             [
              0.5555555555555556,
              "#d8576b"
             ],
             [
              0.6666666666666666,
              "#ed7953"
             ],
             [
              0.7777777777777778,
              "#fb9f3a"
             ],
             [
              0.8888888888888888,
              "#fdca26"
             ],
             [
              1,
              "#f0f921"
             ]
            ],
            "type": "heatmapgl"
           }
          ],
          "histogram": [
           {
            "marker": {
             "colorbar": {
              "outlinewidth": 0,
              "ticks": ""
             }
            },
            "type": "histogram"
           }
          ],
          "histogram2d": [
           {
            "colorbar": {
             "outlinewidth": 0,
             "ticks": ""
            },
            "colorscale": [
             [
              0,
              "#0d0887"
             ],
             [
              0.1111111111111111,
              "#46039f"
             ],
             [
              0.2222222222222222,
              "#7201a8"
             ],
             [
              0.3333333333333333,
              "#9c179e"
             ],
             [
              0.4444444444444444,
              "#bd3786"
             ],
             [
              0.5555555555555556,
              "#d8576b"
             ],
             [
              0.6666666666666666,
              "#ed7953"
             ],
             [
              0.7777777777777778,
              "#fb9f3a"
             ],
             [
              0.8888888888888888,
              "#fdca26"
             ],
             [
              1,
              "#f0f921"
             ]
            ],
            "type": "histogram2d"
           }
          ],
          "histogram2dcontour": [
           {
            "colorbar": {
             "outlinewidth": 0,
             "ticks": ""
            },
            "colorscale": [
             [
              0,
              "#0d0887"
             ],
             [
              0.1111111111111111,
              "#46039f"
             ],
             [
              0.2222222222222222,
              "#7201a8"
             ],
             [
              0.3333333333333333,
              "#9c179e"
             ],
             [
              0.4444444444444444,
              "#bd3786"
             ],
             [
              0.5555555555555556,
              "#d8576b"
             ],
             [
              0.6666666666666666,
              "#ed7953"
             ],
             [
              0.7777777777777778,
              "#fb9f3a"
             ],
             [
              0.8888888888888888,
              "#fdca26"
             ],
             [
              1,
              "#f0f921"
             ]
            ],
            "type": "histogram2dcontour"
           }
          ],
          "mesh3d": [
           {
            "colorbar": {
             "outlinewidth": 0,
             "ticks": ""
            },
            "type": "mesh3d"
           }
          ],
          "parcoords": [
           {
            "line": {
             "colorbar": {
              "outlinewidth": 0,
              "ticks": ""
             }
            },
            "type": "parcoords"
           }
          ],
          "pie": [
           {
            "automargin": true,
            "type": "pie"
           }
          ],
          "scatter": [
           {
            "marker": {
             "colorbar": {
              "outlinewidth": 0,
              "ticks": ""
             }
            },
            "type": "scatter"
           }
          ],
          "scatter3d": [
           {
            "line": {
             "colorbar": {
              "outlinewidth": 0,
              "ticks": ""
             }
            },
            "marker": {
             "colorbar": {
              "outlinewidth": 0,
              "ticks": ""
             }
            },
            "type": "scatter3d"
           }
          ],
          "scattercarpet": [
           {
            "marker": {
             "colorbar": {
              "outlinewidth": 0,
              "ticks": ""
             }
            },
            "type": "scattercarpet"
           }
          ],
          "scattergeo": [
           {
            "marker": {
             "colorbar": {
              "outlinewidth": 0,
              "ticks": ""
             }
            },
            "type": "scattergeo"
           }
          ],
          "scattergl": [
           {
            "marker": {
             "colorbar": {
              "outlinewidth": 0,
              "ticks": ""
             }
            },
            "type": "scattergl"
           }
          ],
          "scattermapbox": [
           {
            "marker": {
             "colorbar": {
              "outlinewidth": 0,
              "ticks": ""
             }
            },
            "type": "scattermapbox"
           }
          ],
          "scatterpolar": [
           {
            "marker": {
             "colorbar": {
              "outlinewidth": 0,
              "ticks": ""
             }
            },
            "type": "scatterpolar"
           }
          ],
          "scatterpolargl": [
           {
            "marker": {
             "colorbar": {
              "outlinewidth": 0,
              "ticks": ""
             }
            },
            "type": "scatterpolargl"
           }
          ],
          "scatterternary": [
           {
            "marker": {
             "colorbar": {
              "outlinewidth": 0,
              "ticks": ""
             }
            },
            "type": "scatterternary"
           }
          ],
          "surface": [
           {
            "colorbar": {
             "outlinewidth": 0,
             "ticks": ""
            },
            "colorscale": [
             [
              0,
              "#0d0887"
             ],
             [
              0.1111111111111111,
              "#46039f"
             ],
             [
              0.2222222222222222,
              "#7201a8"
             ],
             [
              0.3333333333333333,
              "#9c179e"
             ],
             [
              0.4444444444444444,
              "#bd3786"
             ],
             [
              0.5555555555555556,
              "#d8576b"
             ],
             [
              0.6666666666666666,
              "#ed7953"
             ],
             [
              0.7777777777777778,
              "#fb9f3a"
             ],
             [
              0.8888888888888888,
              "#fdca26"
             ],
             [
              1,
              "#f0f921"
             ]
            ],
            "type": "surface"
           }
          ],
          "table": [
           {
            "cells": {
             "fill": {
              "color": "#EBF0F8"
             },
             "line": {
              "color": "white"
             }
            },
            "header": {
             "fill": {
              "color": "#C8D4E3"
             },
             "line": {
              "color": "white"
             }
            },
            "type": "table"
           }
          ]
         },
         "layout": {
          "annotationdefaults": {
           "arrowcolor": "#2a3f5f",
           "arrowhead": 0,
           "arrowwidth": 1
          },
          "coloraxis": {
           "colorbar": {
            "outlinewidth": 0,
            "ticks": ""
           }
          },
          "colorscale": {
           "diverging": [
            [
             0,
             "#8e0152"
            ],
            [
             0.1,
             "#c51b7d"
            ],
            [
             0.2,
             "#de77ae"
            ],
            [
             0.3,
             "#f1b6da"
            ],
            [
             0.4,
             "#fde0ef"
            ],
            [
             0.5,
             "#f7f7f7"
            ],
            [
             0.6,
             "#e6f5d0"
            ],
            [
             0.7,
             "#b8e186"
            ],
            [
             0.8,
             "#7fbc41"
            ],
            [
             0.9,
             "#4d9221"
            ],
            [
             1,
             "#276419"
            ]
           ],
           "sequential": [
            [
             0,
             "#0d0887"
            ],
            [
             0.1111111111111111,
             "#46039f"
            ],
            [
             0.2222222222222222,
             "#7201a8"
            ],
            [
             0.3333333333333333,
             "#9c179e"
            ],
            [
             0.4444444444444444,
             "#bd3786"
            ],
            [
             0.5555555555555556,
             "#d8576b"
            ],
            [
             0.6666666666666666,
             "#ed7953"
            ],
            [
             0.7777777777777778,
             "#fb9f3a"
            ],
            [
             0.8888888888888888,
             "#fdca26"
            ],
            [
             1,
             "#f0f921"
            ]
           ],
           "sequentialminus": [
            [
             0,
             "#0d0887"
            ],
            [
             0.1111111111111111,
             "#46039f"
            ],
            [
             0.2222222222222222,
             "#7201a8"
            ],
            [
             0.3333333333333333,
             "#9c179e"
            ],
            [
             0.4444444444444444,
             "#bd3786"
            ],
            [
             0.5555555555555556,
             "#d8576b"
            ],
            [
             0.6666666666666666,
             "#ed7953"
            ],
            [
             0.7777777777777778,
             "#fb9f3a"
            ],
            [
             0.8888888888888888,
             "#fdca26"
            ],
            [
             1,
             "#f0f921"
            ]
           ]
          },
          "colorway": [
           "#636efa",
           "#EF553B",
           "#00cc96",
           "#ab63fa",
           "#FFA15A",
           "#19d3f3",
           "#FF6692",
           "#B6E880",
           "#FF97FF",
           "#FECB52"
          ],
          "font": {
           "color": "#2a3f5f"
          },
          "geo": {
           "bgcolor": "white",
           "lakecolor": "white",
           "landcolor": "#E5ECF6",
           "showlakes": true,
           "showland": true,
           "subunitcolor": "white"
          },
          "hoverlabel": {
           "align": "left"
          },
          "hovermode": "closest",
          "mapbox": {
           "style": "light"
          },
          "paper_bgcolor": "white",
          "plot_bgcolor": "#E5ECF6",
          "polar": {
           "angularaxis": {
            "gridcolor": "white",
            "linecolor": "white",
            "ticks": ""
           },
           "bgcolor": "#E5ECF6",
           "radialaxis": {
            "gridcolor": "white",
            "linecolor": "white",
            "ticks": ""
           }
          },
          "scene": {
           "xaxis": {
            "backgroundcolor": "#E5ECF6",
            "gridcolor": "white",
            "gridwidth": 2,
            "linecolor": "white",
            "showbackground": true,
            "ticks": "",
            "zerolinecolor": "white"
           },
           "yaxis": {
            "backgroundcolor": "#E5ECF6",
            "gridcolor": "white",
            "gridwidth": 2,
            "linecolor": "white",
            "showbackground": true,
            "ticks": "",
            "zerolinecolor": "white"
           },
           "zaxis": {
            "backgroundcolor": "#E5ECF6",
            "gridcolor": "white",
            "gridwidth": 2,
            "linecolor": "white",
            "showbackground": true,
            "ticks": "",
            "zerolinecolor": "white"
           }
          },
          "shapedefaults": {
           "line": {
            "color": "#2a3f5f"
           }
          },
          "ternary": {
           "aaxis": {
            "gridcolor": "white",
            "linecolor": "white",
            "ticks": ""
           },
           "baxis": {
            "gridcolor": "white",
            "linecolor": "white",
            "ticks": ""
           },
           "bgcolor": "#E5ECF6",
           "caxis": {
            "gridcolor": "white",
            "linecolor": "white",
            "ticks": ""
           }
          },
          "title": {
           "x": 0.05
          },
          "xaxis": {
           "automargin": true,
           "gridcolor": "white",
           "linecolor": "white",
           "ticks": "",
           "title": {
            "standoff": 15
           },
           "zerolinecolor": "white",
           "zerolinewidth": 2
          },
          "yaxis": {
           "automargin": true,
           "gridcolor": "white",
           "linecolor": "white",
           "ticks": "",
           "title": {
            "standoff": 15
           },
           "zerolinecolor": "white",
           "zerolinewidth": 2
          }
         }
        },
        "title": {
         "text": "Betas influence"
        },
        "xaxis": {
         "anchor": "y",
         "domain": [
          0,
          1
         ],
         "title": {
          "text": "index"
         }
        },
        "yaxis": {
         "anchor": "x",
         "domain": [
          0,
          1
         ],
         "title": {
          "text": "beta"
         }
        }
       }
      },
      "text/html": [
       "<div>\n",
       "        \n",
       "        \n",
       "            <div id=\"72bee47e-4fed-4318-9833-e848bb53162b\" class=\"plotly-graph-div\" style=\"height:525px; width:100%;\"></div>\n",
       "            <script type=\"text/javascript\">\n",
       "                require([\"plotly\"], function(Plotly) {\n",
       "                    window.PLOTLYENV=window.PLOTLYENV || {};\n",
       "                    \n",
       "                if (document.getElementById(\"72bee47e-4fed-4318-9833-e848bb53162b\")) {\n",
       "                    Plotly.newPlot(\n",
       "                        '72bee47e-4fed-4318-9833-e848bb53162b',\n",
       "                        [{\"alignmentgroup\": \"True\", \"hovertemplate\": \"index=%{x}<br>beta=%{marker.color}<extra></extra>\", \"legendgroup\": \"\", \"marker\": {\"color\": [-2.980409291860083e-09, -2.9806618423117633e-09, 2.9800630970842193e-09, 2.9800823759721823e-09, 2.9809319045692706e-09, -3.284195200703057e-13, 6.232722570234037e-13, 2.005151052465908e-12], \"coloraxis\": \"coloraxis\"}, \"name\": \"\", \"offsetgroup\": \"\", \"orientation\": \"v\", \"showlegend\": false, \"textposition\": \"auto\", \"type\": \"bar\", \"x\": [\"Total Current Assets\", \"Total Noncurrent Assets\", \"Total Current Liabilities\", \"Total Noncurrent Liabilities\", \"Total Equity\", \"Operating Expenses\", \"Operating Income (Loss)\", \"Non-Operating Income (Loss)\"], \"xaxis\": \"x\", \"y\": [-2.980409291860083e-09, -2.9806618423117633e-09, 2.9800630970842193e-09, 2.9800823759721823e-09, 2.9809319045692706e-09, -3.284195200703057e-13, 6.232722570234037e-13, 2.005151052465908e-12], \"yaxis\": \"y\"}],\n",
       "                        {\"barmode\": \"relative\", \"coloraxis\": {\"colorbar\": {\"title\": {\"text\": \"beta\"}}, \"colorscale\": [[0.0, \"#0d0887\"], [0.1111111111111111, \"#46039f\"], [0.2222222222222222, \"#7201a8\"], [0.3333333333333333, \"#9c179e\"], [0.4444444444444444, \"#bd3786\"], [0.5555555555555556, \"#d8576b\"], [0.6666666666666666, \"#ed7953\"], [0.7777777777777778, \"#fb9f3a\"], [0.8888888888888888, \"#fdca26\"], [1.0, \"#f0f921\"]]}, \"legend\": {\"tracegroupgap\": 0}, \"margin\": {\"t\": 60}, \"template\": {\"data\": {\"bar\": [{\"error_x\": {\"color\": \"#2a3f5f\"}, \"error_y\": {\"color\": \"#2a3f5f\"}, \"marker\": {\"line\": {\"color\": \"#E5ECF6\", \"width\": 0.5}}, \"type\": \"bar\"}], \"barpolar\": [{\"marker\": {\"line\": {\"color\": \"#E5ECF6\", \"width\": 0.5}}, \"type\": \"barpolar\"}], \"carpet\": [{\"aaxis\": {\"endlinecolor\": \"#2a3f5f\", \"gridcolor\": \"white\", \"linecolor\": \"white\", \"minorgridcolor\": \"white\", \"startlinecolor\": \"#2a3f5f\"}, \"baxis\": {\"endlinecolor\": \"#2a3f5f\", \"gridcolor\": \"white\", \"linecolor\": \"white\", \"minorgridcolor\": \"white\", \"startlinecolor\": \"#2a3f5f\"}, \"type\": \"carpet\"}], \"choropleth\": [{\"colorbar\": {\"outlinewidth\": 0, \"ticks\": \"\"}, \"type\": \"choropleth\"}], \"contour\": [{\"colorbar\": {\"outlinewidth\": 0, \"ticks\": \"\"}, \"colorscale\": [[0.0, \"#0d0887\"], [0.1111111111111111, \"#46039f\"], [0.2222222222222222, \"#7201a8\"], [0.3333333333333333, \"#9c179e\"], [0.4444444444444444, \"#bd3786\"], [0.5555555555555556, \"#d8576b\"], [0.6666666666666666, \"#ed7953\"], [0.7777777777777778, \"#fb9f3a\"], [0.8888888888888888, \"#fdca26\"], [1.0, \"#f0f921\"]], \"type\": \"contour\"}], \"contourcarpet\": [{\"colorbar\": {\"outlinewidth\": 0, \"ticks\": \"\"}, \"type\": \"contourcarpet\"}], \"heatmap\": [{\"colorbar\": {\"outlinewidth\": 0, \"ticks\": \"\"}, \"colorscale\": [[0.0, \"#0d0887\"], [0.1111111111111111, \"#46039f\"], [0.2222222222222222, \"#7201a8\"], [0.3333333333333333, \"#9c179e\"], [0.4444444444444444, \"#bd3786\"], [0.5555555555555556, \"#d8576b\"], [0.6666666666666666, \"#ed7953\"], [0.7777777777777778, \"#fb9f3a\"], [0.8888888888888888, \"#fdca26\"], [1.0, \"#f0f921\"]], \"type\": \"heatmap\"}], \"heatmapgl\": [{\"colorbar\": {\"outlinewidth\": 0, \"ticks\": \"\"}, \"colorscale\": [[0.0, \"#0d0887\"], [0.1111111111111111, \"#46039f\"], [0.2222222222222222, \"#7201a8\"], [0.3333333333333333, \"#9c179e\"], [0.4444444444444444, \"#bd3786\"], [0.5555555555555556, \"#d8576b\"], [0.6666666666666666, \"#ed7953\"], [0.7777777777777778, \"#fb9f3a\"], [0.8888888888888888, \"#fdca26\"], [1.0, \"#f0f921\"]], \"type\": \"heatmapgl\"}], \"histogram\": [{\"marker\": {\"colorbar\": {\"outlinewidth\": 0, \"ticks\": \"\"}}, \"type\": \"histogram\"}], \"histogram2d\": [{\"colorbar\": {\"outlinewidth\": 0, \"ticks\": \"\"}, \"colorscale\": [[0.0, \"#0d0887\"], [0.1111111111111111, \"#46039f\"], [0.2222222222222222, \"#7201a8\"], [0.3333333333333333, \"#9c179e\"], [0.4444444444444444, \"#bd3786\"], [0.5555555555555556, \"#d8576b\"], [0.6666666666666666, \"#ed7953\"], [0.7777777777777778, \"#fb9f3a\"], [0.8888888888888888, \"#fdca26\"], [1.0, \"#f0f921\"]], \"type\": \"histogram2d\"}], \"histogram2dcontour\": [{\"colorbar\": {\"outlinewidth\": 0, \"ticks\": \"\"}, \"colorscale\": [[0.0, \"#0d0887\"], [0.1111111111111111, \"#46039f\"], [0.2222222222222222, \"#7201a8\"], [0.3333333333333333, \"#9c179e\"], [0.4444444444444444, \"#bd3786\"], [0.5555555555555556, \"#d8576b\"], [0.6666666666666666, \"#ed7953\"], [0.7777777777777778, \"#fb9f3a\"], [0.8888888888888888, \"#fdca26\"], [1.0, \"#f0f921\"]], \"type\": \"histogram2dcontour\"}], \"mesh3d\": [{\"colorbar\": {\"outlinewidth\": 0, \"ticks\": \"\"}, \"type\": \"mesh3d\"}], \"parcoords\": [{\"line\": {\"colorbar\": {\"outlinewidth\": 0, \"ticks\": \"\"}}, \"type\": \"parcoords\"}], \"pie\": [{\"automargin\": true, \"type\": \"pie\"}], \"scatter\": [{\"marker\": {\"colorbar\": {\"outlinewidth\": 0, \"ticks\": \"\"}}, \"type\": \"scatter\"}], \"scatter3d\": [{\"line\": {\"colorbar\": {\"outlinewidth\": 0, \"ticks\": \"\"}}, \"marker\": {\"colorbar\": {\"outlinewidth\": 0, \"ticks\": \"\"}}, \"type\": \"scatter3d\"}], \"scattercarpet\": [{\"marker\": {\"colorbar\": {\"outlinewidth\": 0, \"ticks\": \"\"}}, \"type\": \"scattercarpet\"}], \"scattergeo\": [{\"marker\": {\"colorbar\": {\"outlinewidth\": 0, \"ticks\": \"\"}}, \"type\": \"scattergeo\"}], \"scattergl\": [{\"marker\": {\"colorbar\": {\"outlinewidth\": 0, \"ticks\": \"\"}}, \"type\": \"scattergl\"}], \"scattermapbox\": [{\"marker\": {\"colorbar\": {\"outlinewidth\": 0, \"ticks\": \"\"}}, \"type\": \"scattermapbox\"}], \"scatterpolar\": [{\"marker\": {\"colorbar\": {\"outlinewidth\": 0, \"ticks\": \"\"}}, \"type\": \"scatterpolar\"}], \"scatterpolargl\": [{\"marker\": {\"colorbar\": {\"outlinewidth\": 0, \"ticks\": \"\"}}, \"type\": \"scatterpolargl\"}], \"scatterternary\": [{\"marker\": {\"colorbar\": {\"outlinewidth\": 0, \"ticks\": \"\"}}, \"type\": \"scatterternary\"}], \"surface\": [{\"colorbar\": {\"outlinewidth\": 0, \"ticks\": \"\"}, \"colorscale\": [[0.0, \"#0d0887\"], [0.1111111111111111, \"#46039f\"], [0.2222222222222222, \"#7201a8\"], [0.3333333333333333, \"#9c179e\"], [0.4444444444444444, \"#bd3786\"], [0.5555555555555556, \"#d8576b\"], [0.6666666666666666, \"#ed7953\"], [0.7777777777777778, \"#fb9f3a\"], [0.8888888888888888, \"#fdca26\"], [1.0, \"#f0f921\"]], \"type\": \"surface\"}], \"table\": [{\"cells\": {\"fill\": {\"color\": \"#EBF0F8\"}, \"line\": {\"color\": \"white\"}}, \"header\": {\"fill\": {\"color\": \"#C8D4E3\"}, \"line\": {\"color\": \"white\"}}, \"type\": \"table\"}]}, \"layout\": {\"annotationdefaults\": {\"arrowcolor\": \"#2a3f5f\", \"arrowhead\": 0, \"arrowwidth\": 1}, \"coloraxis\": {\"colorbar\": {\"outlinewidth\": 0, \"ticks\": \"\"}}, \"colorscale\": {\"diverging\": [[0, \"#8e0152\"], [0.1, \"#c51b7d\"], [0.2, \"#de77ae\"], [0.3, \"#f1b6da\"], [0.4, \"#fde0ef\"], [0.5, \"#f7f7f7\"], [0.6, \"#e6f5d0\"], [0.7, \"#b8e186\"], [0.8, \"#7fbc41\"], [0.9, \"#4d9221\"], [1, \"#276419\"]], \"sequential\": [[0.0, \"#0d0887\"], [0.1111111111111111, \"#46039f\"], [0.2222222222222222, \"#7201a8\"], [0.3333333333333333, \"#9c179e\"], [0.4444444444444444, \"#bd3786\"], [0.5555555555555556, \"#d8576b\"], [0.6666666666666666, \"#ed7953\"], [0.7777777777777778, \"#fb9f3a\"], [0.8888888888888888, \"#fdca26\"], [1.0, \"#f0f921\"]], \"sequentialminus\": [[0.0, \"#0d0887\"], [0.1111111111111111, \"#46039f\"], [0.2222222222222222, \"#7201a8\"], [0.3333333333333333, \"#9c179e\"], [0.4444444444444444, \"#bd3786\"], [0.5555555555555556, \"#d8576b\"], [0.6666666666666666, \"#ed7953\"], [0.7777777777777778, \"#fb9f3a\"], [0.8888888888888888, \"#fdca26\"], [1.0, \"#f0f921\"]]}, \"colorway\": [\"#636efa\", \"#EF553B\", \"#00cc96\", \"#ab63fa\", \"#FFA15A\", \"#19d3f3\", \"#FF6692\", \"#B6E880\", \"#FF97FF\", \"#FECB52\"], \"font\": {\"color\": \"#2a3f5f\"}, \"geo\": {\"bgcolor\": \"white\", \"lakecolor\": \"white\", \"landcolor\": \"#E5ECF6\", \"showlakes\": true, \"showland\": true, \"subunitcolor\": \"white\"}, \"hoverlabel\": {\"align\": \"left\"}, \"hovermode\": \"closest\", \"mapbox\": {\"style\": \"light\"}, \"paper_bgcolor\": \"white\", \"plot_bgcolor\": \"#E5ECF6\", \"polar\": {\"angularaxis\": {\"gridcolor\": \"white\", \"linecolor\": \"white\", \"ticks\": \"\"}, \"bgcolor\": \"#E5ECF6\", \"radialaxis\": {\"gridcolor\": \"white\", \"linecolor\": \"white\", \"ticks\": \"\"}}, \"scene\": {\"xaxis\": {\"backgroundcolor\": \"#E5ECF6\", \"gridcolor\": \"white\", \"gridwidth\": 2, \"linecolor\": \"white\", \"showbackground\": true, \"ticks\": \"\", \"zerolinecolor\": \"white\"}, \"yaxis\": {\"backgroundcolor\": \"#E5ECF6\", \"gridcolor\": \"white\", \"gridwidth\": 2, \"linecolor\": \"white\", \"showbackground\": true, \"ticks\": \"\", \"zerolinecolor\": \"white\"}, \"zaxis\": {\"backgroundcolor\": \"#E5ECF6\", \"gridcolor\": \"white\", \"gridwidth\": 2, \"linecolor\": \"white\", \"showbackground\": true, \"ticks\": \"\", \"zerolinecolor\": \"white\"}}, \"shapedefaults\": {\"line\": {\"color\": \"#2a3f5f\"}}, \"ternary\": {\"aaxis\": {\"gridcolor\": \"white\", \"linecolor\": \"white\", \"ticks\": \"\"}, \"baxis\": {\"gridcolor\": \"white\", \"linecolor\": \"white\", \"ticks\": \"\"}, \"bgcolor\": \"#E5ECF6\", \"caxis\": {\"gridcolor\": \"white\", \"linecolor\": \"white\", \"ticks\": \"\"}}, \"title\": {\"x\": 0.05}, \"xaxis\": {\"automargin\": true, \"gridcolor\": \"white\", \"linecolor\": \"white\", \"ticks\": \"\", \"title\": {\"standoff\": 15}, \"zerolinecolor\": \"white\", \"zerolinewidth\": 2}, \"yaxis\": {\"automargin\": true, \"gridcolor\": \"white\", \"linecolor\": \"white\", \"ticks\": \"\", \"title\": {\"standoff\": 15}, \"zerolinecolor\": \"white\", \"zerolinewidth\": 2}}}, \"title\": {\"text\": \"Betas influence\"}, \"xaxis\": {\"anchor\": \"y\", \"domain\": [0.0, 1.0], \"title\": {\"text\": \"index\"}}, \"yaxis\": {\"anchor\": \"x\", \"domain\": [0.0, 1.0], \"title\": {\"text\": \"beta\"}}},\n",
       "                        {\"responsive\": true}\n",
       "                    ).then(function(){\n",
       "                            \n",
       "var gd = document.getElementById('72bee47e-4fed-4318-9833-e848bb53162b');\n",
       "var x = new MutationObserver(function (mutations, observer) {{\n",
       "        var display = window.getComputedStyle(gd).display;\n",
       "        if (!display || display === 'none') {{\n",
       "            console.log([gd, 'removed!']);\n",
       "            Plotly.purge(gd);\n",
       "            observer.disconnect();\n",
       "        }}\n",
       "}});\n",
       "\n",
       "// Listen for the removal of the full notebook cells\n",
       "var notebookContainer = gd.closest('#notebook-container');\n",
       "if (notebookContainer) {{\n",
       "    x.observe(notebookContainer, {childList: true});\n",
       "}}\n",
       "\n",
       "// Listen for the clearing of the current output cell\n",
       "var outputEl = gd.closest('.output');\n",
       "if (outputEl) {{\n",
       "    x.observe(outputEl, {childList: true});\n",
       "}}\n",
       "\n",
       "                        })\n",
       "                };\n",
       "                });\n",
       "            </script>\n",
       "        </div>"
      ]
     },
     "metadata": {},
     "output_type": "display_data"
    }
   ],
   "source": [
    "# Plot the betas\n",
    "reg_coeffs = pd.DataFrame(regressor.coef_).T\n",
    "reg_coeffs.index = (X_train.columns.to_list())\n",
    "reg_coeffs.rename(columns={0 : 'beta'}, inplace= True)\n",
    "import plotly.express as px\n",
    "fig = px.bar(reg_coeffs,\n",
    "             x=reg_coeffs.index,\n",
    "             y='beta',\n",
    "            color='beta')\n",
    "fig.update_layout(title = 'Betas influence')\n",
    "fig.show()"
   ]
  },
  {
   "cell_type": "markdown",
   "metadata": {},
   "source": [
    "###  Find the optimal number of clusters"
   ]
  },
  {
   "cell_type": "markdown",
   "metadata": {},
   "source": [
    "#### Dendograms"
   ]
  },
  {
   "cell_type": "code",
   "execution_count": 164,
   "metadata": {},
   "outputs": [
    {
     "data": {
      "text/plain": [
       "<Figure size 1152x1008 with 0 Axes>"
      ]
     },
     "execution_count": 164,
     "metadata": {},
     "output_type": "execute_result"
    },
    {
     "data": {
      "image/png": "[encoded data removed]",
      "text/plain": [
       "<Figure size 432x288 with 1 Axes>"
      ]
     },
     "metadata": {
      "needs_background": "light"
     },
     "output_type": "display_data"
    },
    {
     "data": {
      "text/plain": [
       "<Figure size 1152x1008 with 0 Axes>"
      ]
     },
     "metadata": {},
     "output_type": "display_data"
    }
   ],
   "source": [
    "#Plot dendrogram to find the optimal number K of clusters\n",
    "dendrogram = sch.dendrogram(sch.linkage(X_standardize, method = 'ward'))\n",
    "plt.title('Dendrogram')\n",
    "plt.xlabel('Clusters')\n",
    "plt.ylabel('Euclidean Distances')\n",
    "plt.figure(figsize=(16,14))"
   ]
  },
  {
   "cell_type": "code",
   "execution_count": 165,
   "metadata": {},
   "outputs": [
    {
     "data": {
      "text/plain": [
       "<Figure size 1152x1008 with 0 Axes>"
      ]
     },
     "execution_count": 165,
     "metadata": {},
     "output_type": "execute_result"
    },
    {
     "data": {
      "image/png": "[encoded data removed]",
      "text/plain": [
       "<Figure size 432x288 with 1 Axes>"
      ]
     },
     "metadata": {
      "needs_background": "light"
     },
     "output_type": "display_data"
    },
    {
     "data": {
      "text/plain": [
       "<Figure size 1152x1008 with 0 Axes>"
      ]
     },
     "metadata": {},
     "output_type": "display_data"
    }
   ],
   "source": [
    "#Plot dendrogram to find the optimal number K of clusters\n",
    "dendrogram = sch.dendrogram(sch.linkage(X, method = 'ward'))\n",
    "plt.title('Dendrogram')\n",
    "plt.xlabel('Clusters')\n",
    "plt.ylabel('Euclidean Distances')\n",
    "plt.figure(figsize=(16,14))"
   ]
  },
  {
   "cell_type": "markdown",
   "metadata": {},
   "source": [
    "#### Elbow method"
   ]
  },
  {
   "cell_type": "code",
   "execution_count": 166,
   "metadata": {},
   "outputs": [
    {
     "data": {
      "image/png": "[encoded data removed]",
      "text/plain": [
       "<Figure size 360x360 with 1 Axes>"
      ]
     },
     "metadata": {
      "needs_background": "light"
     },
     "output_type": "display_data"
    }
   ],
   "source": [
    "distortions = []\n",
    "K = range(1,10)\n",
    "for k in K:\n",
    "    kmeanModel = KMeans(n_clusters = k)\n",
    "    kmeanModel.fit(X)\n",
    "    distortions.append(kmeanModel.inertia_)\n",
    "    \n",
    "plt.figure(figsize=(5,5))\n",
    "plt.plot(K, distortions, 'bx-')\n",
    "plt.xlabel('Number of clusters')\n",
    "plt.ylabel('Distortion')\n",
    "plt.title('The Elbow Method showing the optimal number K of clusters')\n",
    "plt.show()"
   ]
  },
  {
   "cell_type": "markdown",
   "metadata": {},
   "source": [
    "#### PCA"
   ]
  },
  {
   "cell_type": "code",
   "execution_count": 167,
   "metadata": {},
   "outputs": [
    {
     "data": {
      "image/png": "[encoded data removed]",
      "text/plain": [
       "<Figure size 432x288 with 1 Axes>"
      ]
     },
     "metadata": {
      "needs_background": "light"
     },
     "output_type": "display_data"
    }
   ],
   "source": [
    "from sklearn.decomposition import PCA\n",
    "\n",
    "#Fitting the PCA algorithm with our Data\n",
    "pca = PCA().fit(X)\n",
    "#Plotting the Cumulative Summation of the Explained Variance\n",
    "plt.figure()\n",
    "plt.plot(np.cumsum(pca.explained_variance_ratio_))\n",
    "plt.xlabel('Number of Components')\n",
    "plt.ylabel('Variance (%)') #for each component\n",
    "plt.title('Get number of components')\n",
    "plt.show()"
   ]
  },
  {
   "cell_type": "code",
   "execution_count": 168,
   "metadata": {},
   "outputs": [
    {
     "data": {
      "text/html": [
       "<div>\n",
       "<style scoped>\n",
       "    .dataframe tbody tr th:only-of-type {\n",
       "        vertical-align: middle;\n",
       "    }\n",
       "\n",
       "    .dataframe tbody tr th {\n",
       "        vertical-align: top;\n",
       "    }\n",
       "\n",
       "    .dataframe thead th {\n",
       "        text-align: right;\n",
       "    }\n",
       "</style>\n",
       "<table border=\"1\" class=\"dataframe\">\n",
       "  <thead>\n",
       "    <tr style=\"text-align: right;\">\n",
       "      <th></th>\n",
       "      <th>0</th>\n",
       "      <th>1</th>\n",
       "    </tr>\n",
       "  </thead>\n",
       "  <tbody>\n",
       "    <tr>\n",
       "      <th>0</th>\n",
       "      <td>-5.121336e+09</td>\n",
       "      <td>2.115325e+08</td>\n",
       "    </tr>\n",
       "    <tr>\n",
       "      <th>1</th>\n",
       "      <td>2.977987e+09</td>\n",
       "      <td>-8.856964e+08</td>\n",
       "    </tr>\n",
       "    <tr>\n",
       "      <th>2</th>\n",
       "      <td>5.264789e+10</td>\n",
       "      <td>5.448116e+09</td>\n",
       "    </tr>\n",
       "    <tr>\n",
       "      <th>3</th>\n",
       "      <td>-1.031030e+10</td>\n",
       "      <td>-2.883954e+08</td>\n",
       "    </tr>\n",
       "    <tr>\n",
       "      <th>4</th>\n",
       "      <td>-1.233483e+10</td>\n",
       "      <td>-1.029355e+09</td>\n",
       "    </tr>\n",
       "    <tr>\n",
       "      <th>...</th>\n",
       "      <td>...</td>\n",
       "      <td>...</td>\n",
       "    </tr>\n",
       "    <tr>\n",
       "      <th>932</th>\n",
       "      <td>-2.423719e+09</td>\n",
       "      <td>9.327478e+08</td>\n",
       "    </tr>\n",
       "    <tr>\n",
       "      <th>933</th>\n",
       "      <td>-1.231527e+10</td>\n",
       "      <td>-9.178252e+08</td>\n",
       "    </tr>\n",
       "    <tr>\n",
       "      <th>934</th>\n",
       "      <td>-1.270864e+10</td>\n",
       "      <td>-1.032765e+09</td>\n",
       "    </tr>\n",
       "    <tr>\n",
       "      <th>935</th>\n",
       "      <td>-1.273216e+10</td>\n",
       "      <td>-1.058437e+09</td>\n",
       "    </tr>\n",
       "    <tr>\n",
       "      <th>936</th>\n",
       "      <td>1.957344e+10</td>\n",
       "      <td>1.382233e+10</td>\n",
       "    </tr>\n",
       "  </tbody>\n",
       "</table>\n",
       "<p>937 rows × 2 columns</p>\n",
       "</div>"
      ],
      "text/plain": [
       "                0             1\n",
       "0   -5.121336e+09  2.115325e+08\n",
       "1    2.977987e+09 -8.856964e+08\n",
       "2    5.264789e+10  5.448116e+09\n",
       "3   -1.031030e+10 -2.883954e+08\n",
       "4   -1.233483e+10 -1.029355e+09\n",
       "..            ...           ...\n",
       "932 -2.423719e+09  9.327478e+08\n",
       "933 -1.231527e+10 -9.178252e+08\n",
       "934 -1.270864e+10 -1.032765e+09\n",
       "935 -1.273216e+10 -1.058437e+09\n",
       "936  1.957344e+10  1.382233e+10\n",
       "\n",
       "[937 rows x 2 columns]"
      ]
     },
     "metadata": {},
     "output_type": "display_data"
    }
   ],
   "source": [
    "#Applying PCA\n",
    "\n",
    "n_columns = 2\n",
    "\n",
    "from sklearn.decomposition import PCA\n",
    "pca = PCA(n_components= n_columns, svd_solver= 'full')\n",
    "X_changed = pca.fit_transform(X)\n",
    "\n",
    "\n",
    "display(pd.DataFrame(X_changed))"
   ]
  },
  {
   "cell_type": "code",
   "execution_count": 169,
   "metadata": {},
   "outputs": [
    {
     "data": {
      "text/plain": [
       "<matplotlib.collections.PathCollection at 0x19687e34460>"
      ]
     },
     "execution_count": 169,
     "metadata": {},
     "output_type": "execute_result"
    },
    {
     "data": {
      "image/png": "[encoded data removed]",
      "text/plain": [
       "<Figure size 1080x1080 with 1 Axes>"
      ]
     },
     "metadata": {
      "needs_background": "light"
     },
     "output_type": "display_data"
    }
   ],
   "source": [
    "\n",
    "graphic = pd.DataFrame(X_changed)\n",
    "\n",
    "fig = plt.figure(figsize=(15,15))\n",
    "ax = fig.add_subplot(2, 1, 1)\n",
    "\n",
    "ax.scatter(x=graphic[0],\n",
    "           y=graphic[1],\n",
    "           c='Green')\n",
    "\n",
    "\n"
   ]
  },
  {
   "cell_type": "code",
   "execution_count": 170,
   "metadata": {},
   "outputs": [
    {
     "data": {
      "text/html": [
       "<div>\n",
       "<style scoped>\n",
       "    .dataframe tbody tr th:only-of-type {\n",
       "        vertical-align: middle;\n",
       "    }\n",
       "\n",
       "    .dataframe tbody tr th {\n",
       "        vertical-align: top;\n",
       "    }\n",
       "\n",
       "    .dataframe thead th {\n",
       "        text-align: right;\n",
       "    }\n",
       "</style>\n",
       "<table border=\"1\" class=\"dataframe\">\n",
       "  <thead>\n",
       "    <tr style=\"text-align: right;\">\n",
       "      <th></th>\n",
       "      <th>0</th>\n",
       "      <th>1</th>\n",
       "    </tr>\n",
       "  </thead>\n",
       "  <tbody>\n",
       "    <tr>\n",
       "      <th>0</th>\n",
       "      <td>-5.121336e+09</td>\n",
       "      <td>2.115325e+08</td>\n",
       "    </tr>\n",
       "    <tr>\n",
       "      <th>1</th>\n",
       "      <td>2.977987e+09</td>\n",
       "      <td>-8.856964e+08</td>\n",
       "    </tr>\n",
       "    <tr>\n",
       "      <th>2</th>\n",
       "      <td>5.264789e+10</td>\n",
       "      <td>5.448116e+09</td>\n",
       "    </tr>\n",
       "    <tr>\n",
       "      <th>3</th>\n",
       "      <td>-1.031030e+10</td>\n",
       "      <td>-2.883954e+08</td>\n",
       "    </tr>\n",
       "    <tr>\n",
       "      <th>4</th>\n",
       "      <td>-1.233483e+10</td>\n",
       "      <td>-1.029355e+09</td>\n",
       "    </tr>\n",
       "    <tr>\n",
       "      <th>...</th>\n",
       "      <td>...</td>\n",
       "      <td>...</td>\n",
       "    </tr>\n",
       "    <tr>\n",
       "      <th>932</th>\n",
       "      <td>-2.423719e+09</td>\n",
       "      <td>9.327478e+08</td>\n",
       "    </tr>\n",
       "    <tr>\n",
       "      <th>933</th>\n",
       "      <td>-1.231527e+10</td>\n",
       "      <td>-9.178252e+08</td>\n",
       "    </tr>\n",
       "    <tr>\n",
       "      <th>934</th>\n",
       "      <td>-1.270864e+10</td>\n",
       "      <td>-1.032765e+09</td>\n",
       "    </tr>\n",
       "    <tr>\n",
       "      <th>935</th>\n",
       "      <td>-1.273216e+10</td>\n",
       "      <td>-1.058437e+09</td>\n",
       "    </tr>\n",
       "    <tr>\n",
       "      <th>936</th>\n",
       "      <td>1.957344e+10</td>\n",
       "      <td>1.382233e+10</td>\n",
       "    </tr>\n",
       "  </tbody>\n",
       "</table>\n",
       "<p>937 rows × 2 columns</p>\n",
       "</div>"
      ],
      "text/plain": [
       "                0             1\n",
       "0   -5.121336e+09  2.115325e+08\n",
       "1    2.977987e+09 -8.856964e+08\n",
       "2    5.264789e+10  5.448116e+09\n",
       "3   -1.031030e+10 -2.883954e+08\n",
       "4   -1.233483e+10 -1.029355e+09\n",
       "..            ...           ...\n",
       "932 -2.423719e+09  9.327478e+08\n",
       "933 -1.231527e+10 -9.178252e+08\n",
       "934 -1.270864e+10 -1.032765e+09\n",
       "935 -1.273216e+10 -1.058437e+09\n",
       "936  1.957344e+10  1.382233e+10\n",
       "\n",
       "[937 rows x 2 columns]"
      ]
     },
     "execution_count": 170,
     "metadata": {},
     "output_type": "execute_result"
    }
   ],
   "source": [
    "pd.DataFrame(X_changed)"
   ]
  },
  {
   "cell_type": "markdown",
   "metadata": {},
   "source": [
    "### Random forest"
   ]
  },
  {
   "cell_type": "code",
   "execution_count": 171,
   "metadata": {},
   "outputs": [],
   "source": [
    "from sklearn.ensemble import RandomForestRegressor\n",
    "from sklearn.model_selection import RandomizedSearchCV"
   ]
  },
  {
   "cell_type": "code",
   "execution_count": 172,
   "metadata": {},
   "outputs": [
    {
     "data": {
      "text/plain": [
       "{'n_estimators': [200, 400, 600, 800, 1000],\n",
       " 'max_features': ['auto', 'sqrt'],\n",
       " 'max_depth': [10, 20, 30, 40, 50, None],\n",
       " 'min_samples_split': [2, 5, 10],\n",
       " 'min_samples_leaf': [1, 2, 4],\n",
       " 'bootstrap': [True, False]}"
      ]
     },
     "execution_count": 172,
     "metadata": {},
     "output_type": "execute_result"
    }
   ],
   "source": [
    "\n",
    "# Number of trees in random forest\n",
    "n_estimators = [int(x) for x in np.linspace(start = 200, stop = 1000, num = 5)]\n",
    "# Number of features to consider at every split\n",
    "max_features = ['auto', 'sqrt']\n",
    "# Maximum number of levels in tree\n",
    "max_depth = [int(x) for x in np.linspace(10, 50, num = 5)]\n",
    "#max_depth = [int(x) for x in np.linspace(10, 110, num = 11)]\n",
    "max_depth.append(None)\n",
    "# Minimum number of samples required to split a node\n",
    "min_samples_split = [2, 5, 10]\n",
    "# Minimum number of samples required at each leaf node\n",
    "min_samples_leaf = [1, 2, 4]\n",
    "# Method of selecting samples for training each tree\n",
    "bootstrap = [True, False]\n",
    "# Create the random grid\n",
    "random_grid = {'n_estimators': n_estimators,\n",
    "               'max_features': max_features,\n",
    "               'max_depth': max_depth,\n",
    "               'min_samples_split': min_samples_split,\n",
    "               'min_samples_leaf': min_samples_leaf,\n",
    "               'bootstrap': bootstrap}\n",
    "random_grid"
   ]
  },
  {
   "cell_type": "code",
   "execution_count": 173,
   "metadata": {},
   "outputs": [
    {
     "name": "stdout",
     "output_type": "stream",
     "text": [
      "Fitting 5 folds for each of 100 candidates, totalling 500 fits\n"
     ]
    },
    {
     "name": "stderr",
     "output_type": "stream",
     "text": [
      "[Parallel(n_jobs=-1)]: Using backend LokyBackend with 8 concurrent workers.\n",
      "[Parallel(n_jobs=-1)]: Done   2 tasks      | elapsed:    7.1s\n",
      "[Parallel(n_jobs=-1)]: Done  56 tasks      | elapsed:   30.5s\n",
      "[Parallel(n_jobs=-1)]: Done 146 tasks      | elapsed:  1.2min\n",
      "[Parallel(n_jobs=-1)]: Done 272 tasks      | elapsed:  2.1min\n",
      "[Parallel(n_jobs=-1)]: Done 434 tasks      | elapsed:  3.4min\n",
      "[Parallel(n_jobs=-1)]: Done 500 out of 500 | elapsed:  4.1min finished\n",
      "C:\\Users\\julie\\.conda\\envs\\corpo\\lib\\site-packages\\sklearn\\model_selection\\_search.py:765: DataConversionWarning:\n",
      "\n",
      "A column-vector y was passed when a 1d array was expected. Please change the shape of y to (n_samples,), for example using ravel().\n",
      "\n"
     ]
    }
   ],
   "source": [
    "rf = RandomForestRegressor()\n",
    "model_rf = RandomizedSearchCV(estimator = rf, param_distributions = random_grid, n_iter = 100, cv = 5, verbose=5, \n",
    "                              random_state=42, n_jobs = -1)\n",
    "model_rf.fit(X_train, y_train)\n",
    "y_pred = model_rf.predict(X_test)"
   ]
  },
  {
   "cell_type": "code",
   "execution_count": 242,
   "metadata": {},
   "outputs": [
    {
     "data": {
      "text/plain": [
       "{'n_estimators': 400,\n",
       " 'min_samples_split': 5,\n",
       " 'min_samples_leaf': 4,\n",
       " 'max_features': 'sqrt',\n",
       " 'max_depth': 10,\n",
       " 'bootstrap': False}"
      ]
     },
     "execution_count": 242,
     "metadata": {},
     "output_type": "execute_result"
    }
   ],
   "source": [
    "model_rf.best_params_"
   ]
  },
  {
   "cell_type": "code",
   "execution_count": 238,
   "metadata": {},
   "outputs": [
    {
     "name": "stdout",
     "output_type": "stream",
     "text": [
      " score de regression sur train :  0.7510\n",
      " score de regression sur test :   0.2656\n"
     ]
    }
   ],
   "source": [
    "print(f' score de regression sur train : {model_rf.score(X_train, y_train) : .4f}')\n",
    "print(f' score de regression sur test :  {model_rf.score(X_test, y_test) : .4f}')"
   ]
  },
  {
   "cell_type": "code",
   "execution_count": 237,
   "metadata": {},
   "outputs": [
    {
     "data": {
      "text/html": [
       "<div>\n",
       "<style scoped>\n",
       "    .dataframe tbody tr th:only-of-type {\n",
       "        vertical-align: middle;\n",
       "    }\n",
       "\n",
       "    .dataframe tbody tr th {\n",
       "        vertical-align: top;\n",
       "    }\n",
       "\n",
       "    .dataframe thead th {\n",
       "        text-align: right;\n",
       "    }\n",
       "</style>\n",
       "<table border=\"1\" class=\"dataframe\">\n",
       "  <thead>\n",
       "    <tr style=\"text-align: right;\">\n",
       "      <th></th>\n",
       "      <th>Wacc</th>\n",
       "    </tr>\n",
       "    <tr>\n",
       "      <th>Ticker</th>\n",
       "      <th></th>\n",
       "    </tr>\n",
       "  </thead>\n",
       "  <tbody>\n",
       "    <tr>\n",
       "      <th>GRUB</th>\n",
       "      <td>0.085335</td>\n",
       "    </tr>\n",
       "    <tr>\n",
       "      <th>ACGL</th>\n",
       "      <td>0.024209</td>\n",
       "    </tr>\n",
       "    <tr>\n",
       "      <th>PLPC</th>\n",
       "      <td>0.059799</td>\n",
       "    </tr>\n",
       "    <tr>\n",
       "      <th>BNFT</th>\n",
       "      <td>0.097919</td>\n",
       "    </tr>\n",
       "    <tr>\n",
       "      <th>ENG</th>\n",
       "      <td>0.079351</td>\n",
       "    </tr>\n",
       "    <tr>\n",
       "      <th>...</th>\n",
       "      <td>...</td>\n",
       "    </tr>\n",
       "    <tr>\n",
       "      <th>SNA</th>\n",
       "      <td>0.081650</td>\n",
       "    </tr>\n",
       "    <tr>\n",
       "      <th>ZG</th>\n",
       "      <td>0.082876</td>\n",
       "    </tr>\n",
       "    <tr>\n",
       "      <th>SMPL</th>\n",
       "      <td>0.051399</td>\n",
       "    </tr>\n",
       "    <tr>\n",
       "      <th>DS</th>\n",
       "      <td>0.075678</td>\n",
       "    </tr>\n",
       "    <tr>\n",
       "      <th>AAL</th>\n",
       "      <td>0.031274</td>\n",
       "    </tr>\n",
       "  </tbody>\n",
       "</table>\n",
       "<p>188 rows × 1 columns</p>\n",
       "</div>"
      ],
      "text/plain": [
       "            Wacc\n",
       "Ticker          \n",
       "GRUB    0.085335\n",
       "ACGL    0.024209\n",
       "PLPC    0.059799\n",
       "BNFT    0.097919\n",
       "ENG     0.079351\n",
       "...          ...\n",
       "SNA     0.081650\n",
       "ZG      0.082876\n",
       "SMPL    0.051399\n",
       "DS      0.075678\n",
       "AAL     0.031274\n",
       "\n",
       "[188 rows x 1 columns]"
      ]
     },
     "execution_count": 237,
     "metadata": {},
     "output_type": "execute_result"
    }
   ],
   "source": [
    "y_test"
   ]
  },
  {
   "cell_type": "markdown",
   "metadata": {},
   "source": [
    "## Estimate the future cash flows"
   ]
  },
  {
   "cell_type": "code",
   "execution_count": 175,
   "metadata": {},
   "outputs": [
    {
     "data": {
      "text/html": [
       "<div>\n",
       "<style scoped>\n",
       "    .dataframe tbody tr th:only-of-type {\n",
       "        vertical-align: middle;\n",
       "    }\n",
       "\n",
       "    .dataframe tbody tr th {\n",
       "        vertical-align: top;\n",
       "    }\n",
       "\n",
       "    .dataframe thead th {\n",
       "        text-align: right;\n",
       "    }\n",
       "</style>\n",
       "<table border=\"1\" class=\"dataframe\">\n",
       "  <thead>\n",
       "    <tr style=\"text-align: right;\">\n",
       "      <th></th>\n",
       "      <th>Ticker</th>\n",
       "      <th>Date</th>\n",
       "      <th>Close</th>\n",
       "      <th>Shares Outstanding</th>\n",
       "      <th>Report Date</th>\n",
       "      <th>total debt</th>\n",
       "      <th>long term debt</th>\n",
       "      <th>fiscal year</th>\n",
       "      <th>beta</th>\n",
       "      <th>coe</th>\n",
       "      <th>weird tax rate</th>\n",
       "      <th>cod</th>\n",
       "      <th>market cap</th>\n",
       "      <th>Wacc</th>\n",
       "    </tr>\n",
       "  </thead>\n",
       "  <tbody>\n",
       "    <tr>\n",
       "      <th>463</th>\n",
       "      <td>IBM</td>\n",
       "      <td>2018-12-31</td>\n",
       "      <td>113.67</td>\n",
       "      <td>892479411.0</td>\n",
       "      <td>2018-12-31</td>\n",
       "      <td>106453000000</td>\n",
       "      <td>3.560500e+10</td>\n",
       "      <td>2018</td>\n",
       "      <td>1.22</td>\n",
       "      <td>0.0921</td>\n",
       "      <td>0.230912</td>\n",
       "      <td>0.005365</td>\n",
       "      <td>1.014481e+11</td>\n",
       "      <td>0.047112</td>\n",
       "    </tr>\n",
       "  </tbody>\n",
       "</table>\n",
       "</div>"
      ],
      "text/plain": [
       "    Ticker        Date   Close  Shares Outstanding Report Date    total debt  \\\n",
       "463    IBM  2018-12-31  113.67         892479411.0  2018-12-31  106453000000   \n",
       "\n",
       "     long term debt  fiscal year  beta     coe  weird tax rate       cod  \\\n",
       "463    3.560500e+10         2018  1.22  0.0921        0.230912  0.005365   \n",
       "\n",
       "       market cap      Wacc  \n",
       "463  1.014481e+11  0.047112  "
      ]
     },
     "execution_count": 175,
     "metadata": {},
     "output_type": "execute_result"
    }
   ],
   "source": [
    "last_data[last_data['Ticker'] == 'IBM']"
   ]
  },
  {
   "cell_type": "code",
   "execution_count": 176,
   "metadata": {},
   "outputs": [
    {
     "name": "stdout",
     "output_type": "stream",
     "text": [
      "Dataset \"us-cashflow-annual\" on disk (0 days old).\n",
      "- Loading from disk ... Done!\n"
     ]
    }
   ],
   "source": [
    "us_cashflows = sf.load_cashflow(variant='annual', market='us')"
   ]
  },
  {
   "cell_type": "code",
   "execution_count": 177,
   "metadata": {},
   "outputs": [
    {
     "data": {
      "text/plain": [
       "15565"
      ]
     },
     "execution_count": 177,
     "metadata": {},
     "output_type": "execute_result"
    }
   ],
   "source": [
    "len(us_cashflows)"
   ]
  },
  {
   "cell_type": "code",
   "execution_count": 178,
   "metadata": {},
   "outputs": [
    {
     "data": {
      "text/html": [
       "<div>\n",
       "<style scoped>\n",
       "    .dataframe tbody tr th:only-of-type {\n",
       "        vertical-align: middle;\n",
       "    }\n",
       "\n",
       "    .dataframe tbody tr th {\n",
       "        vertical-align: top;\n",
       "    }\n",
       "\n",
       "    .dataframe thead th {\n",
       "        text-align: right;\n",
       "    }\n",
       "</style>\n",
       "<table border=\"1\" class=\"dataframe\">\n",
       "  <thead>\n",
       "    <tr style=\"text-align: right;\">\n",
       "      <th></th>\n",
       "      <th></th>\n",
       "      <th>SimFinId</th>\n",
       "      <th>Currency</th>\n",
       "      <th>Fiscal Year</th>\n",
       "      <th>Fiscal Period</th>\n",
       "      <th>Publish Date</th>\n",
       "      <th>Restated Date</th>\n",
       "      <th>Shares (Basic)</th>\n",
       "      <th>Shares (Diluted)</th>\n",
       "      <th>Net Income/Starting Line</th>\n",
       "      <th>Depreciation &amp; Amortization</th>\n",
       "      <th>Non-Cash Items</th>\n",
       "      <th>Change in Working Capital</th>\n",
       "      <th>Change in Accounts Receivable</th>\n",
       "      <th>Change in Inventories</th>\n",
       "      <th>Change in Accounts Payable</th>\n",
       "      <th>Change in Other</th>\n",
       "      <th>Net Cash from Operating Activities</th>\n",
       "      <th>Change in Fixed Assets &amp; Intangibles</th>\n",
       "      <th>Net Change in Long Term Investment</th>\n",
       "      <th>Net Cash from Acquisitions &amp; Divestitures</th>\n",
       "      <th>Net Cash from Investing Activities</th>\n",
       "      <th>Dividends Paid</th>\n",
       "      <th>Cash from (Repayment of) Debt</th>\n",
       "      <th>Cash from (Repurchase of) Equity</th>\n",
       "      <th>Net Cash from Financing Activities</th>\n",
       "      <th>Net Change in Cash</th>\n",
       "    </tr>\n",
       "    <tr>\n",
       "      <th>Ticker</th>\n",
       "      <th>Report Date</th>\n",
       "      <th></th>\n",
       "      <th></th>\n",
       "      <th></th>\n",
       "      <th></th>\n",
       "      <th></th>\n",
       "      <th></th>\n",
       "      <th></th>\n",
       "      <th></th>\n",
       "      <th></th>\n",
       "      <th></th>\n",
       "      <th></th>\n",
       "      <th></th>\n",
       "      <th></th>\n",
       "      <th></th>\n",
       "      <th></th>\n",
       "      <th></th>\n",
       "      <th></th>\n",
       "      <th></th>\n",
       "      <th></th>\n",
       "      <th></th>\n",
       "      <th></th>\n",
       "      <th></th>\n",
       "      <th></th>\n",
       "      <th></th>\n",
       "      <th></th>\n",
       "      <th></th>\n",
       "    </tr>\n",
       "  </thead>\n",
       "  <tbody>\n",
       "    <tr>\n",
       "      <th rowspan=\"11\" valign=\"top\">IBM</th>\n",
       "      <th>2008-12-31</th>\n",
       "      <td>69543</td>\n",
       "      <td>USD</td>\n",
       "      <td>2008</td>\n",
       "      <td>FY</td>\n",
       "      <td>2009-01-27</td>\n",
       "      <td>2011-02-22</td>\n",
       "      <td>1.369367e+09</td>\n",
       "      <td>1.387797e+09</td>\n",
       "      <td>1.233400e+10</td>\n",
       "      <td>5.450000e+09</td>\n",
       "      <td>2.221000e+09</td>\n",
       "      <td>-1.193000e+09</td>\n",
       "      <td>NaN</td>\n",
       "      <td>NaN</td>\n",
       "      <td>NaN</td>\n",
       "      <td>NaN</td>\n",
       "      <td>18812000000</td>\n",
       "      <td>-3.821000e+09</td>\n",
       "      <td>1.510000e+09</td>\n",
       "      <td>-6.242000e+09</td>\n",
       "      <td>-9.285000e+09</td>\n",
       "      <td>-2.585000e+09</td>\n",
       "      <td>-2.444000e+09</td>\n",
       "      <td>-6.804000e+09</td>\n",
       "      <td>-1.183300e+10</td>\n",
       "      <td>-2248000000</td>\n",
       "    </tr>\n",
       "    <tr>\n",
       "      <th>2009-12-31</th>\n",
       "      <td>69543</td>\n",
       "      <td>USD</td>\n",
       "      <td>2009</td>\n",
       "      <td>FY</td>\n",
       "      <td>2010-01-27</td>\n",
       "      <td>2012-02-28</td>\n",
       "      <td>1.327157e+09</td>\n",
       "      <td>1.341353e+09</td>\n",
       "      <td>1.342500e+10</td>\n",
       "      <td>4.994000e+09</td>\n",
       "      <td>1.936000e+09</td>\n",
       "      <td>4.180000e+08</td>\n",
       "      <td>NaN</td>\n",
       "      <td>NaN</td>\n",
       "      <td>NaN</td>\n",
       "      <td>NaN</td>\n",
       "      <td>20773000000</td>\n",
       "      <td>-3.117000e+09</td>\n",
       "      <td>-2.005000e+09</td>\n",
       "      <td>-7.940000e+08</td>\n",
       "      <td>-6.730000e+09</td>\n",
       "      <td>-2.860000e+09</td>\n",
       "      <td>-7.463000e+09</td>\n",
       "      <td>-4.377000e+09</td>\n",
       "      <td>-1.470000e+10</td>\n",
       "      <td>-559000000</td>\n",
       "    </tr>\n",
       "    <tr>\n",
       "      <th>2010-12-31</th>\n",
       "      <td>69543</td>\n",
       "      <td>USD</td>\n",
       "      <td>2010</td>\n",
       "      <td>FY</td>\n",
       "      <td>2011-02-22</td>\n",
       "      <td>2013-02-26</td>\n",
       "      <td>1.268789e+09</td>\n",
       "      <td>1.287355e+09</td>\n",
       "      <td>1.483300e+10</td>\n",
       "      <td>4.831000e+09</td>\n",
       "      <td>1.122000e+09</td>\n",
       "      <td>-1.237000e+09</td>\n",
       "      <td>NaN</td>\n",
       "      <td>NaN</td>\n",
       "      <td>NaN</td>\n",
       "      <td>NaN</td>\n",
       "      <td>19549000000</td>\n",
       "      <td>-3.415000e+09</td>\n",
       "      <td>1.748000e+09</td>\n",
       "      <td>-5.867000e+09</td>\n",
       "      <td>-8.508000e+09</td>\n",
       "      <td>-3.177000e+09</td>\n",
       "      <td>2.350000e+09</td>\n",
       "      <td>-1.160100e+10</td>\n",
       "      <td>-1.242800e+10</td>\n",
       "      <td>-1522000000</td>\n",
       "    </tr>\n",
       "    <tr>\n",
       "      <th>2011-12-31</th>\n",
       "      <td>69543</td>\n",
       "      <td>USD</td>\n",
       "      <td>2011</td>\n",
       "      <td>FY</td>\n",
       "      <td>2012-02-28</td>\n",
       "      <td>2014-02-25</td>\n",
       "      <td>1.196951e+09</td>\n",
       "      <td>1.213768e+09</td>\n",
       "      <td>1.585500e+10</td>\n",
       "      <td>4.815000e+09</td>\n",
       "      <td>1.567000e+09</td>\n",
       "      <td>-2.390000e+09</td>\n",
       "      <td>NaN</td>\n",
       "      <td>NaN</td>\n",
       "      <td>NaN</td>\n",
       "      <td>NaN</td>\n",
       "      <td>19847000000</td>\n",
       "      <td>-3.500000e+09</td>\n",
       "      <td>1.751000e+09</td>\n",
       "      <td>-1.797000e+09</td>\n",
       "      <td>-4.396000e+09</td>\n",
       "      <td>-3.473000e+09</td>\n",
       "      <td>2.370000e+09</td>\n",
       "      <td>-1.259300e+10</td>\n",
       "      <td>-1.369600e+10</td>\n",
       "      <td>1262000000</td>\n",
       "    </tr>\n",
       "    <tr>\n",
       "      <th>2012-12-31</th>\n",
       "      <td>69543</td>\n",
       "      <td>USD</td>\n",
       "      <td>2012</td>\n",
       "      <td>FY</td>\n",
       "      <td>2013-02-26</td>\n",
       "      <td>2015-02-24</td>\n",
       "      <td>1.142509e+09</td>\n",
       "      <td>1.155449e+09</td>\n",
       "      <td>1.660400e+10</td>\n",
       "      <td>4.676000e+09</td>\n",
       "      <td>7.560000e+08</td>\n",
       "      <td>-2.449000e+09</td>\n",
       "      <td>NaN</td>\n",
       "      <td>NaN</td>\n",
       "      <td>NaN</td>\n",
       "      <td>NaN</td>\n",
       "      <td>19587000000</td>\n",
       "      <td>-3.672000e+09</td>\n",
       "      <td>-9.670000e+08</td>\n",
       "      <td>-3.123000e+09</td>\n",
       "      <td>-9.005000e+09</td>\n",
       "      <td>-3.773000e+09</td>\n",
       "      <td>2.252000e+09</td>\n",
       "      <td>-1.045500e+10</td>\n",
       "      <td>-1.197600e+10</td>\n",
       "      <td>-1510000000</td>\n",
       "    </tr>\n",
       "    <tr>\n",
       "      <th>2013-12-31</th>\n",
       "      <td>69543</td>\n",
       "      <td>USD</td>\n",
       "      <td>2013</td>\n",
       "      <td>FY</td>\n",
       "      <td>2014-02-25</td>\n",
       "      <td>2016-02-23</td>\n",
       "      <td>1.094487e+09</td>\n",
       "      <td>1.103042e+09</td>\n",
       "      <td>1.648300e+10</td>\n",
       "      <td>4.678000e+09</td>\n",
       "      <td>-1.232000e+09</td>\n",
       "      <td>-2.446000e+09</td>\n",
       "      <td>NaN</td>\n",
       "      <td>NaN</td>\n",
       "      <td>NaN</td>\n",
       "      <td>NaN</td>\n",
       "      <td>17483000000</td>\n",
       "      <td>-3.251000e+09</td>\n",
       "      <td>2.650000e+08</td>\n",
       "      <td>-2.759000e+09</td>\n",
       "      <td>-7.325000e+09</td>\n",
       "      <td>-4.058000e+09</td>\n",
       "      <td>6.961000e+09</td>\n",
       "      <td>-1.278500e+10</td>\n",
       "      <td>-9.882000e+09</td>\n",
       "      <td>304000000</td>\n",
       "    </tr>\n",
       "    <tr>\n",
       "      <th>2014-12-31</th>\n",
       "      <td>69543</td>\n",
       "      <td>USD</td>\n",
       "      <td>2014</td>\n",
       "      <td>FY</td>\n",
       "      <td>2015-02-24</td>\n",
       "      <td>2017-02-28</td>\n",
       "      <td>1.004273e+09</td>\n",
       "      <td>1.010000e+09</td>\n",
       "      <td>1.202200e+10</td>\n",
       "      <td>4.492000e+09</td>\n",
       "      <td>2.121000e+09</td>\n",
       "      <td>-1.766000e+09</td>\n",
       "      <td>NaN</td>\n",
       "      <td>NaN</td>\n",
       "      <td>NaN</td>\n",
       "      <td>NaN</td>\n",
       "      <td>16869000000</td>\n",
       "      <td>-3.336000e+09</td>\n",
       "      <td>1.550000e+08</td>\n",
       "      <td>1.701000e+09</td>\n",
       "      <td>-3.001000e+09</td>\n",
       "      <td>-4.265000e+09</td>\n",
       "      <td>1.783000e+09</td>\n",
       "      <td>-1.297000e+10</td>\n",
       "      <td>-1.545200e+10</td>\n",
       "      <td>-2239000000</td>\n",
       "    </tr>\n",
       "    <tr>\n",
       "      <th>2015-12-31</th>\n",
       "      <td>69543</td>\n",
       "      <td>USD</td>\n",
       "      <td>2015</td>\n",
       "      <td>FY</td>\n",
       "      <td>2016-02-23</td>\n",
       "      <td>2017-02-28</td>\n",
       "      <td>9.787445e+08</td>\n",
       "      <td>9.827003e+08</td>\n",
       "      <td>1.319000e+10</td>\n",
       "      <td>3.855000e+09</td>\n",
       "      <td>2.407000e+09</td>\n",
       "      <td>-2.444000e+09</td>\n",
       "      <td>NaN</td>\n",
       "      <td>NaN</td>\n",
       "      <td>NaN</td>\n",
       "      <td>NaN</td>\n",
       "      <td>17008000000</td>\n",
       "      <td>-3.209000e+09</td>\n",
       "      <td>-2.310000e+08</td>\n",
       "      <td>-3.750000e+09</td>\n",
       "      <td>-8.160000e+09</td>\n",
       "      <td>-4.897000e+09</td>\n",
       "      <td>1.900000e+07</td>\n",
       "      <td>-4.287000e+09</td>\n",
       "      <td>-9.165000e+09</td>\n",
       "      <td>-790000000</td>\n",
       "    </tr>\n",
       "    <tr>\n",
       "      <th>2016-12-31</th>\n",
       "      <td>69543</td>\n",
       "      <td>USD</td>\n",
       "      <td>2016</td>\n",
       "      <td>FY</td>\n",
       "      <td>2017-02-28</td>\n",
       "      <td>2017-02-28</td>\n",
       "      <td>9.554225e+08</td>\n",
       "      <td>9.587141e+08</td>\n",
       "      <td>1.187200e+10</td>\n",
       "      <td>4.381000e+09</td>\n",
       "      <td>-5.260000e+08</td>\n",
       "      <td>1.231000e+09</td>\n",
       "      <td>NaN</td>\n",
       "      <td>NaN</td>\n",
       "      <td>NaN</td>\n",
       "      <td>NaN</td>\n",
       "      <td>16958000000</td>\n",
       "      <td>-3.143000e+09</td>\n",
       "      <td>-2.250000e+08</td>\n",
       "      <td>-6.133000e+09</td>\n",
       "      <td>-1.097500e+10</td>\n",
       "      <td>-5.256000e+09</td>\n",
       "      <td>2.763000e+09</td>\n",
       "      <td>-3.298000e+09</td>\n",
       "      <td>-5.791000e+09</td>\n",
       "      <td>141000000</td>\n",
       "    </tr>\n",
       "    <tr>\n",
       "      <th>2017-12-31</th>\n",
       "      <td>69543</td>\n",
       "      <td>USD</td>\n",
       "      <td>2017</td>\n",
       "      <td>FY</td>\n",
       "      <td>2018-02-27</td>\n",
       "      <td>2018-02-27</td>\n",
       "      <td>9.328283e+08</td>\n",
       "      <td>9.373856e+08</td>\n",
       "      <td>5.753000e+09</td>\n",
       "      <td>4.541000e+09</td>\n",
       "      <td>-3.830000e+08</td>\n",
       "      <td>6.813000e+09</td>\n",
       "      <td>NaN</td>\n",
       "      <td>NaN</td>\n",
       "      <td>NaN</td>\n",
       "      <td>NaN</td>\n",
       "      <td>16724000000</td>\n",
       "      <td>-2.769000e+09</td>\n",
       "      <td>-1.054000e+09</td>\n",
       "      <td>-7.010000e+08</td>\n",
       "      <td>-7.096000e+09</td>\n",
       "      <td>-5.506000e+09</td>\n",
       "      <td>3.447000e+09</td>\n",
       "      <td>-4.358000e+09</td>\n",
       "      <td>-6.417000e+09</td>\n",
       "      <td>4148000000</td>\n",
       "    </tr>\n",
       "    <tr>\n",
       "      <th>2018-12-31</th>\n",
       "      <td>69543</td>\n",
       "      <td>USD</td>\n",
       "      <td>2018</td>\n",
       "      <td>FY</td>\n",
       "      <td>2019-02-26</td>\n",
       "      <td>2019-02-26</td>\n",
       "      <td>9.120481e+08</td>\n",
       "      <td>9.163157e+08</td>\n",
       "      <td>8.728000e+09</td>\n",
       "      <td>4.480000e+09</td>\n",
       "      <td>1.486000e+09</td>\n",
       "      <td>5.540000e+08</td>\n",
       "      <td>NaN</td>\n",
       "      <td>NaN</td>\n",
       "      <td>NaN</td>\n",
       "      <td>NaN</td>\n",
       "      <td>15248000000</td>\n",
       "      <td>-3.147000e+09</td>\n",
       "      <td>-5.540000e+08</td>\n",
       "      <td>-1.390000e+08</td>\n",
       "      <td>-4.912000e+09</td>\n",
       "      <td>-5.666000e+09</td>\n",
       "      <td>-3.010000e+08</td>\n",
       "      <td>-4.503000e+09</td>\n",
       "      <td>-1.047000e+10</td>\n",
       "      <td>-629000000</td>\n",
       "    </tr>\n",
       "  </tbody>\n",
       "</table>\n",
       "</div>"
      ],
      "text/plain": [
       "                    SimFinId Currency  Fiscal Year Fiscal Period Publish Date  \\\n",
       "Ticker Report Date                                                              \n",
       "IBM    2008-12-31      69543      USD         2008            FY   2009-01-27   \n",
       "       2009-12-31      69543      USD         2009            FY   2010-01-27   \n",
       "       2010-12-31      69543      USD         2010            FY   2011-02-22   \n",
       "       2011-12-31      69543      USD         2011            FY   2012-02-28   \n",
       "       2012-12-31      69543      USD         2012            FY   2013-02-26   \n",
       "       2013-12-31      69543      USD         2013            FY   2014-02-25   \n",
       "       2014-12-31      69543      USD         2014            FY   2015-02-24   \n",
       "       2015-12-31      69543      USD         2015            FY   2016-02-23   \n",
       "       2016-12-31      69543      USD         2016            FY   2017-02-28   \n",
       "       2017-12-31      69543      USD         2017            FY   2018-02-27   \n",
       "       2018-12-31      69543      USD         2018            FY   2019-02-26   \n",
       "\n",
       "                   Restated Date  Shares (Basic)  Shares (Diluted)  \\\n",
       "Ticker Report Date                                                   \n",
       "IBM    2008-12-31     2011-02-22    1.369367e+09      1.387797e+09   \n",
       "       2009-12-31     2012-02-28    1.327157e+09      1.341353e+09   \n",
       "       2010-12-31     2013-02-26    1.268789e+09      1.287355e+09   \n",
       "       2011-12-31     2014-02-25    1.196951e+09      1.213768e+09   \n",
       "       2012-12-31     2015-02-24    1.142509e+09      1.155449e+09   \n",
       "       2013-12-31     2016-02-23    1.094487e+09      1.103042e+09   \n",
       "       2014-12-31     2017-02-28    1.004273e+09      1.010000e+09   \n",
       "       2015-12-31     2017-02-28    9.787445e+08      9.827003e+08   \n",
       "       2016-12-31     2017-02-28    9.554225e+08      9.587141e+08   \n",
       "       2017-12-31     2018-02-27    9.328283e+08      9.373856e+08   \n",
       "       2018-12-31     2019-02-26    9.120481e+08      9.163157e+08   \n",
       "\n",
       "                    Net Income/Starting Line  Depreciation & Amortization  \\\n",
       "Ticker Report Date                                                          \n",
       "IBM    2008-12-31               1.233400e+10                 5.450000e+09   \n",
       "       2009-12-31               1.342500e+10                 4.994000e+09   \n",
       "       2010-12-31               1.483300e+10                 4.831000e+09   \n",
       "       2011-12-31               1.585500e+10                 4.815000e+09   \n",
       "       2012-12-31               1.660400e+10                 4.676000e+09   \n",
       "       2013-12-31               1.648300e+10                 4.678000e+09   \n",
       "       2014-12-31               1.202200e+10                 4.492000e+09   \n",
       "       2015-12-31               1.319000e+10                 3.855000e+09   \n",
       "       2016-12-31               1.187200e+10                 4.381000e+09   \n",
       "       2017-12-31               5.753000e+09                 4.541000e+09   \n",
       "       2018-12-31               8.728000e+09                 4.480000e+09   \n",
       "\n",
       "                    Non-Cash Items  Change in Working Capital  \\\n",
       "Ticker Report Date                                              \n",
       "IBM    2008-12-31     2.221000e+09              -1.193000e+09   \n",
       "       2009-12-31     1.936000e+09               4.180000e+08   \n",
       "       2010-12-31     1.122000e+09              -1.237000e+09   \n",
       "       2011-12-31     1.567000e+09              -2.390000e+09   \n",
       "       2012-12-31     7.560000e+08              -2.449000e+09   \n",
       "       2013-12-31    -1.232000e+09              -2.446000e+09   \n",
       "       2014-12-31     2.121000e+09              -1.766000e+09   \n",
       "       2015-12-31     2.407000e+09              -2.444000e+09   \n",
       "       2016-12-31    -5.260000e+08               1.231000e+09   \n",
       "       2017-12-31    -3.830000e+08               6.813000e+09   \n",
       "       2018-12-31     1.486000e+09               5.540000e+08   \n",
       "\n",
       "                    Change in Accounts Receivable  Change in Inventories  \\\n",
       "Ticker Report Date                                                         \n",
       "IBM    2008-12-31                             NaN                    NaN   \n",
       "       2009-12-31                             NaN                    NaN   \n",
       "       2010-12-31                             NaN                    NaN   \n",
       "       2011-12-31                             NaN                    NaN   \n",
       "       2012-12-31                             NaN                    NaN   \n",
       "       2013-12-31                             NaN                    NaN   \n",
       "       2014-12-31                             NaN                    NaN   \n",
       "       2015-12-31                             NaN                    NaN   \n",
       "       2016-12-31                             NaN                    NaN   \n",
       "       2017-12-31                             NaN                    NaN   \n",
       "       2018-12-31                             NaN                    NaN   \n",
       "\n",
       "                    Change in Accounts Payable  Change in Other  \\\n",
       "Ticker Report Date                                                \n",
       "IBM    2008-12-31                          NaN              NaN   \n",
       "       2009-12-31                          NaN              NaN   \n",
       "       2010-12-31                          NaN              NaN   \n",
       "       2011-12-31                          NaN              NaN   \n",
       "       2012-12-31                          NaN              NaN   \n",
       "       2013-12-31                          NaN              NaN   \n",
       "       2014-12-31                          NaN              NaN   \n",
       "       2015-12-31                          NaN              NaN   \n",
       "       2016-12-31                          NaN              NaN   \n",
       "       2017-12-31                          NaN              NaN   \n",
       "       2018-12-31                          NaN              NaN   \n",
       "\n",
       "                    Net Cash from Operating Activities  \\\n",
       "Ticker Report Date                                       \n",
       "IBM    2008-12-31                          18812000000   \n",
       "       2009-12-31                          20773000000   \n",
       "       2010-12-31                          19549000000   \n",
       "       2011-12-31                          19847000000   \n",
       "       2012-12-31                          19587000000   \n",
       "       2013-12-31                          17483000000   \n",
       "       2014-12-31                          16869000000   \n",
       "       2015-12-31                          17008000000   \n",
       "       2016-12-31                          16958000000   \n",
       "       2017-12-31                          16724000000   \n",
       "       2018-12-31                          15248000000   \n",
       "\n",
       "                    Change in Fixed Assets & Intangibles  \\\n",
       "Ticker Report Date                                         \n",
       "IBM    2008-12-31                          -3.821000e+09   \n",
       "       2009-12-31                          -3.117000e+09   \n",
       "       2010-12-31                          -3.415000e+09   \n",
       "       2011-12-31                          -3.500000e+09   \n",
       "       2012-12-31                          -3.672000e+09   \n",
       "       2013-12-31                          -3.251000e+09   \n",
       "       2014-12-31                          -3.336000e+09   \n",
       "       2015-12-31                          -3.209000e+09   \n",
       "       2016-12-31                          -3.143000e+09   \n",
       "       2017-12-31                          -2.769000e+09   \n",
       "       2018-12-31                          -3.147000e+09   \n",
       "\n",
       "                    Net Change in Long Term Investment  \\\n",
       "Ticker Report Date                                       \n",
       "IBM    2008-12-31                         1.510000e+09   \n",
       "       2009-12-31                        -2.005000e+09   \n",
       "       2010-12-31                         1.748000e+09   \n",
       "       2011-12-31                         1.751000e+09   \n",
       "       2012-12-31                        -9.670000e+08   \n",
       "       2013-12-31                         2.650000e+08   \n",
       "       2014-12-31                         1.550000e+08   \n",
       "       2015-12-31                        -2.310000e+08   \n",
       "       2016-12-31                        -2.250000e+08   \n",
       "       2017-12-31                        -1.054000e+09   \n",
       "       2018-12-31                        -5.540000e+08   \n",
       "\n",
       "                    Net Cash from Acquisitions & Divestitures  \\\n",
       "Ticker Report Date                                              \n",
       "IBM    2008-12-31                               -6.242000e+09   \n",
       "       2009-12-31                               -7.940000e+08   \n",
       "       2010-12-31                               -5.867000e+09   \n",
       "       2011-12-31                               -1.797000e+09   \n",
       "       2012-12-31                               -3.123000e+09   \n",
       "       2013-12-31                               -2.759000e+09   \n",
       "       2014-12-31                                1.701000e+09   \n",
       "       2015-12-31                               -3.750000e+09   \n",
       "       2016-12-31                               -6.133000e+09   \n",
       "       2017-12-31                               -7.010000e+08   \n",
       "       2018-12-31                               -1.390000e+08   \n",
       "\n",
       "                    Net Cash from Investing Activities  Dividends Paid  \\\n",
       "Ticker Report Date                                                       \n",
       "IBM    2008-12-31                        -9.285000e+09   -2.585000e+09   \n",
       "       2009-12-31                        -6.730000e+09   -2.860000e+09   \n",
       "       2010-12-31                        -8.508000e+09   -3.177000e+09   \n",
       "       2011-12-31                        -4.396000e+09   -3.473000e+09   \n",
       "       2012-12-31                        -9.005000e+09   -3.773000e+09   \n",
       "       2013-12-31                        -7.325000e+09   -4.058000e+09   \n",
       "       2014-12-31                        -3.001000e+09   -4.265000e+09   \n",
       "       2015-12-31                        -8.160000e+09   -4.897000e+09   \n",
       "       2016-12-31                        -1.097500e+10   -5.256000e+09   \n",
       "       2017-12-31                        -7.096000e+09   -5.506000e+09   \n",
       "       2018-12-31                        -4.912000e+09   -5.666000e+09   \n",
       "\n",
       "                    Cash from (Repayment of) Debt  \\\n",
       "Ticker Report Date                                  \n",
       "IBM    2008-12-31                   -2.444000e+09   \n",
       "       2009-12-31                   -7.463000e+09   \n",
       "       2010-12-31                    2.350000e+09   \n",
       "       2011-12-31                    2.370000e+09   \n",
       "       2012-12-31                    2.252000e+09   \n",
       "       2013-12-31                    6.961000e+09   \n",
       "       2014-12-31                    1.783000e+09   \n",
       "       2015-12-31                    1.900000e+07   \n",
       "       2016-12-31                    2.763000e+09   \n",
       "       2017-12-31                    3.447000e+09   \n",
       "       2018-12-31                   -3.010000e+08   \n",
       "\n",
       "                    Cash from (Repurchase of) Equity  \\\n",
       "Ticker Report Date                                     \n",
       "IBM    2008-12-31                      -6.804000e+09   \n",
       "       2009-12-31                      -4.377000e+09   \n",
       "       2010-12-31                      -1.160100e+10   \n",
       "       2011-12-31                      -1.259300e+10   \n",
       "       2012-12-31                      -1.045500e+10   \n",
       "       2013-12-31                      -1.278500e+10   \n",
       "       2014-12-31                      -1.297000e+10   \n",
       "       2015-12-31                      -4.287000e+09   \n",
       "       2016-12-31                      -3.298000e+09   \n",
       "       2017-12-31                      -4.358000e+09   \n",
       "       2018-12-31                      -4.503000e+09   \n",
       "\n",
       "                    Net Cash from Financing Activities  Net Change in Cash  \n",
       "Ticker Report Date                                                          \n",
       "IBM    2008-12-31                        -1.183300e+10         -2248000000  \n",
       "       2009-12-31                        -1.470000e+10          -559000000  \n",
       "       2010-12-31                        -1.242800e+10         -1522000000  \n",
       "       2011-12-31                        -1.369600e+10          1262000000  \n",
       "       2012-12-31                        -1.197600e+10         -1510000000  \n",
       "       2013-12-31                        -9.882000e+09           304000000  \n",
       "       2014-12-31                        -1.545200e+10         -2239000000  \n",
       "       2015-12-31                        -9.165000e+09          -790000000  \n",
       "       2016-12-31                        -5.791000e+09           141000000  \n",
       "       2017-12-31                        -6.417000e+09          4148000000  \n",
       "       2018-12-31                        -1.047000e+10          -629000000  "
      ]
     },
     "execution_count": 178,
     "metadata": {},
     "output_type": "execute_result"
    }
   ],
   "source": [
    "us_cashflows[us_cashflows.index.get_level_values('Ticker') == 'IBM']"
   ]
  },
  {
   "cell_type": "code",
   "execution_count": 179,
   "metadata": {},
   "outputs": [],
   "source": [
    "df_cf = us_cashflows.groupby(level='Ticker').tail(5)"
   ]
  },
  {
   "cell_type": "code",
   "execution_count": 180,
   "metadata": {
    "scrolled": true
   },
   "outputs": [
    {
     "data": {
      "text/html": [
       "<div>\n",
       "<style scoped>\n",
       "    .dataframe tbody tr th:only-of-type {\n",
       "        vertical-align: middle;\n",
       "    }\n",
       "\n",
       "    .dataframe tbody tr th {\n",
       "        vertical-align: top;\n",
       "    }\n",
       "\n",
       "    .dataframe thead th {\n",
       "        text-align: right;\n",
       "    }\n",
       "</style>\n",
       "<table border=\"1\" class=\"dataframe\">\n",
       "  <thead>\n",
       "    <tr style=\"text-align: right;\">\n",
       "      <th></th>\n",
       "      <th></th>\n",
       "      <th>SimFinId</th>\n",
       "      <th>Currency</th>\n",
       "      <th>Fiscal Year</th>\n",
       "      <th>Fiscal Period</th>\n",
       "      <th>Publish Date</th>\n",
       "      <th>Restated Date</th>\n",
       "      <th>Shares (Basic)</th>\n",
       "      <th>Shares (Diluted)</th>\n",
       "      <th>Net Income/Starting Line</th>\n",
       "      <th>Depreciation &amp; Amortization</th>\n",
       "      <th>Non-Cash Items</th>\n",
       "      <th>Change in Working Capital</th>\n",
       "      <th>Change in Accounts Receivable</th>\n",
       "      <th>Change in Inventories</th>\n",
       "      <th>Change in Accounts Payable</th>\n",
       "      <th>Change in Other</th>\n",
       "      <th>Net Cash from Operating Activities</th>\n",
       "      <th>Change in Fixed Assets &amp; Intangibles</th>\n",
       "      <th>Net Change in Long Term Investment</th>\n",
       "      <th>Net Cash from Acquisitions &amp; Divestitures</th>\n",
       "      <th>Net Cash from Investing Activities</th>\n",
       "      <th>Dividends Paid</th>\n",
       "      <th>Cash from (Repayment of) Debt</th>\n",
       "      <th>Cash from (Repurchase of) Equity</th>\n",
       "      <th>Net Cash from Financing Activities</th>\n",
       "      <th>Net Change in Cash</th>\n",
       "    </tr>\n",
       "    <tr>\n",
       "      <th>Ticker</th>\n",
       "      <th>Report Date</th>\n",
       "      <th></th>\n",
       "      <th></th>\n",
       "      <th></th>\n",
       "      <th></th>\n",
       "      <th></th>\n",
       "      <th></th>\n",
       "      <th></th>\n",
       "      <th></th>\n",
       "      <th></th>\n",
       "      <th></th>\n",
       "      <th></th>\n",
       "      <th></th>\n",
       "      <th></th>\n",
       "      <th></th>\n",
       "      <th></th>\n",
       "      <th></th>\n",
       "      <th></th>\n",
       "      <th></th>\n",
       "      <th></th>\n",
       "      <th></th>\n",
       "      <th></th>\n",
       "      <th></th>\n",
       "      <th></th>\n",
       "      <th></th>\n",
       "      <th></th>\n",
       "      <th></th>\n",
       "    </tr>\n",
       "  </thead>\n",
       "  <tbody>\n",
       "    <tr>\n",
       "      <th rowspan=\"5\" valign=\"top\">IBM</th>\n",
       "      <th>2014-12-31</th>\n",
       "      <td>69543</td>\n",
       "      <td>USD</td>\n",
       "      <td>2014</td>\n",
       "      <td>FY</td>\n",
       "      <td>2015-02-24</td>\n",
       "      <td>2017-02-28</td>\n",
       "      <td>1.004273e+09</td>\n",
       "      <td>1.010000e+09</td>\n",
       "      <td>1.202200e+10</td>\n",
       "      <td>4.492000e+09</td>\n",
       "      <td>2.121000e+09</td>\n",
       "      <td>-1.766000e+09</td>\n",
       "      <td>NaN</td>\n",
       "      <td>NaN</td>\n",
       "      <td>NaN</td>\n",
       "      <td>NaN</td>\n",
       "      <td>16869000000</td>\n",
       "      <td>-3.336000e+09</td>\n",
       "      <td>1.550000e+08</td>\n",
       "      <td>1.701000e+09</td>\n",
       "      <td>-3.001000e+09</td>\n",
       "      <td>-4.265000e+09</td>\n",
       "      <td>1.783000e+09</td>\n",
       "      <td>-1.297000e+10</td>\n",
       "      <td>-1.545200e+10</td>\n",
       "      <td>-2239000000</td>\n",
       "    </tr>\n",
       "    <tr>\n",
       "      <th>2015-12-31</th>\n",
       "      <td>69543</td>\n",
       "      <td>USD</td>\n",
       "      <td>2015</td>\n",
       "      <td>FY</td>\n",
       "      <td>2016-02-23</td>\n",
       "      <td>2017-02-28</td>\n",
       "      <td>9.787445e+08</td>\n",
       "      <td>9.827003e+08</td>\n",
       "      <td>1.319000e+10</td>\n",
       "      <td>3.855000e+09</td>\n",
       "      <td>2.407000e+09</td>\n",
       "      <td>-2.444000e+09</td>\n",
       "      <td>NaN</td>\n",
       "      <td>NaN</td>\n",
       "      <td>NaN</td>\n",
       "      <td>NaN</td>\n",
       "      <td>17008000000</td>\n",
       "      <td>-3.209000e+09</td>\n",
       "      <td>-2.310000e+08</td>\n",
       "      <td>-3.750000e+09</td>\n",
       "      <td>-8.160000e+09</td>\n",
       "      <td>-4.897000e+09</td>\n",
       "      <td>1.900000e+07</td>\n",
       "      <td>-4.287000e+09</td>\n",
       "      <td>-9.165000e+09</td>\n",
       "      <td>-790000000</td>\n",
       "    </tr>\n",
       "    <tr>\n",
       "      <th>2016-12-31</th>\n",
       "      <td>69543</td>\n",
       "      <td>USD</td>\n",
       "      <td>2016</td>\n",
       "      <td>FY</td>\n",
       "      <td>2017-02-28</td>\n",
       "      <td>2017-02-28</td>\n",
       "      <td>9.554225e+08</td>\n",
       "      <td>9.587141e+08</td>\n",
       "      <td>1.187200e+10</td>\n",
       "      <td>4.381000e+09</td>\n",
       "      <td>-5.260000e+08</td>\n",
       "      <td>1.231000e+09</td>\n",
       "      <td>NaN</td>\n",
       "      <td>NaN</td>\n",
       "      <td>NaN</td>\n",
       "      <td>NaN</td>\n",
       "      <td>16958000000</td>\n",
       "      <td>-3.143000e+09</td>\n",
       "      <td>-2.250000e+08</td>\n",
       "      <td>-6.133000e+09</td>\n",
       "      <td>-1.097500e+10</td>\n",
       "      <td>-5.256000e+09</td>\n",
       "      <td>2.763000e+09</td>\n",
       "      <td>-3.298000e+09</td>\n",
       "      <td>-5.791000e+09</td>\n",
       "      <td>141000000</td>\n",
       "    </tr>\n",
       "    <tr>\n",
       "      <th>2017-12-31</th>\n",
       "      <td>69543</td>\n",
       "      <td>USD</td>\n",
       "      <td>2017</td>\n",
       "      <td>FY</td>\n",
       "      <td>2018-02-27</td>\n",
       "      <td>2018-02-27</td>\n",
       "      <td>9.328283e+08</td>\n",
       "      <td>9.373856e+08</td>\n",
       "      <td>5.753000e+09</td>\n",
       "      <td>4.541000e+09</td>\n",
       "      <td>-3.830000e+08</td>\n",
       "      <td>6.813000e+09</td>\n",
       "      <td>NaN</td>\n",
       "      <td>NaN</td>\n",
       "      <td>NaN</td>\n",
       "      <td>NaN</td>\n",
       "      <td>16724000000</td>\n",
       "      <td>-2.769000e+09</td>\n",
       "      <td>-1.054000e+09</td>\n",
       "      <td>-7.010000e+08</td>\n",
       "      <td>-7.096000e+09</td>\n",
       "      <td>-5.506000e+09</td>\n",
       "      <td>3.447000e+09</td>\n",
       "      <td>-4.358000e+09</td>\n",
       "      <td>-6.417000e+09</td>\n",
       "      <td>4148000000</td>\n",
       "    </tr>\n",
       "    <tr>\n",
       "      <th>2018-12-31</th>\n",
       "      <td>69543</td>\n",
       "      <td>USD</td>\n",
       "      <td>2018</td>\n",
       "      <td>FY</td>\n",
       "      <td>2019-02-26</td>\n",
       "      <td>2019-02-26</td>\n",
       "      <td>9.120481e+08</td>\n",
       "      <td>9.163157e+08</td>\n",
       "      <td>8.728000e+09</td>\n",
       "      <td>4.480000e+09</td>\n",
       "      <td>1.486000e+09</td>\n",
       "      <td>5.540000e+08</td>\n",
       "      <td>NaN</td>\n",
       "      <td>NaN</td>\n",
       "      <td>NaN</td>\n",
       "      <td>NaN</td>\n",
       "      <td>15248000000</td>\n",
       "      <td>-3.147000e+09</td>\n",
       "      <td>-5.540000e+08</td>\n",
       "      <td>-1.390000e+08</td>\n",
       "      <td>-4.912000e+09</td>\n",
       "      <td>-5.666000e+09</td>\n",
       "      <td>-3.010000e+08</td>\n",
       "      <td>-4.503000e+09</td>\n",
       "      <td>-1.047000e+10</td>\n",
       "      <td>-629000000</td>\n",
       "    </tr>\n",
       "  </tbody>\n",
       "</table>\n",
       "</div>"
      ],
      "text/plain": [
       "                    SimFinId Currency  Fiscal Year Fiscal Period Publish Date  \\\n",
       "Ticker Report Date                                                              \n",
       "IBM    2014-12-31      69543      USD         2014            FY   2015-02-24   \n",
       "       2015-12-31      69543      USD         2015            FY   2016-02-23   \n",
       "       2016-12-31      69543      USD         2016            FY   2017-02-28   \n",
       "       2017-12-31      69543      USD         2017            FY   2018-02-27   \n",
       "       2018-12-31      69543      USD         2018            FY   2019-02-26   \n",
       "\n",
       "                   Restated Date  Shares (Basic)  Shares (Diluted)  \\\n",
       "Ticker Report Date                                                   \n",
       "IBM    2014-12-31     2017-02-28    1.004273e+09      1.010000e+09   \n",
       "       2015-12-31     2017-02-28    9.787445e+08      9.827003e+08   \n",
       "       2016-12-31     2017-02-28    9.554225e+08      9.587141e+08   \n",
       "       2017-12-31     2018-02-27    9.328283e+08      9.373856e+08   \n",
       "       2018-12-31     2019-02-26    9.120481e+08      9.163157e+08   \n",
       "\n",
       "                    Net Income/Starting Line  Depreciation & Amortization  \\\n",
       "Ticker Report Date                                                          \n",
       "IBM    2014-12-31               1.202200e+10                 4.492000e+09   \n",
       "       2015-12-31               1.319000e+10                 3.855000e+09   \n",
       "       2016-12-31               1.187200e+10                 4.381000e+09   \n",
       "       2017-12-31               5.753000e+09                 4.541000e+09   \n",
       "       2018-12-31               8.728000e+09                 4.480000e+09   \n",
       "\n",
       "                    Non-Cash Items  Change in Working Capital  \\\n",
       "Ticker Report Date                                              \n",
       "IBM    2014-12-31     2.121000e+09              -1.766000e+09   \n",
       "       2015-12-31     2.407000e+09              -2.444000e+09   \n",
       "       2016-12-31    -5.260000e+08               1.231000e+09   \n",
       "       2017-12-31    -3.830000e+08               6.813000e+09   \n",
       "       2018-12-31     1.486000e+09               5.540000e+08   \n",
       "\n",
       "                    Change in Accounts Receivable  Change in Inventories  \\\n",
       "Ticker Report Date                                                         \n",
       "IBM    2014-12-31                             NaN                    NaN   \n",
       "       2015-12-31                             NaN                    NaN   \n",
       "       2016-12-31                             NaN                    NaN   \n",
       "       2017-12-31                             NaN                    NaN   \n",
       "       2018-12-31                             NaN                    NaN   \n",
       "\n",
       "                    Change in Accounts Payable  Change in Other  \\\n",
       "Ticker Report Date                                                \n",
       "IBM    2014-12-31                          NaN              NaN   \n",
       "       2015-12-31                          NaN              NaN   \n",
       "       2016-12-31                          NaN              NaN   \n",
       "       2017-12-31                          NaN              NaN   \n",
       "       2018-12-31                          NaN              NaN   \n",
       "\n",
       "                    Net Cash from Operating Activities  \\\n",
       "Ticker Report Date                                       \n",
       "IBM    2014-12-31                          16869000000   \n",
       "       2015-12-31                          17008000000   \n",
       "       2016-12-31                          16958000000   \n",
       "       2017-12-31                          16724000000   \n",
       "       2018-12-31                          15248000000   \n",
       "\n",
       "                    Change in Fixed Assets & Intangibles  \\\n",
       "Ticker Report Date                                         \n",
       "IBM    2014-12-31                          -3.336000e+09   \n",
       "       2015-12-31                          -3.209000e+09   \n",
       "       2016-12-31                          -3.143000e+09   \n",
       "       2017-12-31                          -2.769000e+09   \n",
       "       2018-12-31                          -3.147000e+09   \n",
       "\n",
       "                    Net Change in Long Term Investment  \\\n",
       "Ticker Report Date                                       \n",
       "IBM    2014-12-31                         1.550000e+08   \n",
       "       2015-12-31                        -2.310000e+08   \n",
       "       2016-12-31                        -2.250000e+08   \n",
       "       2017-12-31                        -1.054000e+09   \n",
       "       2018-12-31                        -5.540000e+08   \n",
       "\n",
       "                    Net Cash from Acquisitions & Divestitures  \\\n",
       "Ticker Report Date                                              \n",
       "IBM    2014-12-31                                1.701000e+09   \n",
       "       2015-12-31                               -3.750000e+09   \n",
       "       2016-12-31                               -6.133000e+09   \n",
       "       2017-12-31                               -7.010000e+08   \n",
       "       2018-12-31                               -1.390000e+08   \n",
       "\n",
       "                    Net Cash from Investing Activities  Dividends Paid  \\\n",
       "Ticker Report Date                                                       \n",
       "IBM    2014-12-31                        -3.001000e+09   -4.265000e+09   \n",
       "       2015-12-31                        -8.160000e+09   -4.897000e+09   \n",
       "       2016-12-31                        -1.097500e+10   -5.256000e+09   \n",
       "       2017-12-31                        -7.096000e+09   -5.506000e+09   \n",
       "       2018-12-31                        -4.912000e+09   -5.666000e+09   \n",
       "\n",
       "                    Cash from (Repayment of) Debt  \\\n",
       "Ticker Report Date                                  \n",
       "IBM    2014-12-31                    1.783000e+09   \n",
       "       2015-12-31                    1.900000e+07   \n",
       "       2016-12-31                    2.763000e+09   \n",
       "       2017-12-31                    3.447000e+09   \n",
       "       2018-12-31                   -3.010000e+08   \n",
       "\n",
       "                    Cash from (Repurchase of) Equity  \\\n",
       "Ticker Report Date                                     \n",
       "IBM    2014-12-31                      -1.297000e+10   \n",
       "       2015-12-31                      -4.287000e+09   \n",
       "       2016-12-31                      -3.298000e+09   \n",
       "       2017-12-31                      -4.358000e+09   \n",
       "       2018-12-31                      -4.503000e+09   \n",
       "\n",
       "                    Net Cash from Financing Activities  Net Change in Cash  \n",
       "Ticker Report Date                                                          \n",
       "IBM    2014-12-31                        -1.545200e+10         -2239000000  \n",
       "       2015-12-31                        -9.165000e+09          -790000000  \n",
       "       2016-12-31                        -5.791000e+09           141000000  \n",
       "       2017-12-31                        -6.417000e+09          4148000000  \n",
       "       2018-12-31                        -1.047000e+10          -629000000  "
      ]
     },
     "execution_count": 180,
     "metadata": {},
     "output_type": "execute_result"
    }
   ],
   "source": [
    "df_cf[df_cf.index.get_level_values('Ticker') == 'IBM']"
   ]
  },
  {
   "cell_type": "code",
   "execution_count": 181,
   "metadata": {},
   "outputs": [
    {
     "data": {
      "text/plain": [
       "Ticker  Report Date\n",
       "IBM     2014-12-31     1.353300e+10\n",
       "        2015-12-31     1.379900e+10\n",
       "        2016-12-31     1.381500e+10\n",
       "        2017-12-31     1.395500e+10\n",
       "        2018-12-31     1.210100e+10\n",
       "dtype: float64"
      ]
     },
     "execution_count": 181,
     "metadata": {},
     "output_type": "execute_result"
    }
   ],
   "source": [
    "df_cf[df_cf.index.get_level_values('Ticker') == 'IBM']['Net Cash from Operating Activities'] +\\\n",
    "df_cf[df_cf.index.get_level_values('Ticker') == 'IBM']['Change in Fixed Assets & Intangibles']"
   ]
  },
  {
   "cell_type": "code",
   "execution_count": 182,
   "metadata": {},
   "outputs": [],
   "source": [
    "fcff_ibm = pd.read_excel('FCFF-1.xlsx', skiprows=4, nrows = 11)\n",
    "fcff_ibm.columns = ['cash','2019','2018','2017','2016','2015']"
   ]
  },
  {
   "cell_type": "code",
   "execution_count": 183,
   "metadata": {},
   "outputs": [],
   "source": [
    "fcff_ibm = fcff_ibm.T"
   ]
  },
  {
   "cell_type": "code",
   "execution_count": 184,
   "metadata": {},
   "outputs": [
    {
     "data": {
      "text/html": [
       "<div>\n",
       "<style scoped>\n",
       "    .dataframe tbody tr th:only-of-type {\n",
       "        vertical-align: middle;\n",
       "    }\n",
       "\n",
       "    .dataframe tbody tr th {\n",
       "        vertical-align: top;\n",
       "    }\n",
       "\n",
       "    .dataframe thead th {\n",
       "        text-align: right;\n",
       "    }\n",
       "</style>\n",
       "<table border=\"1\" class=\"dataframe\">\n",
       "  <thead>\n",
       "    <tr style=\"text-align: right;\">\n",
       "      <th>cash</th>\n",
       "      <th>Net income attributable to IBM</th>\n",
       "      <th>Net income attributable to noncontrolling interest</th>\n",
       "      <th>Net noncash charges</th>\n",
       "      <th>Changes in operating assets and liabilities, net of acquisitions/divestitures</th>\n",
       "      <th>Net cash provided by operating activities</th>\n",
       "      <th>Interest paid on debt, net of tax</th>\n",
       "      <th>Interest capitalized, net of tax</th>\n",
       "      <th>Payments for property, plant and equipment</th>\n",
       "      <th>Proceeds from disposition of property, plant and equipment</th>\n",
       "      <th>Investment in software</th>\n",
       "      <th>Free cash flow to the firm (FCFF)</th>\n",
       "    </tr>\n",
       "  </thead>\n",
       "  <tbody>\n",
       "    <tr>\n",
       "      <th>2019</th>\n",
       "      <td>9431</td>\n",
       "      <td>25</td>\n",
       "      <td>4089</td>\n",
       "      <td>1225</td>\n",
       "      <td>14770</td>\n",
       "      <td>1584</td>\n",
       "      <td>5</td>\n",
       "      <td>-2286</td>\n",
       "      <td>537</td>\n",
       "      <td>-621</td>\n",
       "      <td>13989</td>\n",
       "    </tr>\n",
       "    <tr>\n",
       "      <th>2018</th>\n",
       "      <td>8728</td>\n",
       "      <td>17</td>\n",
       "      <td>5949</td>\n",
       "      <td>553</td>\n",
       "      <td>15247</td>\n",
       "      <td>1352</td>\n",
       "      <td>3</td>\n",
       "      <td>-3395</td>\n",
       "      <td>248</td>\n",
       "      <td>-569</td>\n",
       "      <td>12886</td>\n",
       "    </tr>\n",
       "    <tr>\n",
       "      <th>2017</th>\n",
       "      <td>5753</td>\n",
       "      <td>17</td>\n",
       "      <td>4141</td>\n",
       "      <td>6813</td>\n",
       "      <td>16724</td>\n",
       "      <td>1196</td>\n",
       "      <td>5</td>\n",
       "      <td>-3229</td>\n",
       "      <td>460</td>\n",
       "      <td>-544</td>\n",
       "      <td>14612</td>\n",
       "    </tr>\n",
       "    <tr>\n",
       "      <th>2016</th>\n",
       "      <td>11872</td>\n",
       "      <td>16</td>\n",
       "      <td>3839</td>\n",
       "      <td>1231</td>\n",
       "      <td>16958</td>\n",
       "      <td>1112</td>\n",
       "      <td>2</td>\n",
       "      <td>-3567</td>\n",
       "      <td>424</td>\n",
       "      <td>-583</td>\n",
       "      <td>14346</td>\n",
       "    </tr>\n",
       "    <tr>\n",
       "      <th>2015</th>\n",
       "      <td>13190</td>\n",
       "      <td>8</td>\n",
       "      <td>6254</td>\n",
       "      <td>-2444</td>\n",
       "      <td>17008</td>\n",
       "      <td>836</td>\n",
       "      <td>0</td>\n",
       "      <td>-3579</td>\n",
       "      <td>370</td>\n",
       "      <td>-572</td>\n",
       "      <td>14063</td>\n",
       "    </tr>\n",
       "  </tbody>\n",
       "</table>\n",
       "</div>"
      ],
      "text/plain": [
       "cash Net income attributable to IBM  \\\n",
       "2019                           9431   \n",
       "2018                           8728   \n",
       "2017                           5753   \n",
       "2016                          11872   \n",
       "2015                          13190   \n",
       "\n",
       "cash Net income attributable to noncontrolling interest Net noncash charges  \\\n",
       "2019                                                 25                4089   \n",
       "2018                                                 17                5949   \n",
       "2017                                                 17                4141   \n",
       "2016                                                 16                3839   \n",
       "2015                                                  8                6254   \n",
       "\n",
       "cash Changes in operating assets and liabilities, net of acquisitions/divestitures  \\\n",
       "2019                                               1225                              \n",
       "2018                                                553                              \n",
       "2017                                               6813                              \n",
       "2016                                               1231                              \n",
       "2015                                              -2444                              \n",
       "\n",
       "cash Net cash provided by operating activities  \\\n",
       "2019                                     14770   \n",
       "2018                                     15247   \n",
       "2017                                     16724   \n",
       "2016                                     16958   \n",
       "2015                                     17008   \n",
       "\n",
       "cash Interest paid on debt, net of tax Interest capitalized, net of tax  \\\n",
       "2019                              1584                                5   \n",
       "2018                              1352                                3   \n",
       "2017                              1196                                5   \n",
       "2016                              1112                                2   \n",
       "2015                               836                                0   \n",
       "\n",
       "cash Payments for property, plant and equipment  \\\n",
       "2019                                      -2286   \n",
       "2018                                      -3395   \n",
       "2017                                      -3229   \n",
       "2016                                      -3567   \n",
       "2015                                      -3579   \n",
       "\n",
       "cash Proceeds from disposition of property, plant and equipment  \\\n",
       "2019                                                537           \n",
       "2018                                                248           \n",
       "2017                                                460           \n",
       "2016                                                424           \n",
       "2015                                                370           \n",
       "\n",
       "cash Investment in software Free cash flow to the firm (FCFF)  \n",
       "2019                   -621                             13989  \n",
       "2018                   -569                             12886  \n",
       "2017                   -544                             14612  \n",
       "2016                   -583                             14346  \n",
       "2015                   -572                             14063  "
      ]
     },
     "execution_count": 184,
     "metadata": {},
     "output_type": "execute_result"
    }
   ],
   "source": [
    "fcff_ibm.columns = fcff_ibm.iloc[0]\n",
    "fcff_ibm = fcff_ibm.drop(fcff_ibm.index[0])\n",
    "fcff_ibm"
   ]
  },
  {
   "cell_type": "markdown",
   "metadata": {},
   "source": [
    "https://www.stock-analysis-on.net/NYSE/Company/International-Business-Machines-Corp/DCF/Present-Value-of-FCFF"
   ]
  },
  {
   "cell_type": "code",
   "execution_count": 185,
   "metadata": {},
   "outputs": [
    {
     "data": {
      "text/html": [
       "<div>\n",
       "<style scoped>\n",
       "    .dataframe tbody tr th:only-of-type {\n",
       "        vertical-align: middle;\n",
       "    }\n",
       "\n",
       "    .dataframe tbody tr th {\n",
       "        vertical-align: top;\n",
       "    }\n",
       "\n",
       "    .dataframe thead th {\n",
       "        text-align: right;\n",
       "    }\n",
       "</style>\n",
       "<table border=\"1\" class=\"dataframe\">\n",
       "  <thead>\n",
       "    <tr style=\"text-align: right;\">\n",
       "      <th></th>\n",
       "      <th>Unnamed: 0</th>\n",
       "      <th>Average</th>\n",
       "      <th>2019-12-31 00:00:00</th>\n",
       "      <th>2018-12-31 00:00:00</th>\n",
       "      <th>2017-12-31 00:00:00</th>\n",
       "      <th>2016-12-31 00:00:00</th>\n",
       "      <th>2015-12-31 00:00:00</th>\n",
       "    </tr>\n",
       "  </thead>\n",
       "  <tbody>\n",
       "    <tr>\n",
       "      <th>0</th>\n",
       "      <td>Selected Financial Data (US$ in millions)</td>\n",
       "      <td>NaN</td>\n",
       "      <td>NaN</td>\n",
       "      <td>NaN</td>\n",
       "      <td>NaN</td>\n",
       "      <td>NaN</td>\n",
       "      <td>NaN</td>\n",
       "    </tr>\n",
       "    <tr>\n",
       "      <th>1</th>\n",
       "      <td>Interest expense</td>\n",
       "      <td>NaN</td>\n",
       "      <td>1344.0</td>\n",
       "      <td>723.0</td>\n",
       "      <td>615.0</td>\n",
       "      <td>630.0</td>\n",
       "      <td>468.0</td>\n",
       "    </tr>\n",
       "    <tr>\n",
       "      <th>2</th>\n",
       "      <td>Less: Income (loss) from discontinued operatio...</td>\n",
       "      <td>NaN</td>\n",
       "      <td>-4.0</td>\n",
       "      <td>5.0</td>\n",
       "      <td>-5.0</td>\n",
       "      <td>-9.0</td>\n",
       "      <td>-174.0</td>\n",
       "    </tr>\n",
       "    <tr>\n",
       "      <th>3</th>\n",
       "      <td>Net income attributable to IBM</td>\n",
       "      <td>NaN</td>\n",
       "      <td>9431.0</td>\n",
       "      <td>8728.0</td>\n",
       "      <td>5753.0</td>\n",
       "      <td>11872.0</td>\n",
       "      <td>13190.0</td>\n",
       "    </tr>\n",
       "    <tr>\n",
       "      <th>4</th>\n",
       "      <td>NaN</td>\n",
       "      <td>NaN</td>\n",
       "      <td>NaN</td>\n",
       "      <td>NaN</td>\n",
       "      <td>NaN</td>\n",
       "      <td>NaN</td>\n",
       "      <td>NaN</td>\n",
       "    </tr>\n",
       "  </tbody>\n",
       "</table>\n",
       "</div>"
      ],
      "text/plain": [
       "                                          Unnamed: 0  Average  \\\n",
       "0          Selected Financial Data (US$ in millions)      NaN   \n",
       "1                                   Interest expense      NaN   \n",
       "2  Less: Income (loss) from discontinued operatio...      NaN   \n",
       "3                     Net income attributable to IBM      NaN   \n",
       "4                                                NaN      NaN   \n",
       "\n",
       "   2019-12-31 00:00:00  2018-12-31 00:00:00  2017-12-31 00:00:00  \\\n",
       "0                  NaN                  NaN                  NaN   \n",
       "1               1344.0                723.0                615.0   \n",
       "2                 -4.0                  5.0                 -5.0   \n",
       "3               9431.0               8728.0               5753.0   \n",
       "4                  NaN                  NaN                  NaN   \n",
       "\n",
       "   2016-12-31 00:00:00  2015-12-31 00:00:00  \n",
       "0                  NaN                  NaN  \n",
       "1                630.0                468.0  \n",
       "2                 -9.0               -174.0  \n",
       "3              11872.0              13190.0  \n",
       "4                  NaN                  NaN  "
      ]
     },
     "execution_count": 185,
     "metadata": {},
     "output_type": "execute_result"
    }
   ],
   "source": [
    "g_prat_ibm = pd.read_excel('g-PRAT-model.xlsx', skiprows=3, nrows = 24)\n",
    "g_prat_ibm.head()"
   ]
  },
  {
   "cell_type": "code",
   "execution_count": 186,
   "metadata": {},
   "outputs": [],
   "source": [
    "g_prat_ibm.columns = ['financial_data', 'average','2019','2018','2017','2016','2015']"
   ]
  },
  {
   "cell_type": "code",
   "execution_count": 187,
   "metadata": {},
   "outputs": [],
   "source": [
    "g_prat_ibm = g_prat_ibm.drop(index = [0, 4, 6, 10, 12, 17, 20, 23])\n",
    "# g_prat_ibm.drop(g_prat_ibm.index[17])\n",
    "# g_prat_ibm.drop(g_prat_ibm.index[20])\n",
    "# g_prat_ibm.drop(g_prat_ibm.index[23])\n",
    "g_prat_ibm.reset_index(drop=True, inplace = True)"
   ]
  },
  {
   "cell_type": "code",
   "execution_count": 190,
   "metadata": {},
   "outputs": [
    {
     "data": {
      "text/html": [
       "<div>\n",
       "<style scoped>\n",
       "    .dataframe tbody tr th:only-of-type {\n",
       "        vertical-align: middle;\n",
       "    }\n",
       "\n",
       "    .dataframe tbody tr th {\n",
       "        vertical-align: top;\n",
       "    }\n",
       "\n",
       "    .dataframe thead th {\n",
       "        text-align: right;\n",
       "    }\n",
       "</style>\n",
       "<table border=\"1\" class=\"dataframe\">\n",
       "  <thead>\n",
       "    <tr style=\"text-align: right;\">\n",
       "      <th></th>\n",
       "      <th>financial_data</th>\n",
       "      <th>average</th>\n",
       "      <th>2019</th>\n",
       "      <th>2018</th>\n",
       "      <th>2017</th>\n",
       "      <th>2016</th>\n",
       "      <th>2015</th>\n",
       "    </tr>\n",
       "  </thead>\n",
       "  <tbody>\n",
       "    <tr>\n",
       "      <th>0</th>\n",
       "      <td>Interest expense</td>\n",
       "      <td>NaN</td>\n",
       "      <td>1344.0000</td>\n",
       "      <td>723.0000</td>\n",
       "      <td>615.0000</td>\n",
       "      <td>630.0000</td>\n",
       "      <td>468.0000</td>\n",
       "    </tr>\n",
       "    <tr>\n",
       "      <th>1</th>\n",
       "      <td>Less: Income (loss) from discontinued operatio...</td>\n",
       "      <td>NaN</td>\n",
       "      <td>-4.0000</td>\n",
       "      <td>5.0000</td>\n",
       "      <td>-5.0000</td>\n",
       "      <td>-9.0000</td>\n",
       "      <td>-174.0000</td>\n",
       "    </tr>\n",
       "    <tr>\n",
       "      <th>2</th>\n",
       "      <td>Net income attributable to IBM</td>\n",
       "      <td>NaN</td>\n",
       "      <td>9431.0000</td>\n",
       "      <td>8728.0000</td>\n",
       "      <td>5753.0000</td>\n",
       "      <td>11872.0000</td>\n",
       "      <td>13190.0000</td>\n",
       "    </tr>\n",
       "    <tr>\n",
       "      <th>3</th>\n",
       "      <td>Effective income tax rate (EITR)</td>\n",
       "      <td>NaN</td>\n",
       "      <td>0.0600</td>\n",
       "      <td>0.0500</td>\n",
       "      <td>0.0100</td>\n",
       "      <td>0.0400</td>\n",
       "      <td>0.1600</td>\n",
       "    </tr>\n",
       "    <tr>\n",
       "      <th>4</th>\n",
       "      <td>Interest expense, after tax</td>\n",
       "      <td>NaN</td>\n",
       "      <td>1263.0000</td>\n",
       "      <td>687.0000</td>\n",
       "      <td>609.0000</td>\n",
       "      <td>605.0000</td>\n",
       "      <td>393.0000</td>\n",
       "    </tr>\n",
       "    <tr>\n",
       "      <th>5</th>\n",
       "      <td>Add: Cash dividends paid, common stock</td>\n",
       "      <td>NaN</td>\n",
       "      <td>5707.0000</td>\n",
       "      <td>5666.0000</td>\n",
       "      <td>5506.0000</td>\n",
       "      <td>5256.0000</td>\n",
       "      <td>4897.0000</td>\n",
       "    </tr>\n",
       "    <tr>\n",
       "      <th>6</th>\n",
       "      <td>Interest expense (after tax) and dividends</td>\n",
       "      <td>NaN</td>\n",
       "      <td>6970.0000</td>\n",
       "      <td>6353.0000</td>\n",
       "      <td>6115.0000</td>\n",
       "      <td>5861.0000</td>\n",
       "      <td>5290.0000</td>\n",
       "    </tr>\n",
       "    <tr>\n",
       "      <th>7</th>\n",
       "      <td>EBIT(1 – EITR)</td>\n",
       "      <td>NaN</td>\n",
       "      <td>10698.0000</td>\n",
       "      <td>9410.0000</td>\n",
       "      <td>6367.0000</td>\n",
       "      <td>12486.0000</td>\n",
       "      <td>13757.0000</td>\n",
       "    </tr>\n",
       "    <tr>\n",
       "      <th>8</th>\n",
       "      <td>Short-term debt</td>\n",
       "      <td>NaN</td>\n",
       "      <td>8797.0000</td>\n",
       "      <td>10207.0000</td>\n",
       "      <td>6987.0000</td>\n",
       "      <td>7513.0000</td>\n",
       "      <td>6461.0000</td>\n",
       "    </tr>\n",
       "    <tr>\n",
       "      <th>9</th>\n",
       "      <td>Long-term debt, excluding current maturities</td>\n",
       "      <td>NaN</td>\n",
       "      <td>54102.0000</td>\n",
       "      <td>35605.0000</td>\n",
       "      <td>39837.0000</td>\n",
       "      <td>34655.0000</td>\n",
       "      <td>33428.0000</td>\n",
       "    </tr>\n",
       "    <tr>\n",
       "      <th>10</th>\n",
       "      <td>Total IBM stockholders’ equity</td>\n",
       "      <td>NaN</td>\n",
       "      <td>20841.0000</td>\n",
       "      <td>16796.0000</td>\n",
       "      <td>17594.0000</td>\n",
       "      <td>18246.0000</td>\n",
       "      <td>14262.0000</td>\n",
       "    </tr>\n",
       "    <tr>\n",
       "      <th>11</th>\n",
       "      <td>Total capital</td>\n",
       "      <td>NaN</td>\n",
       "      <td>83740.0000</td>\n",
       "      <td>62608.0000</td>\n",
       "      <td>64418.0000</td>\n",
       "      <td>60414.0000</td>\n",
       "      <td>54151.0000</td>\n",
       "    </tr>\n",
       "    <tr>\n",
       "      <th>12</th>\n",
       "      <td>Retention rate (RR)</td>\n",
       "      <td>NaN</td>\n",
       "      <td>0.3500</td>\n",
       "      <td>0.3200</td>\n",
       "      <td>0.0400</td>\n",
       "      <td>0.5300</td>\n",
       "      <td>0.6200</td>\n",
       "    </tr>\n",
       "    <tr>\n",
       "      <th>13</th>\n",
       "      <td>Return on invested capital (ROIC)</td>\n",
       "      <td>NaN</td>\n",
       "      <td>0.1278</td>\n",
       "      <td>0.1503</td>\n",
       "      <td>0.0988</td>\n",
       "      <td>0.2067</td>\n",
       "      <td>0.2541</td>\n",
       "    </tr>\n",
       "    <tr>\n",
       "      <th>14</th>\n",
       "      <td>RR</td>\n",
       "      <td>0.3700</td>\n",
       "      <td>NaN</td>\n",
       "      <td>NaN</td>\n",
       "      <td>NaN</td>\n",
       "      <td>NaN</td>\n",
       "      <td>NaN</td>\n",
       "    </tr>\n",
       "    <tr>\n",
       "      <th>15</th>\n",
       "      <td>ROIC</td>\n",
       "      <td>0.1675</td>\n",
       "      <td>NaN</td>\n",
       "      <td>NaN</td>\n",
       "      <td>NaN</td>\n",
       "      <td>NaN</td>\n",
       "      <td>NaN</td>\n",
       "    </tr>\n",
       "  </tbody>\n",
       "</table>\n",
       "</div>"
      ],
      "text/plain": [
       "                                       financial_data  average        2019  \\\n",
       "0                                    Interest expense      NaN   1344.0000   \n",
       "1   Less: Income (loss) from discontinued operatio...      NaN     -4.0000   \n",
       "2                      Net income attributable to IBM      NaN   9431.0000   \n",
       "3                    Effective income tax rate (EITR)      NaN      0.0600   \n",
       "4                         Interest expense, after tax      NaN   1263.0000   \n",
       "5              Add: Cash dividends paid, common stock      NaN   5707.0000   \n",
       "6          Interest expense (after tax) and dividends      NaN   6970.0000   \n",
       "7                                      EBIT(1 – EITR)      NaN  10698.0000   \n",
       "8                                     Short-term debt      NaN   8797.0000   \n",
       "9        Long-term debt, excluding current maturities      NaN  54102.0000   \n",
       "10                     Total IBM stockholders’ equity      NaN  20841.0000   \n",
       "11                                      Total capital      NaN  83740.0000   \n",
       "12                                Retention rate (RR)      NaN      0.3500   \n",
       "13                  Return on invested capital (ROIC)      NaN      0.1278   \n",
       "14                                                 RR   0.3700         NaN   \n",
       "15                                               ROIC   0.1675         NaN   \n",
       "\n",
       "          2018        2017        2016        2015  \n",
       "0     723.0000    615.0000    630.0000    468.0000  \n",
       "1       5.0000     -5.0000     -9.0000   -174.0000  \n",
       "2    8728.0000   5753.0000  11872.0000  13190.0000  \n",
       "3       0.0500      0.0100      0.0400      0.1600  \n",
       "4     687.0000    609.0000    605.0000    393.0000  \n",
       "5    5666.0000   5506.0000   5256.0000   4897.0000  \n",
       "6    6353.0000   6115.0000   5861.0000   5290.0000  \n",
       "7    9410.0000   6367.0000  12486.0000  13757.0000  \n",
       "8   10207.0000   6987.0000   7513.0000   6461.0000  \n",
       "9   35605.0000  39837.0000  34655.0000  33428.0000  \n",
       "10  16796.0000  17594.0000  18246.0000  14262.0000  \n",
       "11  62608.0000  64418.0000  60414.0000  54151.0000  \n",
       "12      0.3200      0.0400      0.5300      0.6200  \n",
       "13      0.1503      0.0988      0.2067      0.2541  \n",
       "14         NaN         NaN         NaN         NaN  \n",
       "15         NaN         NaN         NaN         NaN  "
      ]
     },
     "execution_count": 190,
     "metadata": {},
     "output_type": "execute_result"
    }
   ],
   "source": [
    "g_prat_ibm"
   ]
  },
  {
   "cell_type": "code",
   "execution_count": 191,
   "metadata": {},
   "outputs": [],
   "source": [
    "g_prat_ibm = g_prat_ibm.T.reset_index()"
   ]
  },
  {
   "cell_type": "code",
   "execution_count": 192,
   "metadata": {},
   "outputs": [],
   "source": [
    "g_prat_ibm.columns = g_prat_ibm.iloc[0]"
   ]
  },
  {
   "cell_type": "code",
   "execution_count": 193,
   "metadata": {},
   "outputs": [],
   "source": [
    "g_prat_ibm = g_prat_ibm.drop(index=0)"
   ]
  },
  {
   "cell_type": "code",
   "execution_count": 194,
   "metadata": {},
   "outputs": [
    {
     "data": {
      "text/html": [
       "<div>\n",
       "<style scoped>\n",
       "    .dataframe tbody tr th:only-of-type {\n",
       "        vertical-align: middle;\n",
       "    }\n",
       "\n",
       "    .dataframe tbody tr th {\n",
       "        vertical-align: top;\n",
       "    }\n",
       "\n",
       "    .dataframe thead th {\n",
       "        text-align: right;\n",
       "    }\n",
       "</style>\n",
       "<table border=\"1\" class=\"dataframe\">\n",
       "  <thead>\n",
       "    <tr style=\"text-align: right;\">\n",
       "      <th></th>\n",
       "      <th>Interest expense</th>\n",
       "      <th>Less: Income (loss) from discontinued operations, net of tax</th>\n",
       "      <th>Net income attributable to IBM</th>\n",
       "      <th>Effective income tax rate (EITR)</th>\n",
       "      <th>Interest expense, after tax</th>\n",
       "      <th>Add: Cash dividends paid, common stock</th>\n",
       "      <th>Interest expense (after tax) and dividends</th>\n",
       "      <th>EBIT(1 – EITR)</th>\n",
       "      <th>Short-term debt</th>\n",
       "      <th>Long-term debt, excluding current maturities</th>\n",
       "      <th>Total IBM stockholders’ equity</th>\n",
       "      <th>Total capital</th>\n",
       "      <th>Retention rate (RR)</th>\n",
       "      <th>Return on invested capital (ROIC)</th>\n",
       "      <th>RR</th>\n",
       "      <th>ROIC</th>\n",
       "    </tr>\n",
       "    <tr>\n",
       "      <th>financial_data</th>\n",
       "      <th></th>\n",
       "      <th></th>\n",
       "      <th></th>\n",
       "      <th></th>\n",
       "      <th></th>\n",
       "      <th></th>\n",
       "      <th></th>\n",
       "      <th></th>\n",
       "      <th></th>\n",
       "      <th></th>\n",
       "      <th></th>\n",
       "      <th></th>\n",
       "      <th></th>\n",
       "      <th></th>\n",
       "      <th></th>\n",
       "      <th></th>\n",
       "    </tr>\n",
       "  </thead>\n",
       "  <tbody>\n",
       "    <tr>\n",
       "      <th>average</th>\n",
       "      <td>NaN</td>\n",
       "      <td>NaN</td>\n",
       "      <td>NaN</td>\n",
       "      <td>NaN</td>\n",
       "      <td>NaN</td>\n",
       "      <td>NaN</td>\n",
       "      <td>NaN</td>\n",
       "      <td>NaN</td>\n",
       "      <td>NaN</td>\n",
       "      <td>NaN</td>\n",
       "      <td>NaN</td>\n",
       "      <td>NaN</td>\n",
       "      <td>NaN</td>\n",
       "      <td>NaN</td>\n",
       "      <td>0.37</td>\n",
       "      <td>0.1675</td>\n",
       "    </tr>\n",
       "    <tr>\n",
       "      <th>2019</th>\n",
       "      <td>1344</td>\n",
       "      <td>-4</td>\n",
       "      <td>9431</td>\n",
       "      <td>0.06</td>\n",
       "      <td>1263</td>\n",
       "      <td>5707</td>\n",
       "      <td>6970</td>\n",
       "      <td>10698</td>\n",
       "      <td>8797</td>\n",
       "      <td>54102</td>\n",
       "      <td>20841</td>\n",
       "      <td>83740</td>\n",
       "      <td>0.35</td>\n",
       "      <td>0.1278</td>\n",
       "      <td>NaN</td>\n",
       "      <td>NaN</td>\n",
       "    </tr>\n",
       "    <tr>\n",
       "      <th>2018</th>\n",
       "      <td>723</td>\n",
       "      <td>5</td>\n",
       "      <td>8728</td>\n",
       "      <td>0.05</td>\n",
       "      <td>687</td>\n",
       "      <td>5666</td>\n",
       "      <td>6353</td>\n",
       "      <td>9410</td>\n",
       "      <td>10207</td>\n",
       "      <td>35605</td>\n",
       "      <td>16796</td>\n",
       "      <td>62608</td>\n",
       "      <td>0.32</td>\n",
       "      <td>0.1503</td>\n",
       "      <td>NaN</td>\n",
       "      <td>NaN</td>\n",
       "    </tr>\n",
       "    <tr>\n",
       "      <th>2017</th>\n",
       "      <td>615</td>\n",
       "      <td>-5</td>\n",
       "      <td>5753</td>\n",
       "      <td>0.01</td>\n",
       "      <td>609</td>\n",
       "      <td>5506</td>\n",
       "      <td>6115</td>\n",
       "      <td>6367</td>\n",
       "      <td>6987</td>\n",
       "      <td>39837</td>\n",
       "      <td>17594</td>\n",
       "      <td>64418</td>\n",
       "      <td>0.04</td>\n",
       "      <td>0.0988</td>\n",
       "      <td>NaN</td>\n",
       "      <td>NaN</td>\n",
       "    </tr>\n",
       "    <tr>\n",
       "      <th>2016</th>\n",
       "      <td>630</td>\n",
       "      <td>-9</td>\n",
       "      <td>11872</td>\n",
       "      <td>0.04</td>\n",
       "      <td>605</td>\n",
       "      <td>5256</td>\n",
       "      <td>5861</td>\n",
       "      <td>12486</td>\n",
       "      <td>7513</td>\n",
       "      <td>34655</td>\n",
       "      <td>18246</td>\n",
       "      <td>60414</td>\n",
       "      <td>0.53</td>\n",
       "      <td>0.2067</td>\n",
       "      <td>NaN</td>\n",
       "      <td>NaN</td>\n",
       "    </tr>\n",
       "    <tr>\n",
       "      <th>2015</th>\n",
       "      <td>468</td>\n",
       "      <td>-174</td>\n",
       "      <td>13190</td>\n",
       "      <td>0.16</td>\n",
       "      <td>393</td>\n",
       "      <td>4897</td>\n",
       "      <td>5290</td>\n",
       "      <td>13757</td>\n",
       "      <td>6461</td>\n",
       "      <td>33428</td>\n",
       "      <td>14262</td>\n",
       "      <td>54151</td>\n",
       "      <td>0.62</td>\n",
       "      <td>0.2541</td>\n",
       "      <td>NaN</td>\n",
       "      <td>NaN</td>\n",
       "    </tr>\n",
       "  </tbody>\n",
       "</table>\n",
       "</div>"
      ],
      "text/plain": [
       "0              Interest expense  \\\n",
       "financial_data                    \n",
       "average                     NaN   \n",
       "2019                       1344   \n",
       "2018                        723   \n",
       "2017                        615   \n",
       "2016                        630   \n",
       "2015                        468   \n",
       "\n",
       "0              Less: Income (loss) from discontinued operations, net of tax  \\\n",
       "financial_data                                                                \n",
       "average                                                       NaN             \n",
       "2019                                                           -4             \n",
       "2018                                                            5             \n",
       "2017                                                           -5             \n",
       "2016                                                           -9             \n",
       "2015                                                         -174             \n",
       "\n",
       "0              Net income attributable to IBM  \\\n",
       "financial_data                                  \n",
       "average                                   NaN   \n",
       "2019                                     9431   \n",
       "2018                                     8728   \n",
       "2017                                     5753   \n",
       "2016                                    11872   \n",
       "2015                                    13190   \n",
       "\n",
       "0              Effective income tax rate (EITR) Interest expense, after tax  \\\n",
       "financial_data                                                                \n",
       "average                                     NaN                         NaN   \n",
       "2019                                       0.06                        1263   \n",
       "2018                                       0.05                         687   \n",
       "2017                                       0.01                         609   \n",
       "2016                                       0.04                         605   \n",
       "2015                                       0.16                         393   \n",
       "\n",
       "0              Add: Cash dividends paid, common stock  \\\n",
       "financial_data                                          \n",
       "average                                           NaN   \n",
       "2019                                             5707   \n",
       "2018                                             5666   \n",
       "2017                                             5506   \n",
       "2016                                             5256   \n",
       "2015                                             4897   \n",
       "\n",
       "0              Interest expense (after tax) and dividends EBIT(1 – EITR)  \\\n",
       "financial_data                                                             \n",
       "average                                               NaN            NaN   \n",
       "2019                                                 6970          10698   \n",
       "2018                                                 6353           9410   \n",
       "2017                                                 6115           6367   \n",
       "2016                                                 5861          12486   \n",
       "2015                                                 5290          13757   \n",
       "\n",
       "0              Short-term debt Long-term debt, excluding current maturities  \\\n",
       "financial_data                                                                \n",
       "average                    NaN                                          NaN   \n",
       "2019                      8797                                        54102   \n",
       "2018                     10207                                        35605   \n",
       "2017                      6987                                        39837   \n",
       "2016                      7513                                        34655   \n",
       "2015                      6461                                        33428   \n",
       "\n",
       "0              Total IBM stockholders’ equity Total capital  \\\n",
       "financial_data                                                \n",
       "average                                   NaN           NaN   \n",
       "2019                                    20841         83740   \n",
       "2018                                    16796         62608   \n",
       "2017                                    17594         64418   \n",
       "2016                                    18246         60414   \n",
       "2015                                    14262         54151   \n",
       "\n",
       "0              Retention rate (RR) Return on invested capital (ROIC)    RR  \\\n",
       "financial_data                                                               \n",
       "average                        NaN                               NaN  0.37   \n",
       "2019                          0.35                            0.1278   NaN   \n",
       "2018                          0.32                            0.1503   NaN   \n",
       "2017                          0.04                            0.0988   NaN   \n",
       "2016                          0.53                            0.2067   NaN   \n",
       "2015                          0.62                            0.2541   NaN   \n",
       "\n",
       "0                 ROIC  \n",
       "financial_data          \n",
       "average         0.1675  \n",
       "2019               NaN  \n",
       "2018               NaN  \n",
       "2017               NaN  \n",
       "2016               NaN  \n",
       "2015               NaN  "
      ]
     },
     "execution_count": 194,
     "metadata": {},
     "output_type": "execute_result"
    }
   ],
   "source": [
    "g_prat_ibm.set_index(\"financial_data\", inplace = True)\n",
    "g_prat_ibm"
   ]
  },
  {
   "cell_type": "markdown",
   "metadata": {},
   "source": [
    "Estimation of the long-term growth rate with single-stage model:\n",
    "(IBM is already a big company, so we estimate the maturity growth rate at only 5 years.)"
   ]
  },
  {
   "cell_type": "markdown",
   "metadata": {},
   "source": [
    "FCFF Growth rate (G) implied by single-stage model"
   ]
  },
  {
   "cell_type": "code",
   "execution_count": 195,
   "metadata": {},
   "outputs": [],
   "source": [
    "G1 = g_prat_ibm.loc['average','RR'] * g_prat_ibm.loc['average','ROIC']"
   ]
  },
  {
   "cell_type": "code",
   "execution_count": 196,
   "metadata": {},
   "outputs": [
    {
     "data": {
      "text/plain": [
       "0.061975"
      ]
     },
     "execution_count": 196,
     "metadata": {},
     "output_type": "execute_result"
    }
   ],
   "source": [
    "G1"
   ]
  },
  {
   "cell_type": "code",
   "execution_count": 197,
   "metadata": {},
   "outputs": [],
   "source": [
    "g_prat_ibm['Total liabilities and equity'] = [np.nan, 152187, 123382, 125356, 117470, 110495] "
   ]
  },
  {
   "cell_type": "code",
   "execution_count": 198,
   "metadata": {},
   "outputs": [
    {
     "data": {
      "text/html": [
       "<div>\n",
       "<style scoped>\n",
       "    .dataframe tbody tr th:only-of-type {\n",
       "        vertical-align: middle;\n",
       "    }\n",
       "\n",
       "    .dataframe tbody tr th {\n",
       "        vertical-align: top;\n",
       "    }\n",
       "\n",
       "    .dataframe thead th {\n",
       "        text-align: right;\n",
       "    }\n",
       "</style>\n",
       "<table border=\"1\" class=\"dataframe\">\n",
       "  <thead>\n",
       "    <tr style=\"text-align: right;\">\n",
       "      <th></th>\n",
       "      <th>Interest expense</th>\n",
       "      <th>Less: Income (loss) from discontinued operations, net of tax</th>\n",
       "      <th>Net income attributable to IBM</th>\n",
       "      <th>Effective income tax rate (EITR)</th>\n",
       "      <th>Interest expense, after tax</th>\n",
       "      <th>Add: Cash dividends paid, common stock</th>\n",
       "      <th>Interest expense (after tax) and dividends</th>\n",
       "      <th>EBIT(1 – EITR)</th>\n",
       "      <th>Short-term debt</th>\n",
       "      <th>Long-term debt, excluding current maturities</th>\n",
       "      <th>Total IBM stockholders’ equity</th>\n",
       "      <th>Total capital</th>\n",
       "      <th>Retention rate (RR)</th>\n",
       "      <th>Return on invested capital (ROIC)</th>\n",
       "      <th>RR</th>\n",
       "      <th>ROIC</th>\n",
       "      <th>Total liabilities and equity</th>\n",
       "    </tr>\n",
       "    <tr>\n",
       "      <th>financial_data</th>\n",
       "      <th></th>\n",
       "      <th></th>\n",
       "      <th></th>\n",
       "      <th></th>\n",
       "      <th></th>\n",
       "      <th></th>\n",
       "      <th></th>\n",
       "      <th></th>\n",
       "      <th></th>\n",
       "      <th></th>\n",
       "      <th></th>\n",
       "      <th></th>\n",
       "      <th></th>\n",
       "      <th></th>\n",
       "      <th></th>\n",
       "      <th></th>\n",
       "      <th></th>\n",
       "    </tr>\n",
       "  </thead>\n",
       "  <tbody>\n",
       "    <tr>\n",
       "      <th>average</th>\n",
       "      <td>NaN</td>\n",
       "      <td>NaN</td>\n",
       "      <td>NaN</td>\n",
       "      <td>NaN</td>\n",
       "      <td>NaN</td>\n",
       "      <td>NaN</td>\n",
       "      <td>NaN</td>\n",
       "      <td>NaN</td>\n",
       "      <td>NaN</td>\n",
       "      <td>NaN</td>\n",
       "      <td>NaN</td>\n",
       "      <td>NaN</td>\n",
       "      <td>NaN</td>\n",
       "      <td>NaN</td>\n",
       "      <td>0.37</td>\n",
       "      <td>0.1675</td>\n",
       "      <td>NaN</td>\n",
       "    </tr>\n",
       "    <tr>\n",
       "      <th>2019</th>\n",
       "      <td>1344</td>\n",
       "      <td>-4</td>\n",
       "      <td>9431</td>\n",
       "      <td>0.06</td>\n",
       "      <td>1263</td>\n",
       "      <td>5707</td>\n",
       "      <td>6970</td>\n",
       "      <td>10698</td>\n",
       "      <td>8797</td>\n",
       "      <td>54102</td>\n",
       "      <td>20841</td>\n",
       "      <td>83740</td>\n",
       "      <td>0.35</td>\n",
       "      <td>0.1278</td>\n",
       "      <td>NaN</td>\n",
       "      <td>NaN</td>\n",
       "      <td>152187.0</td>\n",
       "    </tr>\n",
       "    <tr>\n",
       "      <th>2018</th>\n",
       "      <td>723</td>\n",
       "      <td>5</td>\n",
       "      <td>8728</td>\n",
       "      <td>0.05</td>\n",
       "      <td>687</td>\n",
       "      <td>5666</td>\n",
       "      <td>6353</td>\n",
       "      <td>9410</td>\n",
       "      <td>10207</td>\n",
       "      <td>35605</td>\n",
       "      <td>16796</td>\n",
       "      <td>62608</td>\n",
       "      <td>0.32</td>\n",
       "      <td>0.1503</td>\n",
       "      <td>NaN</td>\n",
       "      <td>NaN</td>\n",
       "      <td>123382.0</td>\n",
       "    </tr>\n",
       "    <tr>\n",
       "      <th>2017</th>\n",
       "      <td>615</td>\n",
       "      <td>-5</td>\n",
       "      <td>5753</td>\n",
       "      <td>0.01</td>\n",
       "      <td>609</td>\n",
       "      <td>5506</td>\n",
       "      <td>6115</td>\n",
       "      <td>6367</td>\n",
       "      <td>6987</td>\n",
       "      <td>39837</td>\n",
       "      <td>17594</td>\n",
       "      <td>64418</td>\n",
       "      <td>0.04</td>\n",
       "      <td>0.0988</td>\n",
       "      <td>NaN</td>\n",
       "      <td>NaN</td>\n",
       "      <td>125356.0</td>\n",
       "    </tr>\n",
       "    <tr>\n",
       "      <th>2016</th>\n",
       "      <td>630</td>\n",
       "      <td>-9</td>\n",
       "      <td>11872</td>\n",
       "      <td>0.04</td>\n",
       "      <td>605</td>\n",
       "      <td>5256</td>\n",
       "      <td>5861</td>\n",
       "      <td>12486</td>\n",
       "      <td>7513</td>\n",
       "      <td>34655</td>\n",
       "      <td>18246</td>\n",
       "      <td>60414</td>\n",
       "      <td>0.53</td>\n",
       "      <td>0.2067</td>\n",
       "      <td>NaN</td>\n",
       "      <td>NaN</td>\n",
       "      <td>117470.0</td>\n",
       "    </tr>\n",
       "    <tr>\n",
       "      <th>2015</th>\n",
       "      <td>468</td>\n",
       "      <td>-174</td>\n",
       "      <td>13190</td>\n",
       "      <td>0.16</td>\n",
       "      <td>393</td>\n",
       "      <td>4897</td>\n",
       "      <td>5290</td>\n",
       "      <td>13757</td>\n",
       "      <td>6461</td>\n",
       "      <td>33428</td>\n",
       "      <td>14262</td>\n",
       "      <td>54151</td>\n",
       "      <td>0.62</td>\n",
       "      <td>0.2541</td>\n",
       "      <td>NaN</td>\n",
       "      <td>NaN</td>\n",
       "      <td>110495.0</td>\n",
       "    </tr>\n",
       "  </tbody>\n",
       "</table>\n",
       "</div>"
      ],
      "text/plain": [
       "0              Interest expense  \\\n",
       "financial_data                    \n",
       "average                     NaN   \n",
       "2019                       1344   \n",
       "2018                        723   \n",
       "2017                        615   \n",
       "2016                        630   \n",
       "2015                        468   \n",
       "\n",
       "0              Less: Income (loss) from discontinued operations, net of tax  \\\n",
       "financial_data                                                                \n",
       "average                                                       NaN             \n",
       "2019                                                           -4             \n",
       "2018                                                            5             \n",
       "2017                                                           -5             \n",
       "2016                                                           -9             \n",
       "2015                                                         -174             \n",
       "\n",
       "0              Net income attributable to IBM  \\\n",
       "financial_data                                  \n",
       "average                                   NaN   \n",
       "2019                                     9431   \n",
       "2018                                     8728   \n",
       "2017                                     5753   \n",
       "2016                                    11872   \n",
       "2015                                    13190   \n",
       "\n",
       "0              Effective income tax rate (EITR) Interest expense, after tax  \\\n",
       "financial_data                                                                \n",
       "average                                     NaN                         NaN   \n",
       "2019                                       0.06                        1263   \n",
       "2018                                       0.05                         687   \n",
       "2017                                       0.01                         609   \n",
       "2016                                       0.04                         605   \n",
       "2015                                       0.16                         393   \n",
       "\n",
       "0              Add: Cash dividends paid, common stock  \\\n",
       "financial_data                                          \n",
       "average                                           NaN   \n",
       "2019                                             5707   \n",
       "2018                                             5666   \n",
       "2017                                             5506   \n",
       "2016                                             5256   \n",
       "2015                                             4897   \n",
       "\n",
       "0              Interest expense (after tax) and dividends EBIT(1 – EITR)  \\\n",
       "financial_data                                                             \n",
       "average                                               NaN            NaN   \n",
       "2019                                                 6970          10698   \n",
       "2018                                                 6353           9410   \n",
       "2017                                                 6115           6367   \n",
       "2016                                                 5861          12486   \n",
       "2015                                                 5290          13757   \n",
       "\n",
       "0              Short-term debt Long-term debt, excluding current maturities  \\\n",
       "financial_data                                                                \n",
       "average                    NaN                                          NaN   \n",
       "2019                      8797                                        54102   \n",
       "2018                     10207                                        35605   \n",
       "2017                      6987                                        39837   \n",
       "2016                      7513                                        34655   \n",
       "2015                      6461                                        33428   \n",
       "\n",
       "0              Total IBM stockholders’ equity Total capital  \\\n",
       "financial_data                                                \n",
       "average                                   NaN           NaN   \n",
       "2019                                    20841         83740   \n",
       "2018                                    16796         62608   \n",
       "2017                                    17594         64418   \n",
       "2016                                    18246         60414   \n",
       "2015                                    14262         54151   \n",
       "\n",
       "0              Retention rate (RR) Return on invested capital (ROIC)    RR  \\\n",
       "financial_data                                                               \n",
       "average                        NaN                               NaN  0.37   \n",
       "2019                          0.35                            0.1278   NaN   \n",
       "2018                          0.32                            0.1503   NaN   \n",
       "2017                          0.04                            0.0988   NaN   \n",
       "2016                          0.53                            0.2067   NaN   \n",
       "2015                          0.62                            0.2541   NaN   \n",
       "\n",
       "0                 ROIC  Total liabilities and equity  \n",
       "financial_data                                        \n",
       "average         0.1675                           NaN  \n",
       "2019               NaN                      152187.0  \n",
       "2018               NaN                      123382.0  \n",
       "2017               NaN                      125356.0  \n",
       "2016               NaN                      117470.0  \n",
       "2015               NaN                      110495.0  "
      ]
     },
     "execution_count": 198,
     "metadata": {},
     "output_type": "execute_result"
    }
   ],
   "source": [
    "g_prat_ibm"
   ]
  },
  {
   "cell_type": "code",
   "execution_count": 200,
   "metadata": {},
   "outputs": [
    {
     "data": {
      "text/html": [
       "<div>\n",
       "<style scoped>\n",
       "    .dataframe tbody tr th:only-of-type {\n",
       "        vertical-align: middle;\n",
       "    }\n",
       "\n",
       "    .dataframe tbody tr th {\n",
       "        vertical-align: top;\n",
       "    }\n",
       "\n",
       "    .dataframe thead th {\n",
       "        text-align: right;\n",
       "    }\n",
       "</style>\n",
       "<table border=\"1\" class=\"dataframe\">\n",
       "  <thead>\n",
       "    <tr style=\"text-align: right;\">\n",
       "      <th></th>\n",
       "      <th>Total Current Assets</th>\n",
       "      <th>Total Noncurrent Assets</th>\n",
       "      <th>Total Current Liabilities</th>\n",
       "      <th>Total Noncurrent Liabilities</th>\n",
       "      <th>Total Equity</th>\n",
       "      <th>Operating Expenses</th>\n",
       "      <th>Operating Income (Loss)</th>\n",
       "      <th>Non-Operating Income (Loss)</th>\n",
       "    </tr>\n",
       "    <tr>\n",
       "      <th>Ticker</th>\n",
       "      <th></th>\n",
       "      <th></th>\n",
       "      <th></th>\n",
       "      <th></th>\n",
       "      <th></th>\n",
       "      <th></th>\n",
       "      <th></th>\n",
       "      <th></th>\n",
       "    </tr>\n",
       "  </thead>\n",
       "  <tbody>\n",
       "  </tbody>\n",
       "</table>\n",
       "</div>"
      ],
      "text/plain": [
       "Empty DataFrame\n",
       "Columns: [Total Current Assets, Total Noncurrent Assets, Total Current Liabilities, Total Noncurrent Liabilities, Total Equity, Operating Expenses, Operating Income (Loss), Non-Operating Income (Loss)]\n",
       "Index: []"
      ]
     },
     "execution_count": 200,
     "metadata": {},
     "output_type": "execute_result"
    }
   ],
   "source": [
    "X_IBM"
   ]
  },
  {
   "cell_type": "code",
   "execution_count": 244,
   "metadata": {},
   "outputs": [],
   "source": [
    "FCFF0 = fcff_ibm.loc['2019', 'Free cash flow to the firm (FCFF)']\n",
    "Total_cap_fair_val = g_prat_ibm.loc['2019', 'Total liabilities and equity'] \n",
    "#our_wacc_2018 = final_df.loc['IBM','Wacc']\n",
    "our_wacc_2018_lg = regressor.predict(X_IBM)\n",
    "our_wacc_2018_rf = model_rf.predict(X_IBM)\n",
    "our_wacc_2018 = 0.1069"
   ]
  },
  {
   "cell_type": "code",
   "execution_count": 245,
   "metadata": {},
   "outputs": [
    {
     "data": {
      "text/plain": [
       "0.05056821035706505"
      ]
     },
     "execution_count": 245,
     "metadata": {},
     "output_type": "execute_result"
    }
   ],
   "source": [
    "float(our_wacc_2018_rf)"
   ]
  },
  {
   "cell_type": "code",
   "execution_count": 246,
   "metadata": {},
   "outputs": [],
   "source": [
    "#our_wacc_2018 = float(our_wacc_2018_lg)"
   ]
  },
  {
   "cell_type": "code",
   "execution_count": 247,
   "metadata": {},
   "outputs": [
    {
     "data": {
      "text/plain": [
       "0.0471118039720216"
      ]
     },
     "execution_count": 247,
     "metadata": {},
     "output_type": "execute_result"
    }
   ],
   "source": [
    "final_df.loc['IBM','Wacc']"
   ]
  },
  {
   "cell_type": "code",
   "execution_count": 248,
   "metadata": {},
   "outputs": [],
   "source": [
    "G5 = (Total_cap_fair_val * float(our_wacc_2018) - FCFF0)/(Total_cap_fair_val + FCFF0)"
   ]
  },
  {
   "cell_type": "code",
   "execution_count": 249,
   "metadata": {},
   "outputs": [
    {
     "data": {
      "text/plain": [
       "0.01371913092143269"
      ]
     },
     "execution_count": 249,
     "metadata": {},
     "output_type": "execute_result"
    }
   ],
   "source": [
    "G5"
   ]
  },
  {
   "cell_type": "markdown",
   "metadata": {},
   "source": [
    "#### interpolate Growth rates"
   ]
  },
  {
   "cell_type": "code",
   "execution_count": 250,
   "metadata": {},
   "outputs": [],
   "source": [
    "G2 = G1 + (G5 - G1) * (2-1) / (5-1)\n",
    "G3 = G1 + (G5 - G1) * (3-1) / (5-1)\n",
    "G4 = G1 + (G5 - G1) * (4-1) / (5-1)"
   ]
  },
  {
   "cell_type": "code",
   "execution_count": 251,
   "metadata": {},
   "outputs": [
    {
     "data": {
      "text/html": [
       "<div>\n",
       "<style scoped>\n",
       "    .dataframe tbody tr th:only-of-type {\n",
       "        vertical-align: middle;\n",
       "    }\n",
       "\n",
       "    .dataframe tbody tr th {\n",
       "        vertical-align: top;\n",
       "    }\n",
       "\n",
       "    .dataframe thead th {\n",
       "        text-align: right;\n",
       "    }\n",
       "</style>\n",
       "<table border=\"1\" class=\"dataframe\">\n",
       "  <thead>\n",
       "    <tr style=\"text-align: right;\">\n",
       "      <th></th>\n",
       "      <th>gt</th>\n",
       "    </tr>\n",
       "  </thead>\n",
       "  <tbody>\n",
       "    <tr>\n",
       "      <th>1</th>\n",
       "      <td>0.061975</td>\n",
       "    </tr>\n",
       "    <tr>\n",
       "      <th>2</th>\n",
       "      <td>0.049911</td>\n",
       "    </tr>\n",
       "    <tr>\n",
       "      <th>3</th>\n",
       "      <td>0.037847</td>\n",
       "    </tr>\n",
       "    <tr>\n",
       "      <th>4</th>\n",
       "      <td>0.025783</td>\n",
       "    </tr>\n",
       "    <tr>\n",
       "      <th>5</th>\n",
       "      <td>0.013719</td>\n",
       "    </tr>\n",
       "  </tbody>\n",
       "</table>\n",
       "</div>"
      ],
      "text/plain": [
       "         gt\n",
       "1  0.061975\n",
       "2  0.049911\n",
       "3  0.037847\n",
       "4  0.025783\n",
       "5  0.013719"
      ]
     },
     "execution_count": 251,
     "metadata": {},
     "output_type": "execute_result"
    }
   ],
   "source": [
    "Gt = pd.DataFrame([G1, G2, G3, G4, G5], columns=['gt'], index = [1,2,3,4,5])\n",
    "Gt"
   ]
  },
  {
   "cell_type": "code",
   "execution_count": 252,
   "metadata": {},
   "outputs": [
    {
     "data": {
      "text/html": [
       "<div>\n",
       "<style scoped>\n",
       "    .dataframe tbody tr th:only-of-type {\n",
       "        vertical-align: middle;\n",
       "    }\n",
       "\n",
       "    .dataframe tbody tr th {\n",
       "        vertical-align: top;\n",
       "    }\n",
       "\n",
       "    .dataframe thead th {\n",
       "        text-align: right;\n",
       "    }\n",
       "</style>\n",
       "<table border=\"1\" class=\"dataframe\">\n",
       "  <thead>\n",
       "    <tr style=\"text-align: right;\">\n",
       "      <th></th>\n",
       "      <th>gt</th>\n",
       "      <th>fcff</th>\n",
       "    </tr>\n",
       "  </thead>\n",
       "  <tbody>\n",
       "    <tr>\n",
       "      <th>1</th>\n",
       "      <td>0.061975</td>\n",
       "      <td>NaN</td>\n",
       "    </tr>\n",
       "    <tr>\n",
       "      <th>2</th>\n",
       "      <td>0.049911</td>\n",
       "      <td>NaN</td>\n",
       "    </tr>\n",
       "    <tr>\n",
       "      <th>3</th>\n",
       "      <td>0.037847</td>\n",
       "      <td>NaN</td>\n",
       "    </tr>\n",
       "    <tr>\n",
       "      <th>4</th>\n",
       "      <td>0.025783</td>\n",
       "      <td>NaN</td>\n",
       "    </tr>\n",
       "    <tr>\n",
       "      <th>5</th>\n",
       "      <td>0.013719</td>\n",
       "      <td>NaN</td>\n",
       "    </tr>\n",
       "  </tbody>\n",
       "</table>\n",
       "</div>"
      ],
      "text/plain": [
       "         gt  fcff\n",
       "1  0.061975   NaN\n",
       "2  0.049911   NaN\n",
       "3  0.037847   NaN\n",
       "4  0.025783   NaN\n",
       "5  0.013719   NaN"
      ]
     },
     "execution_count": 252,
     "metadata": {},
     "output_type": "execute_result"
    }
   ],
   "source": [
    "Gt['fcff'] =  np.nan\n",
    "Gt"
   ]
  },
  {
   "cell_type": "code",
   "execution_count": 253,
   "metadata": {},
   "outputs": [
    {
     "data": {
      "text/html": [
       "<div>\n",
       "<style scoped>\n",
       "    .dataframe tbody tr th:only-of-type {\n",
       "        vertical-align: middle;\n",
       "    }\n",
       "\n",
       "    .dataframe tbody tr th {\n",
       "        vertical-align: top;\n",
       "    }\n",
       "\n",
       "    .dataframe thead th {\n",
       "        text-align: right;\n",
       "    }\n",
       "</style>\n",
       "<table border=\"1\" class=\"dataframe\">\n",
       "  <thead>\n",
       "    <tr style=\"text-align: right;\">\n",
       "      <th></th>\n",
       "      <th>gt</th>\n",
       "      <th>fcff</th>\n",
       "    </tr>\n",
       "  </thead>\n",
       "  <tbody>\n",
       "    <tr>\n",
       "      <th>1</th>\n",
       "      <td>0.061975</td>\n",
       "      <td>14855.968275</td>\n",
       "    </tr>\n",
       "    <tr>\n",
       "      <th>2</th>\n",
       "      <td>0.049911</td>\n",
       "      <td>NaN</td>\n",
       "    </tr>\n",
       "    <tr>\n",
       "      <th>3</th>\n",
       "      <td>0.037847</td>\n",
       "      <td>NaN</td>\n",
       "    </tr>\n",
       "    <tr>\n",
       "      <th>4</th>\n",
       "      <td>0.025783</td>\n",
       "      <td>NaN</td>\n",
       "    </tr>\n",
       "    <tr>\n",
       "      <th>5</th>\n",
       "      <td>0.013719</td>\n",
       "      <td>NaN</td>\n",
       "    </tr>\n",
       "  </tbody>\n",
       "</table>\n",
       "</div>"
      ],
      "text/plain": [
       "         gt          fcff\n",
       "1  0.061975  14855.968275\n",
       "2  0.049911           NaN\n",
       "3  0.037847           NaN\n",
       "4  0.025783           NaN\n",
       "5  0.013719           NaN"
      ]
     },
     "execution_count": 253,
     "metadata": {},
     "output_type": "execute_result"
    }
   ],
   "source": [
    "Gt.loc[1,'fcff'] = FCFF0 * (1 + Gt.loc[1,'gt'])\n",
    "Gt"
   ]
  },
  {
   "cell_type": "code",
   "execution_count": 254,
   "metadata": {},
   "outputs": [],
   "source": [
    "for i in range(len(Gt)-1):\n",
    "    Gt.loc[i+2,'fcff'] = Gt.loc[i+1,'fcff'] * (1 + Gt.loc[i+1,'gt'])"
   ]
  },
  {
   "cell_type": "code",
   "execution_count": 255,
   "metadata": {},
   "outputs": [
    {
     "data": {
      "text/html": [
       "<div>\n",
       "<style scoped>\n",
       "    .dataframe tbody tr th:only-of-type {\n",
       "        vertical-align: middle;\n",
       "    }\n",
       "\n",
       "    .dataframe tbody tr th {\n",
       "        vertical-align: top;\n",
       "    }\n",
       "\n",
       "    .dataframe thead th {\n",
       "        text-align: right;\n",
       "    }\n",
       "</style>\n",
       "<table border=\"1\" class=\"dataframe\">\n",
       "  <thead>\n",
       "    <tr style=\"text-align: right;\">\n",
       "      <th></th>\n",
       "      <th>gt</th>\n",
       "      <th>fcff</th>\n",
       "    </tr>\n",
       "  </thead>\n",
       "  <tbody>\n",
       "    <tr>\n",
       "      <th>1</th>\n",
       "      <td>0.061975</td>\n",
       "      <td>14855.968275</td>\n",
       "    </tr>\n",
       "    <tr>\n",
       "      <th>2</th>\n",
       "      <td>0.049911</td>\n",
       "      <td>15776.666909</td>\n",
       "    </tr>\n",
       "    <tr>\n",
       "      <th>3</th>\n",
       "      <td>0.037847</td>\n",
       "      <td>16564.096647</td>\n",
       "    </tr>\n",
       "    <tr>\n",
       "      <th>4</th>\n",
       "      <td>0.025783</td>\n",
       "      <td>17190.999097</td>\n",
       "    </tr>\n",
       "    <tr>\n",
       "      <th>5</th>\n",
       "      <td>0.013719</td>\n",
       "      <td>17634.236315</td>\n",
       "    </tr>\n",
       "  </tbody>\n",
       "</table>\n",
       "</div>"
      ],
      "text/plain": [
       "         gt          fcff\n",
       "1  0.061975  14855.968275\n",
       "2  0.049911  15776.666909\n",
       "3  0.037847  16564.096647\n",
       "4  0.025783  17190.999097\n",
       "5  0.013719  17634.236315"
      ]
     },
     "execution_count": 255,
     "metadata": {},
     "output_type": "execute_result"
    }
   ],
   "source": [
    "Gt"
   ]
  },
  {
   "cell_type": "code",
   "execution_count": 256,
   "metadata": {},
   "outputs": [
    {
     "data": {
      "text/plain": [
       "191843.70019966463"
      ]
     },
     "execution_count": 256,
     "metadata": {},
     "output_type": "execute_result"
    }
   ],
   "source": [
    "terminal_value = float(Gt['fcff'].iloc[4]) * (1 + float(Gt['gt'].iloc[4])) / (our_wacc_2018 - float(Gt['gt'].iloc[4]))\n",
    "terminal_value"
   ]
  },
  {
   "cell_type": "code",
   "execution_count": 257,
   "metadata": {},
   "outputs": [
    {
     "data": {
      "text/plain": [
       "177520.41230312758"
      ]
     },
     "execution_count": 257,
     "metadata": {},
     "output_type": "execute_result"
    }
   ],
   "source": [
    "temp = (Gt['fcff']/((1+our_wacc_2018)**Gt.index)).sum() + terminal_value / (1 + our_wacc_2018**5)\n",
    "\n",
    "IBM = us_balance.groupby(level='Ticker').tail(1).reset_index()\n",
    "cash_eq = float(IBM.loc[IBM.Ticker == 'IBM']['Cash, Cash Equivalents & Short Term Investments'].values)/1000000\n",
    "total_debt = 62899 #Got on web\n",
    "\n",
    "enterprise_value = temp - cash_eq \n",
    "equity_value = enterprise_value - total_debt\n",
    "\n",
    "equity_value \n",
    "\n"
   ]
  },
  {
   "cell_type": "code",
   "execution_count": 258,
   "metadata": {},
   "outputs": [
    {
     "data": {
      "text/plain": [
       "198.79105521066919"
      ]
     },
     "execution_count": 258,
     "metadata": {},
     "output_type": "execute_result"
    }
   ],
   "source": [
    "shr_out = 893000000\n",
    "estimated_stock_price = equity_value*1000000/shr_out\n",
    "estimated_stock_price"
   ]
  },
  {
   "cell_type": "code",
   "execution_count": null,
   "metadata": {},
   "outputs": [],
   "source": []
  },
  {
   "cell_type": "code",
   "execution_count": null,
   "metadata": {},
   "outputs": [],
   "source": []
  },
  {
   "cell_type": "code",
   "execution_count": null,
   "metadata": {},
   "outputs": [],
   "source": []
  },
  {
   "cell_type": "code",
   "execution_count": null,
   "metadata": {},
   "outputs": [],
   "source": []
  },
  {
   "cell_type": "code",
   "execution_count": null,
   "metadata": {},
   "outputs": [],
   "source": []
  },
  {
   "cell_type": "code",
   "execution_count": null,
   "metadata": {},
   "outputs": [],
   "source": []
  }
 ],
 "metadata": {
  "kernelspec": {
   "display_name": "Python 3",
   "language": "python",
   "name": "python3"
  },
  "language_info": {
   "codemirror_mode": {
    "name": "ipython",
    "version": 3
   },
   "file_extension": ".py",
   "mimetype": "text/x-python",
   "name": "python",
   "nbconvert_exporter": "python",
   "pygments_lexer": "ipython3",
   "version": "3.8.3"
  },
  "toc": {
   "base_numbering": 1,
   "nav_menu": {},
   "number_sections": true,
   "sideBar": true,
   "skip_h1_title": true,
   "title_cell": "Table of Contents",
   "title_sidebar": "Contents",
   "toc_cell": true,
   "toc_position": {
    "height": "calc(100% - 180px)",
    "left": "10px",
    "top": "150px",
    "width": "296px"
   },
   "toc_section_display": true,
   "toc_window_display": true
  }
 },
 "nbformat": 4,
 "nbformat_minor": 4
}
